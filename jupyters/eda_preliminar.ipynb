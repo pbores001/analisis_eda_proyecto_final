{
 "cells": [
  {
   "cell_type": "markdown",
   "id": "46334f86",
   "metadata": {},
   "source": [
    "# Analisis preliminar del conjunto de datos"
   ]
  },
  {
   "cell_type": "code",
   "execution_count": 330,
   "id": "aed0dab2",
   "metadata": {},
   "outputs": [],
   "source": [
    "#Importaciones\n",
    "import pandas as pd\n",
    "import numpy as np\n",
    "\n",
    "#Para llamar a archivos de otras carpetas\n",
    "import sys\n",
    "sys.path.append('..')\n",
    "\n",
    "#Visualizar todas las columnas\n",
    "pd.set_option('display.max_columns', None)\n"
   ]
  },
  {
   "cell_type": "code",
   "execution_count": 331,
   "id": "203e8eaf",
   "metadata": {},
   "outputs": [
    {
     "data": {
      "text/plain": [
       "<module 'src.sp_limpieza' from 'c:\\\\Users\\\\pooo_\\\\Desktop\\\\Hackio\\\\proyecto_final_troncal\\\\analisis_eda_proyecto_final\\\\jupyters\\\\..\\\\src\\\\sp_limpieza.py'>"
      ]
     },
     "execution_count": 331,
     "metadata": {},
     "output_type": "execute_result"
    }
   ],
   "source": [
    "#Después importamos el archivo de funciones ('sp_limpieza.py') \n",
    "import src.sp_limpieza as sp\n",
    "#Importamos importlib para poder recargar el módulo y reflejar los cambios actualizados\n",
    "import importlib  \n",
    "importlib.reload(sp) "
   ]
  },
  {
   "cell_type": "code",
   "execution_count": 332,
   "id": "e7e56ebc",
   "metadata": {},
   "outputs": [
    {
     "name": "stdout",
     "output_type": "stream",
     "text": [
      "c:\\Users\\pooo_\\Desktop\\Hackio\\proyecto_final_troncal\\analisis_eda_proyecto_final\\jupyters\n"
     ]
    }
   ],
   "source": [
    "#Para interactuar con el sistema operativo\n",
    "import os\n",
    "#Devuelve la ruta del directorio actual\n",
    "print(os.getcwd())"
   ]
  },
  {
   "cell_type": "code",
   "execution_count": 333,
   "id": "432f58b4",
   "metadata": {},
   "outputs": [],
   "source": [
    "#Librerías visualización de gráficos\n",
    "import matplotlib.pyplot as plt\n",
    "import seaborn as sns"
   ]
  },
  {
   "cell_type": "markdown",
   "id": "7d10973e",
   "metadata": {},
   "source": [
    "# 1. Transformación y limpieza de datos"
   ]
  },
  {
   "cell_type": "markdown",
   "id": "5e80ba84",
   "metadata": {},
   "source": [
    "### 1.1. Importación y visión general de los datos"
   ]
  },
  {
   "cell_type": "code",
   "execution_count": 334,
   "id": "9860efbb",
   "metadata": {},
   "outputs": [],
   "source": [
    "#Leer los archivos\n",
    "df_attendance = pd.read_csv(\"../data/data_raw/attendance.csv\", index_col = 0)\n",
    "df_homework = pd.read_csv(\"../data/data_raw/homework.csv\", index_col = 0)\n",
    "df_performance = pd.read_csv(\"../data/data_raw/performance.csv\")\n",
    "df_students = pd.read_csv(\"../data/data_raw/students.csv\")\n",
    "df_communication = pd.read_csv(\"../data/data_raw/communication.csv\")"
   ]
  },
  {
   "cell_type": "code",
   "execution_count": 335,
   "id": "60c0b871",
   "metadata": {},
   "outputs": [
    {
     "data": {
      "text/html": [
       "<div>\n",
       "<style scoped>\n",
       "    .dataframe tbody tr th:only-of-type {\n",
       "        vertical-align: middle;\n",
       "    }\n",
       "\n",
       "    .dataframe tbody tr th {\n",
       "        vertical-align: top;\n",
       "    }\n",
       "\n",
       "    .dataframe thead th {\n",
       "        text-align: right;\n",
       "    }\n",
       "</style>\n",
       "<table border=\"1\" class=\"dataframe\">\n",
       "  <thead>\n",
       "    <tr style=\"text-align: right;\">\n",
       "      <th></th>\n",
       "      <th>Date</th>\n",
       "      <th>Subject</th>\n",
       "      <th>Attendance_Status</th>\n",
       "    </tr>\n",
       "    <tr>\n",
       "      <th>Student_ID</th>\n",
       "      <th></th>\n",
       "      <th></th>\n",
       "      <th></th>\n",
       "    </tr>\n",
       "  </thead>\n",
       "  <tbody>\n",
       "    <tr>\n",
       "      <th>S00131</th>\n",
       "      <td>2024-05-15</td>\n",
       "      <td>English</td>\n",
       "      <td>excused</td>\n",
       "    </tr>\n",
       "    <tr>\n",
       "      <th>S06484</th>\n",
       "      <td>2024-09-29</td>\n",
       "      <td>History</td>\n",
       "      <td>absnt</td>\n",
       "    </tr>\n",
       "    <tr>\n",
       "      <th>S09146</th>\n",
       "      <td>2024-10-15</td>\n",
       "      <td>Math</td>\n",
       "      <td>Late</td>\n",
       "    </tr>\n",
       "    <tr>\n",
       "      <th>S03035</th>\n",
       "      <td>2024-12-18</td>\n",
       "      <td>Arabic</td>\n",
       "      <td>PRESENT</td>\n",
       "    </tr>\n",
       "    <tr>\n",
       "      <th>S04273</th>\n",
       "      <td>2024-12-01</td>\n",
       "      <td>Math</td>\n",
       "      <td>Present</td>\n",
       "    </tr>\n",
       "  </tbody>\n",
       "</table>\n",
       "</div>"
      ],
      "text/plain": [
       "                  Date  Subject Attendance_Status\n",
       "Student_ID                                       \n",
       "S00131      2024-05-15  English           excused\n",
       "S06484      2024-09-29  History             absnt\n",
       "S09146      2024-10-15     Math              Late\n",
       "S03035      2024-12-18   Arabic          PRESENT \n",
       "S04273      2024-12-01     Math           Present"
      ]
     },
     "metadata": {},
     "output_type": "display_data"
    },
    {
     "name": "stdout",
     "output_type": "stream",
     "text": [
      "____________________________\n",
      "INFO\n",
      "<class 'pandas.core.frame.DataFrame'>\n",
      "Index: 364680 entries, S06592 to S12134\n",
      "Data columns (total 3 columns):\n",
      " #   Column             Non-Null Count   Dtype \n",
      "---  ------             --------------   ----- \n",
      " 0   Date               364680 non-null  object\n",
      " 1   Subject            364680 non-null  object\n",
      " 2   Attendance_Status  364680 non-null  object\n",
      "dtypes: object(3)\n",
      "memory usage: 11.1+ MB\n"
     ]
    },
    {
     "data": {
      "text/plain": [
       "None"
      ]
     },
     "metadata": {},
     "output_type": "display_data"
    },
    {
     "name": "stdout",
     "output_type": "stream",
     "text": [
      "____________________________\n",
      "NULOS\n"
     ]
    },
    {
     "data": {
      "text/plain": [
       "Date                 0.0\n",
       "Subject              0.0\n",
       "Attendance_Status    0.0\n",
       "dtype: float64"
      ]
     },
     "metadata": {},
     "output_type": "display_data"
    },
    {
     "name": "stdout",
     "output_type": "stream",
     "text": [
      "____________________________\n",
      "DUPLICADOS\n"
     ]
    },
    {
     "data": {
      "text/plain": [
       "np.int64(347112)"
      ]
     },
     "metadata": {},
     "output_type": "display_data"
    },
    {
     "name": "stdout",
     "output_type": "stream",
     "text": [
      "____________________________\n",
      "DESCRIBE\n"
     ]
    },
    {
     "data": {
      "text/html": [
       "<div>\n",
       "<style scoped>\n",
       "    .dataframe tbody tr th:only-of-type {\n",
       "        vertical-align: middle;\n",
       "    }\n",
       "\n",
       "    .dataframe tbody tr th {\n",
       "        vertical-align: top;\n",
       "    }\n",
       "\n",
       "    .dataframe thead th {\n",
       "        text-align: right;\n",
       "    }\n",
       "</style>\n",
       "<table border=\"1\" class=\"dataframe\">\n",
       "  <thead>\n",
       "    <tr style=\"text-align: right;\">\n",
       "      <th></th>\n",
       "      <th>count</th>\n",
       "      <th>unique</th>\n",
       "      <th>top</th>\n",
       "      <th>freq</th>\n",
       "    </tr>\n",
       "  </thead>\n",
       "  <tbody>\n",
       "    <tr>\n",
       "      <th>Date</th>\n",
       "      <td>364680</td>\n",
       "      <td>366</td>\n",
       "      <td>2024-12-31</td>\n",
       "      <td>1075</td>\n",
       "    </tr>\n",
       "    <tr>\n",
       "      <th>Subject</th>\n",
       "      <td>364680</td>\n",
       "      <td>6</td>\n",
       "      <td>Math</td>\n",
       "      <td>61241</td>\n",
       "    </tr>\n",
       "    <tr>\n",
       "      <th>Attendance_Status</th>\n",
       "      <td>364680</td>\n",
       "      <td>8</td>\n",
       "      <td>PRESENT</td>\n",
       "      <td>45982</td>\n",
       "    </tr>\n",
       "  </tbody>\n",
       "</table>\n",
       "</div>"
      ],
      "text/plain": [
       "                    count unique         top   freq\n",
       "Date               364680    366  2024-12-31   1075\n",
       "Subject            364680      6        Math  61241\n",
       "Attendance_Status  364680      8    PRESENT   45982"
      ]
     },
     "metadata": {},
     "output_type": "display_data"
    },
    {
     "name": "stdout",
     "output_type": "stream",
     "text": [
      "____________________________\n",
      "DESCRIBE COLUMNAS OBJECT\n"
     ]
    },
    {
     "data": {
      "text/html": [
       "<div>\n",
       "<style scoped>\n",
       "    .dataframe tbody tr th:only-of-type {\n",
       "        vertical-align: middle;\n",
       "    }\n",
       "\n",
       "    .dataframe tbody tr th {\n",
       "        vertical-align: top;\n",
       "    }\n",
       "\n",
       "    .dataframe thead th {\n",
       "        text-align: right;\n",
       "    }\n",
       "</style>\n",
       "<table border=\"1\" class=\"dataframe\">\n",
       "  <thead>\n",
       "    <tr style=\"text-align: right;\">\n",
       "      <th></th>\n",
       "      <th>count</th>\n",
       "      <th>unique</th>\n",
       "      <th>top</th>\n",
       "      <th>freq</th>\n",
       "    </tr>\n",
       "  </thead>\n",
       "  <tbody>\n",
       "    <tr>\n",
       "      <th>Date</th>\n",
       "      <td>364680</td>\n",
       "      <td>366</td>\n",
       "      <td>2024-12-31</td>\n",
       "      <td>1075</td>\n",
       "    </tr>\n",
       "    <tr>\n",
       "      <th>Subject</th>\n",
       "      <td>364680</td>\n",
       "      <td>6</td>\n",
       "      <td>Math</td>\n",
       "      <td>61241</td>\n",
       "    </tr>\n",
       "    <tr>\n",
       "      <th>Attendance_Status</th>\n",
       "      <td>364680</td>\n",
       "      <td>8</td>\n",
       "      <td>PRESENT</td>\n",
       "      <td>45982</td>\n",
       "    </tr>\n",
       "  </tbody>\n",
       "</table>\n",
       "</div>"
      ],
      "text/plain": [
       "                    count unique         top   freq\n",
       "Date               364680    366  2024-12-31   1075\n",
       "Subject            364680      6        Math  61241\n",
       "Attendance_Status  364680      8    PRESENT   45982"
      ]
     },
     "metadata": {},
     "output_type": "display_data"
    },
    {
     "name": "stdout",
     "output_type": "stream",
     "text": [
      "____________________________\n",
      "VALUE COUNTS\n",
      "Date\n",
      "2024-12-31    1075\n",
      "2024-05-05    1073\n",
      "2024-09-06    1070\n",
      "2024-08-06    1068\n",
      "2024-09-22    1068\n",
      "              ... \n",
      "2024-12-25     922\n",
      "2024-05-09     921\n",
      "2024-03-31     919\n",
      "2024-12-07     917\n",
      "2024-04-21     905\n",
      "Name: count, Length: 366, dtype: int64\n",
      "Subject\n",
      "Math         61241\n",
      "Science      60881\n",
      "Arabic       60749\n",
      "English      60684\n",
      "Geography    60640\n",
      "History      60485\n",
      "Name: count, dtype: int64\n",
      "Attendance_Status\n",
      "PRESENT       45982\n",
      "Absent        45751\n",
      "Present       45632\n",
      "Late          45509\n",
      " late         45508\n",
      "absnt         45478\n",
      "left early    45435\n",
      "excused       45385\n",
      "Name: count, dtype: int64\n",
      "____________________________\n"
     ]
    }
   ],
   "source": [
    "#Ver dataframe 'df_attendace'\n",
    "df_att_preliminar =  sp.eda_preliminar(df_attendance)"
   ]
  },
  {
   "cell_type": "code",
   "execution_count": 336,
   "id": "616ca7b0",
   "metadata": {},
   "outputs": [
    {
     "data": {
      "text/html": [
       "<div>\n",
       "<style scoped>\n",
       "    .dataframe tbody tr th:only-of-type {\n",
       "        vertical-align: middle;\n",
       "    }\n",
       "\n",
       "    .dataframe tbody tr th {\n",
       "        vertical-align: top;\n",
       "    }\n",
       "\n",
       "    .dataframe thead th {\n",
       "        text-align: right;\n",
       "    }\n",
       "</style>\n",
       "<table border=\"1\" class=\"dataframe\">\n",
       "  <thead>\n",
       "    <tr style=\"text-align: right;\">\n",
       "      <th></th>\n",
       "      <th>date</th>\n",
       "      <th>subject</th>\n",
       "      <th>attendance_status</th>\n",
       "    </tr>\n",
       "    <tr>\n",
       "      <th>student_id</th>\n",
       "      <th></th>\n",
       "      <th></th>\n",
       "      <th></th>\n",
       "    </tr>\n",
       "  </thead>\n",
       "  <tbody>\n",
       "    <tr>\n",
       "      <th>s07093</th>\n",
       "      <td>2024-03-29</td>\n",
       "      <td>geography</td>\n",
       "      <td>left early</td>\n",
       "    </tr>\n",
       "    <tr>\n",
       "      <th>s07841</th>\n",
       "      <td>2024-11-16</td>\n",
       "      <td>english</td>\n",
       "      <td>absent</td>\n",
       "    </tr>\n",
       "    <tr>\n",
       "      <th>s02847</th>\n",
       "      <td>2024-04-10</td>\n",
       "      <td>science</td>\n",
       "      <td>absnt</td>\n",
       "    </tr>\n",
       "    <tr>\n",
       "      <th>s01178</th>\n",
       "      <td>2024-11-28</td>\n",
       "      <td>history</td>\n",
       "      <td>present</td>\n",
       "    </tr>\n",
       "    <tr>\n",
       "      <th>s03308</th>\n",
       "      <td>2025-03-08</td>\n",
       "      <td>english</td>\n",
       "      <td>absnt</td>\n",
       "    </tr>\n",
       "    <tr>\n",
       "      <th>s07011</th>\n",
       "      <td>2024-11-02</td>\n",
       "      <td>arabic</td>\n",
       "      <td>excused</td>\n",
       "    </tr>\n",
       "    <tr>\n",
       "      <th>s02653</th>\n",
       "      <td>2024-03-11</td>\n",
       "      <td>science</td>\n",
       "      <td>present</td>\n",
       "    </tr>\n",
       "    <tr>\n",
       "      <th>s00625</th>\n",
       "      <td>2024-12-27</td>\n",
       "      <td>geography</td>\n",
       "      <td>present</td>\n",
       "    </tr>\n",
       "    <tr>\n",
       "      <th>s04069</th>\n",
       "      <td>2024-10-09</td>\n",
       "      <td>english</td>\n",
       "      <td>excused</td>\n",
       "    </tr>\n",
       "    <tr>\n",
       "      <th>s06731</th>\n",
       "      <td>2024-06-08</td>\n",
       "      <td>english</td>\n",
       "      <td>present</td>\n",
       "    </tr>\n",
       "  </tbody>\n",
       "</table>\n",
       "</div>"
      ],
      "text/plain": [
       "                  date    subject attendance_status\n",
       "student_id                                         \n",
       "s07093      2024-03-29  geography        left early\n",
       "s07841      2024-11-16    english            absent\n",
       "s02847      2024-04-10    science             absnt\n",
       "s01178      2024-11-28    history           present\n",
       "s03308      2025-03-08    english             absnt\n",
       "s07011      2024-11-02     arabic           excused\n",
       "s02653      2024-03-11    science           present\n",
       "s00625      2024-12-27  geography           present\n",
       "s04069      2024-10-09    english           excused\n",
       "s06731      2024-06-08    english           present"
      ]
     },
     "execution_count": 336,
     "metadata": {},
     "output_type": "execute_result"
    }
   ],
   "source": [
    "#Quitar los espacios y pasar a misnuculas las tabla\n",
    "df_attendance = sp.valores_a_minus(df_attendance)\n",
    "df_attendance.sample(10)"
   ]
  },
  {
   "cell_type": "code",
   "execution_count": 337,
   "id": "85d81c78",
   "metadata": {},
   "outputs": [
    {
     "data": {
      "text/plain": [
       "attendance_status\n",
       "present       91614\n",
       "late          91017\n",
       "absent        45751\n",
       "absnt         45478\n",
       "left early    45435\n",
       "excused       45385\n",
       "Name: count, dtype: int64"
      ]
     },
     "execution_count": 337,
     "metadata": {},
     "output_type": "execute_result"
    }
   ],
   "source": [
    "#Ver en la columna attendance_status que valores tiene.\n",
    "conteo = df_attendance['attendance_status'].value_counts()\n",
    "conteo"
   ]
  },
  {
   "cell_type": "code",
   "execution_count": 338,
   "id": "271a7f8e",
   "metadata": {},
   "outputs": [
    {
     "data": {
      "text/plain": [
       "attendance_status\n",
       "present       91614\n",
       "absent        91229\n",
       "late          91017\n",
       "left early    45435\n",
       "excused       45385\n",
       "Name: count, dtype: int64"
      ]
     },
     "execution_count": 338,
     "metadata": {},
     "output_type": "execute_result"
    }
   ],
   "source": [
    "#Corregimos el valor 'absnt' por 'absent' y comprobamos los resultados de la columna\n",
    "df_attendance['attendance_status'] = df_attendance['attendance_status'].replace('absnt','absent')\n",
    "\n",
    "\n",
    "conteo = df_attendance['attendance_status'].value_counts()\n",
    "conteo\n",
    "#Ya tenemos los valores de esta columna corregidos."
   ]
  },
  {
   "cell_type": "code",
   "execution_count": 339,
   "id": "0d732a2f",
   "metadata": {},
   "outputs": [],
   "source": [
    "#Cambiar nombre de columna 'date' para hacerla mas descriptiva y 'attendace_status' para hacerla mas corta.\n",
    "df_attendance.rename(columns={'date':'att_date', 'attendance_status':'att_status'}, inplace= True)"
   ]
  },
  {
   "cell_type": "code",
   "execution_count": 340,
   "id": "a0b48bc2",
   "metadata": {},
   "outputs": [
    {
     "name": "stdout",
     "output_type": "stream",
     "text": [
      "datetime64[ns]\n"
     ]
    }
   ],
   "source": [
    "# Como la columna 'date' es de tipo 'Object' vamos a pasarla a tipo Datetime y comprobamos el tipo de dato que sea correcto\n",
    "df_attendance['att_date'] = pd.to_datetime(df_attendance['att_date'], errors = 'coerce')\n",
    "print(df_attendance['att_date'].dtype)"
   ]
  },
  {
   "cell_type": "code",
   "execution_count": 341,
   "id": "97ef9c30",
   "metadata": {},
   "outputs": [
    {
     "name": "stdout",
     "output_type": "stream",
     "text": [
      "att_date      datetime64[ns]\n",
      "subject               object\n",
      "att_status            object\n",
      "dtype: object\n"
     ]
    }
   ],
   "source": [
    "#Comprobamos el resto de columnas que sean de tipo correcto.\n",
    "print(df_attendance.dtypes)"
   ]
  },
  {
   "cell_type": "code",
   "execution_count": 342,
   "id": "2f6b28c3",
   "metadata": {},
   "outputs": [
    {
     "data": {
      "text/html": [
       "<div>\n",
       "<style scoped>\n",
       "    .dataframe tbody tr th:only-of-type {\n",
       "        vertical-align: middle;\n",
       "    }\n",
       "\n",
       "    .dataframe tbody tr th {\n",
       "        vertical-align: top;\n",
       "    }\n",
       "\n",
       "    .dataframe thead th {\n",
       "        text-align: right;\n",
       "    }\n",
       "</style>\n",
       "<table border=\"1\" class=\"dataframe\">\n",
       "  <thead>\n",
       "    <tr style=\"text-align: right;\">\n",
       "      <th></th>\n",
       "      <th>Subject</th>\n",
       "      <th>Assignment_Name</th>\n",
       "      <th>Due_Date</th>\n",
       "      <th>Status</th>\n",
       "      <th>Grade_Feedback</th>\n",
       "      <th>Guardian_Signature</th>\n",
       "    </tr>\n",
       "    <tr>\n",
       "      <th>Student_ID</th>\n",
       "      <th></th>\n",
       "      <th></th>\n",
       "      <th></th>\n",
       "      <th></th>\n",
       "      <th></th>\n",
       "      <th></th>\n",
       "    </tr>\n",
       "  </thead>\n",
       "  <tbody>\n",
       "    <tr>\n",
       "      <th>S01686</th>\n",
       "      <td>History</td>\n",
       "      <td>Month rest available.</td>\n",
       "      <td>2024-12-07</td>\n",
       "      <td>not done</td>\n",
       "      <td>A+</td>\n",
       "      <td>Yes</td>\n",
       "    </tr>\n",
       "    <tr>\n",
       "      <th>S05596</th>\n",
       "      <td>Science</td>\n",
       "      <td>Save quickly threat.</td>\n",
       "      <td>2024-12-25</td>\n",
       "      <td>Done</td>\n",
       "      <td>B</td>\n",
       "      <td>No</td>\n",
       "    </tr>\n",
       "    <tr>\n",
       "      <th>S05457</th>\n",
       "      <td>Arabic</td>\n",
       "      <td>Sort direction.</td>\n",
       "      <td>2024-11-25</td>\n",
       "      <td>Done</td>\n",
       "      <td>A</td>\n",
       "      <td>Yes</td>\n",
       "    </tr>\n",
       "    <tr>\n",
       "      <th>S10592</th>\n",
       "      <td>Arabic</td>\n",
       "      <td>Yourself between.</td>\n",
       "      <td>2025-02-09</td>\n",
       "      <td>Done</td>\n",
       "      <td>B</td>\n",
       "      <td>Yes</td>\n",
       "    </tr>\n",
       "    <tr>\n",
       "      <th>S09976</th>\n",
       "      <td>Arabic</td>\n",
       "      <td>Up soldier.</td>\n",
       "      <td>2024-11-22</td>\n",
       "      <td>❌</td>\n",
       "      <td>B-</td>\n",
       "      <td>No</td>\n",
       "    </tr>\n",
       "  </tbody>\n",
       "</table>\n",
       "</div>"
      ],
      "text/plain": [
       "            Subject        Assignment_Name    Due_Date    Status  \\\n",
       "Student_ID                                                         \n",
       "S01686      History  Month rest available.  2024-12-07  not done   \n",
       "S05596      Science   Save quickly threat.  2024-12-25     Done    \n",
       "S05457       Arabic        Sort direction.  2024-11-25     Done    \n",
       "S10592       Arabic      Yourself between.  2025-02-09     Done    \n",
       "S09976       Arabic            Up soldier.  2024-11-22         ❌   \n",
       "\n",
       "           Grade_Feedback Guardian_Signature  \n",
       "Student_ID                                    \n",
       "S01686                 A+                Yes  \n",
       "S05596                  B                 No  \n",
       "S05457                  A                Yes  \n",
       "S10592                  B                Yes  \n",
       "S09976                 B-                 No  "
      ]
     },
     "metadata": {},
     "output_type": "display_data"
    },
    {
     "name": "stdout",
     "output_type": "stream",
     "text": [
      "____________________________\n",
      "INFO\n",
      "<class 'pandas.core.frame.DataFrame'>\n",
      "Index: 60780 entries, S12002 to S08589\n",
      "Data columns (total 6 columns):\n",
      " #   Column              Non-Null Count  Dtype \n",
      "---  ------              --------------  ----- \n",
      " 0   Subject             60780 non-null  object\n",
      " 1   Assignment_Name     60780 non-null  object\n",
      " 2   Due_Date            60780 non-null  object\n",
      " 3   Status              60780 non-null  object\n",
      " 4   Grade_Feedback      60780 non-null  object\n",
      " 5   Guardian_Signature  60780 non-null  object\n",
      "dtypes: object(6)\n",
      "memory usage: 3.2+ MB\n"
     ]
    },
    {
     "data": {
      "text/plain": [
       "None"
      ]
     },
     "metadata": {},
     "output_type": "display_data"
    },
    {
     "name": "stdout",
     "output_type": "stream",
     "text": [
      "____________________________\n",
      "NULOS\n"
     ]
    },
    {
     "data": {
      "text/plain": [
       "Subject               0.0\n",
       "Assignment_Name       0.0\n",
       "Due_Date              0.0\n",
       "Status                0.0\n",
       "Grade_Feedback        0.0\n",
       "Guardian_Signature    0.0\n",
       "dtype: float64"
      ]
     },
     "metadata": {},
     "output_type": "display_data"
    },
    {
     "name": "stdout",
     "output_type": "stream",
     "text": [
      "____________________________\n",
      "DUPLICADOS\n"
     ]
    },
    {
     "data": {
      "text/plain": [
       "np.int64(0)"
      ]
     },
     "metadata": {},
     "output_type": "display_data"
    },
    {
     "name": "stdout",
     "output_type": "stream",
     "text": [
      "____________________________\n",
      "DESCRIBE\n"
     ]
    },
    {
     "data": {
      "text/html": [
       "<div>\n",
       "<style scoped>\n",
       "    .dataframe tbody tr th:only-of-type {\n",
       "        vertical-align: middle;\n",
       "    }\n",
       "\n",
       "    .dataframe tbody tr th {\n",
       "        vertical-align: top;\n",
       "    }\n",
       "\n",
       "    .dataframe thead th {\n",
       "        text-align: right;\n",
       "    }\n",
       "</style>\n",
       "<table border=\"1\" class=\"dataframe\">\n",
       "  <thead>\n",
       "    <tr style=\"text-align: right;\">\n",
       "      <th></th>\n",
       "      <th>count</th>\n",
       "      <th>unique</th>\n",
       "      <th>top</th>\n",
       "      <th>freq</th>\n",
       "    </tr>\n",
       "  </thead>\n",
       "  <tbody>\n",
       "    <tr>\n",
       "      <th>Subject</th>\n",
       "      <td>60780</td>\n",
       "      <td>6</td>\n",
       "      <td>English</td>\n",
       "      <td>10209</td>\n",
       "    </tr>\n",
       "    <tr>\n",
       "      <th>Assignment_Name</th>\n",
       "      <td>60780</td>\n",
       "      <td>56065</td>\n",
       "      <td>Also.</td>\n",
       "      <td>15</td>\n",
       "    </tr>\n",
       "    <tr>\n",
       "      <th>Due_Date</th>\n",
       "      <td>60780</td>\n",
       "      <td>366</td>\n",
       "      <td>2025-01-23</td>\n",
       "      <td>315</td>\n",
       "    </tr>\n",
       "    <tr>\n",
       "      <th>Status</th>\n",
       "      <td>60780</td>\n",
       "      <td>6</td>\n",
       "      <td>Done</td>\n",
       "      <td>10278</td>\n",
       "    </tr>\n",
       "    <tr>\n",
       "      <th>Grade_Feedback</th>\n",
       "      <td>60780</td>\n",
       "      <td>8</td>\n",
       "      <td>A+</td>\n",
       "      <td>7709</td>\n",
       "    </tr>\n",
       "    <tr>\n",
       "      <th>Guardian_Signature</th>\n",
       "      <td>60780</td>\n",
       "      <td>3</td>\n",
       "      <td>No</td>\n",
       "      <td>20372</td>\n",
       "    </tr>\n",
       "  </tbody>\n",
       "</table>\n",
       "</div>"
      ],
      "text/plain": [
       "                    count unique         top   freq\n",
       "Subject             60780      6     English  10209\n",
       "Assignment_Name     60780  56065       Also.     15\n",
       "Due_Date            60780    366  2025-01-23    315\n",
       "Status              60780      6       Done   10278\n",
       "Grade_Feedback      60780      8          A+   7709\n",
       "Guardian_Signature  60780      3          No  20372"
      ]
     },
     "metadata": {},
     "output_type": "display_data"
    },
    {
     "name": "stdout",
     "output_type": "stream",
     "text": [
      "____________________________\n",
      "DESCRIBE COLUMNAS OBJECT\n"
     ]
    },
    {
     "data": {
      "text/html": [
       "<div>\n",
       "<style scoped>\n",
       "    .dataframe tbody tr th:only-of-type {\n",
       "        vertical-align: middle;\n",
       "    }\n",
       "\n",
       "    .dataframe tbody tr th {\n",
       "        vertical-align: top;\n",
       "    }\n",
       "\n",
       "    .dataframe thead th {\n",
       "        text-align: right;\n",
       "    }\n",
       "</style>\n",
       "<table border=\"1\" class=\"dataframe\">\n",
       "  <thead>\n",
       "    <tr style=\"text-align: right;\">\n",
       "      <th></th>\n",
       "      <th>count</th>\n",
       "      <th>unique</th>\n",
       "      <th>top</th>\n",
       "      <th>freq</th>\n",
       "    </tr>\n",
       "  </thead>\n",
       "  <tbody>\n",
       "    <tr>\n",
       "      <th>Subject</th>\n",
       "      <td>60780</td>\n",
       "      <td>6</td>\n",
       "      <td>English</td>\n",
       "      <td>10209</td>\n",
       "    </tr>\n",
       "    <tr>\n",
       "      <th>Assignment_Name</th>\n",
       "      <td>60780</td>\n",
       "      <td>56065</td>\n",
       "      <td>Also.</td>\n",
       "      <td>15</td>\n",
       "    </tr>\n",
       "    <tr>\n",
       "      <th>Due_Date</th>\n",
       "      <td>60780</td>\n",
       "      <td>366</td>\n",
       "      <td>2025-01-23</td>\n",
       "      <td>315</td>\n",
       "    </tr>\n",
       "    <tr>\n",
       "      <th>Status</th>\n",
       "      <td>60780</td>\n",
       "      <td>6</td>\n",
       "      <td>Done</td>\n",
       "      <td>10278</td>\n",
       "    </tr>\n",
       "    <tr>\n",
       "      <th>Grade_Feedback</th>\n",
       "      <td>60780</td>\n",
       "      <td>8</td>\n",
       "      <td>A+</td>\n",
       "      <td>7709</td>\n",
       "    </tr>\n",
       "    <tr>\n",
       "      <th>Guardian_Signature</th>\n",
       "      <td>60780</td>\n",
       "      <td>3</td>\n",
       "      <td>No</td>\n",
       "      <td>20372</td>\n",
       "    </tr>\n",
       "  </tbody>\n",
       "</table>\n",
       "</div>"
      ],
      "text/plain": [
       "                    count unique         top   freq\n",
       "Subject             60780      6     English  10209\n",
       "Assignment_Name     60780  56065       Also.     15\n",
       "Due_Date            60780    366  2025-01-23    315\n",
       "Status              60780      6       Done   10278\n",
       "Grade_Feedback      60780      8          A+   7709\n",
       "Guardian_Signature  60780      3          No  20372"
      ]
     },
     "metadata": {},
     "output_type": "display_data"
    },
    {
     "name": "stdout",
     "output_type": "stream",
     "text": [
      "____________________________\n",
      "VALUE COUNTS\n",
      "Subject\n",
      "English      10209\n",
      "Geography    10179\n",
      "Science      10112\n",
      "History      10110\n",
      "Arabic       10106\n",
      "Math         10064\n",
      "Name: count, dtype: int64\n",
      "Assignment_Name\n",
      "Also.                      15\n",
      "Term.                      15\n",
      "Understand.                13\n",
      "Not.                       13\n",
      "Eye.                       12\n",
      "                           ..\n",
      "Effect job amount.          1\n",
      "Study indicate fight.       1\n",
      "Reach whose investment.     1\n",
      "Suggest figure.             1\n",
      "Involve determine.          1\n",
      "Name: count, Length: 56065, dtype: int64\n",
      "Due_Date\n",
      "2025-01-23    315\n",
      "2025-03-02    302\n",
      "2024-11-06    301\n",
      "2024-11-08    300\n",
      "2024-12-25    299\n",
      "             ... \n",
      "11/04/2024     52\n",
      "10/13/2024     51\n",
      "12/21/2024     50\n",
      "11/22/2024     50\n",
      "03/01/2025     46\n",
      "Name: count, Length: 366, dtype: int64\n",
      "Status\n",
      " Done       10278\n",
      "not done    10234\n",
      "❌           10151\n",
      "✔           10090\n",
      "pending     10014\n",
      "✅           10013\n",
      "Name: count, dtype: int64\n",
      "Grade_Feedback\n",
      "A+    7709\n",
      "B-    7639\n",
      "D     7631\n",
      "B     7591\n",
      "F     7586\n",
      "C     7585\n",
      "A     7533\n",
      "C-    7506\n",
      "Name: count, dtype: int64\n",
      "Guardian_Signature\n",
      "No     20372\n",
      "Yes    20348\n",
      "       20060\n",
      "Name: count, dtype: int64\n",
      "____________________________\n"
     ]
    }
   ],
   "source": [
    "#Ver dataframe 'df_homework'\n",
    "df_hw_preliminar =  sp.eda_preliminar(df_homework)\n",
    "df_hw_preliminar"
   ]
  },
  {
   "cell_type": "code",
   "execution_count": 343,
   "id": "e31cb3d5",
   "metadata": {},
   "outputs": [
    {
     "data": {
      "text/html": [
       "<div>\n",
       "<style scoped>\n",
       "    .dataframe tbody tr th:only-of-type {\n",
       "        vertical-align: middle;\n",
       "    }\n",
       "\n",
       "    .dataframe tbody tr th {\n",
       "        vertical-align: top;\n",
       "    }\n",
       "\n",
       "    .dataframe thead th {\n",
       "        text-align: right;\n",
       "    }\n",
       "</style>\n",
       "<table border=\"1\" class=\"dataframe\">\n",
       "  <thead>\n",
       "    <tr style=\"text-align: right;\">\n",
       "      <th></th>\n",
       "      <th>subject</th>\n",
       "      <th>assignment_name</th>\n",
       "      <th>due_date</th>\n",
       "      <th>status</th>\n",
       "      <th>grade_feedback</th>\n",
       "      <th>guardian_signature</th>\n",
       "    </tr>\n",
       "    <tr>\n",
       "      <th>student_id</th>\n",
       "      <th></th>\n",
       "      <th></th>\n",
       "      <th></th>\n",
       "      <th></th>\n",
       "      <th></th>\n",
       "      <th></th>\n",
       "    </tr>\n",
       "  </thead>\n",
       "  <tbody>\n",
       "    <tr>\n",
       "      <th>s00818</th>\n",
       "      <td>history</td>\n",
       "      <td>yes important maintain.</td>\n",
       "      <td>2025-01-04</td>\n",
       "      <td>✅</td>\n",
       "      <td>a</td>\n",
       "      <td>no</td>\n",
       "    </tr>\n",
       "    <tr>\n",
       "      <th>s05025</th>\n",
       "      <td>history</td>\n",
       "      <td>sometimes assume.</td>\n",
       "      <td>2025-02-05</td>\n",
       "      <td>pending</td>\n",
       "      <td>a+</td>\n",
       "      <td>no</td>\n",
       "    </tr>\n",
       "    <tr>\n",
       "      <th>s06733</th>\n",
       "      <td>science</td>\n",
       "      <td>could can despite.</td>\n",
       "      <td>2025-02-03</td>\n",
       "      <td>not done</td>\n",
       "      <td>c</td>\n",
       "      <td></td>\n",
       "    </tr>\n",
       "    <tr>\n",
       "      <th>s07464</th>\n",
       "      <td>math</td>\n",
       "      <td>else because.</td>\n",
       "      <td>11/23/2024</td>\n",
       "      <td>❌</td>\n",
       "      <td>c</td>\n",
       "      <td>no</td>\n",
       "    </tr>\n",
       "    <tr>\n",
       "      <th>s09023</th>\n",
       "      <td>history</td>\n",
       "      <td>relate serious explain.</td>\n",
       "      <td>2025-01-22</td>\n",
       "      <td>pending</td>\n",
       "      <td>c</td>\n",
       "      <td>no</td>\n",
       "    </tr>\n",
       "    <tr>\n",
       "      <th>s08681</th>\n",
       "      <td>english</td>\n",
       "      <td>attention loss happy.</td>\n",
       "      <td>2024-10-12</td>\n",
       "      <td>✅</td>\n",
       "      <td>b-</td>\n",
       "      <td>yes</td>\n",
       "    </tr>\n",
       "    <tr>\n",
       "      <th>s06725</th>\n",
       "      <td>history</td>\n",
       "      <td>unit age.</td>\n",
       "      <td>2024-10-11</td>\n",
       "      <td>✅</td>\n",
       "      <td>b</td>\n",
       "      <td>yes</td>\n",
       "    </tr>\n",
       "    <tr>\n",
       "      <th>s10390</th>\n",
       "      <td>arabic</td>\n",
       "      <td>bit we effort.</td>\n",
       "      <td>2025-03-04</td>\n",
       "      <td>✅</td>\n",
       "      <td>b</td>\n",
       "      <td></td>\n",
       "    </tr>\n",
       "    <tr>\n",
       "      <th>s05787</th>\n",
       "      <td>arabic</td>\n",
       "      <td>build politics.</td>\n",
       "      <td>11/18/2024</td>\n",
       "      <td>not done</td>\n",
       "      <td>c</td>\n",
       "      <td></td>\n",
       "    </tr>\n",
       "    <tr>\n",
       "      <th>s00686</th>\n",
       "      <td>history</td>\n",
       "      <td>sign whether.</td>\n",
       "      <td>2024-11-21</td>\n",
       "      <td>✅</td>\n",
       "      <td>c</td>\n",
       "      <td>yes</td>\n",
       "    </tr>\n",
       "  </tbody>\n",
       "</table>\n",
       "</div>"
      ],
      "text/plain": [
       "            subject          assignment_name    due_date    status  \\\n",
       "student_id                                                           \n",
       "s00818      history  yes important maintain.  2025-01-04         ✅   \n",
       "s05025      history        sometimes assume.  2025-02-05   pending   \n",
       "s06733      science       could can despite.  2025-02-03  not done   \n",
       "s07464         math            else because.  11/23/2024         ❌   \n",
       "s09023      history  relate serious explain.  2025-01-22   pending   \n",
       "s08681      english    attention loss happy.  2024-10-12         ✅   \n",
       "s06725      history                unit age.  2024-10-11         ✅   \n",
       "s10390       arabic           bit we effort.  2025-03-04         ✅   \n",
       "s05787       arabic          build politics.  11/18/2024  not done   \n",
       "s00686      history            sign whether.  2024-11-21         ✅   \n",
       "\n",
       "           grade_feedback guardian_signature  \n",
       "student_id                                    \n",
       "s00818                  a                 no  \n",
       "s05025                 a+                 no  \n",
       "s06733                  c                     \n",
       "s07464                  c                 no  \n",
       "s09023                  c                 no  \n",
       "s08681                 b-                yes  \n",
       "s06725                  b                yes  \n",
       "s10390                  b                     \n",
       "s05787                  c                     \n",
       "s00686                  c                yes  "
      ]
     },
     "execution_count": 343,
     "metadata": {},
     "output_type": "execute_result"
    }
   ],
   "source": [
    "#Pasar dataframe a minusculas\n",
    "df_homework = sp.valores_a_minus(df_homework)\n",
    "df_homework.sample(10)"
   ]
  },
  {
   "cell_type": "code",
   "execution_count": 344,
   "id": "7d7a36ff",
   "metadata": {},
   "outputs": [
    {
     "name": "stdout",
     "output_type": "stream",
     "text": [
      "<class 'pandas.core.frame.DataFrame'>\n",
      "Index: 60780 entries, s12002 to s08589\n",
      "Data columns (total 6 columns):\n",
      " #   Column              Non-Null Count  Dtype         \n",
      "---  ------              --------------  -----         \n",
      " 0   subject             60780 non-null  object        \n",
      " 1   assignment_name     60780 non-null  object        \n",
      " 2   due_date            48422 non-null  datetime64[ns]\n",
      " 3   status              60780 non-null  object        \n",
      " 4   grade_feedback      60780 non-null  object        \n",
      " 5   guardian_signature  60780 non-null  object        \n",
      "dtypes: datetime64[ns](1), object(5)\n",
      "memory usage: 3.2+ MB\n"
     ]
    }
   ],
   "source": [
    "#La columna 'due_date' tiene valores de fecha con diferentes formatos.\n",
    "# Hay que pasarlo a un formato y asignalo como de tipo datetime.\n",
    "\n",
    "df_homework['due_date'] = pd.to_datetime(df_homework['due_date'], errors='coerce')\n",
    "df_homework.info()\n"
   ]
  },
  {
   "cell_type": "code",
   "execution_count": 345,
   "id": "8d4b4731",
   "metadata": {},
   "outputs": [
    {
     "data": {
      "text/html": [
       "<div>\n",
       "<style scoped>\n",
       "    .dataframe tbody tr th:only-of-type {\n",
       "        vertical-align: middle;\n",
       "    }\n",
       "\n",
       "    .dataframe tbody tr th {\n",
       "        vertical-align: top;\n",
       "    }\n",
       "\n",
       "    .dataframe thead th {\n",
       "        text-align: right;\n",
       "    }\n",
       "</style>\n",
       "<table border=\"1\" class=\"dataframe\">\n",
       "  <thead>\n",
       "    <tr style=\"text-align: right;\">\n",
       "      <th></th>\n",
       "      <th>subject</th>\n",
       "      <th>assignment_name</th>\n",
       "      <th>due_date</th>\n",
       "      <th>status</th>\n",
       "      <th>grade_feedback</th>\n",
       "      <th>guardian_signature</th>\n",
       "    </tr>\n",
       "    <tr>\n",
       "      <th>student_id</th>\n",
       "      <th></th>\n",
       "      <th></th>\n",
       "      <th></th>\n",
       "      <th></th>\n",
       "      <th></th>\n",
       "      <th></th>\n",
       "    </tr>\n",
       "  </thead>\n",
       "  <tbody>\n",
       "    <tr>\n",
       "      <th>s08964</th>\n",
       "      <td>geography</td>\n",
       "      <td>away carry issue.</td>\n",
       "      <td>2024-09-13</td>\n",
       "      <td>not done</td>\n",
       "      <td>c-</td>\n",
       "      <td>no</td>\n",
       "    </tr>\n",
       "    <tr>\n",
       "      <th>s00857</th>\n",
       "      <td>history</td>\n",
       "      <td>fill agreement.</td>\n",
       "      <td>2024-09-28</td>\n",
       "      <td>✅</td>\n",
       "      <td>f</td>\n",
       "      <td>no</td>\n",
       "    </tr>\n",
       "    <tr>\n",
       "      <th>s06581</th>\n",
       "      <td>science</td>\n",
       "      <td>exactly lose early.</td>\n",
       "      <td>NaT</td>\n",
       "      <td>not done</td>\n",
       "      <td>a</td>\n",
       "      <td></td>\n",
       "    </tr>\n",
       "    <tr>\n",
       "      <th>s02429</th>\n",
       "      <td>science</td>\n",
       "      <td>sign itself.</td>\n",
       "      <td>2025-03-07</td>\n",
       "      <td>pending</td>\n",
       "      <td>b</td>\n",
       "      <td></td>\n",
       "    </tr>\n",
       "    <tr>\n",
       "      <th>s06383</th>\n",
       "      <td>english</td>\n",
       "      <td>report thing inside.</td>\n",
       "      <td>2025-01-22</td>\n",
       "      <td>not done</td>\n",
       "      <td>f</td>\n",
       "      <td>no</td>\n",
       "    </tr>\n",
       "    <tr>\n",
       "      <th>s06233</th>\n",
       "      <td>history</td>\n",
       "      <td>there.</td>\n",
       "      <td>2024-12-24</td>\n",
       "      <td>✅</td>\n",
       "      <td>c</td>\n",
       "      <td>yes</td>\n",
       "    </tr>\n",
       "    <tr>\n",
       "      <th>s07969</th>\n",
       "      <td>history</td>\n",
       "      <td>step.</td>\n",
       "      <td>NaT</td>\n",
       "      <td>not done</td>\n",
       "      <td>c-</td>\n",
       "      <td>no</td>\n",
       "    </tr>\n",
       "    <tr>\n",
       "      <th>s02768</th>\n",
       "      <td>arabic</td>\n",
       "      <td>owner every here.</td>\n",
       "      <td>NaT</td>\n",
       "      <td>not done</td>\n",
       "      <td>f</td>\n",
       "      <td>yes</td>\n",
       "    </tr>\n",
       "    <tr>\n",
       "      <th>s03582</th>\n",
       "      <td>science</td>\n",
       "      <td>conference personal likely.</td>\n",
       "      <td>2025-02-12</td>\n",
       "      <td>not done</td>\n",
       "      <td>a</td>\n",
       "      <td>yes</td>\n",
       "    </tr>\n",
       "    <tr>\n",
       "      <th>s11857</th>\n",
       "      <td>geography</td>\n",
       "      <td>fill raise draw.</td>\n",
       "      <td>NaT</td>\n",
       "      <td>pending</td>\n",
       "      <td>b</td>\n",
       "      <td></td>\n",
       "    </tr>\n",
       "  </tbody>\n",
       "</table>\n",
       "</div>"
      ],
      "text/plain": [
       "              subject              assignment_name   due_date    status  \\\n",
       "student_id                                                                \n",
       "s08964      geography            away carry issue. 2024-09-13  not done   \n",
       "s00857        history              fill agreement. 2024-09-28         ✅   \n",
       "s06581        science          exactly lose early.        NaT  not done   \n",
       "s02429        science                 sign itself. 2025-03-07   pending   \n",
       "s06383        english         report thing inside. 2025-01-22  not done   \n",
       "s06233        history                       there. 2024-12-24         ✅   \n",
       "s07969        history                        step.        NaT  not done   \n",
       "s02768         arabic            owner every here.        NaT  not done   \n",
       "s03582        science  conference personal likely. 2025-02-12  not done   \n",
       "s11857      geography             fill raise draw.        NaT   pending   \n",
       "\n",
       "           grade_feedback guardian_signature  \n",
       "student_id                                    \n",
       "s08964                 c-                 no  \n",
       "s00857                  f                 no  \n",
       "s06581                  a                     \n",
       "s02429                  b                     \n",
       "s06383                  f                 no  \n",
       "s06233                  c                yes  \n",
       "s07969                 c-                 no  \n",
       "s02768                  f                yes  \n",
       "s03582                  a                yes  \n",
       "s11857                  b                     "
      ]
     },
     "execution_count": 345,
     "metadata": {},
     "output_type": "execute_result"
    }
   ],
   "source": [
    "df_homework.sample(10)"
   ]
  },
  {
   "cell_type": "code",
   "execution_count": 346,
   "id": "9f81ecbc",
   "metadata": {},
   "outputs": [
    {
     "name": "stdout",
     "output_type": "stream",
     "text": [
      "(subject                   0\n",
      "assignment_name           0\n",
      "due_date              12358\n",
      "status                    0\n",
      "grade_feedback            0\n",
      "guardian_signature        0\n",
      "dtype: int64, subject                0.00\n",
      "assignment_name        0.00\n",
      "due_date              20.33\n",
      "status                 0.00\n",
      "grade_feedback         0.00\n",
      "guardian_signature     0.00\n",
      "dtype: float64)\n"
     ]
    }
   ],
   "source": [
    "#Sacar nulos de la columna 'due_date' mediante funcion de sp.limpieza.py\n",
    "nulos = sp.nulos_num_porcentaje(df_homework)\n",
    "print(nulos)"
   ]
  },
  {
   "cell_type": "code",
   "execution_count": 347,
   "id": "a4d404a8",
   "metadata": {},
   "outputs": [
    {
     "data": {
      "text/html": [
       "<div>\n",
       "<style scoped>\n",
       "    .dataframe tbody tr th:only-of-type {\n",
       "        vertical-align: middle;\n",
       "    }\n",
       "\n",
       "    .dataframe tbody tr th {\n",
       "        vertical-align: top;\n",
       "    }\n",
       "\n",
       "    .dataframe thead th {\n",
       "        text-align: right;\n",
       "    }\n",
       "</style>\n",
       "<table border=\"1\" class=\"dataframe\">\n",
       "  <thead>\n",
       "    <tr style=\"text-align: right;\">\n",
       "      <th></th>\n",
       "      <th>Column</th>\n",
       "      <th>Datatype</th>\n",
       "      <th>NullsCount</th>\n",
       "      <th>Nulls%</th>\n",
       "    </tr>\n",
       "  </thead>\n",
       "  <tbody>\n",
       "    <tr>\n",
       "      <th>0</th>\n",
       "      <td>due_date</td>\n",
       "      <td>datetime64[ns]</td>\n",
       "      <td>12358</td>\n",
       "      <td>20.332346</td>\n",
       "    </tr>\n",
       "  </tbody>\n",
       "</table>\n",
       "</div>"
      ],
      "text/plain": [
       "     Column        Datatype  NullsCount     Nulls%\n",
       "0  due_date  datetime64[ns]       12358  20.332346"
      ]
     },
     "metadata": {},
     "output_type": "display_data"
    },
    {
     "name": "stdout",
     "output_type": "stream",
     "text": [
      "['due_date']\n"
     ]
    }
   ],
   "source": [
    "#🔴🔴PUEDE QUE ESTA FUNCION NO SEA NECESARIA AQUI,PROBARLA EN OTRO DATAFRAME\n",
    "#Comprobamos mediante esta funcion tambien como la columna 'due_date' rebasa el umbral 10. \n",
    "\n",
    "high_nulls_colmn, low_nulls_colmn = sp.nulos_umbral(df_homework)\n",
    "print(high_nulls_colmn)"
   ]
  },
  {
   "cell_type": "code",
   "execution_count": 348,
   "id": "45c696d1",
   "metadata": {},
   "outputs": [
    {
     "data": {
      "image/png": "[encoded data removed]",
      "text/plain": [
       "<Figure size 1000x500 with 1 Axes>"
      ]
     },
     "metadata": {},
     "output_type": "display_data"
    }
   ],
   "source": [
    "#🔴🔴 VALORAR SI ESTO MERECE O ME QUEDO SOLO CON LA CELDA DE ABAJO, QUE PONE --> describe().\n",
    "# La columna 'due_date' tiene una cantidad elevada de nulos (20.33%) por lo que antes de imputarla comprobamos\n",
    "#como es la distribución de sus valores para poder así valorar si imputar los nulos, si por media, moda o mediana.\n",
    "\n",
    "df_homework['due_date'].hist(bins=50, figsize=(10,5))\n",
    "plt.title('Distribución de Due Date')\n",
    "plt.xlabel('Fecha')\n",
    "plt.ylabel('Cantidad')\n",
    "plt.xticks(rotation=45)\n",
    "plt.show()\n"
   ]
  },
  {
   "cell_type": "code",
   "execution_count": 349,
   "id": "b07c7577",
   "metadata": {},
   "outputs": [
    {
     "name": "stdout",
     "output_type": "stream",
     "text": [
      "count                            48422\n",
      "mean     2024-12-08 09:02:43.710710016\n",
      "min                2024-09-08 00:00:00\n",
      "25%                2024-10-24 00:00:00\n",
      "50%                2024-12-09 00:00:00\n",
      "75%                2025-01-23 00:00:00\n",
      "max                2025-03-09 00:00:00\n",
      "Name: due_date, dtype: object\n"
     ]
    }
   ],
   "source": [
    "print(df_homework['due_date'].describe())"
   ]
  },
  {
   "cell_type": "code",
   "execution_count": 350,
   "id": "33b13196",
   "metadata": {},
   "outputs": [
    {
     "name": "stderr",
     "output_type": "stream",
     "text": [
      "C:\\Users\\pooo_\\AppData\\Local\\Temp\\ipykernel_18604\\3655258861.py:6: FutureWarning: A value is trying to be set on a copy of a DataFrame or Series through chained assignment using an inplace method.\n",
      "The behavior will change in pandas 3.0. This inplace method will never work because the intermediate object on which we are setting values always behaves as a copy.\n",
      "\n",
      "For example, when doing 'df[col].method(value, inplace=True)', try using 'df.method({col: value}, inplace=True)' or df[col] = df[col].method(value) instead, to perform the operation inplace on the original object.\n",
      "\n",
      "\n",
      "  df_homework['due_date'].fillna(mediana_fecha, inplace= True)\n"
     ]
    }
   ],
   "source": [
    "#Dado que las fechas están bastante centradas en torno a finales de 2024, lo más razonable sería:\n",
    "# Imputar con la mediana (50%), que es 2024-12-09, ya que la mediana es robusta frente a outliers y nos va a evitar \n",
    "# en caso de haber un par de fechas raras que el resultado no se distorsione demasiado.\n",
    "\n",
    "mediana_fecha = df_homework['due_date'].median()\n",
    "df_homework['due_date'].fillna(mediana_fecha, inplace= True)\n"
   ]
  },
  {
   "cell_type": "code",
   "execution_count": 351,
   "id": "ef079ee6",
   "metadata": {},
   "outputs": [
    {
     "name": "stdout",
     "output_type": "stream",
     "text": [
      "(subject               0\n",
      "assignment_name       0\n",
      "due_date              0\n",
      "status                0\n",
      "grade_feedback        0\n",
      "guardian_signature    0\n",
      "dtype: int64, subject               0.0\n",
      "assignment_name       0.0\n",
      "due_date              0.0\n",
      "status                0.0\n",
      "grade_feedback        0.0\n",
      "guardian_signature    0.0\n",
      "dtype: float64)\n"
     ]
    }
   ],
   "source": [
    "#Comprobamos que los nulos han desaparecido\n",
    "nulos = sp.nulos_num_porcentaje(df_homework)\n",
    "print(nulos)"
   ]
  },
  {
   "cell_type": "code",
   "execution_count": 352,
   "id": "c6de6ebe",
   "metadata": {},
   "outputs": [
    {
     "data": {
      "text/plain": [
       "status\n",
       "done        10278\n",
       "not done    10234\n",
       "❌           10151\n",
       "✔           10090\n",
       "pending     10014\n",
       "✅           10013\n",
       "Name: count, dtype: int64"
      ]
     },
     "execution_count": 352,
     "metadata": {},
     "output_type": "execute_result"
    }
   ],
   "source": [
    "#Para coregir la columna 'status' vamos a comprobar primero el tipo de valores que tiene.\n",
    "\n",
    "status_valores = df_homework['status'].value_counts()\n",
    "status_valores"
   ]
  },
  {
   "cell_type": "code",
   "execution_count": 353,
   "id": "e7ea45cb",
   "metadata": {},
   "outputs": [
    {
     "data": {
      "text/plain": [
       "status\n",
       "done        30381\n",
       "not done    20385\n",
       "pending     10014\n",
       "Name: count, dtype: int64"
      ]
     },
     "execution_count": 353,
     "metadata": {},
     "output_type": "execute_result"
    }
   ],
   "source": [
    "#Vamos a homogeinizar esos valores. \n",
    "\n",
    "mapeo_status = {\n",
    "    '✅':'done',\n",
    "    '❌':'not done',\n",
    "    '✔':'done',\n",
    "    'pending':'pending',\n",
    "    'done':'done',\n",
    "    'not done':'not done',\n",
    "}\n",
    "\n",
    "df_homework['status'] = df_homework['status'].replace(mapeo_status)\n",
    "\n",
    "status_valores = df_homework['status'].value_counts()\n",
    "status_valores\n"
   ]
  },
  {
   "cell_type": "code",
   "execution_count": 354,
   "id": "ab4eb560",
   "metadata": {},
   "outputs": [
    {
     "name": "stdout",
     "output_type": "stream",
     "text": [
      "guardian_signature\n",
      "no     20372\n",
      "yes    20348\n",
      "       20060\n",
      "Name: count, dtype: int64\n"
     ]
    }
   ],
   "source": [
    "#Debemos comprobar la columna 'guardian_signatura' ya que tiene campos vacíos que pandas\n",
    "# lo detecta como cadena de texto vacía.\n",
    "valores = df_homework['guardian_signature'].value_counts()\n",
    "print(valores)"
   ]
  },
  {
   "cell_type": "code",
   "execution_count": 355,
   "id": "58fab490",
   "metadata": {},
   "outputs": [
    {
     "data": {
      "text/plain": [
       "(np.int64(20060), np.float64(33.0))"
      ]
     },
     "execution_count": 355,
     "metadata": {},
     "output_type": "execute_result"
    }
   ],
   "source": [
    "#Debemos de convertir la cadena vacia por nulos de numpy. Después vamos a comprobar cuantos nulos son.\n",
    "df_homework['guardian_signature'] = df_homework['guardian_signature'].replace('', np.nan)\n",
    "ver_nulos= sp.nulos_num_porcentaje(df_homework['guardian_signature'])\n",
    "ver_nulos"
   ]
  },
  {
   "cell_type": "code",
   "execution_count": 356,
   "id": "14601888",
   "metadata": {},
   "outputs": [
    {
     "name": "stdout",
     "output_type": "stream",
     "text": [
      "guardian_signature\n",
      "no     33.517604\n",
      "yes    33.478118\n",
      "NaN    33.004278\n",
      "Name: proportion, dtype: float64\n"
     ]
    }
   ],
   "source": [
    "#Comprobamos la distribución (en porcentaje) de los 3 valores de la columna.\n",
    "print(df_homework['guardian_signature'].value_counts(dropna=False, normalize=True)*100)"
   ]
  },
  {
   "cell_type": "code",
   "execution_count": 357,
   "id": "9bb979b7",
   "metadata": {},
   "outputs": [
    {
     "name": "stdout",
     "output_type": "stream",
     "text": [
      "count     40720\n",
      "unique        2\n",
      "top          no\n",
      "freq      20372\n",
      "Name: guardian_signature, dtype: object\n"
     ]
    }
   ],
   "source": [
    "#Hay un 33% de nulos de la columna 'guardian_signature' por tanto vamos a ver sus cuartiles, media etc.\n",
    "print(df_homework['guardian_signature'].describe())"
   ]
  },
  {
   "cell_type": "code",
   "execution_count": 358,
   "id": "bb0d827d",
   "metadata": {},
   "outputs": [
    {
     "name": "stdout",
     "output_type": "stream",
     "text": [
      "guardian_signature\n",
      "no         20372\n",
      "yes        20348\n",
      "unknown    20060\n",
      "Name: count, dtype: int64\n"
     ]
    },
    {
     "name": "stderr",
     "output_type": "stream",
     "text": [
      "C:\\Users\\pooo_\\AppData\\Local\\Temp\\ipykernel_18604\\2920811997.py:4: FutureWarning: A value is trying to be set on a copy of a DataFrame or Series through chained assignment using an inplace method.\n",
      "The behavior will change in pandas 3.0. This inplace method will never work because the intermediate object on which we are setting values always behaves as a copy.\n",
      "\n",
      "For example, when doing 'df[col].method(value, inplace=True)', try using 'df.method({col: value}, inplace=True)' or df[col] = df[col].method(value) instead, to perform the operation inplace on the original object.\n",
      "\n",
      "\n",
      "  df_homework['guardian_signature'].fillna('unknown', inplace = True)\n"
     ]
    }
   ],
   "source": [
    "#Vamos a imputar los nulos con 'unknown' ya que así no modificamos artificialmente la proporción original y\n",
    "# dejamos constancia de que falta esta información.\n",
    "\n",
    "df_homework['guardian_signature'].fillna('unknown', inplace = True)\n",
    "\n",
    "#Comprobamos la distribución (en porcentaje) de los 3 valores de la columna.\n",
    "print(df_homework['guardian_signature'].value_counts())"
   ]
  },
  {
   "cell_type": "markdown",
   "id": "71b3f7b2",
   "metadata": {},
   "source": [
    "### 1.2. Eliminar columnas redundantes o irrelevantes"
   ]
  },
  {
   "cell_type": "markdown",
   "id": "e612d8f3",
   "metadata": {},
   "source": [
    "### 1.3. Homogeinizar los nombres de las columnas"
   ]
  },
  {
   "cell_type": "markdown",
   "id": "57d55d04",
   "metadata": {},
   "source": [
    "### 1.4. Homogeinizar datos categóricos"
   ]
  },
  {
   "cell_type": "markdown",
   "id": "9c90290b",
   "metadata": {},
   "source": [
    "### 1.5. Cambio tipo de datos y gestión de nulos"
   ]
  },
  {
   "cell_type": "markdown",
   "id": "5f8621fa",
   "metadata": {},
   "source": [
    "### 1.6. Combinar ambas tablas"
   ]
  },
  {
   "cell_type": "markdown",
   "id": "4c59e631",
   "metadata": {},
   "source": [
    "# 2. Análisis descriptivo de los datos"
   ]
  },
  {
   "cell_type": "markdown",
   "id": "dab9e80d",
   "metadata": {},
   "source": [
    "### 2.1. Resumen estadístico "
   ]
  },
  {
   "cell_type": "markdown",
   "id": "c59b72cb",
   "metadata": {},
   "source": [
    "# 3. Visualización de los datos."
   ]
  },
  {
   "cell_type": "markdown",
   "id": "663fddc4",
   "metadata": {},
   "source": [
    "### 3.1. Histogramas para la distribución de variables numéricas"
   ]
  },
  {
   "cell_type": "markdown",
   "id": "2e6c88d4",
   "metadata": {},
   "source": [
    "### 3.2. Boxplots para detectar outliers"
   ]
  },
  {
   "cell_type": "markdown",
   "id": "e9f9c089",
   "metadata": {},
   "source": [
    "### 3.3. Gráficos de barras para variables categóricas"
   ]
  },
  {
   "cell_type": "markdown",
   "id": "fa4823f7",
   "metadata": {},
   "source": [
    "### 3.4. Heatmap de correlaciones"
   ]
  },
  {
   "cell_type": "markdown",
   "id": "ed85cf4d",
   "metadata": {},
   "source": [
    "# 4. Guardar archivos limpios"
   ]
  }
 ],
 "metadata": {
  "kernelspec": {
   "display_name": "venv",
   "language": "python",
   "name": "python3"
  },
  "language_info": {
   "codemirror_mode": {
    "name": "ipython",
    "version": 3
   },
   "file_extension": ".py",
   "mimetype": "text/x-python",
   "name": "python",
   "nbconvert_exporter": "python",
   "pygments_lexer": "ipython3",
   "version": "3.13.1"
  }
 },
 "nbformat": 4,
 "nbformat_minor": 5
}
