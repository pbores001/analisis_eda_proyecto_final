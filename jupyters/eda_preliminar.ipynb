{
 "cells": [
  {
   "cell_type": "markdown",
   "id": "46334f86",
   "metadata": {},
   "source": [
    "# Analisis preliminar del conjunto de datos"
   ]
  },
  {
   "cell_type": "code",
   "execution_count": 372,
   "id": "aed0dab2",
   "metadata": {},
   "outputs": [],
   "source": [
    "#Importaciones\n",
    "import pandas as pd\n",
    "import numpy as np\n",
    "\n",
    "#Para llamar a archivos de otras carpetas\n",
    "import sys\n",
    "sys.path.append('..')\n",
    "\n",
    "#Visualizar todas las columnas\n",
    "pd.set_option('display.max_columns', None)\n"
   ]
  },
  {
   "cell_type": "code",
   "execution_count": 373,
   "id": "203e8eaf",
   "metadata": {},
   "outputs": [
    {
     "data": {
      "text/plain": [
       "<module 'src.sp_limpieza' from 'c:\\\\Users\\\\pooo_\\\\Desktop\\\\Hackio\\\\proyecto_final_troncal\\\\analisis_eda_proyecto_final\\\\jupyters\\\\..\\\\src\\\\sp_limpieza.py'>"
      ]
     },
     "execution_count": 373,
     "metadata": {},
     "output_type": "execute_result"
    }
   ],
   "source": [
    "#Después importamos el archivo de funciones ('sp_limpieza.py') \n",
    "import src.sp_limpieza as sp\n",
    "#Importamos importlib para poder recargar el módulo y reflejar los cambios actualizados\n",
    "import importlib  \n",
    "importlib.reload(sp) "
   ]
  },
  {
   "cell_type": "code",
   "execution_count": 374,
   "id": "e7e56ebc",
   "metadata": {},
   "outputs": [
    {
     "name": "stdout",
     "output_type": "stream",
     "text": [
      "c:\\Users\\pooo_\\Desktop\\Hackio\\proyecto_final_troncal\\analisis_eda_proyecto_final\\jupyters\n"
     ]
    }
   ],
   "source": [
    "#Para interactuar con el sistema operativo\n",
    "import os\n",
    "#Devuelve la ruta del directorio actual\n",
    "print(os.getcwd())"
   ]
  },
  {
   "cell_type": "code",
   "execution_count": 375,
   "id": "432f58b4",
   "metadata": {},
   "outputs": [],
   "source": [
    "#Librerías visualización de gráficos\n",
    "import matplotlib.pyplot as plt\n",
    "import seaborn as sns"
   ]
  },
  {
   "cell_type": "markdown",
   "id": "7d10973e",
   "metadata": {},
   "source": [
    "# 1. Transformación y limpieza de datos"
   ]
  },
  {
   "cell_type": "markdown",
   "id": "5e80ba84",
   "metadata": {},
   "source": [
    "### 1.1. Importación y visión general de los datos"
   ]
  },
  {
   "cell_type": "code",
   "execution_count": 376,
   "id": "9860efbb",
   "metadata": {},
   "outputs": [],
   "source": [
    "#Leer los archivos\n",
    "df_attendance = pd.read_csv(\"../data/data_raw/attendance.csv\", index_col = 0)\n",
    "df_homework = pd.read_csv(\"../data/data_raw/homework.csv\", index_col = 0)\n",
    "df_performance = pd.read_csv(\"../data/data_raw/performance.csv\")\n",
    "df_students = pd.read_csv(\"../data/data_raw/students.csv\")\n",
    "df_communication = pd.read_csv(\"../data/data_raw/communication.csv\")"
   ]
  },
  {
   "cell_type": "code",
   "execution_count": 377,
   "id": "60c0b871",
   "metadata": {},
   "outputs": [
    {
     "data": {
      "text/html": [
       "<div>\n",
       "<style scoped>\n",
       "    .dataframe tbody tr th:only-of-type {\n",
       "        vertical-align: middle;\n",
       "    }\n",
       "\n",
       "    .dataframe tbody tr th {\n",
       "        vertical-align: top;\n",
       "    }\n",
       "\n",
       "    .dataframe thead th {\n",
       "        text-align: right;\n",
       "    }\n",
       "</style>\n",
       "<table border=\"1\" class=\"dataframe\">\n",
       "  <thead>\n",
       "    <tr style=\"text-align: right;\">\n",
       "      <th></th>\n",
       "      <th>Date</th>\n",
       "      <th>Subject</th>\n",
       "      <th>Attendance_Status</th>\n",
       "    </tr>\n",
       "    <tr>\n",
       "      <th>Student_ID</th>\n",
       "      <th></th>\n",
       "      <th></th>\n",
       "      <th></th>\n",
       "    </tr>\n",
       "  </thead>\n",
       "  <tbody>\n",
       "    <tr>\n",
       "      <th>S10902</th>\n",
       "      <td>2024-04-08</td>\n",
       "      <td>Science</td>\n",
       "      <td>Present</td>\n",
       "    </tr>\n",
       "    <tr>\n",
       "      <th>S11292</th>\n",
       "      <td>2024-07-24</td>\n",
       "      <td>English</td>\n",
       "      <td>Late</td>\n",
       "    </tr>\n",
       "    <tr>\n",
       "      <th>S03226</th>\n",
       "      <td>2024-07-13</td>\n",
       "      <td>Science</td>\n",
       "      <td>excused</td>\n",
       "    </tr>\n",
       "    <tr>\n",
       "      <th>S02635</th>\n",
       "      <td>2024-12-14</td>\n",
       "      <td>Arabic</td>\n",
       "      <td>absnt</td>\n",
       "    </tr>\n",
       "    <tr>\n",
       "      <th>S03971</th>\n",
       "      <td>2024-04-30</td>\n",
       "      <td>Science</td>\n",
       "      <td>Present</td>\n",
       "    </tr>\n",
       "  </tbody>\n",
       "</table>\n",
       "</div>"
      ],
      "text/plain": [
       "                  Date  Subject Attendance_Status\n",
       "Student_ID                                       \n",
       "S10902      2024-04-08  Science           Present\n",
       "S11292      2024-07-24  English              Late\n",
       "S03226      2024-07-13  Science           excused\n",
       "S02635      2024-12-14   Arabic             absnt\n",
       "S03971      2024-04-30  Science           Present"
      ]
     },
     "metadata": {},
     "output_type": "display_data"
    },
    {
     "name": "stdout",
     "output_type": "stream",
     "text": [
      "____________________________\n",
      "INFO\n",
      "<class 'pandas.core.frame.DataFrame'>\n",
      "Index: 364680 entries, S06592 to S12134\n",
      "Data columns (total 3 columns):\n",
      " #   Column             Non-Null Count   Dtype \n",
      "---  ------             --------------   ----- \n",
      " 0   Date               364680 non-null  object\n",
      " 1   Subject            364680 non-null  object\n",
      " 2   Attendance_Status  364680 non-null  object\n",
      "dtypes: object(3)\n",
      "memory usage: 11.1+ MB\n"
     ]
    },
    {
     "data": {
      "text/plain": [
       "None"
      ]
     },
     "metadata": {},
     "output_type": "display_data"
    },
    {
     "name": "stdout",
     "output_type": "stream",
     "text": [
      "____________________________\n",
      "NULOS\n"
     ]
    },
    {
     "data": {
      "text/plain": [
       "Date                 0.0\n",
       "Subject              0.0\n",
       "Attendance_Status    0.0\n",
       "dtype: float64"
      ]
     },
     "metadata": {},
     "output_type": "display_data"
    },
    {
     "name": "stdout",
     "output_type": "stream",
     "text": [
      "____________________________\n",
      "DUPLICADOS\n"
     ]
    },
    {
     "data": {
      "text/plain": [
       "np.int64(347112)"
      ]
     },
     "metadata": {},
     "output_type": "display_data"
    },
    {
     "name": "stdout",
     "output_type": "stream",
     "text": [
      "____________________________\n",
      "DESCRIBE\n"
     ]
    },
    {
     "data": {
      "text/html": [
       "<div>\n",
       "<style scoped>\n",
       "    .dataframe tbody tr th:only-of-type {\n",
       "        vertical-align: middle;\n",
       "    }\n",
       "\n",
       "    .dataframe tbody tr th {\n",
       "        vertical-align: top;\n",
       "    }\n",
       "\n",
       "    .dataframe thead th {\n",
       "        text-align: right;\n",
       "    }\n",
       "</style>\n",
       "<table border=\"1\" class=\"dataframe\">\n",
       "  <thead>\n",
       "    <tr style=\"text-align: right;\">\n",
       "      <th></th>\n",
       "      <th>count</th>\n",
       "      <th>unique</th>\n",
       "      <th>top</th>\n",
       "      <th>freq</th>\n",
       "    </tr>\n",
       "  </thead>\n",
       "  <tbody>\n",
       "    <tr>\n",
       "      <th>Date</th>\n",
       "      <td>364680</td>\n",
       "      <td>366</td>\n",
       "      <td>2024-12-31</td>\n",
       "      <td>1075</td>\n",
       "    </tr>\n",
       "    <tr>\n",
       "      <th>Subject</th>\n",
       "      <td>364680</td>\n",
       "      <td>6</td>\n",
       "      <td>Math</td>\n",
       "      <td>61241</td>\n",
       "    </tr>\n",
       "    <tr>\n",
       "      <th>Attendance_Status</th>\n",
       "      <td>364680</td>\n",
       "      <td>8</td>\n",
       "      <td>PRESENT</td>\n",
       "      <td>45982</td>\n",
       "    </tr>\n",
       "  </tbody>\n",
       "</table>\n",
       "</div>"
      ],
      "text/plain": [
       "                    count unique         top   freq\n",
       "Date               364680    366  2024-12-31   1075\n",
       "Subject            364680      6        Math  61241\n",
       "Attendance_Status  364680      8    PRESENT   45982"
      ]
     },
     "metadata": {},
     "output_type": "display_data"
    },
    {
     "name": "stdout",
     "output_type": "stream",
     "text": [
      "____________________________\n",
      "DESCRIBE COLUMNAS OBJECT\n"
     ]
    },
    {
     "data": {
      "text/html": [
       "<div>\n",
       "<style scoped>\n",
       "    .dataframe tbody tr th:only-of-type {\n",
       "        vertical-align: middle;\n",
       "    }\n",
       "\n",
       "    .dataframe tbody tr th {\n",
       "        vertical-align: top;\n",
       "    }\n",
       "\n",
       "    .dataframe thead th {\n",
       "        text-align: right;\n",
       "    }\n",
       "</style>\n",
       "<table border=\"1\" class=\"dataframe\">\n",
       "  <thead>\n",
       "    <tr style=\"text-align: right;\">\n",
       "      <th></th>\n",
       "      <th>count</th>\n",
       "      <th>unique</th>\n",
       "      <th>top</th>\n",
       "      <th>freq</th>\n",
       "    </tr>\n",
       "  </thead>\n",
       "  <tbody>\n",
       "    <tr>\n",
       "      <th>Date</th>\n",
       "      <td>364680</td>\n",
       "      <td>366</td>\n",
       "      <td>2024-12-31</td>\n",
       "      <td>1075</td>\n",
       "    </tr>\n",
       "    <tr>\n",
       "      <th>Subject</th>\n",
       "      <td>364680</td>\n",
       "      <td>6</td>\n",
       "      <td>Math</td>\n",
       "      <td>61241</td>\n",
       "    </tr>\n",
       "    <tr>\n",
       "      <th>Attendance_Status</th>\n",
       "      <td>364680</td>\n",
       "      <td>8</td>\n",
       "      <td>PRESENT</td>\n",
       "      <td>45982</td>\n",
       "    </tr>\n",
       "  </tbody>\n",
       "</table>\n",
       "</div>"
      ],
      "text/plain": [
       "                    count unique         top   freq\n",
       "Date               364680    366  2024-12-31   1075\n",
       "Subject            364680      6        Math  61241\n",
       "Attendance_Status  364680      8    PRESENT   45982"
      ]
     },
     "metadata": {},
     "output_type": "display_data"
    },
    {
     "name": "stdout",
     "output_type": "stream",
     "text": [
      "____________________________\n",
      "VALUE COUNTS\n",
      "Date\n",
      "2024-12-31    1075\n",
      "2024-05-05    1073\n",
      "2024-09-06    1070\n",
      "2024-08-06    1068\n",
      "2024-09-22    1068\n",
      "              ... \n",
      "2024-12-25     922\n",
      "2024-05-09     921\n",
      "2024-03-31     919\n",
      "2024-12-07     917\n",
      "2024-04-21     905\n",
      "Name: count, Length: 366, dtype: int64\n",
      "Subject\n",
      "Math         61241\n",
      "Science      60881\n",
      "Arabic       60749\n",
      "English      60684\n",
      "Geography    60640\n",
      "History      60485\n",
      "Name: count, dtype: int64\n",
      "Attendance_Status\n",
      "PRESENT       45982\n",
      "Absent        45751\n",
      "Present       45632\n",
      "Late          45509\n",
      " late         45508\n",
      "absnt         45478\n",
      "left early    45435\n",
      "excused       45385\n",
      "Name: count, dtype: int64\n",
      "____________________________\n"
     ]
    }
   ],
   "source": [
    "#Ver dataframe 'df_attendace'\n",
    "df_att_preliminar =  sp.eda_preliminar(df_attendance)"
   ]
  },
  {
   "cell_type": "code",
   "execution_count": 378,
   "id": "616ca7b0",
   "metadata": {},
   "outputs": [
    {
     "data": {
      "text/html": [
       "<div>\n",
       "<style scoped>\n",
       "    .dataframe tbody tr th:only-of-type {\n",
       "        vertical-align: middle;\n",
       "    }\n",
       "\n",
       "    .dataframe tbody tr th {\n",
       "        vertical-align: top;\n",
       "    }\n",
       "\n",
       "    .dataframe thead th {\n",
       "        text-align: right;\n",
       "    }\n",
       "</style>\n",
       "<table border=\"1\" class=\"dataframe\">\n",
       "  <thead>\n",
       "    <tr style=\"text-align: right;\">\n",
       "      <th></th>\n",
       "      <th>date</th>\n",
       "      <th>subject</th>\n",
       "      <th>attendance_status</th>\n",
       "    </tr>\n",
       "    <tr>\n",
       "      <th>student_id</th>\n",
       "      <th></th>\n",
       "      <th></th>\n",
       "      <th></th>\n",
       "    </tr>\n",
       "  </thead>\n",
       "  <tbody>\n",
       "    <tr>\n",
       "      <th>s01493</th>\n",
       "      <td>2025-02-01</td>\n",
       "      <td>history</td>\n",
       "      <td>late</td>\n",
       "    </tr>\n",
       "    <tr>\n",
       "      <th>s11584</th>\n",
       "      <td>2024-10-15</td>\n",
       "      <td>history</td>\n",
       "      <td>absnt</td>\n",
       "    </tr>\n",
       "    <tr>\n",
       "      <th>s08977</th>\n",
       "      <td>2024-09-27</td>\n",
       "      <td>geography</td>\n",
       "      <td>excused</td>\n",
       "    </tr>\n",
       "    <tr>\n",
       "      <th>s08447</th>\n",
       "      <td>2025-01-05</td>\n",
       "      <td>history</td>\n",
       "      <td>present</td>\n",
       "    </tr>\n",
       "    <tr>\n",
       "      <th>s04739</th>\n",
       "      <td>2024-08-08</td>\n",
       "      <td>history</td>\n",
       "      <td>present</td>\n",
       "    </tr>\n",
       "    <tr>\n",
       "      <th>s11384</th>\n",
       "      <td>2025-01-27</td>\n",
       "      <td>science</td>\n",
       "      <td>left early</td>\n",
       "    </tr>\n",
       "    <tr>\n",
       "      <th>s01191</th>\n",
       "      <td>2025-02-27</td>\n",
       "      <td>english</td>\n",
       "      <td>late</td>\n",
       "    </tr>\n",
       "    <tr>\n",
       "      <th>s01186</th>\n",
       "      <td>2024-11-08</td>\n",
       "      <td>history</td>\n",
       "      <td>left early</td>\n",
       "    </tr>\n",
       "    <tr>\n",
       "      <th>s05128</th>\n",
       "      <td>2024-10-03</td>\n",
       "      <td>history</td>\n",
       "      <td>absnt</td>\n",
       "    </tr>\n",
       "    <tr>\n",
       "      <th>s00863</th>\n",
       "      <td>2025-01-28</td>\n",
       "      <td>math</td>\n",
       "      <td>late</td>\n",
       "    </tr>\n",
       "  </tbody>\n",
       "</table>\n",
       "</div>"
      ],
      "text/plain": [
       "                  date    subject attendance_status\n",
       "student_id                                         \n",
       "s01493      2025-02-01    history              late\n",
       "s11584      2024-10-15    history             absnt\n",
       "s08977      2024-09-27  geography           excused\n",
       "s08447      2025-01-05    history           present\n",
       "s04739      2024-08-08    history           present\n",
       "s11384      2025-01-27    science        left early\n",
       "s01191      2025-02-27    english              late\n",
       "s01186      2024-11-08    history        left early\n",
       "s05128      2024-10-03    history             absnt\n",
       "s00863      2025-01-28       math              late"
      ]
     },
     "execution_count": 378,
     "metadata": {},
     "output_type": "execute_result"
    }
   ],
   "source": [
    "#Quitar los espacios y pasar a misnuculas las tabla\n",
    "df_attendance = sp.valores_a_minus(df_attendance)\n",
    "df_attendance.sample(10)"
   ]
  },
  {
   "cell_type": "code",
   "execution_count": 379,
   "id": "85d81c78",
   "metadata": {},
   "outputs": [
    {
     "data": {
      "text/plain": [
       "attendance_status\n",
       "present       91614\n",
       "late          91017\n",
       "absent        45751\n",
       "absnt         45478\n",
       "left early    45435\n",
       "excused       45385\n",
       "Name: count, dtype: int64"
      ]
     },
     "execution_count": 379,
     "metadata": {},
     "output_type": "execute_result"
    }
   ],
   "source": [
    "#Ver en la columna attendance_status que valores tiene.\n",
    "conteo = df_attendance['attendance_status'].value_counts()\n",
    "conteo"
   ]
  },
  {
   "cell_type": "code",
   "execution_count": 380,
   "id": "271a7f8e",
   "metadata": {},
   "outputs": [
    {
     "data": {
      "text/plain": [
       "attendance_status\n",
       "present       91614\n",
       "absent        91229\n",
       "late          91017\n",
       "left early    45435\n",
       "excused       45385\n",
       "Name: count, dtype: int64"
      ]
     },
     "execution_count": 380,
     "metadata": {},
     "output_type": "execute_result"
    }
   ],
   "source": [
    "#Corregimos el valor 'absnt' por 'absent' y comprobamos los resultados de la columna\n",
    "df_attendance['attendance_status'] = df_attendance['attendance_status'].replace('absnt','absent')\n",
    "\n",
    "\n",
    "conteo = df_attendance['attendance_status'].value_counts()\n",
    "conteo\n",
    "#Ya tenemos los valores de esta columna corregidos."
   ]
  },
  {
   "cell_type": "code",
   "execution_count": 381,
   "id": "0d732a2f",
   "metadata": {},
   "outputs": [],
   "source": [
    "#Cambiar nombre de columna 'date' para hacerla mas descriptiva y 'attendace_status' para hacerla mas corta.\n",
    "df_attendance.rename(columns={'date':'att_date', 'attendance_status':'att_status'}, inplace= True)"
   ]
  },
  {
   "cell_type": "code",
   "execution_count": 382,
   "id": "a0b48bc2",
   "metadata": {},
   "outputs": [
    {
     "name": "stdout",
     "output_type": "stream",
     "text": [
      "datetime64[ns]\n"
     ]
    }
   ],
   "source": [
    "# Como la columna 'date' es de tipo 'Object' vamos a pasarla a tipo Datetime y comprobamos el tipo de dato que sea correcto\n",
    "df_attendance['att_date'] = pd.to_datetime(df_attendance['att_date'], errors = 'coerce')\n",
    "print(df_attendance['att_date'].dtype)"
   ]
  },
  {
   "cell_type": "code",
   "execution_count": 383,
   "id": "97ef9c30",
   "metadata": {},
   "outputs": [
    {
     "name": "stdout",
     "output_type": "stream",
     "text": [
      "att_date      datetime64[ns]\n",
      "subject               object\n",
      "att_status            object\n",
      "dtype: object\n"
     ]
    }
   ],
   "source": [
    "#Comprobamos el resto de columnas que sean de tipo correcto.\n",
    "print(df_attendance.dtypes)"
   ]
  },
  {
   "cell_type": "code",
   "execution_count": 384,
   "id": "2f6b28c3",
   "metadata": {},
   "outputs": [
    {
     "data": {
      "text/html": [
       "<div>\n",
       "<style scoped>\n",
       "    .dataframe tbody tr th:only-of-type {\n",
       "        vertical-align: middle;\n",
       "    }\n",
       "\n",
       "    .dataframe tbody tr th {\n",
       "        vertical-align: top;\n",
       "    }\n",
       "\n",
       "    .dataframe thead th {\n",
       "        text-align: right;\n",
       "    }\n",
       "</style>\n",
       "<table border=\"1\" class=\"dataframe\">\n",
       "  <thead>\n",
       "    <tr style=\"text-align: right;\">\n",
       "      <th></th>\n",
       "      <th>Subject</th>\n",
       "      <th>Assignment_Name</th>\n",
       "      <th>Due_Date</th>\n",
       "      <th>Status</th>\n",
       "      <th>Grade_Feedback</th>\n",
       "      <th>Guardian_Signature</th>\n",
       "    </tr>\n",
       "    <tr>\n",
       "      <th>Student_ID</th>\n",
       "      <th></th>\n",
       "      <th></th>\n",
       "      <th></th>\n",
       "      <th></th>\n",
       "      <th></th>\n",
       "      <th></th>\n",
       "    </tr>\n",
       "  </thead>\n",
       "  <tbody>\n",
       "    <tr>\n",
       "      <th>S01970</th>\n",
       "      <td>Science</td>\n",
       "      <td>Brother simple beautiful.</td>\n",
       "      <td>2024-10-25</td>\n",
       "      <td>❌</td>\n",
       "      <td>D</td>\n",
       "      <td>No</td>\n",
       "    </tr>\n",
       "    <tr>\n",
       "      <th>S05360</th>\n",
       "      <td>Math</td>\n",
       "      <td>Become seven over.</td>\n",
       "      <td>2024-09-25</td>\n",
       "      <td>not done</td>\n",
       "      <td>B</td>\n",
       "      <td></td>\n",
       "    </tr>\n",
       "    <tr>\n",
       "      <th>S02382</th>\n",
       "      <td>English</td>\n",
       "      <td>After wear seem.</td>\n",
       "      <td>2024-11-27</td>\n",
       "      <td>✔</td>\n",
       "      <td>B</td>\n",
       "      <td>Yes</td>\n",
       "    </tr>\n",
       "    <tr>\n",
       "      <th>S11144</th>\n",
       "      <td>Arabic</td>\n",
       "      <td>Across science.</td>\n",
       "      <td>2025-02-08</td>\n",
       "      <td>✅</td>\n",
       "      <td>A</td>\n",
       "      <td>Yes</td>\n",
       "    </tr>\n",
       "    <tr>\n",
       "      <th>S10770</th>\n",
       "      <td>History</td>\n",
       "      <td>Will rich possible.</td>\n",
       "      <td>2025-02-27</td>\n",
       "      <td>not done</td>\n",
       "      <td>D</td>\n",
       "      <td></td>\n",
       "    </tr>\n",
       "  </tbody>\n",
       "</table>\n",
       "</div>"
      ],
      "text/plain": [
       "            Subject            Assignment_Name    Due_Date    Status  \\\n",
       "Student_ID                                                             \n",
       "S01970      Science  Brother simple beautiful.  2024-10-25         ❌   \n",
       "S05360         Math         Become seven over.  2024-09-25  not done   \n",
       "S02382      English           After wear seem.  2024-11-27         ✔   \n",
       "S11144       Arabic            Across science.  2025-02-08         ✅   \n",
       "S10770      History        Will rich possible.  2025-02-27  not done   \n",
       "\n",
       "           Grade_Feedback Guardian_Signature  \n",
       "Student_ID                                    \n",
       "S01970                  D                 No  \n",
       "S05360                  B                     \n",
       "S02382                  B                Yes  \n",
       "S11144                  A                Yes  \n",
       "S10770                  D                     "
      ]
     },
     "metadata": {},
     "output_type": "display_data"
    },
    {
     "name": "stdout",
     "output_type": "stream",
     "text": [
      "____________________________\n",
      "INFO\n",
      "<class 'pandas.core.frame.DataFrame'>\n",
      "Index: 60780 entries, S12002 to S08589\n",
      "Data columns (total 6 columns):\n",
      " #   Column              Non-Null Count  Dtype \n",
      "---  ------              --------------  ----- \n",
      " 0   Subject             60780 non-null  object\n",
      " 1   Assignment_Name     60780 non-null  object\n",
      " 2   Due_Date            60780 non-null  object\n",
      " 3   Status              60780 non-null  object\n",
      " 4   Grade_Feedback      60780 non-null  object\n",
      " 5   Guardian_Signature  60780 non-null  object\n",
      "dtypes: object(6)\n",
      "memory usage: 3.2+ MB\n"
     ]
    },
    {
     "data": {
      "text/plain": [
       "None"
      ]
     },
     "metadata": {},
     "output_type": "display_data"
    },
    {
     "name": "stdout",
     "output_type": "stream",
     "text": [
      "____________________________\n",
      "NULOS\n"
     ]
    },
    {
     "data": {
      "text/plain": [
       "Subject               0.0\n",
       "Assignment_Name       0.0\n",
       "Due_Date              0.0\n",
       "Status                0.0\n",
       "Grade_Feedback        0.0\n",
       "Guardian_Signature    0.0\n",
       "dtype: float64"
      ]
     },
     "metadata": {},
     "output_type": "display_data"
    },
    {
     "name": "stdout",
     "output_type": "stream",
     "text": [
      "____________________________\n",
      "DUPLICADOS\n"
     ]
    },
    {
     "data": {
      "text/plain": [
       "np.int64(0)"
      ]
     },
     "metadata": {},
     "output_type": "display_data"
    },
    {
     "name": "stdout",
     "output_type": "stream",
     "text": [
      "____________________________\n",
      "DESCRIBE\n"
     ]
    },
    {
     "data": {
      "text/html": [
       "<div>\n",
       "<style scoped>\n",
       "    .dataframe tbody tr th:only-of-type {\n",
       "        vertical-align: middle;\n",
       "    }\n",
       "\n",
       "    .dataframe tbody tr th {\n",
       "        vertical-align: top;\n",
       "    }\n",
       "\n",
       "    .dataframe thead th {\n",
       "        text-align: right;\n",
       "    }\n",
       "</style>\n",
       "<table border=\"1\" class=\"dataframe\">\n",
       "  <thead>\n",
       "    <tr style=\"text-align: right;\">\n",
       "      <th></th>\n",
       "      <th>count</th>\n",
       "      <th>unique</th>\n",
       "      <th>top</th>\n",
       "      <th>freq</th>\n",
       "    </tr>\n",
       "  </thead>\n",
       "  <tbody>\n",
       "    <tr>\n",
       "      <th>Subject</th>\n",
       "      <td>60780</td>\n",
       "      <td>6</td>\n",
       "      <td>English</td>\n",
       "      <td>10209</td>\n",
       "    </tr>\n",
       "    <tr>\n",
       "      <th>Assignment_Name</th>\n",
       "      <td>60780</td>\n",
       "      <td>56065</td>\n",
       "      <td>Also.</td>\n",
       "      <td>15</td>\n",
       "    </tr>\n",
       "    <tr>\n",
       "      <th>Due_Date</th>\n",
       "      <td>60780</td>\n",
       "      <td>366</td>\n",
       "      <td>2025-01-23</td>\n",
       "      <td>315</td>\n",
       "    </tr>\n",
       "    <tr>\n",
       "      <th>Status</th>\n",
       "      <td>60780</td>\n",
       "      <td>6</td>\n",
       "      <td>Done</td>\n",
       "      <td>10278</td>\n",
       "    </tr>\n",
       "    <tr>\n",
       "      <th>Grade_Feedback</th>\n",
       "      <td>60780</td>\n",
       "      <td>8</td>\n",
       "      <td>A+</td>\n",
       "      <td>7709</td>\n",
       "    </tr>\n",
       "    <tr>\n",
       "      <th>Guardian_Signature</th>\n",
       "      <td>60780</td>\n",
       "      <td>3</td>\n",
       "      <td>No</td>\n",
       "      <td>20372</td>\n",
       "    </tr>\n",
       "  </tbody>\n",
       "</table>\n",
       "</div>"
      ],
      "text/plain": [
       "                    count unique         top   freq\n",
       "Subject             60780      6     English  10209\n",
       "Assignment_Name     60780  56065       Also.     15\n",
       "Due_Date            60780    366  2025-01-23    315\n",
       "Status              60780      6       Done   10278\n",
       "Grade_Feedback      60780      8          A+   7709\n",
       "Guardian_Signature  60780      3          No  20372"
      ]
     },
     "metadata": {},
     "output_type": "display_data"
    },
    {
     "name": "stdout",
     "output_type": "stream",
     "text": [
      "____________________________\n",
      "DESCRIBE COLUMNAS OBJECT\n"
     ]
    },
    {
     "data": {
      "text/html": [
       "<div>\n",
       "<style scoped>\n",
       "    .dataframe tbody tr th:only-of-type {\n",
       "        vertical-align: middle;\n",
       "    }\n",
       "\n",
       "    .dataframe tbody tr th {\n",
       "        vertical-align: top;\n",
       "    }\n",
       "\n",
       "    .dataframe thead th {\n",
       "        text-align: right;\n",
       "    }\n",
       "</style>\n",
       "<table border=\"1\" class=\"dataframe\">\n",
       "  <thead>\n",
       "    <tr style=\"text-align: right;\">\n",
       "      <th></th>\n",
       "      <th>count</th>\n",
       "      <th>unique</th>\n",
       "      <th>top</th>\n",
       "      <th>freq</th>\n",
       "    </tr>\n",
       "  </thead>\n",
       "  <tbody>\n",
       "    <tr>\n",
       "      <th>Subject</th>\n",
       "      <td>60780</td>\n",
       "      <td>6</td>\n",
       "      <td>English</td>\n",
       "      <td>10209</td>\n",
       "    </tr>\n",
       "    <tr>\n",
       "      <th>Assignment_Name</th>\n",
       "      <td>60780</td>\n",
       "      <td>56065</td>\n",
       "      <td>Also.</td>\n",
       "      <td>15</td>\n",
       "    </tr>\n",
       "    <tr>\n",
       "      <th>Due_Date</th>\n",
       "      <td>60780</td>\n",
       "      <td>366</td>\n",
       "      <td>2025-01-23</td>\n",
       "      <td>315</td>\n",
       "    </tr>\n",
       "    <tr>\n",
       "      <th>Status</th>\n",
       "      <td>60780</td>\n",
       "      <td>6</td>\n",
       "      <td>Done</td>\n",
       "      <td>10278</td>\n",
       "    </tr>\n",
       "    <tr>\n",
       "      <th>Grade_Feedback</th>\n",
       "      <td>60780</td>\n",
       "      <td>8</td>\n",
       "      <td>A+</td>\n",
       "      <td>7709</td>\n",
       "    </tr>\n",
       "    <tr>\n",
       "      <th>Guardian_Signature</th>\n",
       "      <td>60780</td>\n",
       "      <td>3</td>\n",
       "      <td>No</td>\n",
       "      <td>20372</td>\n",
       "    </tr>\n",
       "  </tbody>\n",
       "</table>\n",
       "</div>"
      ],
      "text/plain": [
       "                    count unique         top   freq\n",
       "Subject             60780      6     English  10209\n",
       "Assignment_Name     60780  56065       Also.     15\n",
       "Due_Date            60780    366  2025-01-23    315\n",
       "Status              60780      6       Done   10278\n",
       "Grade_Feedback      60780      8          A+   7709\n",
       "Guardian_Signature  60780      3          No  20372"
      ]
     },
     "metadata": {},
     "output_type": "display_data"
    },
    {
     "name": "stdout",
     "output_type": "stream",
     "text": [
      "____________________________\n",
      "VALUE COUNTS\n",
      "Subject\n",
      "English      10209\n",
      "Geography    10179\n",
      "Science      10112\n",
      "History      10110\n",
      "Arabic       10106\n",
      "Math         10064\n",
      "Name: count, dtype: int64\n",
      "Assignment_Name\n",
      "Also.                      15\n",
      "Term.                      15\n",
      "Understand.                13\n",
      "Not.                       13\n",
      "Eye.                       12\n",
      "                           ..\n",
      "Effect job amount.          1\n",
      "Study indicate fight.       1\n",
      "Reach whose investment.     1\n",
      "Suggest figure.             1\n",
      "Involve determine.          1\n",
      "Name: count, Length: 56065, dtype: int64\n",
      "Due_Date\n",
      "2025-01-23    315\n",
      "2025-03-02    302\n",
      "2024-11-06    301\n",
      "2024-11-08    300\n",
      "2024-12-25    299\n",
      "             ... \n",
      "11/04/2024     52\n",
      "10/13/2024     51\n",
      "12/21/2024     50\n",
      "11/22/2024     50\n",
      "03/01/2025     46\n",
      "Name: count, Length: 366, dtype: int64\n",
      "Status\n",
      " Done       10278\n",
      "not done    10234\n",
      "❌           10151\n",
      "✔           10090\n",
      "pending     10014\n",
      "✅           10013\n",
      "Name: count, dtype: int64\n",
      "Grade_Feedback\n",
      "A+    7709\n",
      "B-    7639\n",
      "D     7631\n",
      "B     7591\n",
      "F     7586\n",
      "C     7585\n",
      "A     7533\n",
      "C-    7506\n",
      "Name: count, dtype: int64\n",
      "Guardian_Signature\n",
      "No     20372\n",
      "Yes    20348\n",
      "       20060\n",
      "Name: count, dtype: int64\n",
      "____________________________\n"
     ]
    }
   ],
   "source": [
    "#Ver dataframe 'df_homework'\n",
    "df_hw_preliminar =  sp.eda_preliminar(df_homework)\n",
    "df_hw_preliminar"
   ]
  },
  {
   "cell_type": "code",
   "execution_count": 385,
   "id": "e31cb3d5",
   "metadata": {},
   "outputs": [
    {
     "data": {
      "text/html": [
       "<div>\n",
       "<style scoped>\n",
       "    .dataframe tbody tr th:only-of-type {\n",
       "        vertical-align: middle;\n",
       "    }\n",
       "\n",
       "    .dataframe tbody tr th {\n",
       "        vertical-align: top;\n",
       "    }\n",
       "\n",
       "    .dataframe thead th {\n",
       "        text-align: right;\n",
       "    }\n",
       "</style>\n",
       "<table border=\"1\" class=\"dataframe\">\n",
       "  <thead>\n",
       "    <tr style=\"text-align: right;\">\n",
       "      <th></th>\n",
       "      <th>subject</th>\n",
       "      <th>assignment_name</th>\n",
       "      <th>due_date</th>\n",
       "      <th>status</th>\n",
       "      <th>grade_feedback</th>\n",
       "      <th>guardian_signature</th>\n",
       "    </tr>\n",
       "    <tr>\n",
       "      <th>student_id</th>\n",
       "      <th></th>\n",
       "      <th></th>\n",
       "      <th></th>\n",
       "      <th></th>\n",
       "      <th></th>\n",
       "      <th></th>\n",
       "    </tr>\n",
       "  </thead>\n",
       "  <tbody>\n",
       "    <tr>\n",
       "      <th>s09733</th>\n",
       "      <td>history</td>\n",
       "      <td>choice myself story.</td>\n",
       "      <td>2025-01-13</td>\n",
       "      <td>✔</td>\n",
       "      <td>c</td>\n",
       "      <td>yes</td>\n",
       "    </tr>\n",
       "    <tr>\n",
       "      <th>s09709</th>\n",
       "      <td>science</td>\n",
       "      <td>democrat national determine.</td>\n",
       "      <td>2024-11-26</td>\n",
       "      <td>not done</td>\n",
       "      <td>b</td>\n",
       "      <td></td>\n",
       "    </tr>\n",
       "    <tr>\n",
       "      <th>s08789</th>\n",
       "      <td>math</td>\n",
       "      <td>safe lawyer decision.</td>\n",
       "      <td>2024-10-07</td>\n",
       "      <td>✔</td>\n",
       "      <td>d</td>\n",
       "      <td>no</td>\n",
       "    </tr>\n",
       "    <tr>\n",
       "      <th>s09577</th>\n",
       "      <td>arabic</td>\n",
       "      <td>professor ground.</td>\n",
       "      <td>03/06/2025</td>\n",
       "      <td>not done</td>\n",
       "      <td>b</td>\n",
       "      <td>yes</td>\n",
       "    </tr>\n",
       "    <tr>\n",
       "      <th>s02597</th>\n",
       "      <td>math</td>\n",
       "      <td>education improve always.</td>\n",
       "      <td>2024-11-13</td>\n",
       "      <td>not done</td>\n",
       "      <td>d</td>\n",
       "      <td>yes</td>\n",
       "    </tr>\n",
       "    <tr>\n",
       "      <th>s02580</th>\n",
       "      <td>english</td>\n",
       "      <td>once soldier director sure.</td>\n",
       "      <td>2024-09-17</td>\n",
       "      <td>✔</td>\n",
       "      <td>c-</td>\n",
       "      <td></td>\n",
       "    </tr>\n",
       "    <tr>\n",
       "      <th>s11736</th>\n",
       "      <td>math</td>\n",
       "      <td>despite white reach finally.</td>\n",
       "      <td>2025-03-08</td>\n",
       "      <td>pending</td>\n",
       "      <td>c-</td>\n",
       "      <td>no</td>\n",
       "    </tr>\n",
       "    <tr>\n",
       "      <th>s03352</th>\n",
       "      <td>science</td>\n",
       "      <td>just second.</td>\n",
       "      <td>2024-12-17</td>\n",
       "      <td>done</td>\n",
       "      <td>f</td>\n",
       "      <td>yes</td>\n",
       "    </tr>\n",
       "    <tr>\n",
       "      <th>s11301</th>\n",
       "      <td>science</td>\n",
       "      <td>party lot rest.</td>\n",
       "      <td>2024-10-04</td>\n",
       "      <td>pending</td>\n",
       "      <td>f</td>\n",
       "      <td>no</td>\n",
       "    </tr>\n",
       "    <tr>\n",
       "      <th>s08437</th>\n",
       "      <td>arabic</td>\n",
       "      <td>together today.</td>\n",
       "      <td>2024-09-25</td>\n",
       "      <td>✔</td>\n",
       "      <td>c</td>\n",
       "      <td>no</td>\n",
       "    </tr>\n",
       "  </tbody>\n",
       "</table>\n",
       "</div>"
      ],
      "text/plain": [
       "            subject               assignment_name    due_date    status  \\\n",
       "student_id                                                                \n",
       "s09733      history          choice myself story.  2025-01-13         ✔   \n",
       "s09709      science  democrat national determine.  2024-11-26  not done   \n",
       "s08789         math         safe lawyer decision.  2024-10-07         ✔   \n",
       "s09577       arabic             professor ground.  03/06/2025  not done   \n",
       "s02597         math     education improve always.  2024-11-13  not done   \n",
       "s02580      english   once soldier director sure.  2024-09-17         ✔   \n",
       "s11736         math  despite white reach finally.  2025-03-08   pending   \n",
       "s03352      science                  just second.  2024-12-17      done   \n",
       "s11301      science               party lot rest.  2024-10-04   pending   \n",
       "s08437       arabic               together today.  2024-09-25         ✔   \n",
       "\n",
       "           grade_feedback guardian_signature  \n",
       "student_id                                    \n",
       "s09733                  c                yes  \n",
       "s09709                  b                     \n",
       "s08789                  d                 no  \n",
       "s09577                  b                yes  \n",
       "s02597                  d                yes  \n",
       "s02580                 c-                     \n",
       "s11736                 c-                 no  \n",
       "s03352                  f                yes  \n",
       "s11301                  f                 no  \n",
       "s08437                  c                 no  "
      ]
     },
     "execution_count": 385,
     "metadata": {},
     "output_type": "execute_result"
    }
   ],
   "source": [
    "#Pasar dataframe a minusculas\n",
    "df_homework = sp.valores_a_minus(df_homework)\n",
    "df_homework.sample(10)"
   ]
  },
  {
   "cell_type": "code",
   "execution_count": 386,
   "id": "7d7a36ff",
   "metadata": {},
   "outputs": [
    {
     "name": "stdout",
     "output_type": "stream",
     "text": [
      "<class 'pandas.core.frame.DataFrame'>\n",
      "Index: 60780 entries, s12002 to s08589\n",
      "Data columns (total 6 columns):\n",
      " #   Column              Non-Null Count  Dtype         \n",
      "---  ------              --------------  -----         \n",
      " 0   subject             60780 non-null  object        \n",
      " 1   assignment_name     60780 non-null  object        \n",
      " 2   due_date            48422 non-null  datetime64[ns]\n",
      " 3   status              60780 non-null  object        \n",
      " 4   grade_feedback      60780 non-null  object        \n",
      " 5   guardian_signature  60780 non-null  object        \n",
      "dtypes: datetime64[ns](1), object(5)\n",
      "memory usage: 3.2+ MB\n"
     ]
    }
   ],
   "source": [
    "#La columna 'due_date' tiene valores de fecha con diferentes formatos.\n",
    "# Hay que pasarlo a un formato y asignalo como de tipo datetime.\n",
    "\n",
    "df_homework['due_date'] = pd.to_datetime(df_homework['due_date'], errors='coerce')\n",
    "df_homework.info()\n"
   ]
  },
  {
   "cell_type": "code",
   "execution_count": 387,
   "id": "8d4b4731",
   "metadata": {},
   "outputs": [
    {
     "data": {
      "text/html": [
       "<div>\n",
       "<style scoped>\n",
       "    .dataframe tbody tr th:only-of-type {\n",
       "        vertical-align: middle;\n",
       "    }\n",
       "\n",
       "    .dataframe tbody tr th {\n",
       "        vertical-align: top;\n",
       "    }\n",
       "\n",
       "    .dataframe thead th {\n",
       "        text-align: right;\n",
       "    }\n",
       "</style>\n",
       "<table border=\"1\" class=\"dataframe\">\n",
       "  <thead>\n",
       "    <tr style=\"text-align: right;\">\n",
       "      <th></th>\n",
       "      <th>subject</th>\n",
       "      <th>assignment_name</th>\n",
       "      <th>due_date</th>\n",
       "      <th>status</th>\n",
       "      <th>grade_feedback</th>\n",
       "      <th>guardian_signature</th>\n",
       "    </tr>\n",
       "    <tr>\n",
       "      <th>student_id</th>\n",
       "      <th></th>\n",
       "      <th></th>\n",
       "      <th></th>\n",
       "      <th></th>\n",
       "      <th></th>\n",
       "      <th></th>\n",
       "    </tr>\n",
       "  </thead>\n",
       "  <tbody>\n",
       "    <tr>\n",
       "      <th>s07346</th>\n",
       "      <td>geography</td>\n",
       "      <td>speech sit.</td>\n",
       "      <td>2024-11-03</td>\n",
       "      <td>❌</td>\n",
       "      <td>a+</td>\n",
       "      <td></td>\n",
       "    </tr>\n",
       "    <tr>\n",
       "      <th>s11828</th>\n",
       "      <td>history</td>\n",
       "      <td>from tree other.</td>\n",
       "      <td>NaT</td>\n",
       "      <td>✅</td>\n",
       "      <td>d</td>\n",
       "      <td>no</td>\n",
       "    </tr>\n",
       "    <tr>\n",
       "      <th>s11259</th>\n",
       "      <td>english</td>\n",
       "      <td>son meeting use.</td>\n",
       "      <td>2024-12-25</td>\n",
       "      <td>✔</td>\n",
       "      <td>a+</td>\n",
       "      <td>no</td>\n",
       "    </tr>\n",
       "    <tr>\n",
       "      <th>s10843</th>\n",
       "      <td>english</td>\n",
       "      <td>scientist can easy.</td>\n",
       "      <td>2024-09-13</td>\n",
       "      <td>pending</td>\n",
       "      <td>b</td>\n",
       "      <td>no</td>\n",
       "    </tr>\n",
       "    <tr>\n",
       "      <th>s07766</th>\n",
       "      <td>arabic</td>\n",
       "      <td>take day seven.</td>\n",
       "      <td>2024-10-24</td>\n",
       "      <td>done</td>\n",
       "      <td>b</td>\n",
       "      <td>yes</td>\n",
       "    </tr>\n",
       "    <tr>\n",
       "      <th>s05069</th>\n",
       "      <td>science</td>\n",
       "      <td>difficult.</td>\n",
       "      <td>2025-01-25</td>\n",
       "      <td>✔</td>\n",
       "      <td>c</td>\n",
       "      <td>yes</td>\n",
       "    </tr>\n",
       "    <tr>\n",
       "      <th>s04942</th>\n",
       "      <td>arabic</td>\n",
       "      <td>phone down budget.</td>\n",
       "      <td>2025-02-13</td>\n",
       "      <td>not done</td>\n",
       "      <td>a+</td>\n",
       "      <td></td>\n",
       "    </tr>\n",
       "    <tr>\n",
       "      <th>s08837</th>\n",
       "      <td>science</td>\n",
       "      <td>place value.</td>\n",
       "      <td>2024-09-25</td>\n",
       "      <td>not done</td>\n",
       "      <td>c</td>\n",
       "      <td>no</td>\n",
       "    </tr>\n",
       "    <tr>\n",
       "      <th>s10174</th>\n",
       "      <td>math</td>\n",
       "      <td>expect happy address.</td>\n",
       "      <td>2025-03-03</td>\n",
       "      <td>✔</td>\n",
       "      <td>a+</td>\n",
       "      <td>no</td>\n",
       "    </tr>\n",
       "    <tr>\n",
       "      <th>s02805</th>\n",
       "      <td>arabic</td>\n",
       "      <td>dinner medical.</td>\n",
       "      <td>NaT</td>\n",
       "      <td>done</td>\n",
       "      <td>c-</td>\n",
       "      <td></td>\n",
       "    </tr>\n",
       "  </tbody>\n",
       "</table>\n",
       "</div>"
      ],
      "text/plain": [
       "              subject        assignment_name   due_date    status  \\\n",
       "student_id                                                          \n",
       "s07346      geography            speech sit. 2024-11-03         ❌   \n",
       "s11828        history       from tree other.        NaT         ✅   \n",
       "s11259        english       son meeting use. 2024-12-25         ✔   \n",
       "s10843        english    scientist can easy. 2024-09-13   pending   \n",
       "s07766         arabic        take day seven. 2024-10-24      done   \n",
       "s05069        science             difficult. 2025-01-25         ✔   \n",
       "s04942         arabic     phone down budget. 2025-02-13  not done   \n",
       "s08837        science           place value. 2024-09-25  not done   \n",
       "s10174           math  expect happy address. 2025-03-03         ✔   \n",
       "s02805         arabic        dinner medical.        NaT      done   \n",
       "\n",
       "           grade_feedback guardian_signature  \n",
       "student_id                                    \n",
       "s07346                 a+                     \n",
       "s11828                  d                 no  \n",
       "s11259                 a+                 no  \n",
       "s10843                  b                 no  \n",
       "s07766                  b                yes  \n",
       "s05069                  c                yes  \n",
       "s04942                 a+                     \n",
       "s08837                  c                 no  \n",
       "s10174                 a+                 no  \n",
       "s02805                 c-                     "
      ]
     },
     "execution_count": 387,
     "metadata": {},
     "output_type": "execute_result"
    }
   ],
   "source": [
    "df_homework.sample(10)"
   ]
  },
  {
   "cell_type": "code",
   "execution_count": null,
   "id": "9f81ecbc",
   "metadata": {},
   "outputs": [],
   "source": [
    "#Sacar nulos de la columna 'due_date' mediante funcion de sp.limpieza.py"
   ]
  },
  {
   "cell_type": "markdown",
   "id": "71b3f7b2",
   "metadata": {},
   "source": [
    "### 1.2. Eliminar columnas redundantes o irrelevantes"
   ]
  },
  {
   "cell_type": "markdown",
   "id": "e612d8f3",
   "metadata": {},
   "source": [
    "### 1.3. Homogeinizar los nombres de las columnas"
   ]
  },
  {
   "cell_type": "markdown",
   "id": "57d55d04",
   "metadata": {},
   "source": [
    "### 1.4. Homogeinizar datos categóricos"
   ]
  },
  {
   "cell_type": "markdown",
   "id": "9c90290b",
   "metadata": {},
   "source": [
    "### 1.5. Cambio tipo de datos y gestión de nulos"
   ]
  },
  {
   "cell_type": "markdown",
   "id": "5f8621fa",
   "metadata": {},
   "source": [
    "### 1.6. Combinar ambas tablas"
   ]
  },
  {
   "cell_type": "markdown",
   "id": "4c59e631",
   "metadata": {},
   "source": [
    "# 2. Análisis descriptivo de los datos"
   ]
  },
  {
   "cell_type": "markdown",
   "id": "dab9e80d",
   "metadata": {},
   "source": [
    "### 2.1. Resumen estadístico "
   ]
  },
  {
   "cell_type": "markdown",
   "id": "c59b72cb",
   "metadata": {},
   "source": [
    "# 3. Visualización de los datos."
   ]
  },
  {
   "cell_type": "markdown",
   "id": "663fddc4",
   "metadata": {},
   "source": [
    "### 3.1. Histogramas para la distribución de variables numéricas"
   ]
  },
  {
   "cell_type": "markdown",
   "id": "2e6c88d4",
   "metadata": {},
   "source": [
    "### 3.2. Boxplots para detectar outliers"
   ]
  },
  {
   "cell_type": "markdown",
   "id": "e9f9c089",
   "metadata": {},
   "source": [
    "### 3.3. Gráficos de barras para variables categóricas"
   ]
  },
  {
   "cell_type": "markdown",
   "id": "fa4823f7",
   "metadata": {},
   "source": [
    "### 3.4. Heatmap de correlaciones"
   ]
  },
  {
   "cell_type": "markdown",
   "id": "ed85cf4d",
   "metadata": {},
   "source": [
    "# 4. Guardar archivos limpios"
   ]
  }
 ],
 "metadata": {
  "kernelspec": {
   "display_name": "venv",
   "language": "python",
   "name": "python3"
  },
  "language_info": {
   "codemirror_mode": {
    "name": "ipython",
    "version": 3
   },
   "file_extension": ".py",
   "mimetype": "text/x-python",
   "name": "python",
   "nbconvert_exporter": "python",
   "pygments_lexer": "ipython3",
   "version": "3.13.1"
  }
 },
 "nbformat": 4,
 "nbformat_minor": 5
}
