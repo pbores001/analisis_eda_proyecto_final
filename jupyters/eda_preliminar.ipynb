{
 "cells": [
  {
   "cell_type": "markdown",
   "id": "46334f86",
   "metadata": {},
   "source": [
    "# Analisis preliminar del conjunto de datos"
   ]
  },
  {
   "cell_type": "code",
   "execution_count": 1,
   "id": "aed0dab2",
   "metadata": {},
   "outputs": [],
   "source": [
    "#Importaciones\n",
    "import pandas as pd\n",
    "import numpy as np\n",
    "\n",
    "#Para llamar a archivos de otras carpetas\n",
    "import sys\n",
    "sys.path.append('..')\n",
    "\n",
    "#importar la función reduce para pode rusarla\n",
    "from functools import reduce\n",
    "\n",
    "#Visualizar todas las columnas\n",
    "pd.set_option('display.max_columns', None)\n"
   ]
  },
  {
   "cell_type": "code",
   "execution_count": 2,
   "id": "203e8eaf",
   "metadata": {},
   "outputs": [
    {
     "data": {
      "text/plain": [
       "<module 'src.sp_limpieza' from 'c:\\\\Users\\\\pooo_\\\\Desktop\\\\Hackio\\\\proyecto_final_troncal\\\\analisis_eda_proyecto_final\\\\jupyters\\\\..\\\\src\\\\sp_limpieza.py'>"
      ]
     },
     "execution_count": 2,
     "metadata": {},
     "output_type": "execute_result"
    }
   ],
   "source": [
    "#Después importamos el archivo de funciones ('sp_limpieza.py') \n",
    "import src.sp_limpieza as sp\n",
    "#Importamos importlib para poder recargar el módulo y reflejar los cambios actualizados\n",
    "import importlib  \n",
    "importlib.reload(sp) "
   ]
  },
  {
   "cell_type": "code",
   "execution_count": 3,
   "id": "e7e56ebc",
   "metadata": {},
   "outputs": [
    {
     "name": "stdout",
     "output_type": "stream",
     "text": [
      "c:\\Users\\pooo_\\Desktop\\Hackio\\proyecto_final_troncal\\analisis_eda_proyecto_final\\jupyters\n"
     ]
    }
   ],
   "source": [
    "#Para interactuar con el sistema operativo\n",
    "import os\n",
    "#Devuelve la ruta del directorio actual\n",
    "print(os.getcwd())"
   ]
  },
  {
   "cell_type": "code",
   "execution_count": 4,
   "id": "432f58b4",
   "metadata": {},
   "outputs": [],
   "source": [
    "#Librerías visualización de gráficos\n",
    "import matplotlib.pyplot as plt\n",
    "import seaborn as sns"
   ]
  },
  {
   "cell_type": "markdown",
   "id": "7d10973e",
   "metadata": {},
   "source": [
    "# 1. Transformación y limpieza de datos"
   ]
  },
  {
   "cell_type": "markdown",
   "id": "5e80ba84",
   "metadata": {},
   "source": [
    "### 1.1. Importación de los datos"
   ]
  },
  {
   "cell_type": "code",
   "execution_count": 5,
   "id": "9860efbb",
   "metadata": {},
   "outputs": [],
   "source": [
    "#Leer los archivos\n",
    "df_attendance = pd.read_csv(\"../data/data_raw/attendance.csv\", index_col = 0)\n",
    "df_homework = pd.read_csv(\"../data/data_raw/homework.csv\", index_col = 0)\n",
    "df_performance = pd.read_csv(\"../data/data_raw/performance.csv\", index_col = 0)\n",
    "df_students = pd.read_csv(\"../data/data_raw/students.csv\", index_col = 0)\n",
    "df_communication = pd.read_csv(\"../data/data_raw/communication.csv\", index_col = 0)"
   ]
  },
  {
   "cell_type": "markdown",
   "id": "8b070290",
   "metadata": {},
   "source": [
    "### 1.2. Limpieza y transformación de los datos\n"
   ]
  },
  {
   "cell_type": "code",
   "execution_count": 6,
   "id": "60c0b871",
   "metadata": {},
   "outputs": [
    {
     "data": {
      "text/html": [
       "<div>\n",
       "<style scoped>\n",
       "    .dataframe tbody tr th:only-of-type {\n",
       "        vertical-align: middle;\n",
       "    }\n",
       "\n",
       "    .dataframe tbody tr th {\n",
       "        vertical-align: top;\n",
       "    }\n",
       "\n",
       "    .dataframe thead th {\n",
       "        text-align: right;\n",
       "    }\n",
       "</style>\n",
       "<table border=\"1\" class=\"dataframe\">\n",
       "  <thead>\n",
       "    <tr style=\"text-align: right;\">\n",
       "      <th></th>\n",
       "      <th>Date</th>\n",
       "      <th>Subject</th>\n",
       "      <th>Attendance_Status</th>\n",
       "    </tr>\n",
       "    <tr>\n",
       "      <th>Student_ID</th>\n",
       "      <th></th>\n",
       "      <th></th>\n",
       "      <th></th>\n",
       "    </tr>\n",
       "  </thead>\n",
       "  <tbody>\n",
       "    <tr>\n",
       "      <th>S07502</th>\n",
       "      <td>2024-07-06</td>\n",
       "      <td>Geography</td>\n",
       "      <td>late</td>\n",
       "    </tr>\n",
       "    <tr>\n",
       "      <th>S04501</th>\n",
       "      <td>2024-05-26</td>\n",
       "      <td>English</td>\n",
       "      <td>late</td>\n",
       "    </tr>\n",
       "    <tr>\n",
       "      <th>S01326</th>\n",
       "      <td>2024-12-07</td>\n",
       "      <td>English</td>\n",
       "      <td>absnt</td>\n",
       "    </tr>\n",
       "    <tr>\n",
       "      <th>S07138</th>\n",
       "      <td>2024-04-14</td>\n",
       "      <td>English</td>\n",
       "      <td>excused</td>\n",
       "    </tr>\n",
       "    <tr>\n",
       "      <th>S10921</th>\n",
       "      <td>2024-12-03</td>\n",
       "      <td>Geography</td>\n",
       "      <td>excused</td>\n",
       "    </tr>\n",
       "  </tbody>\n",
       "</table>\n",
       "</div>"
      ],
      "text/plain": [
       "                  Date    Subject Attendance_Status\n",
       "Student_ID                                         \n",
       "S07502      2024-07-06  Geography              late\n",
       "S04501      2024-05-26    English              late\n",
       "S01326      2024-12-07    English             absnt\n",
       "S07138      2024-04-14    English           excused\n",
       "S10921      2024-12-03  Geography           excused"
      ]
     },
     "metadata": {},
     "output_type": "display_data"
    },
    {
     "name": "stdout",
     "output_type": "stream",
     "text": [
      "____________________________\n",
      "INFO\n",
      "<class 'pandas.core.frame.DataFrame'>\n",
      "Index: 364680 entries, S06592 to S12134\n",
      "Data columns (total 3 columns):\n",
      " #   Column             Non-Null Count   Dtype \n",
      "---  ------             --------------   ----- \n",
      " 0   Date               364680 non-null  object\n",
      " 1   Subject            364680 non-null  object\n",
      " 2   Attendance_Status  364680 non-null  object\n",
      "dtypes: object(3)\n",
      "memory usage: 11.1+ MB\n"
     ]
    },
    {
     "data": {
      "text/plain": [
       "None"
      ]
     },
     "metadata": {},
     "output_type": "display_data"
    },
    {
     "name": "stdout",
     "output_type": "stream",
     "text": [
      "____________________________\n",
      "NULOS\n"
     ]
    },
    {
     "data": {
      "text/plain": [
       "Date                 0.0\n",
       "Subject              0.0\n",
       "Attendance_Status    0.0\n",
       "dtype: float64"
      ]
     },
     "metadata": {},
     "output_type": "display_data"
    },
    {
     "name": "stdout",
     "output_type": "stream",
     "text": [
      "____________________________\n",
      "DUPLICADOS\n"
     ]
    },
    {
     "data": {
      "text/plain": [
       "np.int64(347112)"
      ]
     },
     "metadata": {},
     "output_type": "display_data"
    },
    {
     "name": "stdout",
     "output_type": "stream",
     "text": [
      "____________________________\n",
      "DESCRIBE\n"
     ]
    },
    {
     "data": {
      "text/html": [
       "<div>\n",
       "<style scoped>\n",
       "    .dataframe tbody tr th:only-of-type {\n",
       "        vertical-align: middle;\n",
       "    }\n",
       "\n",
       "    .dataframe tbody tr th {\n",
       "        vertical-align: top;\n",
       "    }\n",
       "\n",
       "    .dataframe thead th {\n",
       "        text-align: right;\n",
       "    }\n",
       "</style>\n",
       "<table border=\"1\" class=\"dataframe\">\n",
       "  <thead>\n",
       "    <tr style=\"text-align: right;\">\n",
       "      <th></th>\n",
       "      <th>count</th>\n",
       "      <th>unique</th>\n",
       "      <th>top</th>\n",
       "      <th>freq</th>\n",
       "    </tr>\n",
       "  </thead>\n",
       "  <tbody>\n",
       "    <tr>\n",
       "      <th>Date</th>\n",
       "      <td>364680</td>\n",
       "      <td>366</td>\n",
       "      <td>2024-12-31</td>\n",
       "      <td>1075</td>\n",
       "    </tr>\n",
       "    <tr>\n",
       "      <th>Subject</th>\n",
       "      <td>364680</td>\n",
       "      <td>6</td>\n",
       "      <td>Math</td>\n",
       "      <td>61241</td>\n",
       "    </tr>\n",
       "    <tr>\n",
       "      <th>Attendance_Status</th>\n",
       "      <td>364680</td>\n",
       "      <td>8</td>\n",
       "      <td>PRESENT</td>\n",
       "      <td>45982</td>\n",
       "    </tr>\n",
       "  </tbody>\n",
       "</table>\n",
       "</div>"
      ],
      "text/plain": [
       "                    count unique         top   freq\n",
       "Date               364680    366  2024-12-31   1075\n",
       "Subject            364680      6        Math  61241\n",
       "Attendance_Status  364680      8    PRESENT   45982"
      ]
     },
     "metadata": {},
     "output_type": "display_data"
    },
    {
     "name": "stdout",
     "output_type": "stream",
     "text": [
      "____________________________\n",
      "DESCRIBE COLUMNAS OBJECT\n"
     ]
    },
    {
     "data": {
      "text/html": [
       "<div>\n",
       "<style scoped>\n",
       "    .dataframe tbody tr th:only-of-type {\n",
       "        vertical-align: middle;\n",
       "    }\n",
       "\n",
       "    .dataframe tbody tr th {\n",
       "        vertical-align: top;\n",
       "    }\n",
       "\n",
       "    .dataframe thead th {\n",
       "        text-align: right;\n",
       "    }\n",
       "</style>\n",
       "<table border=\"1\" class=\"dataframe\">\n",
       "  <thead>\n",
       "    <tr style=\"text-align: right;\">\n",
       "      <th></th>\n",
       "      <th>count</th>\n",
       "      <th>unique</th>\n",
       "      <th>top</th>\n",
       "      <th>freq</th>\n",
       "    </tr>\n",
       "  </thead>\n",
       "  <tbody>\n",
       "    <tr>\n",
       "      <th>Date</th>\n",
       "      <td>364680</td>\n",
       "      <td>366</td>\n",
       "      <td>2024-12-31</td>\n",
       "      <td>1075</td>\n",
       "    </tr>\n",
       "    <tr>\n",
       "      <th>Subject</th>\n",
       "      <td>364680</td>\n",
       "      <td>6</td>\n",
       "      <td>Math</td>\n",
       "      <td>61241</td>\n",
       "    </tr>\n",
       "    <tr>\n",
       "      <th>Attendance_Status</th>\n",
       "      <td>364680</td>\n",
       "      <td>8</td>\n",
       "      <td>PRESENT</td>\n",
       "      <td>45982</td>\n",
       "    </tr>\n",
       "  </tbody>\n",
       "</table>\n",
       "</div>"
      ],
      "text/plain": [
       "                    count unique         top   freq\n",
       "Date               364680    366  2024-12-31   1075\n",
       "Subject            364680      6        Math  61241\n",
       "Attendance_Status  364680      8    PRESENT   45982"
      ]
     },
     "metadata": {},
     "output_type": "display_data"
    },
    {
     "name": "stdout",
     "output_type": "stream",
     "text": [
      "____________________________\n",
      "VALUE COUNTS\n",
      "Date\n",
      "2024-12-31    1075\n",
      "2024-05-05    1073\n",
      "2024-09-06    1070\n",
      "2024-08-06    1068\n",
      "2024-09-22    1068\n",
      "              ... \n",
      "2024-12-25     922\n",
      "2024-05-09     921\n",
      "2024-03-31     919\n",
      "2024-12-07     917\n",
      "2024-04-21     905\n",
      "Name: count, Length: 366, dtype: int64\n",
      "Subject\n",
      "Math         61241\n",
      "Science      60881\n",
      "Arabic       60749\n",
      "English      60684\n",
      "Geography    60640\n",
      "History      60485\n",
      "Name: count, dtype: int64\n",
      "Attendance_Status\n",
      "PRESENT       45982\n",
      "Absent        45751\n",
      "Present       45632\n",
      "Late          45509\n",
      " late         45508\n",
      "absnt         45478\n",
      "left early    45435\n",
      "excused       45385\n",
      "Name: count, dtype: int64\n",
      "____________________________\n"
     ]
    }
   ],
   "source": [
    "#Ver dataframe 'df_attendace'\n",
    "df_att_preliminar =  sp.eda_preliminar(df_attendance)"
   ]
  },
  {
   "cell_type": "code",
   "execution_count": 7,
   "id": "616ca7b0",
   "metadata": {},
   "outputs": [
    {
     "data": {
      "text/html": [
       "<div>\n",
       "<style scoped>\n",
       "    .dataframe tbody tr th:only-of-type {\n",
       "        vertical-align: middle;\n",
       "    }\n",
       "\n",
       "    .dataframe tbody tr th {\n",
       "        vertical-align: top;\n",
       "    }\n",
       "\n",
       "    .dataframe thead th {\n",
       "        text-align: right;\n",
       "    }\n",
       "</style>\n",
       "<table border=\"1\" class=\"dataframe\">\n",
       "  <thead>\n",
       "    <tr style=\"text-align: right;\">\n",
       "      <th></th>\n",
       "      <th>date</th>\n",
       "      <th>subject</th>\n",
       "      <th>attendance_status</th>\n",
       "    </tr>\n",
       "    <tr>\n",
       "      <th>student_id</th>\n",
       "      <th></th>\n",
       "      <th></th>\n",
       "      <th></th>\n",
       "    </tr>\n",
       "  </thead>\n",
       "  <tbody>\n",
       "    <tr>\n",
       "      <th>s05970</th>\n",
       "      <td>2024-03-20</td>\n",
       "      <td>geography</td>\n",
       "      <td>excused</td>\n",
       "    </tr>\n",
       "    <tr>\n",
       "      <th>s03457</th>\n",
       "      <td>2024-06-13</td>\n",
       "      <td>science</td>\n",
       "      <td>present</td>\n",
       "    </tr>\n",
       "    <tr>\n",
       "      <th>s11674</th>\n",
       "      <td>2025-03-02</td>\n",
       "      <td>geography</td>\n",
       "      <td>late</td>\n",
       "    </tr>\n",
       "    <tr>\n",
       "      <th>s08273</th>\n",
       "      <td>2024-05-26</td>\n",
       "      <td>english</td>\n",
       "      <td>present</td>\n",
       "    </tr>\n",
       "    <tr>\n",
       "      <th>s04294</th>\n",
       "      <td>2024-09-12</td>\n",
       "      <td>arabic</td>\n",
       "      <td>absent</td>\n",
       "    </tr>\n",
       "    <tr>\n",
       "      <th>s04310</th>\n",
       "      <td>2024-08-20</td>\n",
       "      <td>history</td>\n",
       "      <td>absent</td>\n",
       "    </tr>\n",
       "    <tr>\n",
       "      <th>s00647</th>\n",
       "      <td>2024-06-19</td>\n",
       "      <td>history</td>\n",
       "      <td>present</td>\n",
       "    </tr>\n",
       "    <tr>\n",
       "      <th>s05994</th>\n",
       "      <td>2025-02-11</td>\n",
       "      <td>geography</td>\n",
       "      <td>absent</td>\n",
       "    </tr>\n",
       "    <tr>\n",
       "      <th>s00894</th>\n",
       "      <td>2024-07-21</td>\n",
       "      <td>english</td>\n",
       "      <td>left early</td>\n",
       "    </tr>\n",
       "    <tr>\n",
       "      <th>s09899</th>\n",
       "      <td>2025-02-22</td>\n",
       "      <td>science</td>\n",
       "      <td>absnt</td>\n",
       "    </tr>\n",
       "  </tbody>\n",
       "</table>\n",
       "</div>"
      ],
      "text/plain": [
       "                  date    subject attendance_status\n",
       "student_id                                         \n",
       "s05970      2024-03-20  geography           excused\n",
       "s03457      2024-06-13    science           present\n",
       "s11674      2025-03-02  geography              late\n",
       "s08273      2024-05-26    english           present\n",
       "s04294      2024-09-12     arabic            absent\n",
       "s04310      2024-08-20    history            absent\n",
       "s00647      2024-06-19    history           present\n",
       "s05994      2025-02-11  geography            absent\n",
       "s00894      2024-07-21    english        left early\n",
       "s09899      2025-02-22    science             absnt"
      ]
     },
     "execution_count": 7,
     "metadata": {},
     "output_type": "execute_result"
    }
   ],
   "source": [
    "#Quitar los espacios y pasar a misnuculas las tabla\n",
    "df_attendance = sp.valores_a_minus(df_attendance)\n",
    "df_attendance.sample(10)"
   ]
  },
  {
   "cell_type": "code",
   "execution_count": 8,
   "id": "85d81c78",
   "metadata": {},
   "outputs": [
    {
     "data": {
      "text/plain": [
       "attendance_status\n",
       "present       91614\n",
       "late          91017\n",
       "absent        45751\n",
       "absnt         45478\n",
       "left early    45435\n",
       "excused       45385\n",
       "Name: count, dtype: int64"
      ]
     },
     "execution_count": 8,
     "metadata": {},
     "output_type": "execute_result"
    }
   ],
   "source": [
    "#Ver en la columna attendance_status que valores tiene.\n",
    "conteo = df_attendance['attendance_status'].value_counts()\n",
    "conteo"
   ]
  },
  {
   "cell_type": "code",
   "execution_count": 9,
   "id": "271a7f8e",
   "metadata": {},
   "outputs": [
    {
     "data": {
      "text/plain": [
       "attendance_status\n",
       "present       91614\n",
       "absent        91229\n",
       "late          91017\n",
       "left early    45435\n",
       "excused       45385\n",
       "Name: count, dtype: int64"
      ]
     },
     "execution_count": 9,
     "metadata": {},
     "output_type": "execute_result"
    }
   ],
   "source": [
    "#Corregimos el valor 'absnt' por 'absent' y comprobamos los resultados de la columna\n",
    "df_attendance['attendance_status'] = df_attendance['attendance_status'].replace('absnt','absent')\n",
    "\n",
    "conteo = df_attendance['attendance_status'].value_counts()\n",
    "conteo\n",
    "#Ya tenemos los valores de esta columna corregidos."
   ]
  },
  {
   "cell_type": "code",
   "execution_count": 10,
   "id": "0d732a2f",
   "metadata": {},
   "outputs": [],
   "source": [
    "#Cambiar nombre de columna 'date' para hacerla mas descriptiva y 'attendace_status' para hacerla mas corta.\n",
    "df_attendance.rename(columns={'date':'att_date', 'attendance_status':'att_status'}, inplace= True)"
   ]
  },
  {
   "cell_type": "code",
   "execution_count": 11,
   "id": "2becc474",
   "metadata": {},
   "outputs": [
    {
     "name": "stdout",
     "output_type": "stream",
     "text": [
      "Columna 'att_date' convertida a datetime con formato %Y-%m-%d.\n"
     ]
    },
    {
     "data": {
      "text/html": [
       "<div>\n",
       "<style scoped>\n",
       "    .dataframe tbody tr th:only-of-type {\n",
       "        vertical-align: middle;\n",
       "    }\n",
       "\n",
       "    .dataframe tbody tr th {\n",
       "        vertical-align: top;\n",
       "    }\n",
       "\n",
       "    .dataframe thead th {\n",
       "        text-align: right;\n",
       "    }\n",
       "</style>\n",
       "<table border=\"1\" class=\"dataframe\">\n",
       "  <thead>\n",
       "    <tr style=\"text-align: right;\">\n",
       "      <th></th>\n",
       "      <th>att_date</th>\n",
       "      <th>subject</th>\n",
       "      <th>att_status</th>\n",
       "    </tr>\n",
       "    <tr>\n",
       "      <th>student_id</th>\n",
       "      <th></th>\n",
       "      <th></th>\n",
       "      <th></th>\n",
       "    </tr>\n",
       "  </thead>\n",
       "  <tbody>\n",
       "    <tr>\n",
       "      <th>s05779</th>\n",
       "      <td>2024-05-06</td>\n",
       "      <td>science</td>\n",
       "      <td>left early</td>\n",
       "    </tr>\n",
       "    <tr>\n",
       "      <th>s00038</th>\n",
       "      <td>2025-01-22</td>\n",
       "      <td>history</td>\n",
       "      <td>left early</td>\n",
       "    </tr>\n",
       "    <tr>\n",
       "      <th>s10921</th>\n",
       "      <td>2024-12-03</td>\n",
       "      <td>geography</td>\n",
       "      <td>excused</td>\n",
       "    </tr>\n",
       "    <tr>\n",
       "      <th>s09572</th>\n",
       "      <td>2024-03-23</td>\n",
       "      <td>english</td>\n",
       "      <td>late</td>\n",
       "    </tr>\n",
       "    <tr>\n",
       "      <th>s02851</th>\n",
       "      <td>2024-04-08</td>\n",
       "      <td>geography</td>\n",
       "      <td>left early</td>\n",
       "    </tr>\n",
       "    <tr>\n",
       "      <th>s04774</th>\n",
       "      <td>2025-02-03</td>\n",
       "      <td>english</td>\n",
       "      <td>present</td>\n",
       "    </tr>\n",
       "    <tr>\n",
       "      <th>s10569</th>\n",
       "      <td>2024-06-19</td>\n",
       "      <td>english</td>\n",
       "      <td>absent</td>\n",
       "    </tr>\n",
       "    <tr>\n",
       "      <th>s01623</th>\n",
       "      <td>2024-12-06</td>\n",
       "      <td>english</td>\n",
       "      <td>absent</td>\n",
       "    </tr>\n",
       "    <tr>\n",
       "      <th>s04742</th>\n",
       "      <td>2024-05-26</td>\n",
       "      <td>english</td>\n",
       "      <td>late</td>\n",
       "    </tr>\n",
       "    <tr>\n",
       "      <th>s09619</th>\n",
       "      <td>2025-01-06</td>\n",
       "      <td>geography</td>\n",
       "      <td>absent</td>\n",
       "    </tr>\n",
       "  </tbody>\n",
       "</table>\n",
       "</div>"
      ],
      "text/plain": [
       "             att_date    subject  att_status\n",
       "student_id                                  \n",
       "s05779     2024-05-06    science  left early\n",
       "s00038     2025-01-22    history  left early\n",
       "s10921     2024-12-03  geography     excused\n",
       "s09572     2024-03-23    english        late\n",
       "s02851     2024-04-08  geography  left early\n",
       "s04774     2025-02-03    english     present\n",
       "s10569     2024-06-19    english      absent\n",
       "s01623     2024-12-06    english      absent\n",
       "s04742     2024-05-26    english        late\n",
       "s09619     2025-01-06  geography      absent"
      ]
     },
     "execution_count": 11,
     "metadata": {},
     "output_type": "execute_result"
    }
   ],
   "source": [
    "# Como la columna 'date' es de tipo 'Object' vamos a pasarla a tipo Datetime y comprobamos el tipo de dato que sea correct\n",
    "df_attendance = sp.convertir_columna_a_fecha(df_attendance, 'att_date')\n",
    "df_attendance.sample(10)"
   ]
  },
  {
   "cell_type": "code",
   "execution_count": 12,
   "id": "e8a4c9bd",
   "metadata": {},
   "outputs": [
    {
     "name": "stdout",
     "output_type": "stream",
     "text": [
      "datetime64[ns]\n"
     ]
    }
   ],
   "source": [
    "#Comprobación del tipo de dato de la columna\n",
    "print(df_attendance['att_date'].dtype)"
   ]
  },
  {
   "cell_type": "code",
   "execution_count": 13,
   "id": "97ef9c30",
   "metadata": {},
   "outputs": [
    {
     "name": "stdout",
     "output_type": "stream",
     "text": [
      "att_date      datetime64[ns]\n",
      "subject               object\n",
      "att_status            object\n",
      "dtype: object\n"
     ]
    }
   ],
   "source": [
    "#Comprobamos el resto de columnas que sean de tipo correcto.\n",
    "print(df_attendance.dtypes)"
   ]
  },
  {
   "cell_type": "code",
   "execution_count": 14,
   "id": "2f6b28c3",
   "metadata": {},
   "outputs": [
    {
     "data": {
      "text/html": [
       "<div>\n",
       "<style scoped>\n",
       "    .dataframe tbody tr th:only-of-type {\n",
       "        vertical-align: middle;\n",
       "    }\n",
       "\n",
       "    .dataframe tbody tr th {\n",
       "        vertical-align: top;\n",
       "    }\n",
       "\n",
       "    .dataframe thead th {\n",
       "        text-align: right;\n",
       "    }\n",
       "</style>\n",
       "<table border=\"1\" class=\"dataframe\">\n",
       "  <thead>\n",
       "    <tr style=\"text-align: right;\">\n",
       "      <th></th>\n",
       "      <th>Subject</th>\n",
       "      <th>Assignment_Name</th>\n",
       "      <th>Due_Date</th>\n",
       "      <th>Status</th>\n",
       "      <th>Grade_Feedback</th>\n",
       "      <th>Guardian_Signature</th>\n",
       "    </tr>\n",
       "    <tr>\n",
       "      <th>Student_ID</th>\n",
       "      <th></th>\n",
       "      <th></th>\n",
       "      <th></th>\n",
       "      <th></th>\n",
       "      <th></th>\n",
       "      <th></th>\n",
       "    </tr>\n",
       "  </thead>\n",
       "  <tbody>\n",
       "    <tr>\n",
       "      <th>S04084</th>\n",
       "      <td>English</td>\n",
       "      <td>Single score interesting.</td>\n",
       "      <td>2024-10-03</td>\n",
       "      <td>pending</td>\n",
       "      <td>D</td>\n",
       "      <td></td>\n",
       "    </tr>\n",
       "    <tr>\n",
       "      <th>S01406</th>\n",
       "      <td>Math</td>\n",
       "      <td>Beautiful practice person.</td>\n",
       "      <td>2024-11-01</td>\n",
       "      <td>not done</td>\n",
       "      <td>C-</td>\n",
       "      <td>No</td>\n",
       "    </tr>\n",
       "    <tr>\n",
       "      <th>S11164</th>\n",
       "      <td>Math</td>\n",
       "      <td>Scientist shake.</td>\n",
       "      <td>2025-01-16</td>\n",
       "      <td>not done</td>\n",
       "      <td>F</td>\n",
       "      <td></td>\n",
       "    </tr>\n",
       "    <tr>\n",
       "      <th>S02222</th>\n",
       "      <td>Math</td>\n",
       "      <td>Grow do.</td>\n",
       "      <td>2025-03-02</td>\n",
       "      <td>Done</td>\n",
       "      <td>B-</td>\n",
       "      <td></td>\n",
       "    </tr>\n",
       "    <tr>\n",
       "      <th>S12119</th>\n",
       "      <td>Science</td>\n",
       "      <td>Painting public movement reach.</td>\n",
       "      <td>2024-11-18</td>\n",
       "      <td>✅</td>\n",
       "      <td>A</td>\n",
       "      <td></td>\n",
       "    </tr>\n",
       "  </tbody>\n",
       "</table>\n",
       "</div>"
      ],
      "text/plain": [
       "            Subject                  Assignment_Name    Due_Date    Status  \\\n",
       "Student_ID                                                                   \n",
       "S04084      English        Single score interesting.  2024-10-03   pending   \n",
       "S01406         Math       Beautiful practice person.  2024-11-01  not done   \n",
       "S11164         Math                 Scientist shake.  2025-01-16  not done   \n",
       "S02222         Math                         Grow do.  2025-03-02     Done    \n",
       "S12119      Science  Painting public movement reach.  2024-11-18         ✅   \n",
       "\n",
       "           Grade_Feedback Guardian_Signature  \n",
       "Student_ID                                    \n",
       "S04084                  D                     \n",
       "S01406                 C-                 No  \n",
       "S11164                  F                     \n",
       "S02222                 B-                     \n",
       "S12119                  A                     "
      ]
     },
     "metadata": {},
     "output_type": "display_data"
    },
    {
     "name": "stdout",
     "output_type": "stream",
     "text": [
      "____________________________\n",
      "INFO\n",
      "<class 'pandas.core.frame.DataFrame'>\n",
      "Index: 60780 entries, S12002 to S08589\n",
      "Data columns (total 6 columns):\n",
      " #   Column              Non-Null Count  Dtype \n",
      "---  ------              --------------  ----- \n",
      " 0   Subject             60780 non-null  object\n",
      " 1   Assignment_Name     60780 non-null  object\n",
      " 2   Due_Date            60780 non-null  object\n",
      " 3   Status              60780 non-null  object\n",
      " 4   Grade_Feedback      60780 non-null  object\n",
      " 5   Guardian_Signature  60780 non-null  object\n",
      "dtypes: object(6)\n",
      "memory usage: 3.2+ MB\n"
     ]
    },
    {
     "data": {
      "text/plain": [
       "None"
      ]
     },
     "metadata": {},
     "output_type": "display_data"
    },
    {
     "name": "stdout",
     "output_type": "stream",
     "text": [
      "____________________________\n",
      "NULOS\n"
     ]
    },
    {
     "data": {
      "text/plain": [
       "Subject               0.0\n",
       "Assignment_Name       0.0\n",
       "Due_Date              0.0\n",
       "Status                0.0\n",
       "Grade_Feedback        0.0\n",
       "Guardian_Signature    0.0\n",
       "dtype: float64"
      ]
     },
     "metadata": {},
     "output_type": "display_data"
    },
    {
     "name": "stdout",
     "output_type": "stream",
     "text": [
      "____________________________\n",
      "DUPLICADOS\n"
     ]
    },
    {
     "data": {
      "text/plain": [
       "np.int64(0)"
      ]
     },
     "metadata": {},
     "output_type": "display_data"
    },
    {
     "name": "stdout",
     "output_type": "stream",
     "text": [
      "____________________________\n",
      "DESCRIBE\n"
     ]
    },
    {
     "data": {
      "text/html": [
       "<div>\n",
       "<style scoped>\n",
       "    .dataframe tbody tr th:only-of-type {\n",
       "        vertical-align: middle;\n",
       "    }\n",
       "\n",
       "    .dataframe tbody tr th {\n",
       "        vertical-align: top;\n",
       "    }\n",
       "\n",
       "    .dataframe thead th {\n",
       "        text-align: right;\n",
       "    }\n",
       "</style>\n",
       "<table border=\"1\" class=\"dataframe\">\n",
       "  <thead>\n",
       "    <tr style=\"text-align: right;\">\n",
       "      <th></th>\n",
       "      <th>count</th>\n",
       "      <th>unique</th>\n",
       "      <th>top</th>\n",
       "      <th>freq</th>\n",
       "    </tr>\n",
       "  </thead>\n",
       "  <tbody>\n",
       "    <tr>\n",
       "      <th>Subject</th>\n",
       "      <td>60780</td>\n",
       "      <td>6</td>\n",
       "      <td>English</td>\n",
       "      <td>10209</td>\n",
       "    </tr>\n",
       "    <tr>\n",
       "      <th>Assignment_Name</th>\n",
       "      <td>60780</td>\n",
       "      <td>56065</td>\n",
       "      <td>Also.</td>\n",
       "      <td>15</td>\n",
       "    </tr>\n",
       "    <tr>\n",
       "      <th>Due_Date</th>\n",
       "      <td>60780</td>\n",
       "      <td>366</td>\n",
       "      <td>2025-01-23</td>\n",
       "      <td>315</td>\n",
       "    </tr>\n",
       "    <tr>\n",
       "      <th>Status</th>\n",
       "      <td>60780</td>\n",
       "      <td>6</td>\n",
       "      <td>Done</td>\n",
       "      <td>10278</td>\n",
       "    </tr>\n",
       "    <tr>\n",
       "      <th>Grade_Feedback</th>\n",
       "      <td>60780</td>\n",
       "      <td>8</td>\n",
       "      <td>A+</td>\n",
       "      <td>7709</td>\n",
       "    </tr>\n",
       "    <tr>\n",
       "      <th>Guardian_Signature</th>\n",
       "      <td>60780</td>\n",
       "      <td>3</td>\n",
       "      <td>No</td>\n",
       "      <td>20372</td>\n",
       "    </tr>\n",
       "  </tbody>\n",
       "</table>\n",
       "</div>"
      ],
      "text/plain": [
       "                    count unique         top   freq\n",
       "Subject             60780      6     English  10209\n",
       "Assignment_Name     60780  56065       Also.     15\n",
       "Due_Date            60780    366  2025-01-23    315\n",
       "Status              60780      6       Done   10278\n",
       "Grade_Feedback      60780      8          A+   7709\n",
       "Guardian_Signature  60780      3          No  20372"
      ]
     },
     "metadata": {},
     "output_type": "display_data"
    },
    {
     "name": "stdout",
     "output_type": "stream",
     "text": [
      "____________________________\n",
      "DESCRIBE COLUMNAS OBJECT\n"
     ]
    },
    {
     "data": {
      "text/html": [
       "<div>\n",
       "<style scoped>\n",
       "    .dataframe tbody tr th:only-of-type {\n",
       "        vertical-align: middle;\n",
       "    }\n",
       "\n",
       "    .dataframe tbody tr th {\n",
       "        vertical-align: top;\n",
       "    }\n",
       "\n",
       "    .dataframe thead th {\n",
       "        text-align: right;\n",
       "    }\n",
       "</style>\n",
       "<table border=\"1\" class=\"dataframe\">\n",
       "  <thead>\n",
       "    <tr style=\"text-align: right;\">\n",
       "      <th></th>\n",
       "      <th>count</th>\n",
       "      <th>unique</th>\n",
       "      <th>top</th>\n",
       "      <th>freq</th>\n",
       "    </tr>\n",
       "  </thead>\n",
       "  <tbody>\n",
       "    <tr>\n",
       "      <th>Subject</th>\n",
       "      <td>60780</td>\n",
       "      <td>6</td>\n",
       "      <td>English</td>\n",
       "      <td>10209</td>\n",
       "    </tr>\n",
       "    <tr>\n",
       "      <th>Assignment_Name</th>\n",
       "      <td>60780</td>\n",
       "      <td>56065</td>\n",
       "      <td>Also.</td>\n",
       "      <td>15</td>\n",
       "    </tr>\n",
       "    <tr>\n",
       "      <th>Due_Date</th>\n",
       "      <td>60780</td>\n",
       "      <td>366</td>\n",
       "      <td>2025-01-23</td>\n",
       "      <td>315</td>\n",
       "    </tr>\n",
       "    <tr>\n",
       "      <th>Status</th>\n",
       "      <td>60780</td>\n",
       "      <td>6</td>\n",
       "      <td>Done</td>\n",
       "      <td>10278</td>\n",
       "    </tr>\n",
       "    <tr>\n",
       "      <th>Grade_Feedback</th>\n",
       "      <td>60780</td>\n",
       "      <td>8</td>\n",
       "      <td>A+</td>\n",
       "      <td>7709</td>\n",
       "    </tr>\n",
       "    <tr>\n",
       "      <th>Guardian_Signature</th>\n",
       "      <td>60780</td>\n",
       "      <td>3</td>\n",
       "      <td>No</td>\n",
       "      <td>20372</td>\n",
       "    </tr>\n",
       "  </tbody>\n",
       "</table>\n",
       "</div>"
      ],
      "text/plain": [
       "                    count unique         top   freq\n",
       "Subject             60780      6     English  10209\n",
       "Assignment_Name     60780  56065       Also.     15\n",
       "Due_Date            60780    366  2025-01-23    315\n",
       "Status              60780      6       Done   10278\n",
       "Grade_Feedback      60780      8          A+   7709\n",
       "Guardian_Signature  60780      3          No  20372"
      ]
     },
     "metadata": {},
     "output_type": "display_data"
    },
    {
     "name": "stdout",
     "output_type": "stream",
     "text": [
      "____________________________\n",
      "VALUE COUNTS\n",
      "Subject\n",
      "English      10209\n",
      "Geography    10179\n",
      "Science      10112\n",
      "History      10110\n",
      "Arabic       10106\n",
      "Math         10064\n",
      "Name: count, dtype: int64\n",
      "Assignment_Name\n",
      "Also.                      15\n",
      "Term.                      15\n",
      "Understand.                13\n",
      "Not.                       13\n",
      "Eye.                       12\n",
      "                           ..\n",
      "Effect job amount.          1\n",
      "Study indicate fight.       1\n",
      "Reach whose investment.     1\n",
      "Suggest figure.             1\n",
      "Involve determine.          1\n",
      "Name: count, Length: 56065, dtype: int64\n",
      "Due_Date\n",
      "2025-01-23    315\n",
      "2025-03-02    302\n",
      "2024-11-06    301\n",
      "2024-11-08    300\n",
      "2024-12-25    299\n",
      "             ... \n",
      "11/04/2024     52\n",
      "10/13/2024     51\n",
      "12/21/2024     50\n",
      "11/22/2024     50\n",
      "03/01/2025     46\n",
      "Name: count, Length: 366, dtype: int64\n",
      "Status\n",
      " Done       10278\n",
      "not done    10234\n",
      "❌           10151\n",
      "✔           10090\n",
      "pending     10014\n",
      "✅           10013\n",
      "Name: count, dtype: int64\n",
      "Grade_Feedback\n",
      "A+    7709\n",
      "B-    7639\n",
      "D     7631\n",
      "B     7591\n",
      "F     7586\n",
      "C     7585\n",
      "A     7533\n",
      "C-    7506\n",
      "Name: count, dtype: int64\n",
      "Guardian_Signature\n",
      "No     20372\n",
      "Yes    20348\n",
      "       20060\n",
      "Name: count, dtype: int64\n",
      "____________________________\n"
     ]
    }
   ],
   "source": [
    "#Ver dataframe 'df_homework'\n",
    "df_hw_preliminar =  sp.eda_preliminar(df_homework)\n",
    "df_hw_preliminar"
   ]
  },
  {
   "cell_type": "code",
   "execution_count": 15,
   "id": "e31cb3d5",
   "metadata": {},
   "outputs": [
    {
     "data": {
      "text/html": [
       "<div>\n",
       "<style scoped>\n",
       "    .dataframe tbody tr th:only-of-type {\n",
       "        vertical-align: middle;\n",
       "    }\n",
       "\n",
       "    .dataframe tbody tr th {\n",
       "        vertical-align: top;\n",
       "    }\n",
       "\n",
       "    .dataframe thead th {\n",
       "        text-align: right;\n",
       "    }\n",
       "</style>\n",
       "<table border=\"1\" class=\"dataframe\">\n",
       "  <thead>\n",
       "    <tr style=\"text-align: right;\">\n",
       "      <th></th>\n",
       "      <th>subject</th>\n",
       "      <th>assignment_name</th>\n",
       "      <th>due_date</th>\n",
       "      <th>status</th>\n",
       "      <th>grade_feedback</th>\n",
       "      <th>guardian_signature</th>\n",
       "    </tr>\n",
       "    <tr>\n",
       "      <th>student_id</th>\n",
       "      <th></th>\n",
       "      <th></th>\n",
       "      <th></th>\n",
       "      <th></th>\n",
       "      <th></th>\n",
       "      <th></th>\n",
       "    </tr>\n",
       "  </thead>\n",
       "  <tbody>\n",
       "    <tr>\n",
       "      <th>s09032</th>\n",
       "      <td>english</td>\n",
       "      <td>glass end.</td>\n",
       "      <td>11/08/2024</td>\n",
       "      <td>❌</td>\n",
       "      <td>c-</td>\n",
       "      <td></td>\n",
       "    </tr>\n",
       "    <tr>\n",
       "      <th>s01725</th>\n",
       "      <td>geography</td>\n",
       "      <td>fear read.</td>\n",
       "      <td>2024-10-19</td>\n",
       "      <td>✔</td>\n",
       "      <td>f</td>\n",
       "      <td></td>\n",
       "    </tr>\n",
       "    <tr>\n",
       "      <th>s10756</th>\n",
       "      <td>english</td>\n",
       "      <td>matter suggest.</td>\n",
       "      <td>09/09/2024</td>\n",
       "      <td>❌</td>\n",
       "      <td>c-</td>\n",
       "      <td>no</td>\n",
       "    </tr>\n",
       "    <tr>\n",
       "      <th>s10408</th>\n",
       "      <td>english</td>\n",
       "      <td>base hear machine.</td>\n",
       "      <td>2024-12-22</td>\n",
       "      <td>done</td>\n",
       "      <td>b-</td>\n",
       "      <td></td>\n",
       "    </tr>\n",
       "    <tr>\n",
       "      <th>s07155</th>\n",
       "      <td>math</td>\n",
       "      <td>consider top kid.</td>\n",
       "      <td>2025-02-12</td>\n",
       "      <td>not done</td>\n",
       "      <td>a+</td>\n",
       "      <td></td>\n",
       "    </tr>\n",
       "    <tr>\n",
       "      <th>s11791</th>\n",
       "      <td>english</td>\n",
       "      <td>go.</td>\n",
       "      <td>2024-12-07</td>\n",
       "      <td>done</td>\n",
       "      <td>a</td>\n",
       "      <td>no</td>\n",
       "    </tr>\n",
       "    <tr>\n",
       "      <th>s01511</th>\n",
       "      <td>arabic</td>\n",
       "      <td>recently form.</td>\n",
       "      <td>02/01/2025</td>\n",
       "      <td>pending</td>\n",
       "      <td>a+</td>\n",
       "      <td>no</td>\n",
       "    </tr>\n",
       "    <tr>\n",
       "      <th>s01669</th>\n",
       "      <td>arabic</td>\n",
       "      <td>hope song hundred.</td>\n",
       "      <td>2025-03-07</td>\n",
       "      <td>✔</td>\n",
       "      <td>a</td>\n",
       "      <td>no</td>\n",
       "    </tr>\n",
       "    <tr>\n",
       "      <th>s06793</th>\n",
       "      <td>english</td>\n",
       "      <td>also three skill.</td>\n",
       "      <td>2024-09-20</td>\n",
       "      <td>done</td>\n",
       "      <td>f</td>\n",
       "      <td>no</td>\n",
       "    </tr>\n",
       "    <tr>\n",
       "      <th>s11182</th>\n",
       "      <td>geography</td>\n",
       "      <td>military.</td>\n",
       "      <td>2024-10-26</td>\n",
       "      <td>✔</td>\n",
       "      <td>b-</td>\n",
       "      <td>no</td>\n",
       "    </tr>\n",
       "  </tbody>\n",
       "</table>\n",
       "</div>"
      ],
      "text/plain": [
       "              subject     assignment_name    due_date    status  \\\n",
       "student_id                                                        \n",
       "s09032        english          glass end.  11/08/2024         ❌   \n",
       "s01725      geography          fear read.  2024-10-19         ✔   \n",
       "s10756        english     matter suggest.  09/09/2024         ❌   \n",
       "s10408        english  base hear machine.  2024-12-22      done   \n",
       "s07155           math   consider top kid.  2025-02-12  not done   \n",
       "s11791        english                 go.  2024-12-07      done   \n",
       "s01511         arabic      recently form.  02/01/2025   pending   \n",
       "s01669         arabic  hope song hundred.  2025-03-07         ✔   \n",
       "s06793        english   also three skill.  2024-09-20      done   \n",
       "s11182      geography           military.  2024-10-26         ✔   \n",
       "\n",
       "           grade_feedback guardian_signature  \n",
       "student_id                                    \n",
       "s09032                 c-                     \n",
       "s01725                  f                     \n",
       "s10756                 c-                 no  \n",
       "s10408                 b-                     \n",
       "s07155                 a+                     \n",
       "s11791                  a                 no  \n",
       "s01511                 a+                 no  \n",
       "s01669                  a                 no  \n",
       "s06793                  f                 no  \n",
       "s11182                 b-                 no  "
      ]
     },
     "execution_count": 15,
     "metadata": {},
     "output_type": "execute_result"
    }
   ],
   "source": [
    "#Pasar dataframe a minusculas\n",
    "df_homework = sp.valores_a_minus(df_homework)\n",
    "df_homework.sample(10)"
   ]
  },
  {
   "cell_type": "code",
   "execution_count": 16,
   "id": "7d7a36ff",
   "metadata": {},
   "outputs": [
    {
     "name": "stdout",
     "output_type": "stream",
     "text": [
      "Columna 'due_date' convertida a datetime con formato %Y-%m-%d.\n"
     ]
    },
    {
     "data": {
      "text/html": [
       "<div>\n",
       "<style scoped>\n",
       "    .dataframe tbody tr th:only-of-type {\n",
       "        vertical-align: middle;\n",
       "    }\n",
       "\n",
       "    .dataframe tbody tr th {\n",
       "        vertical-align: top;\n",
       "    }\n",
       "\n",
       "    .dataframe thead th {\n",
       "        text-align: right;\n",
       "    }\n",
       "</style>\n",
       "<table border=\"1\" class=\"dataframe\">\n",
       "  <thead>\n",
       "    <tr style=\"text-align: right;\">\n",
       "      <th></th>\n",
       "      <th>subject</th>\n",
       "      <th>assignment_name</th>\n",
       "      <th>due_date</th>\n",
       "      <th>status</th>\n",
       "      <th>grade_feedback</th>\n",
       "      <th>guardian_signature</th>\n",
       "    </tr>\n",
       "    <tr>\n",
       "      <th>student_id</th>\n",
       "      <th></th>\n",
       "      <th></th>\n",
       "      <th></th>\n",
       "      <th></th>\n",
       "      <th></th>\n",
       "      <th></th>\n",
       "    </tr>\n",
       "  </thead>\n",
       "  <tbody>\n",
       "    <tr>\n",
       "      <th>s04729</th>\n",
       "      <td>science</td>\n",
       "      <td>professional section off.</td>\n",
       "      <td>NaT</td>\n",
       "      <td>✅</td>\n",
       "      <td>f</td>\n",
       "      <td>no</td>\n",
       "    </tr>\n",
       "    <tr>\n",
       "      <th>s03522</th>\n",
       "      <td>history</td>\n",
       "      <td>others choice.</td>\n",
       "      <td>NaT</td>\n",
       "      <td>✅</td>\n",
       "      <td>a+</td>\n",
       "      <td>yes</td>\n",
       "    </tr>\n",
       "    <tr>\n",
       "      <th>s00963</th>\n",
       "      <td>science</td>\n",
       "      <td>really public.</td>\n",
       "      <td>2025-02-16</td>\n",
       "      <td>pending</td>\n",
       "      <td>a</td>\n",
       "      <td>no</td>\n",
       "    </tr>\n",
       "    <tr>\n",
       "      <th>s10061</th>\n",
       "      <td>arabic</td>\n",
       "      <td>suddenly every heart.</td>\n",
       "      <td>2024-11-29</td>\n",
       "      <td>pending</td>\n",
       "      <td>f</td>\n",
       "      <td>yes</td>\n",
       "    </tr>\n",
       "    <tr>\n",
       "      <th>s08650</th>\n",
       "      <td>arabic</td>\n",
       "      <td>himself affect.</td>\n",
       "      <td>2024-11-23</td>\n",
       "      <td>✅</td>\n",
       "      <td>d</td>\n",
       "      <td></td>\n",
       "    </tr>\n",
       "    <tr>\n",
       "      <th>s06898</th>\n",
       "      <td>english</td>\n",
       "      <td>race great.</td>\n",
       "      <td>2024-09-12</td>\n",
       "      <td>❌</td>\n",
       "      <td>a+</td>\n",
       "      <td>yes</td>\n",
       "    </tr>\n",
       "    <tr>\n",
       "      <th>s10387</th>\n",
       "      <td>arabic</td>\n",
       "      <td>even course.</td>\n",
       "      <td>2024-12-22</td>\n",
       "      <td>❌</td>\n",
       "      <td>c-</td>\n",
       "      <td></td>\n",
       "    </tr>\n",
       "    <tr>\n",
       "      <th>s11863</th>\n",
       "      <td>history</td>\n",
       "      <td>answer many.</td>\n",
       "      <td>2024-10-02</td>\n",
       "      <td>not done</td>\n",
       "      <td>c</td>\n",
       "      <td>yes</td>\n",
       "    </tr>\n",
       "    <tr>\n",
       "      <th>s00044</th>\n",
       "      <td>science</td>\n",
       "      <td>her suggest design system.</td>\n",
       "      <td>2024-11-26</td>\n",
       "      <td>✅</td>\n",
       "      <td>a</td>\n",
       "      <td>yes</td>\n",
       "    </tr>\n",
       "    <tr>\n",
       "      <th>s11501</th>\n",
       "      <td>science</td>\n",
       "      <td>pressure throw scientist.</td>\n",
       "      <td>2025-01-06</td>\n",
       "      <td>pending</td>\n",
       "      <td>f</td>\n",
       "      <td></td>\n",
       "    </tr>\n",
       "  </tbody>\n",
       "</table>\n",
       "</div>"
      ],
      "text/plain": [
       "            subject             assignment_name   due_date    status  \\\n",
       "student_id                                                             \n",
       "s04729      science   professional section off.        NaT         ✅   \n",
       "s03522      history              others choice.        NaT         ✅   \n",
       "s00963      science              really public. 2025-02-16   pending   \n",
       "s10061       arabic       suddenly every heart. 2024-11-29   pending   \n",
       "s08650       arabic             himself affect. 2024-11-23         ✅   \n",
       "s06898      english                 race great. 2024-09-12         ❌   \n",
       "s10387       arabic                even course. 2024-12-22         ❌   \n",
       "s11863      history                answer many. 2024-10-02  not done   \n",
       "s00044      science  her suggest design system. 2024-11-26         ✅   \n",
       "s11501      science   pressure throw scientist. 2025-01-06   pending   \n",
       "\n",
       "           grade_feedback guardian_signature  \n",
       "student_id                                    \n",
       "s04729                  f                 no  \n",
       "s03522                 a+                yes  \n",
       "s00963                  a                 no  \n",
       "s10061                  f                yes  \n",
       "s08650                  d                     \n",
       "s06898                 a+                yes  \n",
       "s10387                 c-                     \n",
       "s11863                  c                yes  \n",
       "s00044                  a                yes  \n",
       "s11501                  f                     "
      ]
     },
     "execution_count": 16,
     "metadata": {},
     "output_type": "execute_result"
    }
   ],
   "source": [
    "#La columna 'due_date' tiene valores de fecha con diferentes formatos.\n",
    "# Hay que pasarlo a un formato y asignalo como de tipo datetime.\n",
    "\n",
    "df_homework = sp.convertir_columna_a_fecha(df_homework, 'due_date')\n",
    "df_homework.sample(10)"
   ]
  },
  {
   "cell_type": "code",
   "execution_count": 17,
   "id": "8d4b4731",
   "metadata": {},
   "outputs": [
    {
     "name": "stdout",
     "output_type": "stream",
     "text": [
      "datetime64[ns]\n"
     ]
    }
   ],
   "source": [
    "#Comprobación del tipo de dato de la columna\n",
    "print(df_homework['due_date'].dtype)"
   ]
  },
  {
   "cell_type": "code",
   "execution_count": 18,
   "id": "9f81ecbc",
   "metadata": {},
   "outputs": [
    {
     "name": "stdout",
     "output_type": "stream",
     "text": [
      "(subject                   0\n",
      "assignment_name           0\n",
      "due_date              12358\n",
      "status                    0\n",
      "grade_feedback            0\n",
      "guardian_signature        0\n",
      "dtype: int64, subject                0.00\n",
      "assignment_name        0.00\n",
      "due_date              20.33\n",
      "status                 0.00\n",
      "grade_feedback         0.00\n",
      "guardian_signature     0.00\n",
      "dtype: float64)\n"
     ]
    }
   ],
   "source": [
    "#Sacar nulos de la columna 'due_date' mediante funcion de sp.limpieza.py\n",
    "nulos = sp.nulos_num_porcentaje(df_homework)\n",
    "print(nulos)"
   ]
  },
  {
   "cell_type": "code",
   "execution_count": 19,
   "id": "45c696d1",
   "metadata": {},
   "outputs": [
    {
     "data": {
      "image/png": "[encoded data removed]",
      "text/plain": [
       "<Figure size 1000x500 with 1 Axes>"
      ]
     },
     "metadata": {},
     "output_type": "display_data"
    }
   ],
   "source": [
    "# La columna 'due_date' tiene una cantidad elevada de nulos (20.33%) por lo que antes de imputarla comprobamos\n",
    "#como es la distribución de sus valores para poder así valorar si imputar los nulos, si por media, moda o mediana.\n",
    "\n",
    "df_homework['due_date'].hist(bins=50, figsize=(10,5))\n",
    "plt.title('Distribución de Due Date')\n",
    "plt.xlabel('Fecha')\n",
    "plt.ylabel('Cantidad')\n",
    "plt.xticks(rotation=45)\n",
    "plt.show()\n"
   ]
  },
  {
   "cell_type": "code",
   "execution_count": 20,
   "id": "b07c7577",
   "metadata": {},
   "outputs": [
    {
     "name": "stdout",
     "output_type": "stream",
     "text": [
      "count                            48422\n",
      "mean     2024-12-08 09:02:43.710710016\n",
      "min                2024-09-08 00:00:00\n",
      "25%                2024-10-24 00:00:00\n",
      "50%                2024-12-09 00:00:00\n",
      "75%                2025-01-23 00:00:00\n",
      "max                2025-03-09 00:00:00\n",
      "Name: due_date, dtype: object\n"
     ]
    }
   ],
   "source": [
    "#Comprobamos las estadísticas descriptivas de 'due_date'\n",
    "print(df_homework['due_date'].describe())"
   ]
  },
  {
   "cell_type": "code",
   "execution_count": 21,
   "id": "33b13196",
   "metadata": {},
   "outputs": [
    {
     "name": "stderr",
     "output_type": "stream",
     "text": [
      "C:\\Users\\pooo_\\AppData\\Local\\Temp\\ipykernel_17276\\3655258861.py:6: FutureWarning: A value is trying to be set on a copy of a DataFrame or Series through chained assignment using an inplace method.\n",
      "The behavior will change in pandas 3.0. This inplace method will never work because the intermediate object on which we are setting values always behaves as a copy.\n",
      "\n",
      "For example, when doing 'df[col].method(value, inplace=True)', try using 'df.method({col: value}, inplace=True)' or df[col] = df[col].method(value) instead, to perform the operation inplace on the original object.\n",
      "\n",
      "\n",
      "  df_homework['due_date'].fillna(mediana_fecha, inplace= True)\n"
     ]
    }
   ],
   "source": [
    "#Dado que las fechas están bastante centradas en torno a finales de 2024, lo más razonable sería:\n",
    "# Imputar con la mediana (50%), que es 2024-12-09, ya que la mediana es robusta frente a outliers y nos va a evitar \n",
    "# en caso de haber un par de fechas raras que el resultado no se distorsione demasiado.\n",
    "\n",
    "mediana_fecha = df_homework['due_date'].median()\n",
    "df_homework['due_date'].fillna(mediana_fecha, inplace= True)\n"
   ]
  },
  {
   "cell_type": "code",
   "execution_count": 22,
   "id": "ef079ee6",
   "metadata": {},
   "outputs": [
    {
     "name": "stdout",
     "output_type": "stream",
     "text": [
      "(subject               0\n",
      "assignment_name       0\n",
      "due_date              0\n",
      "status                0\n",
      "grade_feedback        0\n",
      "guardian_signature    0\n",
      "dtype: int64, subject               0.0\n",
      "assignment_name       0.0\n",
      "due_date              0.0\n",
      "status                0.0\n",
      "grade_feedback        0.0\n",
      "guardian_signature    0.0\n",
      "dtype: float64)\n"
     ]
    }
   ],
   "source": [
    "#Comprobamos que los nulos han desaparecido\n",
    "nulos = sp.nulos_num_porcentaje(df_homework)\n",
    "print(nulos)"
   ]
  },
  {
   "cell_type": "code",
   "execution_count": 23,
   "id": "c6de6ebe",
   "metadata": {},
   "outputs": [
    {
     "data": {
      "text/plain": [
       "status\n",
       "done        10278\n",
       "not done    10234\n",
       "❌           10151\n",
       "✔           10090\n",
       "pending     10014\n",
       "✅           10013\n",
       "Name: count, dtype: int64"
      ]
     },
     "execution_count": 23,
     "metadata": {},
     "output_type": "execute_result"
    }
   ],
   "source": [
    "#Para coregir la columna 'status' vamos a comprobar primero el tipo de valores que tiene.\n",
    "status_valores = df_homework['status'].value_counts()\n",
    "status_valores"
   ]
  },
  {
   "cell_type": "code",
   "execution_count": 24,
   "id": "e7ea45cb",
   "metadata": {},
   "outputs": [
    {
     "data": {
      "text/plain": [
       "status\n",
       "done        30381\n",
       "not done    20385\n",
       "pending     10014\n",
       "Name: count, dtype: int64"
      ]
     },
     "execution_count": 24,
     "metadata": {},
     "output_type": "execute_result"
    }
   ],
   "source": [
    "#Vamos a homogeinizar esos valores. \n",
    "mapeo_status = {\n",
    "    '✅':'done',\n",
    "    '❌':'not done',\n",
    "    '✔':'done',\n",
    "    'pending':'pending',\n",
    "    'done':'done',\n",
    "    'not done':'not done',\n",
    "}\n",
    "\n",
    "df_homework['status'] = df_homework['status'].replace(mapeo_status)\n",
    "\n",
    "status_valores = df_homework['status'].value_counts()\n",
    "status_valores\n"
   ]
  },
  {
   "cell_type": "code",
   "execution_count": 25,
   "id": "ab4eb560",
   "metadata": {},
   "outputs": [
    {
     "name": "stdout",
     "output_type": "stream",
     "text": [
      "guardian_signature\n",
      "no     20372\n",
      "yes    20348\n",
      "       20060\n",
      "Name: count, dtype: int64\n"
     ]
    }
   ],
   "source": [
    "#Debemos comprobar la columna 'guardian_signatura' ya que tiene campos vacíos que pandas\n",
    "# lo detecta como cadena de texto vacía.\n",
    "valores = df_homework['guardian_signature'].value_counts()\n",
    "print(valores)"
   ]
  },
  {
   "cell_type": "code",
   "execution_count": 26,
   "id": "58fab490",
   "metadata": {},
   "outputs": [
    {
     "data": {
      "text/plain": [
       "(np.int64(20060), np.float64(33.0))"
      ]
     },
     "execution_count": 26,
     "metadata": {},
     "output_type": "execute_result"
    }
   ],
   "source": [
    "#Debemos de convertir la cadena vacia por nulos de numpy. Después vamos a comprobar cuantos nulos son.\n",
    "df_homework['guardian_signature'] = df_homework['guardian_signature'].replace('', np.nan)\n",
    "ver_nulos= sp.nulos_num_porcentaje(df_homework['guardian_signature'])\n",
    "ver_nulos"
   ]
  },
  {
   "cell_type": "code",
   "execution_count": 27,
   "id": "14601888",
   "metadata": {},
   "outputs": [
    {
     "name": "stdout",
     "output_type": "stream",
     "text": [
      "guardian_signature\n",
      "no     33.517604\n",
      "yes    33.478118\n",
      "NaN    33.004278\n",
      "Name: proportion, dtype: float64\n"
     ]
    }
   ],
   "source": [
    "#Comprobamos la distribución (en porcentaje) de los 3 valores de la columna.\n",
    "print(df_homework['guardian_signature'].value_counts(dropna=False, normalize=True)*100)"
   ]
  },
  {
   "cell_type": "code",
   "execution_count": 28,
   "id": "9bb979b7",
   "metadata": {},
   "outputs": [
    {
     "name": "stdout",
     "output_type": "stream",
     "text": [
      "count     40720\n",
      "unique        2\n",
      "top          no\n",
      "freq      20372\n",
      "Name: guardian_signature, dtype: object\n"
     ]
    }
   ],
   "source": [
    "#Hay un 33% de nulos de la columna 'guardian_signature' por tanto vamos a ver sus cuartiles, media etc.\n",
    "print(df_homework['guardian_signature'].describe())"
   ]
  },
  {
   "cell_type": "code",
   "execution_count": 29,
   "id": "bb0d827d",
   "metadata": {},
   "outputs": [
    {
     "name": "stdout",
     "output_type": "stream",
     "text": [
      "guardian_signature\n",
      "no         20372\n",
      "yes        20348\n",
      "unknown    20060\n",
      "Name: count, dtype: int64\n"
     ]
    },
    {
     "name": "stderr",
     "output_type": "stream",
     "text": [
      "C:\\Users\\pooo_\\AppData\\Local\\Temp\\ipykernel_17276\\2920811997.py:4: FutureWarning: A value is trying to be set on a copy of a DataFrame or Series through chained assignment using an inplace method.\n",
      "The behavior will change in pandas 3.0. This inplace method will never work because the intermediate object on which we are setting values always behaves as a copy.\n",
      "\n",
      "For example, when doing 'df[col].method(value, inplace=True)', try using 'df.method({col: value}, inplace=True)' or df[col] = df[col].method(value) instead, to perform the operation inplace on the original object.\n",
      "\n",
      "\n",
      "  df_homework['guardian_signature'].fillna('unknown', inplace = True)\n"
     ]
    }
   ],
   "source": [
    "#Vamos a imputar los nulos con 'unknown' ya que así no modificamos artificialmente la proporción original y\n",
    "# dejamos constancia de que falta esta información.\n",
    "\n",
    "df_homework['guardian_signature'].fillna('unknown', inplace = True)\n",
    "\n",
    "#Comprobamos la distribución (en porcentaje) de los 3 valores de la columna.\n",
    "print(df_homework['guardian_signature'].value_counts())"
   ]
  },
  {
   "cell_type": "code",
   "execution_count": 30,
   "id": "8660c990",
   "metadata": {},
   "outputs": [
    {
     "data": {
      "text/html": [
       "<div>\n",
       "<style scoped>\n",
       "    .dataframe tbody tr th:only-of-type {\n",
       "        vertical-align: middle;\n",
       "    }\n",
       "\n",
       "    .dataframe tbody tr th {\n",
       "        vertical-align: top;\n",
       "    }\n",
       "\n",
       "    .dataframe thead th {\n",
       "        text-align: right;\n",
       "    }\n",
       "</style>\n",
       "<table border=\"1\" class=\"dataframe\">\n",
       "  <thead>\n",
       "    <tr style=\"text-align: right;\">\n",
       "      <th></th>\n",
       "      <th>subject</th>\n",
       "      <th>assignment_name</th>\n",
       "      <th>due_date</th>\n",
       "      <th>status</th>\n",
       "      <th>grade_feedback</th>\n",
       "      <th>guardian_signature</th>\n",
       "    </tr>\n",
       "    <tr>\n",
       "      <th>student_id</th>\n",
       "      <th></th>\n",
       "      <th></th>\n",
       "      <th></th>\n",
       "      <th></th>\n",
       "      <th></th>\n",
       "      <th></th>\n",
       "    </tr>\n",
       "  </thead>\n",
       "  <tbody>\n",
       "    <tr>\n",
       "      <th>s08955</th>\n",
       "      <td>history</td>\n",
       "      <td>attention debate.</td>\n",
       "      <td>2024-12-15</td>\n",
       "      <td>done</td>\n",
       "      <td>c</td>\n",
       "      <td>no</td>\n",
       "    </tr>\n",
       "    <tr>\n",
       "      <th>s07983</th>\n",
       "      <td>science</td>\n",
       "      <td>same argue.</td>\n",
       "      <td>2024-09-23</td>\n",
       "      <td>not done</td>\n",
       "      <td>a+</td>\n",
       "      <td>unknown</td>\n",
       "    </tr>\n",
       "    <tr>\n",
       "      <th>s08204</th>\n",
       "      <td>math</td>\n",
       "      <td>though herself dinner.</td>\n",
       "      <td>2025-01-08</td>\n",
       "      <td>done</td>\n",
       "      <td>b-</td>\n",
       "      <td>unknown</td>\n",
       "    </tr>\n",
       "    <tr>\n",
       "      <th>s12100</th>\n",
       "      <td>math</td>\n",
       "      <td>fear.</td>\n",
       "      <td>2025-03-06</td>\n",
       "      <td>not done</td>\n",
       "      <td>b-</td>\n",
       "      <td>yes</td>\n",
       "    </tr>\n",
       "    <tr>\n",
       "      <th>s11547</th>\n",
       "      <td>arabic</td>\n",
       "      <td>day court.</td>\n",
       "      <td>2025-02-13</td>\n",
       "      <td>done</td>\n",
       "      <td>c-</td>\n",
       "      <td>unknown</td>\n",
       "    </tr>\n",
       "    <tr>\n",
       "      <th>s00404</th>\n",
       "      <td>history</td>\n",
       "      <td>hear star down.</td>\n",
       "      <td>2024-11-25</td>\n",
       "      <td>done</td>\n",
       "      <td>c</td>\n",
       "      <td>yes</td>\n",
       "    </tr>\n",
       "    <tr>\n",
       "      <th>s10812</th>\n",
       "      <td>arabic</td>\n",
       "      <td>prove human.</td>\n",
       "      <td>2024-11-12</td>\n",
       "      <td>done</td>\n",
       "      <td>b-</td>\n",
       "      <td>yes</td>\n",
       "    </tr>\n",
       "    <tr>\n",
       "      <th>s08679</th>\n",
       "      <td>arabic</td>\n",
       "      <td>ten trouble.</td>\n",
       "      <td>2024-10-07</td>\n",
       "      <td>done</td>\n",
       "      <td>c</td>\n",
       "      <td>yes</td>\n",
       "    </tr>\n",
       "    <tr>\n",
       "      <th>s06393</th>\n",
       "      <td>english</td>\n",
       "      <td>much true.</td>\n",
       "      <td>2025-02-19</td>\n",
       "      <td>pending</td>\n",
       "      <td>b-</td>\n",
       "      <td>no</td>\n",
       "    </tr>\n",
       "    <tr>\n",
       "      <th>s02224</th>\n",
       "      <td>arabic</td>\n",
       "      <td>care if.</td>\n",
       "      <td>2024-10-26</td>\n",
       "      <td>done</td>\n",
       "      <td>b</td>\n",
       "      <td>yes</td>\n",
       "    </tr>\n",
       "  </tbody>\n",
       "</table>\n",
       "</div>"
      ],
      "text/plain": [
       "            subject         assignment_name   due_date    status  \\\n",
       "student_id                                                         \n",
       "s08955      history       attention debate. 2024-12-15      done   \n",
       "s07983      science             same argue. 2024-09-23  not done   \n",
       "s08204         math  though herself dinner. 2025-01-08      done   \n",
       "s12100         math                   fear. 2025-03-06  not done   \n",
       "s11547       arabic              day court. 2025-02-13      done   \n",
       "s00404      history         hear star down. 2024-11-25      done   \n",
       "s10812       arabic            prove human. 2024-11-12      done   \n",
       "s08679       arabic            ten trouble. 2024-10-07      done   \n",
       "s06393      english              much true. 2025-02-19   pending   \n",
       "s02224       arabic                care if. 2024-10-26      done   \n",
       "\n",
       "           grade_feedback guardian_signature  \n",
       "student_id                                    \n",
       "s08955                  c                 no  \n",
       "s07983                 a+            unknown  \n",
       "s08204                 b-            unknown  \n",
       "s12100                 b-                yes  \n",
       "s11547                 c-            unknown  \n",
       "s00404                  c                yes  \n",
       "s10812                 b-                yes  \n",
       "s08679                  c                yes  \n",
       "s06393                 b-                 no  \n",
       "s02224                  b                yes  "
      ]
     },
     "execution_count": 30,
     "metadata": {},
     "output_type": "execute_result"
    }
   ],
   "source": [
    "df_homework.sample(10)"
   ]
  },
  {
   "cell_type": "code",
   "execution_count": 31,
   "id": "477a3925",
   "metadata": {},
   "outputs": [
    {
     "data": {
      "text/html": [
       "<div>\n",
       "<style scoped>\n",
       "    .dataframe tbody tr th:only-of-type {\n",
       "        vertical-align: middle;\n",
       "    }\n",
       "\n",
       "    .dataframe tbody tr th {\n",
       "        vertical-align: top;\n",
       "    }\n",
       "\n",
       "    .dataframe thead th {\n",
       "        text-align: right;\n",
       "    }\n",
       "</style>\n",
       "<table border=\"1\" class=\"dataframe\">\n",
       "  <thead>\n",
       "    <tr style=\"text-align: right;\">\n",
       "      <th></th>\n",
       "      <th>Date</th>\n",
       "      <th>Message_Type</th>\n",
       "      <th>Message_Content</th>\n",
       "    </tr>\n",
       "    <tr>\n",
       "      <th>Student_ID</th>\n",
       "      <th></th>\n",
       "      <th></th>\n",
       "      <th></th>\n",
       "    </tr>\n",
       "  </thead>\n",
       "  <tbody>\n",
       "    <tr>\n",
       "      <th>S10280</th>\n",
       "      <td>2024-11-26</td>\n",
       "      <td>Teacher to Parent</td>\n",
       "      <td>Focus argue generation each like her perhaps s...</td>\n",
       "    </tr>\n",
       "    <tr>\n",
       "      <th>S11432</th>\n",
       "      <td>2024-12-26</td>\n",
       "      <td>Automated Reminder</td>\n",
       "      <td>Environment me century also movement market ba...</td>\n",
       "    </tr>\n",
       "    <tr>\n",
       "      <th>S01411</th>\n",
       "      <td>2025-01-08</td>\n",
       "      <td>Parent to Teacher</td>\n",
       "      <td>To without country smile section subject shake...</td>\n",
       "    </tr>\n",
       "    <tr>\n",
       "      <th>S05035</th>\n",
       "      <td>2024-11-05</td>\n",
       "      <td>Parent to Teacher</td>\n",
       "      <td>Trial road source debate whole hair sea feelin...</td>\n",
       "    </tr>\n",
       "    <tr>\n",
       "      <th>S01799</th>\n",
       "      <td>2025-02-06</td>\n",
       "      <td>Teacher to Parent</td>\n",
       "      <td>Draw begin radio later article defense friend ...</td>\n",
       "    </tr>\n",
       "  </tbody>\n",
       "</table>\n",
       "</div>"
      ],
      "text/plain": [
       "                  Date        Message_Type  \\\n",
       "Student_ID                                   \n",
       "S10280      2024-11-26   Teacher to Parent   \n",
       "S11432      2024-12-26  Automated Reminder   \n",
       "S01411      2025-01-08   Parent to Teacher   \n",
       "S05035      2024-11-05   Parent to Teacher   \n",
       "S01799      2025-02-06   Teacher to Parent   \n",
       "\n",
       "                                              Message_Content  \n",
       "Student_ID                                                     \n",
       "S10280      Focus argue generation each like her perhaps s...  \n",
       "S11432      Environment me century also movement market ba...  \n",
       "S01411      To without country smile section subject shake...  \n",
       "S05035      Trial road source debate whole hair sea feelin...  \n",
       "S01799      Draw begin radio later article defense friend ...  "
      ]
     },
     "metadata": {},
     "output_type": "display_data"
    },
    {
     "name": "stdout",
     "output_type": "stream",
     "text": [
      "____________________________\n",
      "INFO\n",
      "<class 'pandas.core.frame.DataFrame'>\n",
      "Index: 24312 entries, S01133 to S03501\n",
      "Data columns (total 3 columns):\n",
      " #   Column           Non-Null Count  Dtype \n",
      "---  ------           --------------  ----- \n",
      " 0   Date             24312 non-null  object\n",
      " 1   Message_Type     24312 non-null  object\n",
      " 2   Message_Content  24312 non-null  object\n",
      "dtypes: object(3)\n",
      "memory usage: 759.8+ KB\n"
     ]
    },
    {
     "data": {
      "text/plain": [
       "None"
      ]
     },
     "metadata": {},
     "output_type": "display_data"
    },
    {
     "name": "stdout",
     "output_type": "stream",
     "text": [
      "____________________________\n",
      "NULOS\n"
     ]
    },
    {
     "data": {
      "text/plain": [
       "Date               0.0\n",
       "Message_Type       0.0\n",
       "Message_Content    0.0\n",
       "dtype: float64"
      ]
     },
     "metadata": {},
     "output_type": "display_data"
    },
    {
     "name": "stdout",
     "output_type": "stream",
     "text": [
      "____________________________\n",
      "DUPLICADOS\n"
     ]
    },
    {
     "data": {
      "text/plain": [
       "np.int64(737)"
      ]
     },
     "metadata": {},
     "output_type": "display_data"
    },
    {
     "name": "stdout",
     "output_type": "stream",
     "text": [
      "____________________________\n",
      "DESCRIBE\n"
     ]
    },
    {
     "data": {
      "text/html": [
       "<div>\n",
       "<style scoped>\n",
       "    .dataframe tbody tr th:only-of-type {\n",
       "        vertical-align: middle;\n",
       "    }\n",
       "\n",
       "    .dataframe tbody tr th {\n",
       "        vertical-align: top;\n",
       "    }\n",
       "\n",
       "    .dataframe thead th {\n",
       "        text-align: right;\n",
       "    }\n",
       "</style>\n",
       "<table border=\"1\" class=\"dataframe\">\n",
       "  <thead>\n",
       "    <tr style=\"text-align: right;\">\n",
       "      <th></th>\n",
       "      <th>count</th>\n",
       "      <th>unique</th>\n",
       "      <th>top</th>\n",
       "      <th>freq</th>\n",
       "    </tr>\n",
       "  </thead>\n",
       "  <tbody>\n",
       "    <tr>\n",
       "      <th>Date</th>\n",
       "      <td>24312</td>\n",
       "      <td>183</td>\n",
       "      <td>2025-02-18</td>\n",
       "      <td>164</td>\n",
       "    </tr>\n",
       "    <tr>\n",
       "      <th>Message_Type</th>\n",
       "      <td>24312</td>\n",
       "      <td>3</td>\n",
       "      <td>Teacher to Parent</td>\n",
       "      <td>8149</td>\n",
       "    </tr>\n",
       "    <tr>\n",
       "      <th>Message_Content</th>\n",
       "      <td>24312</td>\n",
       "      <td>23086</td>\n",
       "      <td></td>\n",
       "      <td>1227</td>\n",
       "    </tr>\n",
       "  </tbody>\n",
       "</table>\n",
       "</div>"
      ],
      "text/plain": [
       "                 count unique                top  freq\n",
       "Date             24312    183         2025-02-18   164\n",
       "Message_Type     24312      3  Teacher to Parent  8149\n",
       "Message_Content  24312  23086                     1227"
      ]
     },
     "metadata": {},
     "output_type": "display_data"
    },
    {
     "name": "stdout",
     "output_type": "stream",
     "text": [
      "____________________________\n",
      "DESCRIBE COLUMNAS OBJECT\n"
     ]
    },
    {
     "data": {
      "text/html": [
       "<div>\n",
       "<style scoped>\n",
       "    .dataframe tbody tr th:only-of-type {\n",
       "        vertical-align: middle;\n",
       "    }\n",
       "\n",
       "    .dataframe tbody tr th {\n",
       "        vertical-align: top;\n",
       "    }\n",
       "\n",
       "    .dataframe thead th {\n",
       "        text-align: right;\n",
       "    }\n",
       "</style>\n",
       "<table border=\"1\" class=\"dataframe\">\n",
       "  <thead>\n",
       "    <tr style=\"text-align: right;\">\n",
       "      <th></th>\n",
       "      <th>count</th>\n",
       "      <th>unique</th>\n",
       "      <th>top</th>\n",
       "      <th>freq</th>\n",
       "    </tr>\n",
       "  </thead>\n",
       "  <tbody>\n",
       "    <tr>\n",
       "      <th>Date</th>\n",
       "      <td>24312</td>\n",
       "      <td>183</td>\n",
       "      <td>2025-02-18</td>\n",
       "      <td>164</td>\n",
       "    </tr>\n",
       "    <tr>\n",
       "      <th>Message_Type</th>\n",
       "      <td>24312</td>\n",
       "      <td>3</td>\n",
       "      <td>Teacher to Parent</td>\n",
       "      <td>8149</td>\n",
       "    </tr>\n",
       "    <tr>\n",
       "      <th>Message_Content</th>\n",
       "      <td>24312</td>\n",
       "      <td>23086</td>\n",
       "      <td></td>\n",
       "      <td>1227</td>\n",
       "    </tr>\n",
       "  </tbody>\n",
       "</table>\n",
       "</div>"
      ],
      "text/plain": [
       "                 count unique                top  freq\n",
       "Date             24312    183         2025-02-18   164\n",
       "Message_Type     24312      3  Teacher to Parent  8149\n",
       "Message_Content  24312  23086                     1227"
      ]
     },
     "metadata": {},
     "output_type": "display_data"
    },
    {
     "name": "stdout",
     "output_type": "stream",
     "text": [
      "____________________________\n",
      "VALUE COUNTS\n",
      "Date\n",
      "2025-02-18    164\n",
      "2024-12-27    163\n",
      "2025-03-02    163\n",
      "2024-10-24    157\n",
      "2024-10-06    156\n",
      "             ... \n",
      "2024-09-20    110\n",
      "2024-12-03    108\n",
      "2024-10-10    108\n",
      "2025-02-22    107\n",
      "2024-11-21    103\n",
      "Name: count, Length: 183, dtype: int64\n",
      "Message_Type\n",
      "Teacher to Parent     8149\n",
      "Automated Reminder    8106\n",
      "Parent to Teacher     8057\n",
      "Name: count, dtype: int64\n",
      "Message_Content\n",
      "                                                                                                                                                            1227\n",
      "Than far indeed gun doctor concern hear whose policy people board traditional.                                                                                 1\n",
      "Than time unit nearly wrong man blue probably yes season civil car later both from those.                                                                      1\n",
      "Around positive side your city top common pretty again agent.                                                                                                  1\n",
      "Water provide four himself out during force they authority bring activity recently.                                                                            1\n",
      "                                                                                                                                                            ... \n",
      "Sort plant history about thank church still heart model off argue shake ahead audience nearly practice address pass know bag.                                  1\n",
      "Concern professor suffer thus take run think business receive concern according agree significant moment including technology Democrat this language he.       1\n",
      "Set lot control back computer expert raise south involve before enough either court time nearly travel turn.                                                   1\n",
      "Heavy down product cultural there staff move class tough white catch hit their yard sport exist.                                                               1\n",
      "Indicate best local but short environmental interesting address economy reduce indicate notice offer art despite responsibility art fall sell.                 1\n",
      "Name: count, Length: 23086, dtype: int64\n",
      "____________________________\n"
     ]
    }
   ],
   "source": [
    "#Ver dataframe 'df_communication'\n",
    "df_comm_preliminar =  sp.eda_preliminar(df_communication)\n",
    "df_comm_preliminar"
   ]
  },
  {
   "cell_type": "code",
   "execution_count": 32,
   "id": "1d1f258d",
   "metadata": {},
   "outputs": [
    {
     "data": {
      "text/html": [
       "<div>\n",
       "<style scoped>\n",
       "    .dataframe tbody tr th:only-of-type {\n",
       "        vertical-align: middle;\n",
       "    }\n",
       "\n",
       "    .dataframe tbody tr th {\n",
       "        vertical-align: top;\n",
       "    }\n",
       "\n",
       "    .dataframe thead th {\n",
       "        text-align: right;\n",
       "    }\n",
       "</style>\n",
       "<table border=\"1\" class=\"dataframe\">\n",
       "  <thead>\n",
       "    <tr style=\"text-align: right;\">\n",
       "      <th></th>\n",
       "      <th>date</th>\n",
       "      <th>message_type</th>\n",
       "      <th>message_content</th>\n",
       "    </tr>\n",
       "    <tr>\n",
       "      <th>student_id</th>\n",
       "      <th></th>\n",
       "      <th></th>\n",
       "      <th></th>\n",
       "    </tr>\n",
       "  </thead>\n",
       "  <tbody>\n",
       "    <tr>\n",
       "      <th>s03036</th>\n",
       "      <td>2024-11-01</td>\n",
       "      <td>parent to teacher</td>\n",
       "      <td>rather space meeting left always pretty alone ...</td>\n",
       "    </tr>\n",
       "    <tr>\n",
       "      <th>s08054</th>\n",
       "      <td>2024-11-07</td>\n",
       "      <td>teacher to parent</td>\n",
       "      <td>difficult individual study until remember beli...</td>\n",
       "    </tr>\n",
       "    <tr>\n",
       "      <th>s03785</th>\n",
       "      <td>2024-11-11</td>\n",
       "      <td>automated reminder</td>\n",
       "      <td>adult character artist treat thus participant ...</td>\n",
       "    </tr>\n",
       "    <tr>\n",
       "      <th>s10959</th>\n",
       "      <td>2024-09-30</td>\n",
       "      <td>teacher to parent</td>\n",
       "      <td>see dream election american grow those order l...</td>\n",
       "    </tr>\n",
       "    <tr>\n",
       "      <th>s00050</th>\n",
       "      <td>2025-02-02</td>\n",
       "      <td>teacher to parent</td>\n",
       "      <td>arm however same month kitchen perhaps preside...</td>\n",
       "    </tr>\n",
       "    <tr>\n",
       "      <th>s09212</th>\n",
       "      <td>2024-10-17</td>\n",
       "      <td>teacher to parent</td>\n",
       "      <td>part down since wait poor church group various...</td>\n",
       "    </tr>\n",
       "    <tr>\n",
       "      <th>s05702</th>\n",
       "      <td>2024-12-21</td>\n",
       "      <td>automated reminder</td>\n",
       "      <td>name of picture test always accept rate indeed...</td>\n",
       "    </tr>\n",
       "    <tr>\n",
       "      <th>s07032</th>\n",
       "      <td>2024-09-27</td>\n",
       "      <td>teacher to parent</td>\n",
       "      <td>inside fund another professor challenge month ...</td>\n",
       "    </tr>\n",
       "    <tr>\n",
       "      <th>s03010</th>\n",
       "      <td>2025-03-04</td>\n",
       "      <td>teacher to parent</td>\n",
       "      <td>have raise this mrs dream above approach buy m...</td>\n",
       "    </tr>\n",
       "    <tr>\n",
       "      <th>s05595</th>\n",
       "      <td>2024-11-06</td>\n",
       "      <td>parent to teacher</td>\n",
       "      <td>add book training however bed common say cup t...</td>\n",
       "    </tr>\n",
       "  </tbody>\n",
       "</table>\n",
       "</div>"
      ],
      "text/plain": [
       "                  date        message_type  \\\n",
       "student_id                                   \n",
       "s03036      2024-11-01   parent to teacher   \n",
       "s08054      2024-11-07   teacher to parent   \n",
       "s03785      2024-11-11  automated reminder   \n",
       "s10959      2024-09-30   teacher to parent   \n",
       "s00050      2025-02-02   teacher to parent   \n",
       "s09212      2024-10-17   teacher to parent   \n",
       "s05702      2024-12-21  automated reminder   \n",
       "s07032      2024-09-27   teacher to parent   \n",
       "s03010      2025-03-04   teacher to parent   \n",
       "s05595      2024-11-06   parent to teacher   \n",
       "\n",
       "                                              message_content  \n",
       "student_id                                                     \n",
       "s03036      rather space meeting left always pretty alone ...  \n",
       "s08054      difficult individual study until remember beli...  \n",
       "s03785      adult character artist treat thus participant ...  \n",
       "s10959      see dream election american grow those order l...  \n",
       "s00050      arm however same month kitchen perhaps preside...  \n",
       "s09212      part down since wait poor church group various...  \n",
       "s05702      name of picture test always accept rate indeed...  \n",
       "s07032      inside fund another professor challenge month ...  \n",
       "s03010      have raise this mrs dream above approach buy m...  \n",
       "s05595      add book training however bed common say cup t...  "
      ]
     },
     "execution_count": 32,
     "metadata": {},
     "output_type": "execute_result"
    }
   ],
   "source": [
    "df_communication = sp.valores_a_minus(df_communication)\n",
    "df_communication.sample(10)"
   ]
  },
  {
   "cell_type": "code",
   "execution_count": 33,
   "id": "d141cff2",
   "metadata": {},
   "outputs": [
    {
     "name": "stdout",
     "output_type": "stream",
     "text": [
      "Columna 'date_message' convertida a datetime con formato %Y-%m-%d.\n"
     ]
    },
    {
     "data": {
      "text/html": [
       "<div>\n",
       "<style scoped>\n",
       "    .dataframe tbody tr th:only-of-type {\n",
       "        vertical-align: middle;\n",
       "    }\n",
       "\n",
       "    .dataframe tbody tr th {\n",
       "        vertical-align: top;\n",
       "    }\n",
       "\n",
       "    .dataframe thead th {\n",
       "        text-align: right;\n",
       "    }\n",
       "</style>\n",
       "<table border=\"1\" class=\"dataframe\">\n",
       "  <thead>\n",
       "    <tr style=\"text-align: right;\">\n",
       "      <th></th>\n",
       "      <th>date_message</th>\n",
       "      <th>message_type</th>\n",
       "      <th>message_content</th>\n",
       "    </tr>\n",
       "    <tr>\n",
       "      <th>student_id</th>\n",
       "      <th></th>\n",
       "      <th></th>\n",
       "      <th></th>\n",
       "    </tr>\n",
       "  </thead>\n",
       "  <tbody>\n",
       "    <tr>\n",
       "      <th>s06190</th>\n",
       "      <td>2024-10-26</td>\n",
       "      <td>parent to teacher</td>\n",
       "      <td>develop include other consider fire now they u...</td>\n",
       "    </tr>\n",
       "    <tr>\n",
       "      <th>s04766</th>\n",
       "      <td>2024-12-20</td>\n",
       "      <td>parent to teacher</td>\n",
       "      <td>reveal score step remain hit approach characte...</td>\n",
       "    </tr>\n",
       "    <tr>\n",
       "      <th>s08915</th>\n",
       "      <td>2024-10-19</td>\n",
       "      <td>parent to teacher</td>\n",
       "      <td>letter new wonder audience herself level envir...</td>\n",
       "    </tr>\n",
       "    <tr>\n",
       "      <th>s10866</th>\n",
       "      <td>2024-11-11</td>\n",
       "      <td>teacher to parent</td>\n",
       "      <td>beyond history father change sound course hour...</td>\n",
       "    </tr>\n",
       "    <tr>\n",
       "      <th>s02816</th>\n",
       "      <td>2024-09-29</td>\n",
       "      <td>parent to teacher</td>\n",
       "      <td>next protect whatever style several provide tu...</td>\n",
       "    </tr>\n",
       "    <tr>\n",
       "      <th>s12003</th>\n",
       "      <td>2024-12-29</td>\n",
       "      <td>automated reminder</td>\n",
       "      <td>either economic system whatever consumer two a...</td>\n",
       "    </tr>\n",
       "    <tr>\n",
       "      <th>s00217</th>\n",
       "      <td>2024-12-22</td>\n",
       "      <td>teacher to parent</td>\n",
       "      <td>others current prove spend base during financi...</td>\n",
       "    </tr>\n",
       "    <tr>\n",
       "      <th>s07289</th>\n",
       "      <td>2024-11-05</td>\n",
       "      <td>automated reminder</td>\n",
       "      <td>yes new indeed feel heavy simple whatever scho...</td>\n",
       "    </tr>\n",
       "    <tr>\n",
       "      <th>s08011</th>\n",
       "      <td>2024-11-12</td>\n",
       "      <td>automated reminder</td>\n",
       "      <td>book impact image century election ground styl...</td>\n",
       "    </tr>\n",
       "    <tr>\n",
       "      <th>s04942</th>\n",
       "      <td>2024-10-15</td>\n",
       "      <td>teacher to parent</td>\n",
       "      <td>fly when recently past never feeling off clear...</td>\n",
       "    </tr>\n",
       "  </tbody>\n",
       "</table>\n",
       "</div>"
      ],
      "text/plain": [
       "           date_message        message_type  \\\n",
       "student_id                                    \n",
       "s06190       2024-10-26   parent to teacher   \n",
       "s04766       2024-12-20   parent to teacher   \n",
       "s08915       2024-10-19   parent to teacher   \n",
       "s10866       2024-11-11   teacher to parent   \n",
       "s02816       2024-09-29   parent to teacher   \n",
       "s12003       2024-12-29  automated reminder   \n",
       "s00217       2024-12-22   teacher to parent   \n",
       "s07289       2024-11-05  automated reminder   \n",
       "s08011       2024-11-12  automated reminder   \n",
       "s04942       2024-10-15   teacher to parent   \n",
       "\n",
       "                                              message_content  \n",
       "student_id                                                     \n",
       "s06190      develop include other consider fire now they u...  \n",
       "s04766      reveal score step remain hit approach characte...  \n",
       "s08915      letter new wonder audience herself level envir...  \n",
       "s10866      beyond history father change sound course hour...  \n",
       "s02816      next protect whatever style several provide tu...  \n",
       "s12003      either economic system whatever consumer two a...  \n",
       "s00217      others current prove spend base during financi...  \n",
       "s07289      yes new indeed feel heavy simple whatever scho...  \n",
       "s08011      book impact image century election ground styl...  \n",
       "s04942      fly when recently past never feeling off clear...  "
      ]
     },
     "execution_count": 33,
     "metadata": {},
     "output_type": "execute_result"
    }
   ],
   "source": [
    "#Cambiar el nombre de date a uno mas descriptivo y convertirlo a tipo datetime\n",
    "df_communication.rename(columns={'date':'date_message'}, inplace=True)\n",
    "\n",
    "df_communication = sp.convertir_columna_a_fecha(df_communication, 'date_message')\n",
    "df_communication.sample(10)"
   ]
  },
  {
   "cell_type": "code",
   "execution_count": 34,
   "id": "cd75f442",
   "metadata": {},
   "outputs": [
    {
     "name": "stdout",
     "output_type": "stream",
     "text": [
      "datetime64[ns]\n"
     ]
    }
   ],
   "source": [
    "#Comprobación del tipo de dato de la columna\n",
    "print(df_communication['date_message'].dtype)"
   ]
  },
  {
   "cell_type": "code",
   "execution_count": 35,
   "id": "2a0d1a5a",
   "metadata": {},
   "outputs": [
    {
     "name": "stdout",
     "output_type": "stream",
     "text": [
      "message_type\n",
      "teacher to parent     8149\n",
      "automated reminder    8106\n",
      "parent to teacher     8057\n",
      "Name: count, dtype: int64\n"
     ]
    }
   ],
   "source": [
    "#Comprobar los valores que hay en la columna 'date_message'\n",
    "print(df_communication['message_type'].value_counts())"
   ]
  },
  {
   "cell_type": "code",
   "execution_count": 36,
   "id": "90cfa059",
   "metadata": {},
   "outputs": [
    {
     "data": {
      "text/plain": [
       "(np.int64(1227), np.float64(5.05))"
      ]
     },
     "execution_count": 36,
     "metadata": {},
     "output_type": "execute_result"
    }
   ],
   "source": [
    "#Viendo la columna 'message_content' a través de la funcion eda_preliminar parece que hay campos vacíos (cadenas de texto vacías)\n",
    "# que no figuran como nulos.\n",
    "\n",
    "df_communication['message_content'] = df_communication['message_content'].replace('', np.nan)\n",
    "ver_nulos= sp.nulos_num_porcentaje(df_communication['message_content'])\n",
    "ver_nulos"
   ]
  },
  {
   "cell_type": "code",
   "execution_count": 37,
   "id": "5e311c5d",
   "metadata": {},
   "outputs": [],
   "source": [
    "#Eliminamos los nulos de 'message_content' ya que son escasos y buscamos tener el  dataframe lo más limpio posible.\n",
    "df_communication = df_communication.dropna(subset=['message_content'])"
   ]
  },
  {
   "cell_type": "code",
   "execution_count": 38,
   "id": "906d066d",
   "metadata": {},
   "outputs": [
    {
     "data": {
      "text/html": [
       "<div>\n",
       "<style scoped>\n",
       "    .dataframe tbody tr th:only-of-type {\n",
       "        vertical-align: middle;\n",
       "    }\n",
       "\n",
       "    .dataframe tbody tr th {\n",
       "        vertical-align: top;\n",
       "    }\n",
       "\n",
       "    .dataframe thead th {\n",
       "        text-align: right;\n",
       "    }\n",
       "</style>\n",
       "<table border=\"1\" class=\"dataframe\">\n",
       "  <thead>\n",
       "    <tr style=\"text-align: right;\">\n",
       "      <th></th>\n",
       "      <th>Subject</th>\n",
       "      <th>Exam_Score</th>\n",
       "      <th>Homework_Completion_%</th>\n",
       "      <th>Teacher_Comments</th>\n",
       "    </tr>\n",
       "    <tr>\n",
       "      <th>Student_ID</th>\n",
       "      <th></th>\n",
       "      <th></th>\n",
       "      <th></th>\n",
       "      <th></th>\n",
       "    </tr>\n",
       "  </thead>\n",
       "  <tbody>\n",
       "    <tr>\n",
       "      <th>S07340</th>\n",
       "      <td>English</td>\n",
       "      <td>82</td>\n",
       "      <td>90</td>\n",
       "      <td>Class can skill hotel play usually sure office...</td>\n",
       "    </tr>\n",
       "    <tr>\n",
       "      <th>S11192</th>\n",
       "      <td>Arabic</td>\n",
       "      <td>89</td>\n",
       "      <td>-5</td>\n",
       "      <td>Record contain fact say today generation devel...</td>\n",
       "    </tr>\n",
       "    <tr>\n",
       "      <th>S10666</th>\n",
       "      <td>Arabic</td>\n",
       "      <td>49</td>\n",
       "      <td>-5</td>\n",
       "      <td>And after for exist time son shoulder pattern ...</td>\n",
       "    </tr>\n",
       "    <tr>\n",
       "      <th>S06977</th>\n",
       "      <td>Arabic</td>\n",
       "      <td>62</td>\n",
       "      <td>100%</td>\n",
       "      <td>Ask view assume focus respond something sense ...</td>\n",
       "    </tr>\n",
       "    <tr>\n",
       "      <th>S06181</th>\n",
       "      <td>Arabic</td>\n",
       "      <td>41</td>\n",
       "      <td>80%</td>\n",
       "      <td>Law conference pass pattern sort play gun help...</td>\n",
       "    </tr>\n",
       "  </tbody>\n",
       "</table>\n",
       "</div>"
      ],
      "text/plain": [
       "            Subject  Exam_Score Homework_Completion_%  \\\n",
       "Student_ID                                              \n",
       "S07340      English          82                    90   \n",
       "S11192       Arabic          89                    -5   \n",
       "S10666       Arabic          49                    -5   \n",
       "S06977       Arabic          62                  100%   \n",
       "S06181       Arabic          41                   80%   \n",
       "\n",
       "                                             Teacher_Comments  \n",
       "Student_ID                                                     \n",
       "S07340      Class can skill hotel play usually sure office...  \n",
       "S11192      Record contain fact say today generation devel...  \n",
       "S10666      And after for exist time son shoulder pattern ...  \n",
       "S06977      Ask view assume focus respond something sense ...  \n",
       "S06181      Law conference pass pattern sort play gun help...  "
      ]
     },
     "metadata": {},
     "output_type": "display_data"
    },
    {
     "name": "stdout",
     "output_type": "stream",
     "text": [
      "____________________________\n",
      "INFO\n",
      "<class 'pandas.core.frame.DataFrame'>\n",
      "Index: 36468 entries, S00396 to S09604\n",
      "Data columns (total 4 columns):\n",
      " #   Column                 Non-Null Count  Dtype \n",
      "---  ------                 --------------  ----- \n",
      " 0   Subject                36468 non-null  object\n",
      " 1   Exam_Score             36468 non-null  int64 \n",
      " 2   Homework_Completion_%  36468 non-null  object\n",
      " 3   Teacher_Comments       36468 non-null  object\n",
      "dtypes: int64(1), object(3)\n",
      "memory usage: 1.4+ MB\n"
     ]
    },
    {
     "data": {
      "text/plain": [
       "None"
      ]
     },
     "metadata": {},
     "output_type": "display_data"
    },
    {
     "name": "stdout",
     "output_type": "stream",
     "text": [
      "____________________________\n",
      "NULOS\n"
     ]
    },
    {
     "data": {
      "text/plain": [
       "Subject                  0.0\n",
       "Exam_Score               0.0\n",
       "Homework_Completion_%    0.0\n",
       "Teacher_Comments         0.0\n",
       "dtype: float64"
      ]
     },
     "metadata": {},
     "output_type": "display_data"
    },
    {
     "name": "stdout",
     "output_type": "stream",
     "text": [
      "____________________________\n",
      "DUPLICADOS\n"
     ]
    },
    {
     "data": {
      "text/plain": [
       "np.int64(1858)"
      ]
     },
     "metadata": {},
     "output_type": "display_data"
    },
    {
     "name": "stdout",
     "output_type": "stream",
     "text": [
      "____________________________\n",
      "DESCRIBE\n"
     ]
    },
    {
     "data": {
      "text/html": [
       "<div>\n",
       "<style scoped>\n",
       "    .dataframe tbody tr th:only-of-type {\n",
       "        vertical-align: middle;\n",
       "    }\n",
       "\n",
       "    .dataframe tbody tr th {\n",
       "        vertical-align: top;\n",
       "    }\n",
       "\n",
       "    .dataframe thead th {\n",
       "        text-align: right;\n",
       "    }\n",
       "</style>\n",
       "<table border=\"1\" class=\"dataframe\">\n",
       "  <thead>\n",
       "    <tr style=\"text-align: right;\">\n",
       "      <th></th>\n",
       "      <th>count</th>\n",
       "      <th>mean</th>\n",
       "      <th>std</th>\n",
       "      <th>min</th>\n",
       "      <th>25%</th>\n",
       "      <th>50%</th>\n",
       "      <th>75%</th>\n",
       "      <th>max</th>\n",
       "    </tr>\n",
       "  </thead>\n",
       "  <tbody>\n",
       "    <tr>\n",
       "      <th>Exam_Score</th>\n",
       "      <td>36468.0</td>\n",
       "      <td>74.964243</td>\n",
       "      <td>20.538704</td>\n",
       "      <td>40.0</td>\n",
       "      <td>57.0</td>\n",
       "      <td>75.0</td>\n",
       "      <td>93.0</td>\n",
       "      <td>110.0</td>\n",
       "    </tr>\n",
       "  </tbody>\n",
       "</table>\n",
       "</div>"
      ],
      "text/plain": [
       "              count       mean        std   min   25%   50%   75%    max\n",
       "Exam_Score  36468.0  74.964243  20.538704  40.0  57.0  75.0  93.0  110.0"
      ]
     },
     "metadata": {},
     "output_type": "display_data"
    },
    {
     "name": "stdout",
     "output_type": "stream",
     "text": [
      "____________________________\n",
      "DESCRIBE COLUMNAS OBJECT\n"
     ]
    },
    {
     "data": {
      "text/html": [
       "<div>\n",
       "<style scoped>\n",
       "    .dataframe tbody tr th:only-of-type {\n",
       "        vertical-align: middle;\n",
       "    }\n",
       "\n",
       "    .dataframe tbody tr th {\n",
       "        vertical-align: top;\n",
       "    }\n",
       "\n",
       "    .dataframe thead th {\n",
       "        text-align: right;\n",
       "    }\n",
       "</style>\n",
       "<table border=\"1\" class=\"dataframe\">\n",
       "  <thead>\n",
       "    <tr style=\"text-align: right;\">\n",
       "      <th></th>\n",
       "      <th>count</th>\n",
       "      <th>unique</th>\n",
       "      <th>top</th>\n",
       "      <th>freq</th>\n",
       "    </tr>\n",
       "  </thead>\n",
       "  <tbody>\n",
       "    <tr>\n",
       "      <th>Subject</th>\n",
       "      <td>36468</td>\n",
       "      <td>6</td>\n",
       "      <td>Arabic</td>\n",
       "      <td>6224</td>\n",
       "    </tr>\n",
       "    <tr>\n",
       "      <th>Homework_Completion_%</th>\n",
       "      <td>36468</td>\n",
       "      <td>5</td>\n",
       "      <td>95</td>\n",
       "      <td>7453</td>\n",
       "    </tr>\n",
       "    <tr>\n",
       "      <th>Teacher_Comments</th>\n",
       "      <td>36468</td>\n",
       "      <td>32918</td>\n",
       "      <td></td>\n",
       "      <td>3551</td>\n",
       "    </tr>\n",
       "  </tbody>\n",
       "</table>\n",
       "</div>"
      ],
      "text/plain": [
       "                       count unique     top  freq\n",
       "Subject                36468      6  Arabic  6224\n",
       "Homework_Completion_%  36468      5      95  7453\n",
       "Teacher_Comments       36468  32918          3551"
      ]
     },
     "metadata": {},
     "output_type": "display_data"
    },
    {
     "name": "stdout",
     "output_type": "stream",
     "text": [
      "____________________________\n",
      "VALUE COUNTS\n",
      "Subject\n",
      "Arabic       6224\n",
      "Science      6093\n",
      "Geography    6082\n",
      "English      6043\n",
      "Math         6035\n",
      "History      5991\n",
      "Name: count, dtype: int64\n",
      "Homework_Completion_%\n",
      "95      7453\n",
      "-5      7376\n",
      "100%    7296\n",
      "80%     7283\n",
      "90      7060\n",
      "Name: count, dtype: int64\n",
      "Teacher_Comments\n",
      "                                                                             3551\n",
      "Including describe event yet middle assume rest any pick whatever oil.          1\n",
      "Set factor safe fine fast population including.                                 1\n",
      "Between current hotel west recognize believe hand on poor ball wonder.          1\n",
      "Probably specific science memory her stand since main.                          1\n",
      "                                                                             ... \n",
      "Environmental newspaper close story space season detail.                        1\n",
      "Music tend or occur know development see.                                       1\n",
      "Car the choice college consumer before perform receive red.                     1\n",
      "Relate box peace during executive production inside job chance high than.       1\n",
      "Main magazine consumer country any investment.                                  1\n",
      "Name: count, Length: 32918, dtype: int64\n",
      "____________________________\n"
     ]
    }
   ],
   "source": [
    "df_prfm_preliminar = sp.eda_preliminar(df_performance)\n",
    "df_prfm_preliminar"
   ]
  },
  {
   "cell_type": "code",
   "execution_count": 39,
   "id": "578f5eb8",
   "metadata": {},
   "outputs": [
    {
     "data": {
      "text/html": [
       "<div>\n",
       "<style scoped>\n",
       "    .dataframe tbody tr th:only-of-type {\n",
       "        vertical-align: middle;\n",
       "    }\n",
       "\n",
       "    .dataframe tbody tr th {\n",
       "        vertical-align: top;\n",
       "    }\n",
       "\n",
       "    .dataframe thead th {\n",
       "        text-align: right;\n",
       "    }\n",
       "</style>\n",
       "<table border=\"1\" class=\"dataframe\">\n",
       "  <thead>\n",
       "    <tr style=\"text-align: right;\">\n",
       "      <th></th>\n",
       "      <th>subject</th>\n",
       "      <th>exam_score</th>\n",
       "      <th>homework_completion_%</th>\n",
       "      <th>teacher_comments</th>\n",
       "    </tr>\n",
       "    <tr>\n",
       "      <th>student_id</th>\n",
       "      <th></th>\n",
       "      <th></th>\n",
       "      <th></th>\n",
       "      <th></th>\n",
       "    </tr>\n",
       "  </thead>\n",
       "  <tbody>\n",
       "    <tr>\n",
       "      <th>s05350</th>\n",
       "      <td>history</td>\n",
       "      <td>88</td>\n",
       "      <td>90</td>\n",
       "      <td>song probably ability perform suffer situation...</td>\n",
       "    </tr>\n",
       "    <tr>\n",
       "      <th>s12070</th>\n",
       "      <td>geography</td>\n",
       "      <td>107</td>\n",
       "      <td>-5</td>\n",
       "      <td></td>\n",
       "    </tr>\n",
       "    <tr>\n",
       "      <th>s06703</th>\n",
       "      <td>english</td>\n",
       "      <td>50</td>\n",
       "      <td>80%</td>\n",
       "      <td>discover protect model fine research look effort.</td>\n",
       "    </tr>\n",
       "    <tr>\n",
       "      <th>s03075</th>\n",
       "      <td>geography</td>\n",
       "      <td>64</td>\n",
       "      <td>95</td>\n",
       "      <td>company support because spend stop economic cu...</td>\n",
       "    </tr>\n",
       "    <tr>\n",
       "      <th>s11203</th>\n",
       "      <td>geography</td>\n",
       "      <td>58</td>\n",
       "      <td>90</td>\n",
       "      <td>result war stuff international film military f...</td>\n",
       "    </tr>\n",
       "    <tr>\n",
       "      <th>s09852</th>\n",
       "      <td>math</td>\n",
       "      <td>102</td>\n",
       "      <td>100%</td>\n",
       "      <td>process laugh similar entire public benefit he...</td>\n",
       "    </tr>\n",
       "    <tr>\n",
       "      <th>s03072</th>\n",
       "      <td>geography</td>\n",
       "      <td>43</td>\n",
       "      <td>95</td>\n",
       "      <td>what each remain player form series this.</td>\n",
       "    </tr>\n",
       "    <tr>\n",
       "      <th>s04305</th>\n",
       "      <td>geography</td>\n",
       "      <td>66</td>\n",
       "      <td>95</td>\n",
       "      <td>case today since according former i nothing wi...</td>\n",
       "    </tr>\n",
       "    <tr>\n",
       "      <th>s01406</th>\n",
       "      <td>geography</td>\n",
       "      <td>77</td>\n",
       "      <td>80%</td>\n",
       "      <td>yard husband we alone skin finish yeah.</td>\n",
       "    </tr>\n",
       "    <tr>\n",
       "      <th>s06532</th>\n",
       "      <td>math</td>\n",
       "      <td>43</td>\n",
       "      <td>90</td>\n",
       "      <td>old week cause write gas maintain second image...</td>\n",
       "    </tr>\n",
       "  </tbody>\n",
       "</table>\n",
       "</div>"
      ],
      "text/plain": [
       "              subject  exam_score homework_completion_%  \\\n",
       "student_id                                                \n",
       "s05350        history          88                    90   \n",
       "s12070      geography         107                    -5   \n",
       "s06703        english          50                   80%   \n",
       "s03075      geography          64                    95   \n",
       "s11203      geography          58                    90   \n",
       "s09852           math         102                  100%   \n",
       "s03072      geography          43                    95   \n",
       "s04305      geography          66                    95   \n",
       "s01406      geography          77                   80%   \n",
       "s06532           math          43                    90   \n",
       "\n",
       "                                             teacher_comments  \n",
       "student_id                                                     \n",
       "s05350      song probably ability perform suffer situation...  \n",
       "s12070                                                         \n",
       "s06703      discover protect model fine research look effort.  \n",
       "s03075      company support because spend stop economic cu...  \n",
       "s11203      result war stuff international film military f...  \n",
       "s09852      process laugh similar entire public benefit he...  \n",
       "s03072              what each remain player form series this.  \n",
       "s04305      case today since according former i nothing wi...  \n",
       "s01406                yard husband we alone skin finish yeah.  \n",
       "s06532      old week cause write gas maintain second image...  "
      ]
     },
     "execution_count": 39,
     "metadata": {},
     "output_type": "execute_result"
    }
   ],
   "source": [
    "df_performance = sp.valores_a_minus(df_performance)\n",
    "df_performance.sample(10)"
   ]
  },
  {
   "cell_type": "code",
   "execution_count": 40,
   "id": "176ea8e9",
   "metadata": {},
   "outputs": [
    {
     "name": "stdout",
     "output_type": "stream",
     "text": [
      "Outliers inferiores (<0):0, que corresponden al 0.0 de los datos\n",
      "Outliers superiores (>100):5139, que corresponden al 14.09 de los datos\n"
     ]
    }
   ],
   "source": [
    "#Sabiendo que las notas deben ser entre 0-100, aquellas inferiores a 0 y superiores a 100 van a ser outliers, tenemos que identificarlos \n",
    "#y saber cuantos son en porcentaje. \n",
    "\n",
    "#Filas de la columna\n",
    "total_filas = df_performance.shape[0]\n",
    "\n",
    "#Outliers inferioes\n",
    "outliers_inf = df_performance[df_performance['exam_score'] < 0]\n",
    "outliers_inf_num = outliers_inf.shape[0]\n",
    "outiersl_inf_porcentaje = round(outliers_inf_num / total_filas * 100, 2)\n",
    "\n",
    "#Outliers superiores\n",
    "outliers_sup = df_performance[df_performance['exam_score'] > 100]\n",
    "outliers_sup_num = outliers_sup.shape[0]\n",
    "outliers_sup_porcentaje = round(outliers_sup_num / total_filas * 100, 2)\n",
    "\n",
    "#Mostramos los resultados\n",
    "print(f\"Outliers inferiores (<0):{outliers_inf_num}, que corresponden al {outiersl_inf_porcentaje} de los datos\")\n",
    "print(f\"Outliers superiores (>100):{outliers_sup_num}, que corresponden al {outliers_sup_porcentaje} de los datos\")\n"
   ]
  },
  {
   "cell_type": "code",
   "execution_count": 41,
   "id": "e2424c8e",
   "metadata": {},
   "outputs": [],
   "source": [
    "#Dado que las notas deben oscilar entre 0 y 100 como mínimo y máximo esos outliers que representan un 14.09% de los datos,\n",
    "#no vamos a eliminarlos ya que en este análisis vamos a tener en cuenta el rendimiento en los exámenes. Por eso, los outliers vamos\n",
    "#a reescalarlos al máximo permitido, asumiendo que han sido errores del dataset original. \n",
    "\n",
    "df_performance.loc[df_performance['exam_score'] > 100, 'exam_score'] = 100"
   ]
  },
  {
   "cell_type": "code",
   "execution_count": 42,
   "id": "6e7330da",
   "metadata": {},
   "outputs": [
    {
     "name": "stdout",
     "output_type": "stream",
     "text": [
      "Outliers superiores (>100):5139, que corresponden al 14.09 de los datos\n"
     ]
    }
   ],
   "source": [
    "#Comprobamos que ya no hay outliers\n",
    "print(f\"Outliers superiores (>100):{outliers_sup_num}, que corresponden al {outliers_sup_porcentaje} de los datos\")\n"
   ]
  },
  {
   "cell_type": "code",
   "execution_count": 43,
   "id": "407c9b6d",
   "metadata": {},
   "outputs": [
    {
     "name": "stdout",
     "output_type": "stream",
     "text": [
      "Columna 'homework_completion_%' limpiada correctamente.\n"
     ]
    }
   ],
   "source": [
    "def limpiar_homework_completion(x):\n",
    "    \"\"\"\n",
    "    Limpia y convierte los valores de 'homework_completion_%' a números. Elimina el '%' de las cadenas y convierte a `float`. \n",
    "    Los valores negativos se convierten en 0 y los mayores a 100 se ajustan a 100.\n",
    "\n",
    "    Parámetros:\n",
    "    x (str, int, float): Valor a limpiar y convertir.\n",
    "\n",
    "    Devuelve:\n",
    "    float: Valor entre 0 y 100, o None si hay un error.\n",
    "    \"\"\"\n",
    "    try:\n",
    "        if isinstance(x, str) and '%' in x:\n",
    "            x = float(x.replace('%', '').strip())\n",
    "        elif isinstance(x, str):\n",
    "            x = float(x.strip())\n",
    "        elif isinstance(x, (int, float)):\n",
    "            x = float(x)\n",
    "        else:\n",
    "            return None\n",
    "        \n",
    "        if x < 0:\n",
    "            x = 0\n",
    "        elif x > 100:\n",
    "            x = 100\n",
    "        return x\n",
    "    except:\n",
    "        return None\n",
    "\n",
    "# Verificamos primero existencia de la columna antes de limpiar\n",
    "if 'homework_completion_%' in df_performance.columns:\n",
    "    # Limpiamos la columna 'homework_completion_%' directamente \n",
    "    df_performance['homework_completion_%'] = df_performance['homework_completion_%'].apply(limpiar_homework_completion)\n",
    "    # Convertimos los valores a formato porcentaje\n",
    "    df_performance['homework_completion_%'] = df_performance['homework_completion_%'].apply(lambda x: f\"{round(x)}%\" if x is not None else None)\n",
    "    print(\"Columna 'homework_completion_%' limpiada correctamente.\")\n",
    "else:\n",
    "    print(\"La columna 'homework_completion_%' no existe en df_performance.\")\n"
   ]
  },
  {
   "cell_type": "code",
   "execution_count": 44,
   "id": "5de52140",
   "metadata": {},
   "outputs": [
    {
     "data": {
      "text/html": [
       "<div>\n",
       "<style scoped>\n",
       "    .dataframe tbody tr th:only-of-type {\n",
       "        vertical-align: middle;\n",
       "    }\n",
       "\n",
       "    .dataframe tbody tr th {\n",
       "        vertical-align: top;\n",
       "    }\n",
       "\n",
       "    .dataframe thead th {\n",
       "        text-align: right;\n",
       "    }\n",
       "</style>\n",
       "<table border=\"1\" class=\"dataframe\">\n",
       "  <thead>\n",
       "    <tr style=\"text-align: right;\">\n",
       "      <th></th>\n",
       "      <th>subject</th>\n",
       "      <th>exam_score</th>\n",
       "      <th>homework_completion_%</th>\n",
       "      <th>teacher_comments</th>\n",
       "    </tr>\n",
       "    <tr>\n",
       "      <th>student_id</th>\n",
       "      <th></th>\n",
       "      <th></th>\n",
       "      <th></th>\n",
       "      <th></th>\n",
       "    </tr>\n",
       "  </thead>\n",
       "  <tbody>\n",
       "    <tr>\n",
       "      <th>s03734</th>\n",
       "      <td>english</td>\n",
       "      <td>93</td>\n",
       "      <td>100%</td>\n",
       "      <td>property staff mention class box seek.</td>\n",
       "    </tr>\n",
       "    <tr>\n",
       "      <th>s11921</th>\n",
       "      <td>math</td>\n",
       "      <td>96</td>\n",
       "      <td>95%</td>\n",
       "      <td></td>\n",
       "    </tr>\n",
       "    <tr>\n",
       "      <th>s06213</th>\n",
       "      <td>arabic</td>\n",
       "      <td>97</td>\n",
       "      <td>90%</td>\n",
       "      <td></td>\n",
       "    </tr>\n",
       "    <tr>\n",
       "      <th>s02455</th>\n",
       "      <td>english</td>\n",
       "      <td>88</td>\n",
       "      <td>90%</td>\n",
       "      <td>cultural recent moment produce station six pas...</td>\n",
       "    </tr>\n",
       "    <tr>\n",
       "      <th>s08427</th>\n",
       "      <td>english</td>\n",
       "      <td>77</td>\n",
       "      <td>100%</td>\n",
       "      <td>water every five take only letter.</td>\n",
       "    </tr>\n",
       "    <tr>\n",
       "      <th>s05771</th>\n",
       "      <td>arabic</td>\n",
       "      <td>74</td>\n",
       "      <td>0%</td>\n",
       "      <td></td>\n",
       "    </tr>\n",
       "    <tr>\n",
       "      <th>s11500</th>\n",
       "      <td>science</td>\n",
       "      <td>88</td>\n",
       "      <td>95%</td>\n",
       "      <td>catch special thank simple artist person pm by...</td>\n",
       "    </tr>\n",
       "    <tr>\n",
       "      <th>s03902</th>\n",
       "      <td>science</td>\n",
       "      <td>79</td>\n",
       "      <td>95%</td>\n",
       "      <td>just free still toward evening maybe.</td>\n",
       "    </tr>\n",
       "    <tr>\n",
       "      <th>s05249</th>\n",
       "      <td>math</td>\n",
       "      <td>70</td>\n",
       "      <td>90%</td>\n",
       "      <td></td>\n",
       "    </tr>\n",
       "    <tr>\n",
       "      <th>s03364</th>\n",
       "      <td>english</td>\n",
       "      <td>48</td>\n",
       "      <td>100%</td>\n",
       "      <td>girl page both media benefit just no admit man...</td>\n",
       "    </tr>\n",
       "  </tbody>\n",
       "</table>\n",
       "</div>"
      ],
      "text/plain": [
       "            subject  exam_score homework_completion_%  \\\n",
       "student_id                                              \n",
       "s03734      english          93                  100%   \n",
       "s11921         math          96                   95%   \n",
       "s06213       arabic          97                   90%   \n",
       "s02455      english          88                   90%   \n",
       "s08427      english          77                  100%   \n",
       "s05771       arabic          74                    0%   \n",
       "s11500      science          88                   95%   \n",
       "s03902      science          79                   95%   \n",
       "s05249         math          70                   90%   \n",
       "s03364      english          48                  100%   \n",
       "\n",
       "                                             teacher_comments  \n",
       "student_id                                                     \n",
       "s03734                 property staff mention class box seek.  \n",
       "s11921                                                         \n",
       "s06213                                                         \n",
       "s02455      cultural recent moment produce station six pas...  \n",
       "s08427                     water every five take only letter.  \n",
       "s05771                                                         \n",
       "s11500      catch special thank simple artist person pm by...  \n",
       "s03902                  just free still toward evening maybe.  \n",
       "s05249                                                         \n",
       "s03364      girl page both media benefit just no admit man...  "
      ]
     },
     "execution_count": 44,
     "metadata": {},
     "output_type": "execute_result"
    }
   ],
   "source": [
    "#Comprobamos que los valores de la columna 'homework_completion_%' sean consistentes\n",
    "df_performance.sample(10)"
   ]
  },
  {
   "cell_type": "code",
   "execution_count": 45,
   "id": "9bc4ee6c",
   "metadata": {},
   "outputs": [
    {
     "data": {
      "text/plain": [
       "(np.int64(3551), np.float64(9.74))"
      ]
     },
     "execution_count": 45,
     "metadata": {},
     "output_type": "execute_result"
    }
   ],
   "source": [
    "#Los campos vacíos de la columna 'teacher_comments' pasarlos a nulos para saber cuantos hay.np\n",
    "df_performance['teacher_comments'] = df_performance['teacher_comments'].replace('', np.nan)\n",
    "\n",
    "# Contar valores nulos en la columna 'teacher_comments'\n",
    "nulos = sp.nulos_num_porcentaje(df_performance['teacher_comments'])\n",
    "nulos"
   ]
  },
  {
   "cell_type": "code",
   "execution_count": 46,
   "id": "252ecee9",
   "metadata": {},
   "outputs": [
    {
     "data": {
      "text/html": [
       "<div>\n",
       "<style scoped>\n",
       "    .dataframe tbody tr th:only-of-type {\n",
       "        vertical-align: middle;\n",
       "    }\n",
       "\n",
       "    .dataframe tbody tr th {\n",
       "        vertical-align: top;\n",
       "    }\n",
       "\n",
       "    .dataframe thead th {\n",
       "        text-align: right;\n",
       "    }\n",
       "</style>\n",
       "<table border=\"1\" class=\"dataframe\">\n",
       "  <thead>\n",
       "    <tr style=\"text-align: right;\">\n",
       "      <th></th>\n",
       "      <th>subject</th>\n",
       "      <th>exam_score</th>\n",
       "      <th>homework_completion_%</th>\n",
       "      <th>teacher_comments</th>\n",
       "    </tr>\n",
       "    <tr>\n",
       "      <th>student_id</th>\n",
       "      <th></th>\n",
       "      <th></th>\n",
       "      <th></th>\n",
       "      <th></th>\n",
       "    </tr>\n",
       "  </thead>\n",
       "  <tbody>\n",
       "    <tr>\n",
       "      <th>s09627</th>\n",
       "      <td>math</td>\n",
       "      <td>94</td>\n",
       "      <td>0%</td>\n",
       "      <td>page performance ten then nothing candidate gr...</td>\n",
       "    </tr>\n",
       "    <tr>\n",
       "      <th>s02677</th>\n",
       "      <td>geography</td>\n",
       "      <td>100</td>\n",
       "      <td>0%</td>\n",
       "      <td>specific right pretty general easy carry reach...</td>\n",
       "    </tr>\n",
       "    <tr>\n",
       "      <th>s04790</th>\n",
       "      <td>science</td>\n",
       "      <td>89</td>\n",
       "      <td>0%</td>\n",
       "      <td>couple majority decision development second fo...</td>\n",
       "    </tr>\n",
       "    <tr>\n",
       "      <th>s04056</th>\n",
       "      <td>english</td>\n",
       "      <td>61</td>\n",
       "      <td>90%</td>\n",
       "      <td>audience between theory few action pull.</td>\n",
       "    </tr>\n",
       "    <tr>\n",
       "      <th>s06523</th>\n",
       "      <td>arabic</td>\n",
       "      <td>44</td>\n",
       "      <td>100%</td>\n",
       "      <td>work in summer arm produce song.</td>\n",
       "    </tr>\n",
       "    <tr>\n",
       "      <th>s11340</th>\n",
       "      <td>english</td>\n",
       "      <td>94</td>\n",
       "      <td>0%</td>\n",
       "      <td>size billion require mr skin ability phone its...</td>\n",
       "    </tr>\n",
       "    <tr>\n",
       "      <th>s10031</th>\n",
       "      <td>arabic</td>\n",
       "      <td>98</td>\n",
       "      <td>80%</td>\n",
       "      <td>No comment</td>\n",
       "    </tr>\n",
       "    <tr>\n",
       "      <th>s08242</th>\n",
       "      <td>science</td>\n",
       "      <td>100</td>\n",
       "      <td>100%</td>\n",
       "      <td>No comment</td>\n",
       "    </tr>\n",
       "    <tr>\n",
       "      <th>s06473</th>\n",
       "      <td>science</td>\n",
       "      <td>96</td>\n",
       "      <td>95%</td>\n",
       "      <td>should nothing federal arrive subject see.</td>\n",
       "    </tr>\n",
       "    <tr>\n",
       "      <th>s09078</th>\n",
       "      <td>history</td>\n",
       "      <td>95</td>\n",
       "      <td>80%</td>\n",
       "      <td>hour character knowledge like institution memb...</td>\n",
       "    </tr>\n",
       "  </tbody>\n",
       "</table>\n",
       "</div>"
      ],
      "text/plain": [
       "              subject  exam_score homework_completion_%  \\\n",
       "student_id                                                \n",
       "s09627           math          94                    0%   \n",
       "s02677      geography         100                    0%   \n",
       "s04790        science          89                    0%   \n",
       "s04056        english          61                   90%   \n",
       "s06523         arabic          44                  100%   \n",
       "s11340        english          94                    0%   \n",
       "s10031         arabic          98                   80%   \n",
       "s08242        science         100                  100%   \n",
       "s06473        science          96                   95%   \n",
       "s09078        history          95                   80%   \n",
       "\n",
       "                                             teacher_comments  \n",
       "student_id                                                     \n",
       "s09627      page performance ten then nothing candidate gr...  \n",
       "s02677      specific right pretty general easy carry reach...  \n",
       "s04790      couple majority decision development second fo...  \n",
       "s04056               audience between theory few action pull.  \n",
       "s06523                       work in summer arm produce song.  \n",
       "s11340      size billion require mr skin ability phone its...  \n",
       "s10031                                             No comment  \n",
       "s08242                                             No comment  \n",
       "s06473             should nothing federal arrive subject see.  \n",
       "s09078      hour character knowledge like institution memb...  "
      ]
     },
     "execution_count": 46,
     "metadata": {},
     "output_type": "execute_result"
    }
   ],
   "source": [
    "#Imputar las filas que tienen nulos (un 9.74%) ya que no queremos\n",
    "# perder el resto de información de esas filas.\n",
    "\n",
    "df_performance['teacher_comments'] = df_performance['teacher_comments'].fillna('No comment')\n",
    "\n",
    "df_performance.sample(10)"
   ]
  },
  {
   "cell_type": "code",
   "execution_count": 47,
   "id": "b8e61b5b",
   "metadata": {},
   "outputs": [
    {
     "data": {
      "text/html": [
       "<div>\n",
       "<style scoped>\n",
       "    .dataframe tbody tr th:only-of-type {\n",
       "        vertical-align: middle;\n",
       "    }\n",
       "\n",
       "    .dataframe tbody tr th {\n",
       "        vertical-align: top;\n",
       "    }\n",
       "\n",
       "    .dataframe thead th {\n",
       "        text-align: right;\n",
       "    }\n",
       "</style>\n",
       "<table border=\"1\" class=\"dataframe\">\n",
       "  <thead>\n",
       "    <tr style=\"text-align: right;\">\n",
       "      <th></th>\n",
       "      <th>Full_Name</th>\n",
       "      <th>Date_of_Birth</th>\n",
       "      <th>Grade_Level</th>\n",
       "      <th>Emergency_Contact</th>\n",
       "    </tr>\n",
       "    <tr>\n",
       "      <th>Student_ID</th>\n",
       "      <th></th>\n",
       "      <th></th>\n",
       "      <th></th>\n",
       "      <th></th>\n",
       "    </tr>\n",
       "  </thead>\n",
       "  <tbody>\n",
       "    <tr>\n",
       "      <th>S07915</th>\n",
       "      <td>david manning</td>\n",
       "      <td>2011-03-08</td>\n",
       "      <td>Grade 5</td>\n",
       "      <td>450-399-3339</td>\n",
       "    </tr>\n",
       "    <tr>\n",
       "      <th>S10641</th>\n",
       "      <td>Roger Hunter</td>\n",
       "      <td>2015-09-20</td>\n",
       "      <td>Grade 5</td>\n",
       "      <td>+1-920-533-2153x87106</td>\n",
       "    </tr>\n",
       "    <tr>\n",
       "      <th>S01268</th>\n",
       "      <td>Anthony Barrett</td>\n",
       "      <td>2015-05-04</td>\n",
       "      <td>Grade 2</td>\n",
       "      <td>(791)353-9421x22748</td>\n",
       "    </tr>\n",
       "    <tr>\n",
       "      <th>S02985</th>\n",
       "      <td>jenny morris</td>\n",
       "      <td>2010-12-23</td>\n",
       "      <td>Grade 3</td>\n",
       "      <td>276-650-5159</td>\n",
       "    </tr>\n",
       "    <tr>\n",
       "      <th>S00924</th>\n",
       "      <td>Kenneth Lambert</td>\n",
       "      <td>2017-10-18</td>\n",
       "      <td>Grade 5</td>\n",
       "      <td>550.724.6649</td>\n",
       "    </tr>\n",
       "  </tbody>\n",
       "</table>\n",
       "</div>"
      ],
      "text/plain": [
       "                  Full_Name Date_of_Birth Grade_Level      Emergency_Contact\n",
       "Student_ID                                                                  \n",
       "S07915        david manning    2011-03-08     Grade 5           450-399-3339\n",
       "S10641         Roger Hunter    2015-09-20     Grade 5  +1-920-533-2153x87106\n",
       "S01268      Anthony Barrett    2015-05-04     Grade 2    (791)353-9421x22748\n",
       "S02985         jenny morris    2010-12-23     Grade 3           276-650-5159\n",
       "S00924      Kenneth Lambert    2017-10-18     Grade 5           550.724.6649"
      ]
     },
     "metadata": {},
     "output_type": "display_data"
    },
    {
     "name": "stdout",
     "output_type": "stream",
     "text": [
      "____________________________\n",
      "INFO\n",
      "<class 'pandas.core.frame.DataFrame'>\n",
      "Index: 12156 entries, S00001 to S12156\n",
      "Data columns (total 4 columns):\n",
      " #   Column             Non-Null Count  Dtype \n",
      "---  ------             --------------  ----- \n",
      " 0   Full_Name          12156 non-null  object\n",
      " 1   Date_of_Birth      12156 non-null  object\n",
      " 2   Grade_Level        12156 non-null  object\n",
      " 3   Emergency_Contact  11538 non-null  object\n",
      "dtypes: object(4)\n",
      "memory usage: 474.8+ KB\n"
     ]
    },
    {
     "data": {
      "text/plain": [
       "None"
      ]
     },
     "metadata": {},
     "output_type": "display_data"
    },
    {
     "name": "stdout",
     "output_type": "stream",
     "text": [
      "____________________________\n",
      "NULOS\n"
     ]
    },
    {
     "data": {
      "text/plain": [
       "Full_Name            0.00\n",
       "Date_of_Birth        0.00\n",
       "Grade_Level          0.00\n",
       "Emergency_Contact    5.08\n",
       "dtype: float64"
      ]
     },
     "metadata": {},
     "output_type": "display_data"
    },
    {
     "name": "stdout",
     "output_type": "stream",
     "text": [
      "____________________________\n",
      "DUPLICADOS\n"
     ]
    },
    {
     "data": {
      "text/plain": [
       "np.int64(0)"
      ]
     },
     "metadata": {},
     "output_type": "display_data"
    },
    {
     "name": "stdout",
     "output_type": "stream",
     "text": [
      "____________________________\n",
      "DESCRIBE\n"
     ]
    },
    {
     "data": {
      "text/html": [
       "<div>\n",
       "<style scoped>\n",
       "    .dataframe tbody tr th:only-of-type {\n",
       "        vertical-align: middle;\n",
       "    }\n",
       "\n",
       "    .dataframe tbody tr th {\n",
       "        vertical-align: top;\n",
       "    }\n",
       "\n",
       "    .dataframe thead th {\n",
       "        text-align: right;\n",
       "    }\n",
       "</style>\n",
       "<table border=\"1\" class=\"dataframe\">\n",
       "  <thead>\n",
       "    <tr style=\"text-align: right;\">\n",
       "      <th></th>\n",
       "      <th>count</th>\n",
       "      <th>unique</th>\n",
       "      <th>top</th>\n",
       "      <th>freq</th>\n",
       "    </tr>\n",
       "  </thead>\n",
       "  <tbody>\n",
       "    <tr>\n",
       "      <th>Full_Name</th>\n",
       "      <td>12156</td>\n",
       "      <td>11442</td>\n",
       "      <td>Michael Smith</td>\n",
       "      <td>6</td>\n",
       "    </tr>\n",
       "    <tr>\n",
       "      <th>Date_of_Birth</th>\n",
       "      <td>12156</td>\n",
       "      <td>5350</td>\n",
       "      <td>2013-11-29</td>\n",
       "      <td>10</td>\n",
       "    </tr>\n",
       "    <tr>\n",
       "      <th>Grade_Level</th>\n",
       "      <td>12156</td>\n",
       "      <td>5</td>\n",
       "      <td>Grade 5</td>\n",
       "      <td>2472</td>\n",
       "    </tr>\n",
       "    <tr>\n",
       "      <th>Emergency_Contact</th>\n",
       "      <td>11538</td>\n",
       "      <td>11538</td>\n",
       "      <td>3793041001</td>\n",
       "      <td>1</td>\n",
       "    </tr>\n",
       "  </tbody>\n",
       "</table>\n",
       "</div>"
      ],
      "text/plain": [
       "                   count unique            top  freq\n",
       "Full_Name          12156  11442  Michael Smith     6\n",
       "Date_of_Birth      12156   5350     2013-11-29    10\n",
       "Grade_Level        12156      5        Grade 5  2472\n",
       "Emergency_Contact  11538  11538     3793041001     1"
      ]
     },
     "metadata": {},
     "output_type": "display_data"
    },
    {
     "name": "stdout",
     "output_type": "stream",
     "text": [
      "____________________________\n",
      "DESCRIBE COLUMNAS OBJECT\n"
     ]
    },
    {
     "data": {
      "text/html": [
       "<div>\n",
       "<style scoped>\n",
       "    .dataframe tbody tr th:only-of-type {\n",
       "        vertical-align: middle;\n",
       "    }\n",
       "\n",
       "    .dataframe tbody tr th {\n",
       "        vertical-align: top;\n",
       "    }\n",
       "\n",
       "    .dataframe thead th {\n",
       "        text-align: right;\n",
       "    }\n",
       "</style>\n",
       "<table border=\"1\" class=\"dataframe\">\n",
       "  <thead>\n",
       "    <tr style=\"text-align: right;\">\n",
       "      <th></th>\n",
       "      <th>count</th>\n",
       "      <th>unique</th>\n",
       "      <th>top</th>\n",
       "      <th>freq</th>\n",
       "    </tr>\n",
       "  </thead>\n",
       "  <tbody>\n",
       "    <tr>\n",
       "      <th>Full_Name</th>\n",
       "      <td>12156</td>\n",
       "      <td>11442</td>\n",
       "      <td>Michael Smith</td>\n",
       "      <td>6</td>\n",
       "    </tr>\n",
       "    <tr>\n",
       "      <th>Date_of_Birth</th>\n",
       "      <td>12156</td>\n",
       "      <td>5350</td>\n",
       "      <td>2013-11-29</td>\n",
       "      <td>10</td>\n",
       "    </tr>\n",
       "    <tr>\n",
       "      <th>Grade_Level</th>\n",
       "      <td>12156</td>\n",
       "      <td>5</td>\n",
       "      <td>Grade 5</td>\n",
       "      <td>2472</td>\n",
       "    </tr>\n",
       "    <tr>\n",
       "      <th>Emergency_Contact</th>\n",
       "      <td>11538</td>\n",
       "      <td>11538</td>\n",
       "      <td>3793041001</td>\n",
       "      <td>1</td>\n",
       "    </tr>\n",
       "  </tbody>\n",
       "</table>\n",
       "</div>"
      ],
      "text/plain": [
       "                   count unique            top  freq\n",
       "Full_Name          12156  11442  Michael Smith     6\n",
       "Date_of_Birth      12156   5350     2013-11-29    10\n",
       "Grade_Level        12156      5        Grade 5  2472\n",
       "Emergency_Contact  11538  11538     3793041001     1"
      ]
     },
     "metadata": {},
     "output_type": "display_data"
    },
    {
     "name": "stdout",
     "output_type": "stream",
     "text": [
      "____________________________\n",
      "VALUE COUNTS\n",
      "Full_Name\n",
      "Michael Smith     6\n",
      "Michael Lewis     5\n",
      "Michelle Smith    5\n",
      "Angela Harris     5\n",
      "James Smith       4\n",
      "                 ..\n",
      "Beth Stephens     1\n",
      "Ryan Robinson     1\n",
      "Juan Mccoy        1\n",
      "Denise Patton     1\n",
      "Keith Wood        1\n",
      "Name: count, Length: 11442, dtype: int64\n",
      "Date_of_Birth\n",
      "2013-11-29    10\n",
      "2011-06-10     9\n",
      "2017-04-17     9\n",
      "2011-06-04     9\n",
      "2006-03-11     8\n",
      "              ..\n",
      "2008-09-21     1\n",
      "2018-01-10     1\n",
      "2010-11-12     1\n",
      "2010-08-30     1\n",
      "2015-07-29     1\n",
      "Name: count, Length: 5350, dtype: int64\n",
      "Grade_Level\n",
      "Grade 5    2472\n",
      "Grade 4    2454\n",
      "Grade 3    2447\n",
      "Grade 2    2400\n",
      "Grade 1    2383\n",
      "Name: count, dtype: int64\n",
      "Emergency_Contact\n",
      "3793041001              1\n",
      "781-534-4258x9046       1\n",
      "(635)437-6131           1\n",
      "(270)269-1173x5503      1\n",
      "625.766.1101            1\n",
      "                       ..\n",
      "706.708.0421x412        1\n",
      "+1-933-864-5644x501     1\n",
      "+1-794-484-8495x7772    1\n",
      "306-771-1524x116        1\n",
      "308.517.3750            1\n",
      "Name: count, Length: 11538, dtype: int64\n",
      "____________________________\n"
     ]
    }
   ],
   "source": [
    "df_std_preliminar = sp.eda_preliminar(df_students)\n",
    "df_std_preliminar"
   ]
  },
  {
   "cell_type": "code",
   "execution_count": 48,
   "id": "7788e84d",
   "metadata": {},
   "outputs": [
    {
     "data": {
      "text/html": [
       "<div>\n",
       "<style scoped>\n",
       "    .dataframe tbody tr th:only-of-type {\n",
       "        vertical-align: middle;\n",
       "    }\n",
       "\n",
       "    .dataframe tbody tr th {\n",
       "        vertical-align: top;\n",
       "    }\n",
       "\n",
       "    .dataframe thead th {\n",
       "        text-align: right;\n",
       "    }\n",
       "</style>\n",
       "<table border=\"1\" class=\"dataframe\">\n",
       "  <thead>\n",
       "    <tr style=\"text-align: right;\">\n",
       "      <th></th>\n",
       "      <th>full_name</th>\n",
       "      <th>date_of_birth</th>\n",
       "      <th>grade_level</th>\n",
       "      <th>emergency_contact</th>\n",
       "    </tr>\n",
       "    <tr>\n",
       "      <th>student_id</th>\n",
       "      <th></th>\n",
       "      <th></th>\n",
       "      <th></th>\n",
       "      <th></th>\n",
       "    </tr>\n",
       "  </thead>\n",
       "  <tbody>\n",
       "    <tr>\n",
       "      <th>s07037</th>\n",
       "      <td>jason hooper md</td>\n",
       "      <td>2015-06-28</td>\n",
       "      <td>grade 1</td>\n",
       "      <td>(352)497-8800x4809</td>\n",
       "    </tr>\n",
       "    <tr>\n",
       "      <th>s04285</th>\n",
       "      <td>robert zimmerman</td>\n",
       "      <td>2018-12-15</td>\n",
       "      <td>grade 5</td>\n",
       "      <td>858.689.8812</td>\n",
       "    </tr>\n",
       "    <tr>\n",
       "      <th>s02213</th>\n",
       "      <td>janice lee</td>\n",
       "      <td>03-27-2008</td>\n",
       "      <td>grade 1</td>\n",
       "      <td>+1-448-883-0442x48878</td>\n",
       "    </tr>\n",
       "    <tr>\n",
       "      <th>s06957</th>\n",
       "      <td>michelle keith</td>\n",
       "      <td>07-13-2013</td>\n",
       "      <td>grade 4</td>\n",
       "      <td>(411)268-0662</td>\n",
       "    </tr>\n",
       "    <tr>\n",
       "      <th>s07540</th>\n",
       "      <td>carl nelson</td>\n",
       "      <td>2009-06-24</td>\n",
       "      <td>grade 5</td>\n",
       "      <td>624-520-1015x707</td>\n",
       "    </tr>\n",
       "    <tr>\n",
       "      <th>s01625</th>\n",
       "      <td>matthew lane</td>\n",
       "      <td>2006-10-27</td>\n",
       "      <td>grade 3</td>\n",
       "      <td>(332)858-8421x8500</td>\n",
       "    </tr>\n",
       "    <tr>\n",
       "      <th>s00988</th>\n",
       "      <td>tina lee</td>\n",
       "      <td>2010-04-02</td>\n",
       "      <td>grade 1</td>\n",
       "      <td>+1-965-928-2399</td>\n",
       "    </tr>\n",
       "    <tr>\n",
       "      <th>s07593</th>\n",
       "      <td>stephanie brown</td>\n",
       "      <td>2010-07-08</td>\n",
       "      <td>grade 2</td>\n",
       "      <td>5357596825</td>\n",
       "    </tr>\n",
       "    <tr>\n",
       "      <th>s08957</th>\n",
       "      <td>ryan smith</td>\n",
       "      <td>08-30-2008</td>\n",
       "      <td>grade 2</td>\n",
       "      <td>NaN</td>\n",
       "    </tr>\n",
       "    <tr>\n",
       "      <th>s08168</th>\n",
       "      <td>steven green</td>\n",
       "      <td>01-09-2011</td>\n",
       "      <td>grade 4</td>\n",
       "      <td>(434)811-3383x25198</td>\n",
       "    </tr>\n",
       "  </tbody>\n",
       "</table>\n",
       "</div>"
      ],
      "text/plain": [
       "                   full_name date_of_birth grade_level      emergency_contact\n",
       "student_id                                                                   \n",
       "s07037       jason hooper md    2015-06-28     grade 1     (352)497-8800x4809\n",
       "s04285      robert zimmerman    2018-12-15     grade 5           858.689.8812\n",
       "s02213            janice lee    03-27-2008     grade 1  +1-448-883-0442x48878\n",
       "s06957        michelle keith    07-13-2013     grade 4          (411)268-0662\n",
       "s07540           carl nelson    2009-06-24     grade 5       624-520-1015x707\n",
       "s01625          matthew lane    2006-10-27     grade 3     (332)858-8421x8500\n",
       "s00988              tina lee    2010-04-02     grade 1        +1-965-928-2399\n",
       "s07593       stephanie brown    2010-07-08     grade 2             5357596825\n",
       "s08957            ryan smith    08-30-2008     grade 2                    NaN\n",
       "s08168          steven green    01-09-2011     grade 4    (434)811-3383x25198"
      ]
     },
     "execution_count": 48,
     "metadata": {},
     "output_type": "execute_result"
    }
   ],
   "source": [
    "df_students = sp.valores_a_minus(df_students)\n",
    "df_students.sample(10)"
   ]
  },
  {
   "cell_type": "code",
   "execution_count": 49,
   "id": "d969fb4c",
   "metadata": {},
   "outputs": [
    {
     "name": "stdout",
     "output_type": "stream",
     "text": [
      "Columna 'date_of_birth' convertida a datetime con formato %Y-%m-%d.\n"
     ]
    },
    {
     "data": {
      "text/html": [
       "<div>\n",
       "<style scoped>\n",
       "    .dataframe tbody tr th:only-of-type {\n",
       "        vertical-align: middle;\n",
       "    }\n",
       "\n",
       "    .dataframe tbody tr th {\n",
       "        vertical-align: top;\n",
       "    }\n",
       "\n",
       "    .dataframe thead th {\n",
       "        text-align: right;\n",
       "    }\n",
       "</style>\n",
       "<table border=\"1\" class=\"dataframe\">\n",
       "  <thead>\n",
       "    <tr style=\"text-align: right;\">\n",
       "      <th></th>\n",
       "      <th>full_name</th>\n",
       "      <th>date_of_birth</th>\n",
       "      <th>grade_level</th>\n",
       "      <th>emergency_contact</th>\n",
       "    </tr>\n",
       "    <tr>\n",
       "      <th>student_id</th>\n",
       "      <th></th>\n",
       "      <th></th>\n",
       "      <th></th>\n",
       "      <th></th>\n",
       "    </tr>\n",
       "  </thead>\n",
       "  <tbody>\n",
       "    <tr>\n",
       "      <th>s03631</th>\n",
       "      <td>steven williams</td>\n",
       "      <td>2008-03-27</td>\n",
       "      <td>grade 2</td>\n",
       "      <td>+1-434-448-7044x9000</td>\n",
       "    </tr>\n",
       "    <tr>\n",
       "      <th>s00949</th>\n",
       "      <td>karen lynch</td>\n",
       "      <td>2008-03-16</td>\n",
       "      <td>grade 2</td>\n",
       "      <td>+1-460-495-3827x284</td>\n",
       "    </tr>\n",
       "    <tr>\n",
       "      <th>s10024</th>\n",
       "      <td>kimberly rowe</td>\n",
       "      <td>2016-09-25</td>\n",
       "      <td>grade 5</td>\n",
       "      <td>417-693-0536</td>\n",
       "    </tr>\n",
       "    <tr>\n",
       "      <th>s07023</th>\n",
       "      <td>earl rose</td>\n",
       "      <td>2007-12-15</td>\n",
       "      <td>grade 4</td>\n",
       "      <td>(679)904-8608x56332</td>\n",
       "    </tr>\n",
       "    <tr>\n",
       "      <th>s10673</th>\n",
       "      <td>kimberly casey</td>\n",
       "      <td>2014-09-29</td>\n",
       "      <td>grade 1</td>\n",
       "      <td>456.627.7765</td>\n",
       "    </tr>\n",
       "    <tr>\n",
       "      <th>s09078</th>\n",
       "      <td>eric kelly</td>\n",
       "      <td>2010-05-31</td>\n",
       "      <td>grade 4</td>\n",
       "      <td>001-551-441-4125x114</td>\n",
       "    </tr>\n",
       "    <tr>\n",
       "      <th>s03586</th>\n",
       "      <td>emily terry</td>\n",
       "      <td>2010-01-11</td>\n",
       "      <td>grade 2</td>\n",
       "      <td>5857988028</td>\n",
       "    </tr>\n",
       "    <tr>\n",
       "      <th>s10240</th>\n",
       "      <td>kenneth lewis</td>\n",
       "      <td>NaT</td>\n",
       "      <td>grade 5</td>\n",
       "      <td>(795)243-5810</td>\n",
       "    </tr>\n",
       "    <tr>\n",
       "      <th>s01585</th>\n",
       "      <td>elizabeth wells</td>\n",
       "      <td>2014-02-18</td>\n",
       "      <td>grade 4</td>\n",
       "      <td>7879149571</td>\n",
       "    </tr>\n",
       "    <tr>\n",
       "      <th>s00291</th>\n",
       "      <td>victoria tucker</td>\n",
       "      <td>2013-06-27</td>\n",
       "      <td>grade 4</td>\n",
       "      <td>926.830.9225x170</td>\n",
       "    </tr>\n",
       "  </tbody>\n",
       "</table>\n",
       "</div>"
      ],
      "text/plain": [
       "                  full_name date_of_birth grade_level     emergency_contact\n",
       "student_id                                                                 \n",
       "s03631      steven williams    2008-03-27     grade 2  +1-434-448-7044x9000\n",
       "s00949          karen lynch    2008-03-16     grade 2   +1-460-495-3827x284\n",
       "s10024        kimberly rowe    2016-09-25     grade 5          417-693-0536\n",
       "s07023            earl rose    2007-12-15     grade 4   (679)904-8608x56332\n",
       "s10673       kimberly casey    2014-09-29     grade 1          456.627.7765\n",
       "s09078           eric kelly    2010-05-31     grade 4  001-551-441-4125x114\n",
       "s03586          emily terry    2010-01-11     grade 2            5857988028\n",
       "s10240        kenneth lewis           NaT     grade 5         (795)243-5810\n",
       "s01585      elizabeth wells    2014-02-18     grade 4            7879149571\n",
       "s00291      victoria tucker    2013-06-27     grade 4      926.830.9225x170"
      ]
     },
     "execution_count": 49,
     "metadata": {},
     "output_type": "execute_result"
    }
   ],
   "source": [
    "#Pasar la columna date_of_birth al formato correcto\n",
    "df_students = sp.convertir_columna_a_fecha(df_students,'date_of_birth')\n",
    "df_students.sample(10)"
   ]
  },
  {
   "cell_type": "code",
   "execution_count": 50,
   "id": "c57aafe5",
   "metadata": {},
   "outputs": [
    {
     "data": {
      "text/plain": [
       "(np.int64(1205), np.float64(9.91))"
      ]
     },
     "execution_count": 50,
     "metadata": {},
     "output_type": "execute_result"
    }
   ],
   "source": [
    "#Comprobar los valores nulos de 'date_of_birth'\n",
    "nulos = sp.nulos_num_porcentaje(df_students['date_of_birth'])\n",
    "nulos"
   ]
  },
  {
   "cell_type": "code",
   "execution_count": 51,
   "id": "5c841157",
   "metadata": {},
   "outputs": [],
   "source": [
    "#Eliminar los nulos de 'date_of_birth' de los estudiantes porque no es un dato relevante este dato demográfico para el analisis.\n",
    "#Estamos analizando las notas, asistencias y productividad de los estudiantes.\n",
    "df_students = df_students.dropna(subset=['date_of_birth'])"
   ]
  },
  {
   "cell_type": "code",
   "execution_count": 52,
   "id": "67d6c59c",
   "metadata": {},
   "outputs": [
    {
     "name": "stderr",
     "output_type": "stream",
     "text": [
      "<>:3: SyntaxWarning: invalid escape sequence '\\d'\n",
      "<>:3: SyntaxWarning: invalid escape sequence '\\d'\n",
      "C:\\Users\\pooo_\\AppData\\Local\\Temp\\ipykernel_17276\\1318979116.py:3: SyntaxWarning: invalid escape sequence '\\d'\n",
      "  df_students['grade_level'] = df_students['grade_level'].str.extract('(\\d+)').astype(int)\n"
     ]
    },
    {
     "data": {
      "text/html": [
       "<div>\n",
       "<style scoped>\n",
       "    .dataframe tbody tr th:only-of-type {\n",
       "        vertical-align: middle;\n",
       "    }\n",
       "\n",
       "    .dataframe tbody tr th {\n",
       "        vertical-align: top;\n",
       "    }\n",
       "\n",
       "    .dataframe thead th {\n",
       "        text-align: right;\n",
       "    }\n",
       "</style>\n",
       "<table border=\"1\" class=\"dataframe\">\n",
       "  <thead>\n",
       "    <tr style=\"text-align: right;\">\n",
       "      <th></th>\n",
       "      <th>full_name</th>\n",
       "      <th>date_of_birth</th>\n",
       "      <th>grade_level</th>\n",
       "      <th>emergency_contact</th>\n",
       "    </tr>\n",
       "    <tr>\n",
       "      <th>student_id</th>\n",
       "      <th></th>\n",
       "      <th></th>\n",
       "      <th></th>\n",
       "      <th></th>\n",
       "    </tr>\n",
       "  </thead>\n",
       "  <tbody>\n",
       "    <tr>\n",
       "      <th>s04352</th>\n",
       "      <td>timothy hanson</td>\n",
       "      <td>2006-06-22</td>\n",
       "      <td>2</td>\n",
       "      <td>965-407-5032x0697</td>\n",
       "    </tr>\n",
       "    <tr>\n",
       "      <th>s05506</th>\n",
       "      <td>brandy little</td>\n",
       "      <td>2006-12-11</td>\n",
       "      <td>5</td>\n",
       "      <td>(943)531-7066x64911</td>\n",
       "    </tr>\n",
       "    <tr>\n",
       "      <th>s03829</th>\n",
       "      <td>jennifer brown</td>\n",
       "      <td>2015-09-12</td>\n",
       "      <td>1</td>\n",
       "      <td>(643)703-0916x716</td>\n",
       "    </tr>\n",
       "    <tr>\n",
       "      <th>s03866</th>\n",
       "      <td>ivan gibson</td>\n",
       "      <td>2008-12-11</td>\n",
       "      <td>1</td>\n",
       "      <td>(274)605-3733</td>\n",
       "    </tr>\n",
       "    <tr>\n",
       "      <th>s10336</th>\n",
       "      <td>brandon smith</td>\n",
       "      <td>2016-09-09</td>\n",
       "      <td>4</td>\n",
       "      <td>3388810748</td>\n",
       "    </tr>\n",
       "  </tbody>\n",
       "</table>\n",
       "</div>"
      ],
      "text/plain": [
       "                 full_name date_of_birth  grade_level    emergency_contact\n",
       "student_id                                                                \n",
       "s04352      timothy hanson    2006-06-22            2    965-407-5032x0697\n",
       "s05506       brandy little    2006-12-11            5  (943)531-7066x64911\n",
       "s03829      jennifer brown    2015-09-12            1    (643)703-0916x716\n",
       "s03866         ivan gibson    2008-12-11            1        (274)605-3733\n",
       "s10336       brandon smith    2016-09-09            4           3388810748"
      ]
     },
     "execution_count": 52,
     "metadata": {},
     "output_type": "execute_result"
    }
   ],
   "source": [
    "#Pasar la columna 'grade' a numerica. \n",
    "\n",
    "df_students['grade_level'] = df_students['grade_level'].str.extract('(\\d+)').astype(int)\n",
    "df_students.sample(5)"
   ]
  },
  {
   "cell_type": "code",
   "execution_count": 53,
   "id": "cbbd7781",
   "metadata": {},
   "outputs": [
    {
     "data": {
      "text/plain": [
       "(np.int64(558), np.float64(5.1))"
      ]
     },
     "execution_count": 53,
     "metadata": {},
     "output_type": "execute_result"
    }
   ],
   "source": [
    "#Contar los nulos de emergency_contact y valor que hacer con ellos.\n",
    "nulos_emergency_contact =sp.nulos_num_porcentaje(df_students['emergency_contact'])\n",
    "nulos_emergency_contact"
   ]
  },
  {
   "cell_type": "code",
   "execution_count": 54,
   "id": "1ef6b9ad",
   "metadata": {},
   "outputs": [],
   "source": [
    "#Eliminamos estos nulos porque no son relevantes y queremos filas lo más completaas posibles.\n",
    "df_students = df_students.dropna(subset=['emergency_contact'])"
   ]
  },
  {
   "cell_type": "markdown",
   "id": "4c59e631",
   "metadata": {},
   "source": [
    "# 2. Análisis descriptivo de los datos"
   ]
  },
  {
   "cell_type": "markdown",
   "id": "dab9e80d",
   "metadata": {},
   "source": [
    "### 2.1. Resumen estadístico "
   ]
  },
  {
   "cell_type": "code",
   "execution_count": 55,
   "id": "e015f1b2",
   "metadata": {},
   "outputs": [
    {
     "data": {
      "text/html": [
       "<div>\n",
       "<style scoped>\n",
       "    .dataframe tbody tr th:only-of-type {\n",
       "        vertical-align: middle;\n",
       "    }\n",
       "\n",
       "    .dataframe tbody tr th {\n",
       "        vertical-align: top;\n",
       "    }\n",
       "\n",
       "    .dataframe thead tr th {\n",
       "        text-align: left;\n",
       "    }\n",
       "</style>\n",
       "<table border=\"1\" class=\"dataframe\">\n",
       "  <thead>\n",
       "    <tr>\n",
       "      <th></th>\n",
       "      <th colspan=\"7\" halign=\"left\">Estadísticas Numéricas</th>\n",
       "      <th colspan=\"4\" halign=\"left\">Estadísticas Categóricas</th>\n",
       "    </tr>\n",
       "    <tr>\n",
       "      <th></th>\n",
       "      <th>count</th>\n",
       "      <th>mean</th>\n",
       "      <th>min</th>\n",
       "      <th>25%</th>\n",
       "      <th>50%</th>\n",
       "      <th>75%</th>\n",
       "      <th>max</th>\n",
       "      <th>count</th>\n",
       "      <th>unique</th>\n",
       "      <th>top</th>\n",
       "      <th>freq</th>\n",
       "    </tr>\n",
       "  </thead>\n",
       "  <tbody>\n",
       "    <tr>\n",
       "      <th>att_date</th>\n",
       "      <td>364680</td>\n",
       "      <td>2024-09-07 11:13:51.352418560</td>\n",
       "      <td>2024-03-09 00:00:00</td>\n",
       "      <td>2024-06-08 00:00:00</td>\n",
       "      <td>2024-09-07 00:00:00</td>\n",
       "      <td>2024-12-08 00:00:00</td>\n",
       "      <td>2025-03-09 00:00:00</td>\n",
       "      <td>NaN</td>\n",
       "      <td>NaN</td>\n",
       "      <td>NaN</td>\n",
       "      <td>NaN</td>\n",
       "    </tr>\n",
       "    <tr>\n",
       "      <th>subject</th>\n",
       "      <td>NaN</td>\n",
       "      <td>NaN</td>\n",
       "      <td>NaN</td>\n",
       "      <td>NaN</td>\n",
       "      <td>NaN</td>\n",
       "      <td>NaN</td>\n",
       "      <td>NaN</td>\n",
       "      <td>364680</td>\n",
       "      <td>6</td>\n",
       "      <td>math</td>\n",
       "      <td>61241</td>\n",
       "    </tr>\n",
       "    <tr>\n",
       "      <th>att_status</th>\n",
       "      <td>NaN</td>\n",
       "      <td>NaN</td>\n",
       "      <td>NaN</td>\n",
       "      <td>NaN</td>\n",
       "      <td>NaN</td>\n",
       "      <td>NaN</td>\n",
       "      <td>NaN</td>\n",
       "      <td>364680</td>\n",
       "      <td>5</td>\n",
       "      <td>present</td>\n",
       "      <td>91614</td>\n",
       "    </tr>\n",
       "  </tbody>\n",
       "</table>\n",
       "</div>"
      ],
      "text/plain": [
       "           Estadísticas Numéricas                                 \\\n",
       "                            count                           mean   \n",
       "att_date                   364680  2024-09-07 11:13:51.352418560   \n",
       "subject                       NaN                            NaN   \n",
       "att_status                    NaN                            NaN   \n",
       "\n",
       "                                                                           \\\n",
       "                            min                  25%                  50%   \n",
       "att_date    2024-03-09 00:00:00  2024-06-08 00:00:00  2024-09-07 00:00:00   \n",
       "subject                     NaN                  NaN                  NaN   \n",
       "att_status                  NaN                  NaN                  NaN   \n",
       "\n",
       "                                                     Estadísticas Categóricas  \\\n",
       "                            75%                  max                    count   \n",
       "att_date    2024-12-08 00:00:00  2025-03-09 00:00:00                      NaN   \n",
       "subject                     NaN                  NaN                   364680   \n",
       "att_status                  NaN                  NaN                   364680   \n",
       "\n",
       "                                   \n",
       "           unique      top   freq  \n",
       "att_date      NaN      NaN    NaN  \n",
       "subject         6     math  61241  \n",
       "att_status      5  present  91614  "
      ]
     },
     "execution_count": 55,
     "metadata": {},
     "output_type": "execute_result"
    }
   ],
   "source": [
    "#Ver estadísticas df_attendance\n",
    "att_stats = sp.obtener_estadisticas(df_attendance)\n",
    "att_stats"
   ]
  },
  {
   "cell_type": "code",
   "execution_count": 56,
   "id": "b92f9d10",
   "metadata": {},
   "outputs": [
    {
     "data": {
      "text/html": [
       "<div>\n",
       "<style scoped>\n",
       "    .dataframe tbody tr th:only-of-type {\n",
       "        vertical-align: middle;\n",
       "    }\n",
       "\n",
       "    .dataframe tbody tr th {\n",
       "        vertical-align: top;\n",
       "    }\n",
       "\n",
       "    .dataframe thead tr th {\n",
       "        text-align: left;\n",
       "    }\n",
       "</style>\n",
       "<table border=\"1\" class=\"dataframe\">\n",
       "  <thead>\n",
       "    <tr>\n",
       "      <th></th>\n",
       "      <th colspan=\"7\" halign=\"left\">Estadísticas Numéricas</th>\n",
       "      <th colspan=\"4\" halign=\"left\">Estadísticas Categóricas</th>\n",
       "    </tr>\n",
       "    <tr>\n",
       "      <th></th>\n",
       "      <th>count</th>\n",
       "      <th>mean</th>\n",
       "      <th>min</th>\n",
       "      <th>25%</th>\n",
       "      <th>50%</th>\n",
       "      <th>75%</th>\n",
       "      <th>max</th>\n",
       "      <th>count</th>\n",
       "      <th>unique</th>\n",
       "      <th>top</th>\n",
       "      <th>freq</th>\n",
       "    </tr>\n",
       "  </thead>\n",
       "  <tbody>\n",
       "    <tr>\n",
       "      <th>due_date</th>\n",
       "      <td>60780</td>\n",
       "      <td>2024-12-08 12:05:09.891411968</td>\n",
       "      <td>2024-09-08 00:00:00</td>\n",
       "      <td>2024-11-05 00:00:00</td>\n",
       "      <td>2024-12-09 00:00:00</td>\n",
       "      <td>2025-01-11 00:00:00</td>\n",
       "      <td>2025-03-09 00:00:00</td>\n",
       "      <td>NaN</td>\n",
       "      <td>NaN</td>\n",
       "      <td>NaN</td>\n",
       "      <td>NaN</td>\n",
       "    </tr>\n",
       "    <tr>\n",
       "      <th>subject</th>\n",
       "      <td>NaN</td>\n",
       "      <td>NaN</td>\n",
       "      <td>NaN</td>\n",
       "      <td>NaN</td>\n",
       "      <td>NaN</td>\n",
       "      <td>NaN</td>\n",
       "      <td>NaN</td>\n",
       "      <td>60780</td>\n",
       "      <td>6</td>\n",
       "      <td>english</td>\n",
       "      <td>10209</td>\n",
       "    </tr>\n",
       "    <tr>\n",
       "      <th>assignment_name</th>\n",
       "      <td>NaN</td>\n",
       "      <td>NaN</td>\n",
       "      <td>NaN</td>\n",
       "      <td>NaN</td>\n",
       "      <td>NaN</td>\n",
       "      <td>NaN</td>\n",
       "      <td>NaN</td>\n",
       "      <td>60780</td>\n",
       "      <td>56065</td>\n",
       "      <td>also.</td>\n",
       "      <td>15</td>\n",
       "    </tr>\n",
       "    <tr>\n",
       "      <th>status</th>\n",
       "      <td>NaN</td>\n",
       "      <td>NaN</td>\n",
       "      <td>NaN</td>\n",
       "      <td>NaN</td>\n",
       "      <td>NaN</td>\n",
       "      <td>NaN</td>\n",
       "      <td>NaN</td>\n",
       "      <td>60780</td>\n",
       "      <td>3</td>\n",
       "      <td>done</td>\n",
       "      <td>30381</td>\n",
       "    </tr>\n",
       "    <tr>\n",
       "      <th>grade_feedback</th>\n",
       "      <td>NaN</td>\n",
       "      <td>NaN</td>\n",
       "      <td>NaN</td>\n",
       "      <td>NaN</td>\n",
       "      <td>NaN</td>\n",
       "      <td>NaN</td>\n",
       "      <td>NaN</td>\n",
       "      <td>60780</td>\n",
       "      <td>8</td>\n",
       "      <td>a+</td>\n",
       "      <td>7709</td>\n",
       "    </tr>\n",
       "    <tr>\n",
       "      <th>guardian_signature</th>\n",
       "      <td>NaN</td>\n",
       "      <td>NaN</td>\n",
       "      <td>NaN</td>\n",
       "      <td>NaN</td>\n",
       "      <td>NaN</td>\n",
       "      <td>NaN</td>\n",
       "      <td>NaN</td>\n",
       "      <td>60780</td>\n",
       "      <td>3</td>\n",
       "      <td>no</td>\n",
       "      <td>20372</td>\n",
       "    </tr>\n",
       "  </tbody>\n",
       "</table>\n",
       "</div>"
      ],
      "text/plain": [
       "                   Estadísticas Numéricas                                 \\\n",
       "                                    count                           mean   \n",
       "due_date                            60780  2024-12-08 12:05:09.891411968   \n",
       "subject                               NaN                            NaN   \n",
       "assignment_name                       NaN                            NaN   \n",
       "status                                NaN                            NaN   \n",
       "grade_feedback                        NaN                            NaN   \n",
       "guardian_signature                    NaN                            NaN   \n",
       "\n",
       "                                                              \\\n",
       "                                    min                  25%   \n",
       "due_date            2024-09-08 00:00:00  2024-11-05 00:00:00   \n",
       "subject                             NaN                  NaN   \n",
       "assignment_name                     NaN                  NaN   \n",
       "status                              NaN                  NaN   \n",
       "grade_feedback                      NaN                  NaN   \n",
       "guardian_signature                  NaN                  NaN   \n",
       "\n",
       "                                                              \\\n",
       "                                    50%                  75%   \n",
       "due_date            2024-12-09 00:00:00  2025-01-11 00:00:00   \n",
       "subject                             NaN                  NaN   \n",
       "assignment_name                     NaN                  NaN   \n",
       "status                              NaN                  NaN   \n",
       "grade_feedback                      NaN                  NaN   \n",
       "guardian_signature                  NaN                  NaN   \n",
       "\n",
       "                                        Estadísticas Categóricas         \\\n",
       "                                    max                    count unique   \n",
       "due_date            2025-03-09 00:00:00                      NaN    NaN   \n",
       "subject                             NaN                    60780      6   \n",
       "assignment_name                     NaN                    60780  56065   \n",
       "status                              NaN                    60780      3   \n",
       "grade_feedback                      NaN                    60780      8   \n",
       "guardian_signature                  NaN                    60780      3   \n",
       "\n",
       "                                    \n",
       "                        top   freq  \n",
       "due_date                NaN    NaN  \n",
       "subject             english  10209  \n",
       "assignment_name       also.     15  \n",
       "status                 done  30381  \n",
       "grade_feedback           a+   7709  \n",
       "guardian_signature       no  20372  "
      ]
     },
     "execution_count": 56,
     "metadata": {},
     "output_type": "execute_result"
    }
   ],
   "source": [
    "#Ver estadísticas df_homework\n",
    "hmw_stats = sp.obtener_estadisticas(df_homework)\n",
    "hmw_stats"
   ]
  },
  {
   "cell_type": "code",
   "execution_count": 57,
   "id": "25cda5e8",
   "metadata": {},
   "outputs": [
    {
     "data": {
      "text/html": [
       "<div>\n",
       "<style scoped>\n",
       "    .dataframe tbody tr th:only-of-type {\n",
       "        vertical-align: middle;\n",
       "    }\n",
       "\n",
       "    .dataframe tbody tr th {\n",
       "        vertical-align: top;\n",
       "    }\n",
       "\n",
       "    .dataframe thead tr th {\n",
       "        text-align: left;\n",
       "    }\n",
       "</style>\n",
       "<table border=\"1\" class=\"dataframe\">\n",
       "  <thead>\n",
       "    <tr>\n",
       "      <th></th>\n",
       "      <th colspan=\"8\" halign=\"left\">Estadísticas Numéricas</th>\n",
       "      <th colspan=\"4\" halign=\"left\">Estadísticas Categóricas</th>\n",
       "    </tr>\n",
       "    <tr>\n",
       "      <th></th>\n",
       "      <th>count</th>\n",
       "      <th>mean</th>\n",
       "      <th>std</th>\n",
       "      <th>min</th>\n",
       "      <th>25%</th>\n",
       "      <th>50%</th>\n",
       "      <th>75%</th>\n",
       "      <th>max</th>\n",
       "      <th>count</th>\n",
       "      <th>unique</th>\n",
       "      <th>top</th>\n",
       "      <th>freq</th>\n",
       "    </tr>\n",
       "  </thead>\n",
       "  <tbody>\n",
       "    <tr>\n",
       "      <th>exam_score</th>\n",
       "      <td>36468.0</td>\n",
       "      <td>74.189454</td>\n",
       "      <td>19.4164</td>\n",
       "      <td>40.0</td>\n",
       "      <td>57.0</td>\n",
       "      <td>75.0</td>\n",
       "      <td>93.0</td>\n",
       "      <td>100.0</td>\n",
       "      <td>NaN</td>\n",
       "      <td>NaN</td>\n",
       "      <td>NaN</td>\n",
       "      <td>NaN</td>\n",
       "    </tr>\n",
       "    <tr>\n",
       "      <th>subject</th>\n",
       "      <td>NaN</td>\n",
       "      <td>NaN</td>\n",
       "      <td>NaN</td>\n",
       "      <td>NaN</td>\n",
       "      <td>NaN</td>\n",
       "      <td>NaN</td>\n",
       "      <td>NaN</td>\n",
       "      <td>NaN</td>\n",
       "      <td>36468</td>\n",
       "      <td>6</td>\n",
       "      <td>arabic</td>\n",
       "      <td>6224</td>\n",
       "    </tr>\n",
       "    <tr>\n",
       "      <th>homework_completion_%</th>\n",
       "      <td>NaN</td>\n",
       "      <td>NaN</td>\n",
       "      <td>NaN</td>\n",
       "      <td>NaN</td>\n",
       "      <td>NaN</td>\n",
       "      <td>NaN</td>\n",
       "      <td>NaN</td>\n",
       "      <td>NaN</td>\n",
       "      <td>36468</td>\n",
       "      <td>5</td>\n",
       "      <td>95%</td>\n",
       "      <td>7453</td>\n",
       "    </tr>\n",
       "    <tr>\n",
       "      <th>teacher_comments</th>\n",
       "      <td>NaN</td>\n",
       "      <td>NaN</td>\n",
       "      <td>NaN</td>\n",
       "      <td>NaN</td>\n",
       "      <td>NaN</td>\n",
       "      <td>NaN</td>\n",
       "      <td>NaN</td>\n",
       "      <td>NaN</td>\n",
       "      <td>36468</td>\n",
       "      <td>32918</td>\n",
       "      <td>No comment</td>\n",
       "      <td>3551</td>\n",
       "    </tr>\n",
       "  </tbody>\n",
       "</table>\n",
       "</div>"
      ],
      "text/plain": [
       "                      Estadísticas Numéricas                                  \\\n",
       "                                       count       mean      std   min   25%   \n",
       "exam_score                           36468.0  74.189454  19.4164  40.0  57.0   \n",
       "subject                                  NaN        NaN      NaN   NaN   NaN   \n",
       "homework_completion_%                    NaN        NaN      NaN   NaN   NaN   \n",
       "teacher_comments                         NaN        NaN      NaN   NaN   NaN   \n",
       "\n",
       "                                         Estadísticas Categóricas         \\\n",
       "                        50%   75%    max                    count unique   \n",
       "exam_score             75.0  93.0  100.0                      NaN    NaN   \n",
       "subject                 NaN   NaN    NaN                    36468      6   \n",
       "homework_completion_%   NaN   NaN    NaN                    36468      5   \n",
       "teacher_comments        NaN   NaN    NaN                    36468  32918   \n",
       "\n",
       "                                         \n",
       "                              top  freq  \n",
       "exam_score                    NaN   NaN  \n",
       "subject                    arabic  6224  \n",
       "homework_completion_%         95%  7453  \n",
       "teacher_comments       No comment  3551  "
      ]
     },
     "execution_count": 57,
     "metadata": {},
     "output_type": "execute_result"
    }
   ],
   "source": [
    "perf_stats = sp.obtener_estadisticas(df_performance)\n",
    "perf_stats"
   ]
  },
  {
   "cell_type": "code",
   "execution_count": 58,
   "id": "0a792899",
   "metadata": {},
   "outputs": [
    {
     "data": {
      "text/html": [
       "<div>\n",
       "<style scoped>\n",
       "    .dataframe tbody tr th:only-of-type {\n",
       "        vertical-align: middle;\n",
       "    }\n",
       "\n",
       "    .dataframe tbody tr th {\n",
       "        vertical-align: top;\n",
       "    }\n",
       "\n",
       "    .dataframe thead tr th {\n",
       "        text-align: left;\n",
       "    }\n",
       "</style>\n",
       "<table border=\"1\" class=\"dataframe\">\n",
       "  <thead>\n",
       "    <tr>\n",
       "      <th></th>\n",
       "      <th colspan=\"7\" halign=\"left\">Estadísticas Numéricas</th>\n",
       "      <th colspan=\"4\" halign=\"left\">Estadísticas Categóricas</th>\n",
       "    </tr>\n",
       "    <tr>\n",
       "      <th></th>\n",
       "      <th>count</th>\n",
       "      <th>mean</th>\n",
       "      <th>min</th>\n",
       "      <th>25%</th>\n",
       "      <th>50%</th>\n",
       "      <th>75%</th>\n",
       "      <th>max</th>\n",
       "      <th>count</th>\n",
       "      <th>unique</th>\n",
       "      <th>top</th>\n",
       "      <th>freq</th>\n",
       "    </tr>\n",
       "  </thead>\n",
       "  <tbody>\n",
       "    <tr>\n",
       "      <th>date_message</th>\n",
       "      <td>23085</td>\n",
       "      <td>2024-12-08 10:02:41.871345408</td>\n",
       "      <td>2024-09-08 00:00:00</td>\n",
       "      <td>2024-10-24 00:00:00</td>\n",
       "      <td>2024-12-09 00:00:00</td>\n",
       "      <td>2025-01-23 00:00:00</td>\n",
       "      <td>2025-03-09 00:00:00</td>\n",
       "      <td>NaN</td>\n",
       "      <td>NaN</td>\n",
       "      <td>NaN</td>\n",
       "      <td>NaN</td>\n",
       "    </tr>\n",
       "    <tr>\n",
       "      <th>message_type</th>\n",
       "      <td>NaN</td>\n",
       "      <td>NaN</td>\n",
       "      <td>NaN</td>\n",
       "      <td>NaN</td>\n",
       "      <td>NaN</td>\n",
       "      <td>NaN</td>\n",
       "      <td>NaN</td>\n",
       "      <td>23085</td>\n",
       "      <td>3</td>\n",
       "      <td>teacher to parent</td>\n",
       "      <td>7754</td>\n",
       "    </tr>\n",
       "    <tr>\n",
       "      <th>message_content</th>\n",
       "      <td>NaN</td>\n",
       "      <td>NaN</td>\n",
       "      <td>NaN</td>\n",
       "      <td>NaN</td>\n",
       "      <td>NaN</td>\n",
       "      <td>NaN</td>\n",
       "      <td>NaN</td>\n",
       "      <td>23085</td>\n",
       "      <td>23085</td>\n",
       "      <td>baby price expert certain forget ball bar prod...</td>\n",
       "      <td>1</td>\n",
       "    </tr>\n",
       "  </tbody>\n",
       "</table>\n",
       "</div>"
      ],
      "text/plain": [
       "                Estadísticas Numéricas                                 \\\n",
       "                                 count                           mean   \n",
       "date_message                     23085  2024-12-08 10:02:41.871345408   \n",
       "message_type                       NaN                            NaN   \n",
       "message_content                    NaN                            NaN   \n",
       "\n",
       "                                                           \\\n",
       "                                 min                  25%   \n",
       "date_message     2024-09-08 00:00:00  2024-10-24 00:00:00   \n",
       "message_type                     NaN                  NaN   \n",
       "message_content                  NaN                  NaN   \n",
       "\n",
       "                                                           \\\n",
       "                                 50%                  75%   \n",
       "date_message     2024-12-09 00:00:00  2025-01-23 00:00:00   \n",
       "message_type                     NaN                  NaN   \n",
       "message_content                  NaN                  NaN   \n",
       "\n",
       "                                     Estadísticas Categóricas         \\\n",
       "                                 max                    count unique   \n",
       "date_message     2025-03-09 00:00:00                      NaN    NaN   \n",
       "message_type                     NaN                    23085      3   \n",
       "message_content                  NaN                    23085  23085   \n",
       "\n",
       "                                                                          \n",
       "                                                               top  freq  \n",
       "date_message                                                   NaN   NaN  \n",
       "message_type                                     teacher to parent  7754  \n",
       "message_content  baby price expert certain forget ball bar prod...     1  "
      ]
     },
     "execution_count": 58,
     "metadata": {},
     "output_type": "execute_result"
    }
   ],
   "source": [
    "#Ver estadísticas df_communication \n",
    "comm_stats = sp.obtener_estadisticas(df_communication)\n",
    "comm_stats"
   ]
  },
  {
   "cell_type": "code",
   "execution_count": 59,
   "id": "5b5f3563",
   "metadata": {},
   "outputs": [
    {
     "data": {
      "text/html": [
       "<div>\n",
       "<style scoped>\n",
       "    .dataframe tbody tr th:only-of-type {\n",
       "        vertical-align: middle;\n",
       "    }\n",
       "\n",
       "    .dataframe tbody tr th {\n",
       "        vertical-align: top;\n",
       "    }\n",
       "\n",
       "    .dataframe thead tr th {\n",
       "        text-align: left;\n",
       "    }\n",
       "</style>\n",
       "<table border=\"1\" class=\"dataframe\">\n",
       "  <thead>\n",
       "    <tr>\n",
       "      <th></th>\n",
       "      <th colspan=\"8\" halign=\"left\">Estadísticas Numéricas</th>\n",
       "      <th colspan=\"4\" halign=\"left\">Estadísticas Categóricas</th>\n",
       "    </tr>\n",
       "    <tr>\n",
       "      <th></th>\n",
       "      <th>count</th>\n",
       "      <th>mean</th>\n",
       "      <th>min</th>\n",
       "      <th>25%</th>\n",
       "      <th>50%</th>\n",
       "      <th>75%</th>\n",
       "      <th>max</th>\n",
       "      <th>std</th>\n",
       "      <th>count</th>\n",
       "      <th>unique</th>\n",
       "      <th>top</th>\n",
       "      <th>freq</th>\n",
       "    </tr>\n",
       "  </thead>\n",
       "  <tbody>\n",
       "    <tr>\n",
       "      <th>date_of_birth</th>\n",
       "      <td>10393</td>\n",
       "      <td>2012-08-23 23:14:41.554892544</td>\n",
       "      <td>2006-03-11 00:00:00</td>\n",
       "      <td>2009-06-08 00:00:00</td>\n",
       "      <td>2012-08-25 00:00:00</td>\n",
       "      <td>2015-11-15 00:00:00</td>\n",
       "      <td>2019-03-09 00:00:00</td>\n",
       "      <td>NaN</td>\n",
       "      <td>NaN</td>\n",
       "      <td>NaN</td>\n",
       "      <td>NaN</td>\n",
       "      <td>NaN</td>\n",
       "    </tr>\n",
       "    <tr>\n",
       "      <th>grade_level</th>\n",
       "      <td>10393.0</td>\n",
       "      <td>3.019821</td>\n",
       "      <td>1.0</td>\n",
       "      <td>2.0</td>\n",
       "      <td>3.0</td>\n",
       "      <td>4.0</td>\n",
       "      <td>5.0</td>\n",
       "      <td>1.410736</td>\n",
       "      <td>NaN</td>\n",
       "      <td>NaN</td>\n",
       "      <td>NaN</td>\n",
       "      <td>NaN</td>\n",
       "    </tr>\n",
       "    <tr>\n",
       "      <th>full_name</th>\n",
       "      <td>NaN</td>\n",
       "      <td>NaN</td>\n",
       "      <td>NaN</td>\n",
       "      <td>NaN</td>\n",
       "      <td>NaN</td>\n",
       "      <td>NaN</td>\n",
       "      <td>NaN</td>\n",
       "      <td>NaN</td>\n",
       "      <td>10393</td>\n",
       "      <td>9757</td>\n",
       "      <td>michael smith</td>\n",
       "      <td>6</td>\n",
       "    </tr>\n",
       "    <tr>\n",
       "      <th>emergency_contact</th>\n",
       "      <td>NaN</td>\n",
       "      <td>NaN</td>\n",
       "      <td>NaN</td>\n",
       "      <td>NaN</td>\n",
       "      <td>NaN</td>\n",
       "      <td>NaN</td>\n",
       "      <td>NaN</td>\n",
       "      <td>NaN</td>\n",
       "      <td>10393</td>\n",
       "      <td>10393</td>\n",
       "      <td>3793041001</td>\n",
       "      <td>1</td>\n",
       "    </tr>\n",
       "  </tbody>\n",
       "</table>\n",
       "</div>"
      ],
      "text/plain": [
       "                  Estadísticas Numéricas                                 \\\n",
       "                                   count                           mean   \n",
       "date_of_birth                      10393  2012-08-23 23:14:41.554892544   \n",
       "grade_level                      10393.0                       3.019821   \n",
       "full_name                            NaN                            NaN   \n",
       "emergency_contact                    NaN                            NaN   \n",
       "\n",
       "                                                             \\\n",
       "                                   min                  25%   \n",
       "date_of_birth      2006-03-11 00:00:00  2009-06-08 00:00:00   \n",
       "grade_level                        1.0                  2.0   \n",
       "full_name                          NaN                  NaN   \n",
       "emergency_contact                  NaN                  NaN   \n",
       "\n",
       "                                                             \\\n",
       "                                   50%                  75%   \n",
       "date_of_birth      2012-08-25 00:00:00  2015-11-15 00:00:00   \n",
       "grade_level                        3.0                  4.0   \n",
       "full_name                          NaN                  NaN   \n",
       "emergency_contact                  NaN                  NaN   \n",
       "\n",
       "                                                 Estadísticas Categóricas  \\\n",
       "                                   max       std                    count   \n",
       "date_of_birth      2019-03-09 00:00:00       NaN                      NaN   \n",
       "grade_level                        5.0  1.410736                      NaN   \n",
       "full_name                          NaN       NaN                    10393   \n",
       "emergency_contact                  NaN       NaN                    10393   \n",
       "\n",
       "                                              \n",
       "                  unique            top freq  \n",
       "date_of_birth        NaN            NaN  NaN  \n",
       "grade_level          NaN            NaN  NaN  \n",
       "full_name           9757  michael smith    6  \n",
       "emergency_contact  10393     3793041001    1  "
      ]
     },
     "execution_count": 59,
     "metadata": {},
     "output_type": "execute_result"
    }
   ],
   "source": [
    "#Ver estadísticas df_students\n",
    "std_stats = sp.obtener_estadisticas(df_students)\n",
    "std_stats"
   ]
  },
  {
   "cell_type": "markdown",
   "id": "c59b72cb",
   "metadata": {},
   "source": [
    "# 3. Visualización de los datos."
   ]
  },
  {
   "cell_type": "code",
   "execution_count": 60,
   "id": "f29a0e98",
   "metadata": {},
   "outputs": [],
   "source": [
    "#Analizamos los dataframes por separado y uniendo algunos para sacar visualziaciones relevantes. No hacemos un merge general de todos los dataframes a la vez\n",
    "# porque se generan una cantidad muy elevada de NaN."
   ]
  },
  {
   "cell_type": "code",
   "execution_count": 61,
   "id": "f8510fba",
   "metadata": {},
   "outputs": [],
   "source": [
    "#Como vamos a necesitar resetear los índices de algunos dataframes para que 'student_id' salga como columna,\n",
    "#lo vamos a hacer con el resto de dataframes para que todos estén igual y no haya problemas en Power BI.\n",
    "df_attendance = df_attendance.reset_index()\n",
    "df_homework = df_homework.reset_index()\n",
    "df_performance = df_performance.reset_index()\n",
    "df_communication = df_communication.reset_index()\n",
    "df_students = df_students.reset_index()"
   ]
  },
  {
   "cell_type": "code",
   "execution_count": 62,
   "id": "eaae8228",
   "metadata": {},
   "outputs": [
    {
     "name": "stdout",
     "output_type": "stream",
     "text": [
      "El promedio de la asistencia general es 62.54%\n"
     ]
    }
   ],
   "source": [
    "#🟢🟢Datos de asistencia.\n",
    "#Ver cual es el promedio de asistencia general.\n",
    "# Crear una columna numérica para mapear el estado de asistencia\n",
    "df_attendance['att_numeric'] = df_attendance['att_status'].map({\n",
    "    'present': 1,\n",
    "    'late': 1,\n",
    "    'left early': 1,\n",
    "    'absent': 0,\n",
    "    'excused': 0\n",
    "})\n",
    "\n",
    "#Calcular la tasa de asistencia general\n",
    "attendance_rate = df_attendance['att_numeric'].mean()*100\n",
    "print(f\"El promedio de la asistencia general es {attendance_rate:.2f}%\")"
   ]
  },
  {
   "cell_type": "code",
   "execution_count": null,
   "id": "6ade0bac",
   "metadata": {},
   "outputs": [
    {
     "name": "stderr",
     "output_type": "stream",
     "text": [
      "C:\\Users\\pooo_\\AppData\\Local\\Temp\\ipykernel_17276\\323849077.py:10: FutureWarning: \n",
      "\n",
      "Passing `palette` without assigning `hue` is deprecated and will be removed in v0.14.0. Assign the `x` variable to `hue` and set `legend=False` for the same effect.\n",
      "\n",
      "  sns.barplot(data=att_by_grade, x='grade_level', y='att_numeric', palette='viridis')\n"
     ]
    },
    {
     "data": {
      "image/png": "[encoded data removed]",
      "text/plain": [
       "<Figure size 800x500 with 1 Axes>"
      ]
     },
     "metadata": {},
     "output_type": "display_data"
    },
    {
     "data": {
      "text/html": [
       "<div>\n",
       "<style scoped>\n",
       "    .dataframe tbody tr th:only-of-type {\n",
       "        vertical-align: middle;\n",
       "    }\n",
       "\n",
       "    .dataframe tbody tr th {\n",
       "        vertical-align: top;\n",
       "    }\n",
       "\n",
       "    .dataframe thead th {\n",
       "        text-align: right;\n",
       "    }\n",
       "</style>\n",
       "<table border=\"1\" class=\"dataframe\">\n",
       "  <thead>\n",
       "    <tr style=\"text-align: right;\">\n",
       "      <th></th>\n",
       "      <th>grade_level</th>\n",
       "      <th>att_numeric</th>\n",
       "    </tr>\n",
       "  </thead>\n",
       "  <tbody>\n",
       "    <tr>\n",
       "      <th>0</th>\n",
       "      <td>1.0</td>\n",
       "      <td>0.624040</td>\n",
       "    </tr>\n",
       "    <tr>\n",
       "      <th>1</th>\n",
       "      <td>2.0</td>\n",
       "      <td>0.625063</td>\n",
       "    </tr>\n",
       "    <tr>\n",
       "      <th>2</th>\n",
       "      <td>3.0</td>\n",
       "      <td>0.626308</td>\n",
       "    </tr>\n",
       "    <tr>\n",
       "      <th>3</th>\n",
       "      <td>4.0</td>\n",
       "      <td>0.627256</td>\n",
       "    </tr>\n",
       "    <tr>\n",
       "      <th>4</th>\n",
       "      <td>5.0</td>\n",
       "      <td>0.625458</td>\n",
       "    </tr>\n",
       "  </tbody>\n",
       "</table>\n",
       "</div>"
      ],
      "text/plain": [
       "   grade_level  att_numeric\n",
       "0          1.0     0.624040\n",
       "1          2.0     0.625063\n",
       "2          3.0     0.626308\n",
       "3          4.0     0.627256\n",
       "4          5.0     0.625458"
      ]
     },
     "execution_count": 63,
     "metadata": {},
     "output_type": "execute_result"
    }
   ],
   "source": [
    "#Ver la tasa de asistencia por grado.\n",
    "#Unimos el df_attendande con df_students para poder tener la información de la columna 'grade_level'.\n",
    "df_att_grade = pd.merge(df_attendance, df_students[['student_id', 'grade_level']], on='student_id', how='left')\n",
    "\n",
    "# Agrupar por 'grade_level' y calcular la tasa de asistencia promedio por grado\n",
    "att_by_grade = df_att_grade.groupby('grade_level')['att_numeric'].mean().reset_index()\n",
    "\n",
    "# Visualizar el gráfico\n",
    "plt.figure(figsize=(8,5))\n",
    "sns.barplot(data=att_by_grade, x='grade_level', y='att_numeric', palette='viridis')\n",
    "plt.title('Tasa promedio de Asistencia por Grado')\n",
    "plt.xlabel('Nivel de Grado')\n",
    "plt.ylabel('Tasa de Asistencia')\n",
    "plt.ylim(0,1)\n",
    "plt.show()\n"
   ]
  },
  {
   "cell_type": "code",
   "execution_count": 64,
   "id": "b7d3f4b2",
   "metadata": {},
   "outputs": [
    {
     "data": {
      "image/png": "[encoded data removed]",
      "text/plain": [
       "<Figure size 1200x600 with 1 Axes>"
      ]
     },
     "metadata": {},
     "output_type": "display_data"
    }
   ],
   "source": [
    "#Ver los días con más número de ausencias.\n",
    "\n",
    "#Filtrar solo los registros 'absent' o 'excused'. \n",
    "df_absent = df_attendance[df_attendance['att_status'].isin(['absent','excused'])]\n",
    "\n",
    "#Agrupar df_absent por la columna 'att_date' y contar las ausencias\n",
    "absences_by_date = df_absent.groupby('att_date').size().reset_index(name = 'absence_count')\n",
    "\n",
    "#Ordenar de mayor a menor para ver en primer lugar los días con más ausencias\n",
    "# Mostrar solo los top 10 días con más ausencias\n",
    "top_days = absences_by_date.head(10)\n",
    "\n",
    "plt.figure(figsize=(12,6))\n",
    "sns.barplot(data=top_days, x='att_date', y='absence_count', color='lightseagreen')\n",
    "plt.title('Top 10 Días con Más Ausencias')\n",
    "plt.xlabel('Fecha')\n",
    "plt.ylabel('Número de Ausencias')\n",
    "plt.xticks(rotation=45)\n",
    "plt.tight_layout()\n",
    "plt.show()\n"
   ]
  },
  {
   "cell_type": "code",
   "execution_count": 65,
   "id": "9c605177",
   "metadata": {},
   "outputs": [
    {
     "name": "stdout",
     "output_type": "stream",
     "text": [
      "att_status\n",
      "present       25.12\n",
      "absent        25.02\n",
      "late          24.96\n",
      "left early    12.46\n",
      "excused       12.45\n",
      "Name: proportion, dtype: float64\n"
     ]
    }
   ],
   "source": [
    "#Ver el porcentaje del total de registros representa cada tipo de asistencia\n",
    "#Usamos value_counts(normalize=True) para obtener el porcentaje de cada tipo de asistencia. Hacemos *100 para obtenerlo en porcentaje.\n",
    "attendance_counts = round(df_attendance['att_status'].value_counts(normalize=True)*100,2)\n",
    "print(attendance_counts)"
   ]
  },
  {
   "cell_type": "code",
   "execution_count": 66,
   "id": "e83f0df0",
   "metadata": {},
   "outputs": [
    {
     "name": "stderr",
     "output_type": "stream",
     "text": [
      "C:\\Users\\pooo_\\AppData\\Local\\Temp\\ipykernel_17276\\2172403056.py:3: FutureWarning: \n",
      "\n",
      "Passing `palette` without assigning `hue` is deprecated and will be removed in v0.14.0. Assign the `x` variable to `hue` and set `legend=False` for the same effect.\n",
      "\n",
      "  sns.countplot(data=df_attendance, x='att_status', palette='viridis')\n"
     ]
    },
    {
     "data": {
      "image/png": "[encoded data removed]",
      "text/plain": [
       "<Figure size 800x500 with 1 Axes>"
      ]
     },
     "metadata": {},
     "output_type": "display_data"
    }
   ],
   "source": [
    "#Ver cuántos estudiantes están en cada categoría de asistencia (present, late, absent, etc.).\n",
    "plt.figure(figsize=(8,5))\n",
    "sns.countplot(data=df_attendance, x='att_status', palette='viridis')\n",
    "plt.title('Distribución de Estados de Asistencia')\n",
    "plt.xlabel('Estado de Asistencia')\n",
    "plt.ylabel('Cantidad de Registros')\n",
    "plt.show()\n"
   ]
  },
  {
   "cell_type": "code",
   "execution_count": 67,
   "id": "1b986ed1",
   "metadata": {},
   "outputs": [
    {
     "data": {
      "image/png": "[encoded data removed]",
      "text/plain": [
       "<Figure size 640x480 with 1 Axes>"
      ]
     },
     "metadata": {},
     "output_type": "display_data"
    },
    {
     "data": {
      "image/png": "[encoded data removed]",
      "text/plain": [
       "<Figure size 640x480 with 1 Axes>"
      ]
     },
     "metadata": {},
     "output_type": "display_data"
    }
   ],
   "source": [
    "#Datos de notas y rendimiento.\n",
    "\n",
    "#Hacer un histograma de exam_score con la curva KDE, para visualizar mejor como la distribución de notas.\n",
    "sns.histplot(df_performance['exam_score'], kde = True, color = 'lightseagreen')\n",
    "plt.title('Distribución de Notas de Examen')\n",
    "plt.xlabel('Nota de Examen')\n",
    "plt.show()\n",
    "\n",
    "#Hacer un histograma con la realización de tareas 'homework_completion_%'.\n",
    "sns.histplot(df_performance['homework_completion_%'], kde = True, color = 'lightseagreen')\n",
    "plt.title('Distribución de Porcentaje de Tareas Completadas')\n",
    "plt.xlabel('Porcentaje de Tareas')\n",
    "plt.show()\n"
   ]
  },
  {
   "cell_type": "code",
   "execution_count": 68,
   "id": "eeaf697b",
   "metadata": {},
   "outputs": [
    {
     "name": "stderr",
     "output_type": "stream",
     "text": [
      "C:\\Users\\pooo_\\AppData\\Local\\Temp\\ipykernel_17276\\1427501491.py:7: FutureWarning: \n",
      "\n",
      "Passing `palette` without assigning `hue` is deprecated and will be removed in v0.14.0. Assign the `y` variable to `hue` and set `legend=False` for the same effect.\n",
      "\n",
      "  sns.barplot(x = avg_scores_by_subject.values, y = avg_scores_by_subject.index, palette = 'viridis')\n"
     ]
    },
    {
     "data": {
      "image/png": "[encoded data removed]",
      "text/plain": [
       "<Figure size 640x480 with 1 Axes>"
      ]
     },
     "metadata": {},
     "output_type": "display_data"
    },
    {
     "name": "stdout",
     "output_type": "stream",
     "text": [
      "subject\n",
      "geography    73.847254\n",
      "math         73.964540\n",
      "arabic       74.190392\n",
      "history      74.328993\n",
      "english      74.394672\n",
      "science      74.412112\n",
      "Name: exam_score, dtype: float64\n"
     ]
    }
   ],
   "source": [
    "#Asignaturas con mayores o menores notas (promedio)\n",
    "\n",
    "#Calcular promedio de asinaturas\n",
    "avg_scores_by_subject = df_performance.groupby('subject')['exam_score'].mean().sort_values()\n",
    "\n",
    "#Visualización de barras\n",
    "sns.barplot(x = avg_scores_by_subject.values, y = avg_scores_by_subject.index, palette = 'viridis')\n",
    "plt.title('Nota Media por Asignatura')\n",
    "plt.xlabel('Nota Media')\n",
    "plt.ylabel('Asignatura')\n",
    "plt.show()\n",
    "\n",
    "print(avg_scores_by_subject)"
   ]
  },
  {
   "cell_type": "code",
   "execution_count": 69,
   "id": "e3f5f7ec",
   "metadata": {},
   "outputs": [
    {
     "data": {
      "image/png": "[encoded data removed]",
      "text/plain": [
       "<Figure size 1000x600 with 1 Axes>"
      ]
     },
     "metadata": {},
     "output_type": "display_data"
    }
   ],
   "source": [
    "#Promedio de nota por asignatura y grado\n",
    "\n",
    "#Hacer el merge por columna 'student_id'\n",
    "df_perf_grade = pd.merge(df_performance, df_students[['student_id','grade_level']], on = 'student_id', how = 'left')\n",
    "\n",
    "#Calcular el promedio por asignatura y grado agrupando por grado y asignatura\n",
    "avg_by_subject_grade = df_perf_grade.groupby(['grade_level','subject'])['exam_score'].mean().reset_index()\n",
    "\n",
    "#Visualizar gráfico\n",
    "plt.figure(figsize = (10,6))\n",
    "sns.barplot(data = avg_by_subject_grade, x = 'grade_level', y = 'exam_score', hue = 'subject', palette = 'Paired')\n",
    "plt.title('Promedio de Nota por Asignatura y Grado')\n",
    "plt.xlabel('Grado')\n",
    "plt.ylabel('Notas Promedio')\n",
    "plt.legend(title = 'Asignatura')\n",
    "plt.show()"
   ]
  },
  {
   "cell_type": "code",
   "execution_count": 70,
   "id": "b09f36fa",
   "metadata": {},
   "outputs": [
    {
     "name": "stderr",
     "output_type": "stream",
     "text": [
      "C:\\Users\\pooo_\\AppData\\Local\\Temp\\ipykernel_17276\\1518128414.py:2: FutureWarning: \n",
      "\n",
      "Passing `palette` without assigning `hue` is deprecated and will be removed in v0.14.0. Assign the `x` variable to `hue` and set `legend=False` for the same effect.\n",
      "\n",
      "  sns.violinplot(data = df_performance, x = 'subject', y = 'exam_score', palette = 'viridis')\n"
     ]
    },
    {
     "data": {
      "image/png": "[encoded data removed]",
      "text/plain": [
       "<Figure size 640x480 with 1 Axes>"
      ]
     },
     "metadata": {},
     "output_type": "display_data"
    }
   ],
   "source": [
    "#Ver la distribución de 'exam_score' y 'subject'.\n",
    "sns.violinplot(data = df_performance, x = 'subject', y = 'exam_score', palette = 'viridis')\n",
    "plt.title('Distribución de Notas de Examen por Asignatura')\n",
    "plt.xlabel('Asignatura')\n",
    "plt.ylabel('Nota de Examen')\n",
    "plt.xticks(rotation=45)\n",
    "plt.show()"
   ]
  },
  {
   "cell_type": "code",
   "execution_count": 71,
   "id": "79eb6dda",
   "metadata": {},
   "outputs": [
    {
     "data": {
      "image/png": "[encoded data removed]",
      "text/plain": [
       "<Figure size 640x480 with 1 Axes>"
      ]
     },
     "metadata": {},
     "output_type": "display_data"
    }
   ],
   "source": [
    "#Datos de Homework.\n",
    "# Ver cantidad de tareas entregadas por asignatura.\n",
    "#Filtrar a tarvés de df_homework aquellas tareas con estado 'done' y el nombre de la asignatura\n",
    "submitted_by_subject = df_homework[df_homework['status'] == 'done']['subject'].value_counts()\n",
    "\n",
    "sns.countplot(data=df_homework, x='status', order = df_homework['status'].value_counts().index, color = 'lightseagreen')\n",
    "plt.title('Distribución de estados de tareas')\n",
    "plt.ylabel('Cantidad de Tareas')\n",
    "plt.xlabel('Estado de Tareas')\n",
    "plt.show()\n"
   ]
  },
  {
   "cell_type": "code",
   "execution_count": 72,
   "id": "5b933b74",
   "metadata": {},
   "outputs": [
    {
     "data": {
      "image/png": "[encoded data removed]",
      "text/plain": [
       "<Figure size 800x500 with 1 Axes>"
      ]
     },
     "metadata": {},
     "output_type": "display_data"
    }
   ],
   "source": [
    "#Calculamos porcentaje de tareas entregadas por estudiantes\n",
    "hmw_per_stu = df_homework.groupby('student_id')['status'].value_counts().unstack().fillna(0)\n",
    "hmw_per_stu['porcentaje_entregadas'] = hmw_per_stu['done'] / hmw_per_stu.sum(axis=1) * 100\n",
    "\n",
    "# Histograma del porcentaje de tareas entregadas\n",
    "plt.figure(figsize=(8, 5))\n",
    "sns.histplot(hmw_per_stu['porcentaje_entregadas'], bins=20, color='lightseagreen', kde=True)\n",
    "plt.title('Distribución del % de Tareas Entregadas por Estudiante')\n",
    "plt.xlabel('% de Tareas Entregadas')\n",
    "plt.ylabel('Número de Estudiantes')\n",
    "plt.grid(True, linestyle='--', alpha=0.5)\n",
    "plt.tight_layout()\n",
    "plt.show()\n"
   ]
  },
  {
   "cell_type": "code",
   "execution_count": 73,
   "id": "f468aad5",
   "metadata": {},
   "outputs": [
    {
     "data": {
      "image/png": "[encoded data removed]",
      "text/plain": [
       "<Figure size 800x400 with 1 Axes>"
      ]
     },
     "metadata": {},
     "output_type": "display_data"
    }
   ],
   "source": [
    "#Comunicacion con padres \n",
    "#Tipo de mensajes más comunes de los padres con los profesores\n",
    "plt.figure(figsize=(8, 4))\n",
    "sns.countplot(data=df_communication, x='message_type', order=df_communication['message_type'].value_counts().index, color = 'lightseagreen')\n",
    "plt.title('Tipos de mensajes más comunes')\n",
    "plt.xticks(rotation=45)\n",
    "plt.show()"
   ]
  },
  {
   "cell_type": "code",
   "execution_count": 74,
   "id": "261f0ec5",
   "metadata": {},
   "outputs": [
    {
     "data": {
      "image/png": "[encoded data removed]",
      "text/plain": [
       "<Figure size 1000x400 with 1 Axes>"
      ]
     },
     "metadata": {},
     "output_type": "display_data"
    }
   ],
   "source": [
    "#Frecuencia de mensajes por estudiante\n",
    "#Seleccionamos el numero de mensajes por numero de estudiantes\n",
    "msg_per_student = df_communication['student_id'].value_counts()\n",
    "\n",
    "plt.figure(figsize=(10, 4))\n",
    "sns.histplot(msg_per_student, bins=30)\n",
    "plt.title('Frecuencia de mensajes por estudiante')\n",
    "plt.xlabel('Cantidad de mensajes')\n",
    "plt.ylabel('Número de estudiantes')\n",
    "plt.show()"
   ]
  },
  {
   "cell_type": "code",
   "execution_count": 75,
   "id": "6a1a1f00",
   "metadata": {},
   "outputs": [
    {
     "data": {
      "image/png": "[encoded data removed]",
      "text/plain": [
       "<Figure size 800x400 with 1 Axes>"
      ]
     },
     "metadata": {},
     "output_type": "display_data"
    }
   ],
   "source": [
    "# Comprobar si hay más mensajes en ciertos grados. Para ver si la comunicación entre padres y profesores varía según el grado.\n",
    "df_comm_grade = pd.merge(df_communication, df_students[['student_id', 'grade_level']], on='student_id', how='left')\n",
    "\n",
    "plt.figure(figsize=(8, 4))\n",
    "sns.countplot(data=df_comm_grade, x='grade_level', order=sorted(df_comm_grade['grade_level'].dropna().unique()), color = 'lightseagreen')\n",
    "plt.title('Cantidad de mensajes por grado')\n",
    "plt.xlabel('Grado')\n",
    "plt.ylabel('Cantidad de mensajes')\n",
    "plt.show()"
   ]
  },
  {
   "cell_type": "code",
   "execution_count": 76,
   "id": "9e504597",
   "metadata": {},
   "outputs": [
    {
     "data": {
      "image/png": "[encoded data removed]",
      "text/plain": [
       "<Figure size 1200x500 with 1 Axes>"
      ]
     },
     "metadata": {},
     "output_type": "display_data"
    }
   ],
   "source": [
    "#Comprobar la frecuencia de mensajes por fecha\n",
    "msgs_by_date = df_communication.groupby('date_message').size()\n",
    "\n",
    "plt.figure(figsize=(12, 5))\n",
    "msgs_by_date.plot(color = 'lightseagreen')\n",
    "plt.title('Frecuencia de mensajes por fecha')\n",
    "plt.xlabel('Fecha')\n",
    "plt.ylabel('Cantidad de mensajes')\n",
    "plt.tight_layout()\n",
    "plt.show()"
   ]
  },
  {
   "cell_type": "code",
   "execution_count": 77,
   "id": "e8296cc7",
   "metadata": {},
   "outputs": [
    {
     "name": "stderr",
     "output_type": "stream",
     "text": [
      "C:\\Users\\pooo_\\AppData\\Local\\Temp\\ipykernel_17276\\2885876916.py:4: FutureWarning: \n",
      "\n",
      "Passing `palette` without assigning `hue` is deprecated and will be removed in v0.14.0. Assign the `x` variable to `hue` and set `legend=False` for the same effect.\n",
      "\n",
      "  sns.countplot(data=df_students, x='grade_level', palette='viridis')\n"
     ]
    },
    {
     "data": {
      "image/png": "[encoded data removed]",
      "text/plain": [
       "<Figure size 800x500 with 1 Axes>"
      ]
     },
     "metadata": {},
     "output_type": "display_data"
    }
   ],
   "source": [
    "#Datos de estudiantes.df_students. \n",
    "#Comprobar la cantidad de estudiantes por grado\n",
    "plt.figure(figsize=(8,5))\n",
    "sns.countplot(data=df_students, x='grade_level', palette='viridis')\n",
    "plt.title('Cantidad de estudiantes por grado')\n",
    "plt.xlabel('Grado')\n",
    "plt.ylabel('Cantidad de Estudiantes')\n",
    "plt.show()"
   ]
  },
  {
   "cell_type": "code",
   "execution_count": 78,
   "id": "9eda738a",
   "metadata": {},
   "outputs": [
    {
     "data": {
      "image/png": "[encoded data removed]",
      "text/plain": [
       "<Figure size 800x500 with 1 Axes>"
      ]
     },
     "metadata": {},
     "output_type": "display_data"
    }
   ],
   "source": [
    "#Comprobar la distribución de los estudiantes por edad \n",
    "# Calcular edad (asumiendo análisis en 2025)\n",
    "hoy = pd.Timestamp('2025-01-01')\n",
    "df_students['edad'] = df_students['date_of_birth'].apply(lambda x: hoy.year - x.year if pd.notnull(x) else None)\n",
    "\n",
    "# Histograma de edades\n",
    "plt.figure(figsize=(8,5))\n",
    "sns.histplot(df_students['edad'].dropna(), bins=10, kde=True, color='lightseagreen')\n",
    "plt.title('Distribución de edades de los estudiantes')\n",
    "plt.xlabel('Edad')\n",
    "plt.ylabel('Cantidad')\n",
    "plt.show()"
   ]
  },
  {
   "cell_type": "code",
   "execution_count": 79,
   "id": "e5a4774d",
   "metadata": {},
   "outputs": [
    {
     "name": "stdout",
     "output_type": "stream",
     "text": [
      "Número de estudiantes sin contacto de emergencia: 0\n",
      "Porcentaje: 0.0%\n"
     ]
    }
   ],
   "source": [
    "#Comprobar si hay esrtudiantes que no tengan un contacto de emergencia.\n",
    "faltantes = df_students['emergency_contact'].isna().sum()\n",
    "total = len(df_students)\n",
    "\n",
    "print(f\"Número de estudiantes sin contacto de emergencia: {faltantes}\")\n",
    "print(f\"Porcentaje: {faltantes / total:.1%}\")"
   ]
  },
  {
   "cell_type": "code",
   "execution_count": 80,
   "id": "4505bfb8",
   "metadata": {},
   "outputs": [
    {
     "data": {
      "image/png": "[encoded data removed]",
      "text/plain": [
       "<Figure size 600x600 with 1 Axes>"
      ]
     },
     "metadata": {},
     "output_type": "display_data"
    }
   ],
   "source": [
    "#Ver la distribución de estudiantes por grado\n",
    "df_students['grade_level'].value_counts().plot.pie(autopct='%1.1f%%', figsize=(6,6), colors=sns.color_palette('viridis'))\n",
    "plt.title('Distribución de estudiantes por nivel/grado')\n",
    "plt.ylabel('')\n",
    "plt.show()"
   ]
  },
  {
   "cell_type": "markdown",
   "id": "ed85cf4d",
   "metadata": {},
   "source": [
    "# 4. Guardar archivos limpios"
   ]
  },
  {
   "cell_type": "code",
   "execution_count": 81,
   "id": "4b9ecc8f",
   "metadata": {},
   "outputs": [],
   "source": [
    "#Guardar los dataframes limpios\n",
    "# Reiniciamos el índice de cada DataFrame y exportarlo a CSV correctamente para asegurar que los datos se cargan correctamente en PowerBI\n",
    "\n",
    "# df_students\n",
    "df_students.reset_index(drop=True, inplace=True)\n",
    "df_students.to_csv(\"../data/data_transformed/students_limpio.csv\", index=False)\n",
    "\n",
    "# df_attendance\n",
    "df_attendance.reset_index(drop=True, inplace=True)\n",
    "df_attendance.to_csv(\"../data/data_transformed/attendance_limpio.csv\", index=False)\n",
    "\n",
    "# df_homework\n",
    "df_homework.reset_index(drop=True, inplace=True)\n",
    "df_homework.to_csv(\"../data/data_transformed/homework_limpio.csv\", index=False)\n",
    "\n",
    "# df_communication\n",
    "df_communication.reset_index(drop=True, inplace=True)\n",
    "df_communication.to_csv(\"../data/data_transformed/communication_limpio.csv\", index=False)\n",
    "\n",
    "# df_performance\n",
    "df_performance.reset_index(drop=True, inplace=True)\n",
    "df_performance.to_csv(\"../data/data_transformed/performance_limpio.csv\", index=False)\n"
   ]
  }
 ],
 "metadata": {
  "kernelspec": {
   "display_name": "venv",
   "language": "python",
   "name": "python3"
  },
  "language_info": {
   "codemirror_mode": {
    "name": "ipython",
    "version": 3
   },
   "file_extension": ".py",
   "mimetype": "text/x-python",
   "name": "python",
   "nbconvert_exporter": "python",
   "pygments_lexer": "ipython3",
   "version": "3.13.1"
  }
 },
 "nbformat": 4,
 "nbformat_minor": 5
}
