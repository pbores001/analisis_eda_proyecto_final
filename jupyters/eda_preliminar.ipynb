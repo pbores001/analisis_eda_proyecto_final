{
 "cells": [
  {
   "cell_type": "markdown",
   "id": "46334f86",
   "metadata": {},
   "source": [
    "# Analisis preliminar del conjunto de datos"
   ]
  },
  {
   "cell_type": "code",
   "execution_count": 161,
   "id": "aed0dab2",
   "metadata": {},
   "outputs": [],
   "source": [
    "#Importaciones\n",
    "import pandas as pd\n",
    "import numpy as np\n",
    "\n",
    "#Para llamar a archivos de otras carpetas\n",
    "import sys\n",
    "sys.path.append('..')\n",
    "\n",
    "#Visualizar todas las columnas\n",
    "pd.set_option('display.max_columns', None)\n"
   ]
  },
  {
   "cell_type": "code",
   "execution_count": 162,
   "id": "203e8eaf",
   "metadata": {},
   "outputs": [
    {
     "data": {
      "text/plain": [
       "<module 'src.sp_limpieza' from 'c:\\\\Users\\\\pooo_\\\\Desktop\\\\Hackio\\\\proyecto_final_troncal\\\\analisis_eda_proyecto_final\\\\jupyters\\\\..\\\\src\\\\sp_limpieza.py'>"
      ]
     },
     "execution_count": 162,
     "metadata": {},
     "output_type": "execute_result"
    }
   ],
   "source": [
    "#Después importamos el archivo de funciones ('sp_limpieza.py') \n",
    "import src.sp_limpieza as sp\n",
    "#Importamos importlib para poder recargar el módulo y reflejar los cambios actualizados\n",
    "import importlib  \n",
    "importlib.reload(sp) "
   ]
  },
  {
   "cell_type": "code",
   "execution_count": 163,
   "id": "e7e56ebc",
   "metadata": {},
   "outputs": [
    {
     "name": "stdout",
     "output_type": "stream",
     "text": [
      "c:\\Users\\pooo_\\Desktop\\Hackio\\proyecto_final_troncal\\analisis_eda_proyecto_final\\jupyters\n"
     ]
    }
   ],
   "source": [
    "#Para interactuar con el sistema operativo\n",
    "import os\n",
    "#Devuelve la ruta del directorio actual\n",
    "print(os.getcwd())"
   ]
  },
  {
   "cell_type": "code",
   "execution_count": 164,
   "id": "432f58b4",
   "metadata": {},
   "outputs": [],
   "source": [
    "#Librerías visualización de gráficos\n",
    "import matplotlib.pyplot as plt\n",
    "import seaborn as sns"
   ]
  },
  {
   "cell_type": "markdown",
   "id": "7d10973e",
   "metadata": {},
   "source": [
    "# 1. Transformación y limpieza de datos"
   ]
  },
  {
   "cell_type": "markdown",
   "id": "5e80ba84",
   "metadata": {},
   "source": [
    "### 1.1. Importación y visión general de los datos"
   ]
  },
  {
   "cell_type": "code",
   "execution_count": 165,
   "id": "9860efbb",
   "metadata": {},
   "outputs": [],
   "source": [
    "#Leer los archivos\n",
    "df_attendance = pd.read_csv(\"../data/data_raw/attendance.csv\", index_col = 0)\n",
    "df_homework = pd.read_csv(\"../data/data_raw/homework.csv\", index_col = 0)\n",
    "df_performance = pd.read_csv(\"../data/data_raw/performance.csv\", index_col = 0)\n",
    "df_students = pd.read_csv(\"../data/data_raw/students.csv\", index_col = 0)\n",
    "df_communication = pd.read_csv(\"../data/data_raw/communication.csv\", index_col = 0)"
   ]
  },
  {
   "cell_type": "code",
   "execution_count": 166,
   "id": "60c0b871",
   "metadata": {},
   "outputs": [
    {
     "data": {
      "text/html": [
       "<div>\n",
       "<style scoped>\n",
       "    .dataframe tbody tr th:only-of-type {\n",
       "        vertical-align: middle;\n",
       "    }\n",
       "\n",
       "    .dataframe tbody tr th {\n",
       "        vertical-align: top;\n",
       "    }\n",
       "\n",
       "    .dataframe thead th {\n",
       "        text-align: right;\n",
       "    }\n",
       "</style>\n",
       "<table border=\"1\" class=\"dataframe\">\n",
       "  <thead>\n",
       "    <tr style=\"text-align: right;\">\n",
       "      <th></th>\n",
       "      <th>Date</th>\n",
       "      <th>Subject</th>\n",
       "      <th>Attendance_Status</th>\n",
       "    </tr>\n",
       "    <tr>\n",
       "      <th>Student_ID</th>\n",
       "      <th></th>\n",
       "      <th></th>\n",
       "      <th></th>\n",
       "    </tr>\n",
       "  </thead>\n",
       "  <tbody>\n",
       "    <tr>\n",
       "      <th>S09367</th>\n",
       "      <td>2024-09-24</td>\n",
       "      <td>Science</td>\n",
       "      <td>excused</td>\n",
       "    </tr>\n",
       "    <tr>\n",
       "      <th>S11335</th>\n",
       "      <td>2025-02-26</td>\n",
       "      <td>Science</td>\n",
       "      <td>PRESENT</td>\n",
       "    </tr>\n",
       "    <tr>\n",
       "      <th>S06743</th>\n",
       "      <td>2024-09-10</td>\n",
       "      <td>Science</td>\n",
       "      <td>left early</td>\n",
       "    </tr>\n",
       "    <tr>\n",
       "      <th>S02035</th>\n",
       "      <td>2024-07-21</td>\n",
       "      <td>History</td>\n",
       "      <td>excused</td>\n",
       "    </tr>\n",
       "    <tr>\n",
       "      <th>S01575</th>\n",
       "      <td>2024-11-11</td>\n",
       "      <td>Geography</td>\n",
       "      <td>Absent</td>\n",
       "    </tr>\n",
       "  </tbody>\n",
       "</table>\n",
       "</div>"
      ],
      "text/plain": [
       "                  Date    Subject Attendance_Status\n",
       "Student_ID                                         \n",
       "S09367      2024-09-24    Science           excused\n",
       "S11335      2025-02-26    Science          PRESENT \n",
       "S06743      2024-09-10    Science        left early\n",
       "S02035      2024-07-21    History           excused\n",
       "S01575      2024-11-11  Geography            Absent"
      ]
     },
     "metadata": {},
     "output_type": "display_data"
    },
    {
     "name": "stdout",
     "output_type": "stream",
     "text": [
      "____________________________\n",
      "INFO\n",
      "<class 'pandas.core.frame.DataFrame'>\n",
      "Index: 364680 entries, S06592 to S12134\n",
      "Data columns (total 3 columns):\n",
      " #   Column             Non-Null Count   Dtype \n",
      "---  ------             --------------   ----- \n",
      " 0   Date               364680 non-null  object\n",
      " 1   Subject            364680 non-null  object\n",
      " 2   Attendance_Status  364680 non-null  object\n",
      "dtypes: object(3)\n",
      "memory usage: 11.1+ MB\n"
     ]
    },
    {
     "data": {
      "text/plain": [
       "None"
      ]
     },
     "metadata": {},
     "output_type": "display_data"
    },
    {
     "name": "stdout",
     "output_type": "stream",
     "text": [
      "____________________________\n",
      "NULOS\n"
     ]
    },
    {
     "data": {
      "text/plain": [
       "Date                 0.0\n",
       "Subject              0.0\n",
       "Attendance_Status    0.0\n",
       "dtype: float64"
      ]
     },
     "metadata": {},
     "output_type": "display_data"
    },
    {
     "name": "stdout",
     "output_type": "stream",
     "text": [
      "____________________________\n",
      "DUPLICADOS\n"
     ]
    },
    {
     "data": {
      "text/plain": [
       "np.int64(347112)"
      ]
     },
     "metadata": {},
     "output_type": "display_data"
    },
    {
     "name": "stdout",
     "output_type": "stream",
     "text": [
      "____________________________\n",
      "DESCRIBE\n"
     ]
    },
    {
     "data": {
      "text/html": [
       "<div>\n",
       "<style scoped>\n",
       "    .dataframe tbody tr th:only-of-type {\n",
       "        vertical-align: middle;\n",
       "    }\n",
       "\n",
       "    .dataframe tbody tr th {\n",
       "        vertical-align: top;\n",
       "    }\n",
       "\n",
       "    .dataframe thead th {\n",
       "        text-align: right;\n",
       "    }\n",
       "</style>\n",
       "<table border=\"1\" class=\"dataframe\">\n",
       "  <thead>\n",
       "    <tr style=\"text-align: right;\">\n",
       "      <th></th>\n",
       "      <th>count</th>\n",
       "      <th>unique</th>\n",
       "      <th>top</th>\n",
       "      <th>freq</th>\n",
       "    </tr>\n",
       "  </thead>\n",
       "  <tbody>\n",
       "    <tr>\n",
       "      <th>Date</th>\n",
       "      <td>364680</td>\n",
       "      <td>366</td>\n",
       "      <td>2024-12-31</td>\n",
       "      <td>1075</td>\n",
       "    </tr>\n",
       "    <tr>\n",
       "      <th>Subject</th>\n",
       "      <td>364680</td>\n",
       "      <td>6</td>\n",
       "      <td>Math</td>\n",
       "      <td>61241</td>\n",
       "    </tr>\n",
       "    <tr>\n",
       "      <th>Attendance_Status</th>\n",
       "      <td>364680</td>\n",
       "      <td>8</td>\n",
       "      <td>PRESENT</td>\n",
       "      <td>45982</td>\n",
       "    </tr>\n",
       "  </tbody>\n",
       "</table>\n",
       "</div>"
      ],
      "text/plain": [
       "                    count unique         top   freq\n",
       "Date               364680    366  2024-12-31   1075\n",
       "Subject            364680      6        Math  61241\n",
       "Attendance_Status  364680      8    PRESENT   45982"
      ]
     },
     "metadata": {},
     "output_type": "display_data"
    },
    {
     "name": "stdout",
     "output_type": "stream",
     "text": [
      "____________________________\n",
      "DESCRIBE COLUMNAS OBJECT\n"
     ]
    },
    {
     "data": {
      "text/html": [
       "<div>\n",
       "<style scoped>\n",
       "    .dataframe tbody tr th:only-of-type {\n",
       "        vertical-align: middle;\n",
       "    }\n",
       "\n",
       "    .dataframe tbody tr th {\n",
       "        vertical-align: top;\n",
       "    }\n",
       "\n",
       "    .dataframe thead th {\n",
       "        text-align: right;\n",
       "    }\n",
       "</style>\n",
       "<table border=\"1\" class=\"dataframe\">\n",
       "  <thead>\n",
       "    <tr style=\"text-align: right;\">\n",
       "      <th></th>\n",
       "      <th>count</th>\n",
       "      <th>unique</th>\n",
       "      <th>top</th>\n",
       "      <th>freq</th>\n",
       "    </tr>\n",
       "  </thead>\n",
       "  <tbody>\n",
       "    <tr>\n",
       "      <th>Date</th>\n",
       "      <td>364680</td>\n",
       "      <td>366</td>\n",
       "      <td>2024-12-31</td>\n",
       "      <td>1075</td>\n",
       "    </tr>\n",
       "    <tr>\n",
       "      <th>Subject</th>\n",
       "      <td>364680</td>\n",
       "      <td>6</td>\n",
       "      <td>Math</td>\n",
       "      <td>61241</td>\n",
       "    </tr>\n",
       "    <tr>\n",
       "      <th>Attendance_Status</th>\n",
       "      <td>364680</td>\n",
       "      <td>8</td>\n",
       "      <td>PRESENT</td>\n",
       "      <td>45982</td>\n",
       "    </tr>\n",
       "  </tbody>\n",
       "</table>\n",
       "</div>"
      ],
      "text/plain": [
       "                    count unique         top   freq\n",
       "Date               364680    366  2024-12-31   1075\n",
       "Subject            364680      6        Math  61241\n",
       "Attendance_Status  364680      8    PRESENT   45982"
      ]
     },
     "metadata": {},
     "output_type": "display_data"
    },
    {
     "name": "stdout",
     "output_type": "stream",
     "text": [
      "____________________________\n",
      "VALUE COUNTS\n",
      "Date\n",
      "2024-12-31    1075\n",
      "2024-05-05    1073\n",
      "2024-09-06    1070\n",
      "2024-08-06    1068\n",
      "2024-09-22    1068\n",
      "              ... \n",
      "2024-12-25     922\n",
      "2024-05-09     921\n",
      "2024-03-31     919\n",
      "2024-12-07     917\n",
      "2024-04-21     905\n",
      "Name: count, Length: 366, dtype: int64\n",
      "Subject\n",
      "Math         61241\n",
      "Science      60881\n",
      "Arabic       60749\n",
      "English      60684\n",
      "Geography    60640\n",
      "History      60485\n",
      "Name: count, dtype: int64\n",
      "Attendance_Status\n",
      "PRESENT       45982\n",
      "Absent        45751\n",
      "Present       45632\n",
      "Late          45509\n",
      " late         45508\n",
      "absnt         45478\n",
      "left early    45435\n",
      "excused       45385\n",
      "Name: count, dtype: int64\n",
      "____________________________\n"
     ]
    }
   ],
   "source": [
    "#Ver dataframe 'df_attendace'\n",
    "df_att_preliminar =  sp.eda_preliminar(df_attendance)"
   ]
  },
  {
   "cell_type": "code",
   "execution_count": 167,
   "id": "616ca7b0",
   "metadata": {},
   "outputs": [
    {
     "data": {
      "text/html": [
       "<div>\n",
       "<style scoped>\n",
       "    .dataframe tbody tr th:only-of-type {\n",
       "        vertical-align: middle;\n",
       "    }\n",
       "\n",
       "    .dataframe tbody tr th {\n",
       "        vertical-align: top;\n",
       "    }\n",
       "\n",
       "    .dataframe thead th {\n",
       "        text-align: right;\n",
       "    }\n",
       "</style>\n",
       "<table border=\"1\" class=\"dataframe\">\n",
       "  <thead>\n",
       "    <tr style=\"text-align: right;\">\n",
       "      <th></th>\n",
       "      <th>date</th>\n",
       "      <th>subject</th>\n",
       "      <th>attendance_status</th>\n",
       "    </tr>\n",
       "    <tr>\n",
       "      <th>student_id</th>\n",
       "      <th></th>\n",
       "      <th></th>\n",
       "      <th></th>\n",
       "    </tr>\n",
       "  </thead>\n",
       "  <tbody>\n",
       "    <tr>\n",
       "      <th>s08839</th>\n",
       "      <td>2024-09-15</td>\n",
       "      <td>science</td>\n",
       "      <td>late</td>\n",
       "    </tr>\n",
       "    <tr>\n",
       "      <th>s09864</th>\n",
       "      <td>2024-10-03</td>\n",
       "      <td>arabic</td>\n",
       "      <td>present</td>\n",
       "    </tr>\n",
       "    <tr>\n",
       "      <th>s03530</th>\n",
       "      <td>2025-02-02</td>\n",
       "      <td>science</td>\n",
       "      <td>left early</td>\n",
       "    </tr>\n",
       "    <tr>\n",
       "      <th>s03443</th>\n",
       "      <td>2024-08-13</td>\n",
       "      <td>arabic</td>\n",
       "      <td>left early</td>\n",
       "    </tr>\n",
       "    <tr>\n",
       "      <th>s01694</th>\n",
       "      <td>2024-05-13</td>\n",
       "      <td>history</td>\n",
       "      <td>present</td>\n",
       "    </tr>\n",
       "    <tr>\n",
       "      <th>s06910</th>\n",
       "      <td>2024-05-28</td>\n",
       "      <td>english</td>\n",
       "      <td>absent</td>\n",
       "    </tr>\n",
       "    <tr>\n",
       "      <th>s06810</th>\n",
       "      <td>2024-07-20</td>\n",
       "      <td>math</td>\n",
       "      <td>late</td>\n",
       "    </tr>\n",
       "    <tr>\n",
       "      <th>s11092</th>\n",
       "      <td>2024-06-28</td>\n",
       "      <td>arabic</td>\n",
       "      <td>late</td>\n",
       "    </tr>\n",
       "    <tr>\n",
       "      <th>s09592</th>\n",
       "      <td>2024-07-08</td>\n",
       "      <td>science</td>\n",
       "      <td>present</td>\n",
       "    </tr>\n",
       "    <tr>\n",
       "      <th>s11074</th>\n",
       "      <td>2024-06-28</td>\n",
       "      <td>science</td>\n",
       "      <td>absent</td>\n",
       "    </tr>\n",
       "  </tbody>\n",
       "</table>\n",
       "</div>"
      ],
      "text/plain": [
       "                  date  subject attendance_status\n",
       "student_id                                       \n",
       "s08839      2024-09-15  science              late\n",
       "s09864      2024-10-03   arabic           present\n",
       "s03530      2025-02-02  science        left early\n",
       "s03443      2024-08-13   arabic        left early\n",
       "s01694      2024-05-13  history           present\n",
       "s06910      2024-05-28  english            absent\n",
       "s06810      2024-07-20     math              late\n",
       "s11092      2024-06-28   arabic              late\n",
       "s09592      2024-07-08  science           present\n",
       "s11074      2024-06-28  science            absent"
      ]
     },
     "execution_count": 167,
     "metadata": {},
     "output_type": "execute_result"
    }
   ],
   "source": [
    "#Quitar los espacios y pasar a misnuculas las tabla\n",
    "df_attendance = sp.valores_a_minus(df_attendance)\n",
    "df_attendance.sample(10)"
   ]
  },
  {
   "cell_type": "code",
   "execution_count": 168,
   "id": "85d81c78",
   "metadata": {},
   "outputs": [
    {
     "data": {
      "text/plain": [
       "attendance_status\n",
       "present       91614\n",
       "late          91017\n",
       "absent        45751\n",
       "absnt         45478\n",
       "left early    45435\n",
       "excused       45385\n",
       "Name: count, dtype: int64"
      ]
     },
     "execution_count": 168,
     "metadata": {},
     "output_type": "execute_result"
    }
   ],
   "source": [
    "#Ver en la columna attendance_status que valores tiene.\n",
    "conteo = df_attendance['attendance_status'].value_counts()\n",
    "conteo"
   ]
  },
  {
   "cell_type": "code",
   "execution_count": 169,
   "id": "271a7f8e",
   "metadata": {},
   "outputs": [
    {
     "data": {
      "text/plain": [
       "attendance_status\n",
       "present       91614\n",
       "absent        91229\n",
       "late          91017\n",
       "left early    45435\n",
       "excused       45385\n",
       "Name: count, dtype: int64"
      ]
     },
     "execution_count": 169,
     "metadata": {},
     "output_type": "execute_result"
    }
   ],
   "source": [
    "#Corregimos el valor 'absnt' por 'absent' y comprobamos los resultados de la columna\n",
    "df_attendance['attendance_status'] = df_attendance['attendance_status'].replace('absnt','absent')\n",
    "\n",
    "conteo = df_attendance['attendance_status'].value_counts()\n",
    "conteo\n",
    "#Ya tenemos los valores de esta columna corregidos."
   ]
  },
  {
   "cell_type": "code",
   "execution_count": 170,
   "id": "0d732a2f",
   "metadata": {},
   "outputs": [],
   "source": [
    "#Cambiar nombre de columna 'date' para hacerla mas descriptiva y 'attendace_status' para hacerla mas corta.\n",
    "df_attendance.rename(columns={'date':'att_date', 'attendance_status':'att_status'}, inplace= True)"
   ]
  },
  {
   "cell_type": "code",
   "execution_count": 171,
   "id": "a0b48bc2",
   "metadata": {},
   "outputs": [
    {
     "name": "stdout",
     "output_type": "stream",
     "text": [
      "datetime64[ns]\n"
     ]
    }
   ],
   "source": [
    "# Como la columna 'date' es de tipo 'Object' vamos a pasarla a tipo Datetime y comprobamos el tipo de dato que sea correcto\n",
    "df_attendance['att_date'] = pd.to_datetime(df_attendance['att_date'], errors = 'coerce')\n",
    "print(df_attendance['att_date'].dtype)"
   ]
  },
  {
   "cell_type": "code",
   "execution_count": 172,
   "id": "97ef9c30",
   "metadata": {},
   "outputs": [
    {
     "name": "stdout",
     "output_type": "stream",
     "text": [
      "att_date      datetime64[ns]\n",
      "subject               object\n",
      "att_status            object\n",
      "dtype: object\n"
     ]
    }
   ],
   "source": [
    "#Comprobamos el resto de columnas que sean de tipo correcto.\n",
    "print(df_attendance.dtypes)"
   ]
  },
  {
   "cell_type": "code",
   "execution_count": 173,
   "id": "2f6b28c3",
   "metadata": {},
   "outputs": [
    {
     "data": {
      "text/html": [
       "<div>\n",
       "<style scoped>\n",
       "    .dataframe tbody tr th:only-of-type {\n",
       "        vertical-align: middle;\n",
       "    }\n",
       "\n",
       "    .dataframe tbody tr th {\n",
       "        vertical-align: top;\n",
       "    }\n",
       "\n",
       "    .dataframe thead th {\n",
       "        text-align: right;\n",
       "    }\n",
       "</style>\n",
       "<table border=\"1\" class=\"dataframe\">\n",
       "  <thead>\n",
       "    <tr style=\"text-align: right;\">\n",
       "      <th></th>\n",
       "      <th>Subject</th>\n",
       "      <th>Assignment_Name</th>\n",
       "      <th>Due_Date</th>\n",
       "      <th>Status</th>\n",
       "      <th>Grade_Feedback</th>\n",
       "      <th>Guardian_Signature</th>\n",
       "    </tr>\n",
       "    <tr>\n",
       "      <th>Student_ID</th>\n",
       "      <th></th>\n",
       "      <th></th>\n",
       "      <th></th>\n",
       "      <th></th>\n",
       "      <th></th>\n",
       "      <th></th>\n",
       "    </tr>\n",
       "  </thead>\n",
       "  <tbody>\n",
       "    <tr>\n",
       "      <th>S00600</th>\n",
       "      <td>Arabic</td>\n",
       "      <td>Smile.</td>\n",
       "      <td>2024-10-20</td>\n",
       "      <td>❌</td>\n",
       "      <td>C-</td>\n",
       "      <td>Yes</td>\n",
       "    </tr>\n",
       "    <tr>\n",
       "      <th>S09909</th>\n",
       "      <td>Arabic</td>\n",
       "      <td>Yeah agreement we.</td>\n",
       "      <td>09/13/2024</td>\n",
       "      <td>not done</td>\n",
       "      <td>A</td>\n",
       "      <td></td>\n",
       "    </tr>\n",
       "    <tr>\n",
       "      <th>S06507</th>\n",
       "      <td>Math</td>\n",
       "      <td>Buy gas.</td>\n",
       "      <td>10/02/2024</td>\n",
       "      <td>✔</td>\n",
       "      <td>B</td>\n",
       "      <td>No</td>\n",
       "    </tr>\n",
       "    <tr>\n",
       "      <th>S06243</th>\n",
       "      <td>Math</td>\n",
       "      <td>Key entire.</td>\n",
       "      <td>02/13/2025</td>\n",
       "      <td>❌</td>\n",
       "      <td>A+</td>\n",
       "      <td></td>\n",
       "    </tr>\n",
       "    <tr>\n",
       "      <th>S11205</th>\n",
       "      <td>Science</td>\n",
       "      <td>Base record.</td>\n",
       "      <td>2024-12-09</td>\n",
       "      <td>not done</td>\n",
       "      <td>C</td>\n",
       "      <td></td>\n",
       "    </tr>\n",
       "  </tbody>\n",
       "</table>\n",
       "</div>"
      ],
      "text/plain": [
       "            Subject     Assignment_Name    Due_Date    Status Grade_Feedback  \\\n",
       "Student_ID                                                                     \n",
       "S00600       Arabic              Smile.  2024-10-20         ❌             C-   \n",
       "S09909       Arabic  Yeah agreement we.  09/13/2024  not done              A   \n",
       "S06507         Math            Buy gas.  10/02/2024         ✔              B   \n",
       "S06243         Math         Key entire.  02/13/2025         ❌             A+   \n",
       "S11205      Science        Base record.  2024-12-09  not done              C   \n",
       "\n",
       "           Guardian_Signature  \n",
       "Student_ID                     \n",
       "S00600                    Yes  \n",
       "S09909                         \n",
       "S06507                     No  \n",
       "S06243                         \n",
       "S11205                         "
      ]
     },
     "metadata": {},
     "output_type": "display_data"
    },
    {
     "name": "stdout",
     "output_type": "stream",
     "text": [
      "____________________________\n",
      "INFO\n",
      "<class 'pandas.core.frame.DataFrame'>\n",
      "Index: 60780 entries, S12002 to S08589\n",
      "Data columns (total 6 columns):\n",
      " #   Column              Non-Null Count  Dtype \n",
      "---  ------              --------------  ----- \n",
      " 0   Subject             60780 non-null  object\n",
      " 1   Assignment_Name     60780 non-null  object\n",
      " 2   Due_Date            60780 non-null  object\n",
      " 3   Status              60780 non-null  object\n",
      " 4   Grade_Feedback      60780 non-null  object\n",
      " 5   Guardian_Signature  60780 non-null  object\n",
      "dtypes: object(6)\n",
      "memory usage: 3.2+ MB\n"
     ]
    },
    {
     "data": {
      "text/plain": [
       "None"
      ]
     },
     "metadata": {},
     "output_type": "display_data"
    },
    {
     "name": "stdout",
     "output_type": "stream",
     "text": [
      "____________________________\n",
      "NULOS\n"
     ]
    },
    {
     "data": {
      "text/plain": [
       "Subject               0.0\n",
       "Assignment_Name       0.0\n",
       "Due_Date              0.0\n",
       "Status                0.0\n",
       "Grade_Feedback        0.0\n",
       "Guardian_Signature    0.0\n",
       "dtype: float64"
      ]
     },
     "metadata": {},
     "output_type": "display_data"
    },
    {
     "name": "stdout",
     "output_type": "stream",
     "text": [
      "____________________________\n",
      "DUPLICADOS\n"
     ]
    },
    {
     "data": {
      "text/plain": [
       "np.int64(0)"
      ]
     },
     "metadata": {},
     "output_type": "display_data"
    },
    {
     "name": "stdout",
     "output_type": "stream",
     "text": [
      "____________________________\n",
      "DESCRIBE\n"
     ]
    },
    {
     "data": {
      "text/html": [
       "<div>\n",
       "<style scoped>\n",
       "    .dataframe tbody tr th:only-of-type {\n",
       "        vertical-align: middle;\n",
       "    }\n",
       "\n",
       "    .dataframe tbody tr th {\n",
       "        vertical-align: top;\n",
       "    }\n",
       "\n",
       "    .dataframe thead th {\n",
       "        text-align: right;\n",
       "    }\n",
       "</style>\n",
       "<table border=\"1\" class=\"dataframe\">\n",
       "  <thead>\n",
       "    <tr style=\"text-align: right;\">\n",
       "      <th></th>\n",
       "      <th>count</th>\n",
       "      <th>unique</th>\n",
       "      <th>top</th>\n",
       "      <th>freq</th>\n",
       "    </tr>\n",
       "  </thead>\n",
       "  <tbody>\n",
       "    <tr>\n",
       "      <th>Subject</th>\n",
       "      <td>60780</td>\n",
       "      <td>6</td>\n",
       "      <td>English</td>\n",
       "      <td>10209</td>\n",
       "    </tr>\n",
       "    <tr>\n",
       "      <th>Assignment_Name</th>\n",
       "      <td>60780</td>\n",
       "      <td>56065</td>\n",
       "      <td>Also.</td>\n",
       "      <td>15</td>\n",
       "    </tr>\n",
       "    <tr>\n",
       "      <th>Due_Date</th>\n",
       "      <td>60780</td>\n",
       "      <td>366</td>\n",
       "      <td>2025-01-23</td>\n",
       "      <td>315</td>\n",
       "    </tr>\n",
       "    <tr>\n",
       "      <th>Status</th>\n",
       "      <td>60780</td>\n",
       "      <td>6</td>\n",
       "      <td>Done</td>\n",
       "      <td>10278</td>\n",
       "    </tr>\n",
       "    <tr>\n",
       "      <th>Grade_Feedback</th>\n",
       "      <td>60780</td>\n",
       "      <td>8</td>\n",
       "      <td>A+</td>\n",
       "      <td>7709</td>\n",
       "    </tr>\n",
       "    <tr>\n",
       "      <th>Guardian_Signature</th>\n",
       "      <td>60780</td>\n",
       "      <td>3</td>\n",
       "      <td>No</td>\n",
       "      <td>20372</td>\n",
       "    </tr>\n",
       "  </tbody>\n",
       "</table>\n",
       "</div>"
      ],
      "text/plain": [
       "                    count unique         top   freq\n",
       "Subject             60780      6     English  10209\n",
       "Assignment_Name     60780  56065       Also.     15\n",
       "Due_Date            60780    366  2025-01-23    315\n",
       "Status              60780      6       Done   10278\n",
       "Grade_Feedback      60780      8          A+   7709\n",
       "Guardian_Signature  60780      3          No  20372"
      ]
     },
     "metadata": {},
     "output_type": "display_data"
    },
    {
     "name": "stdout",
     "output_type": "stream",
     "text": [
      "____________________________\n",
      "DESCRIBE COLUMNAS OBJECT\n"
     ]
    },
    {
     "data": {
      "text/html": [
       "<div>\n",
       "<style scoped>\n",
       "    .dataframe tbody tr th:only-of-type {\n",
       "        vertical-align: middle;\n",
       "    }\n",
       "\n",
       "    .dataframe tbody tr th {\n",
       "        vertical-align: top;\n",
       "    }\n",
       "\n",
       "    .dataframe thead th {\n",
       "        text-align: right;\n",
       "    }\n",
       "</style>\n",
       "<table border=\"1\" class=\"dataframe\">\n",
       "  <thead>\n",
       "    <tr style=\"text-align: right;\">\n",
       "      <th></th>\n",
       "      <th>count</th>\n",
       "      <th>unique</th>\n",
       "      <th>top</th>\n",
       "      <th>freq</th>\n",
       "    </tr>\n",
       "  </thead>\n",
       "  <tbody>\n",
       "    <tr>\n",
       "      <th>Subject</th>\n",
       "      <td>60780</td>\n",
       "      <td>6</td>\n",
       "      <td>English</td>\n",
       "      <td>10209</td>\n",
       "    </tr>\n",
       "    <tr>\n",
       "      <th>Assignment_Name</th>\n",
       "      <td>60780</td>\n",
       "      <td>56065</td>\n",
       "      <td>Also.</td>\n",
       "      <td>15</td>\n",
       "    </tr>\n",
       "    <tr>\n",
       "      <th>Due_Date</th>\n",
       "      <td>60780</td>\n",
       "      <td>366</td>\n",
       "      <td>2025-01-23</td>\n",
       "      <td>315</td>\n",
       "    </tr>\n",
       "    <tr>\n",
       "      <th>Status</th>\n",
       "      <td>60780</td>\n",
       "      <td>6</td>\n",
       "      <td>Done</td>\n",
       "      <td>10278</td>\n",
       "    </tr>\n",
       "    <tr>\n",
       "      <th>Grade_Feedback</th>\n",
       "      <td>60780</td>\n",
       "      <td>8</td>\n",
       "      <td>A+</td>\n",
       "      <td>7709</td>\n",
       "    </tr>\n",
       "    <tr>\n",
       "      <th>Guardian_Signature</th>\n",
       "      <td>60780</td>\n",
       "      <td>3</td>\n",
       "      <td>No</td>\n",
       "      <td>20372</td>\n",
       "    </tr>\n",
       "  </tbody>\n",
       "</table>\n",
       "</div>"
      ],
      "text/plain": [
       "                    count unique         top   freq\n",
       "Subject             60780      6     English  10209\n",
       "Assignment_Name     60780  56065       Also.     15\n",
       "Due_Date            60780    366  2025-01-23    315\n",
       "Status              60780      6       Done   10278\n",
       "Grade_Feedback      60780      8          A+   7709\n",
       "Guardian_Signature  60780      3          No  20372"
      ]
     },
     "metadata": {},
     "output_type": "display_data"
    },
    {
     "name": "stdout",
     "output_type": "stream",
     "text": [
      "____________________________\n",
      "VALUE COUNTS\n",
      "Subject\n",
      "English      10209\n",
      "Geography    10179\n",
      "Science      10112\n",
      "History      10110\n",
      "Arabic       10106\n",
      "Math         10064\n",
      "Name: count, dtype: int64\n",
      "Assignment_Name\n",
      "Also.                      15\n",
      "Term.                      15\n",
      "Understand.                13\n",
      "Not.                       13\n",
      "Eye.                       12\n",
      "                           ..\n",
      "Effect job amount.          1\n",
      "Study indicate fight.       1\n",
      "Reach whose investment.     1\n",
      "Suggest figure.             1\n",
      "Involve determine.          1\n",
      "Name: count, Length: 56065, dtype: int64\n",
      "Due_Date\n",
      "2025-01-23    315\n",
      "2025-03-02    302\n",
      "2024-11-06    301\n",
      "2024-11-08    300\n",
      "2024-12-25    299\n",
      "             ... \n",
      "11/04/2024     52\n",
      "10/13/2024     51\n",
      "12/21/2024     50\n",
      "11/22/2024     50\n",
      "03/01/2025     46\n",
      "Name: count, Length: 366, dtype: int64\n",
      "Status\n",
      " Done       10278\n",
      "not done    10234\n",
      "❌           10151\n",
      "✔           10090\n",
      "pending     10014\n",
      "✅           10013\n",
      "Name: count, dtype: int64\n",
      "Grade_Feedback\n",
      "A+    7709\n",
      "B-    7639\n",
      "D     7631\n",
      "B     7591\n",
      "F     7586\n",
      "C     7585\n",
      "A     7533\n",
      "C-    7506\n",
      "Name: count, dtype: int64\n",
      "Guardian_Signature\n",
      "No     20372\n",
      "Yes    20348\n",
      "       20060\n",
      "Name: count, dtype: int64\n",
      "____________________________\n"
     ]
    }
   ],
   "source": [
    "#Ver dataframe 'df_homework'\n",
    "df_hw_preliminar =  sp.eda_preliminar(df_homework)\n",
    "df_hw_preliminar"
   ]
  },
  {
   "cell_type": "code",
   "execution_count": 174,
   "id": "e31cb3d5",
   "metadata": {},
   "outputs": [
    {
     "data": {
      "text/html": [
       "<div>\n",
       "<style scoped>\n",
       "    .dataframe tbody tr th:only-of-type {\n",
       "        vertical-align: middle;\n",
       "    }\n",
       "\n",
       "    .dataframe tbody tr th {\n",
       "        vertical-align: top;\n",
       "    }\n",
       "\n",
       "    .dataframe thead th {\n",
       "        text-align: right;\n",
       "    }\n",
       "</style>\n",
       "<table border=\"1\" class=\"dataframe\">\n",
       "  <thead>\n",
       "    <tr style=\"text-align: right;\">\n",
       "      <th></th>\n",
       "      <th>subject</th>\n",
       "      <th>assignment_name</th>\n",
       "      <th>due_date</th>\n",
       "      <th>status</th>\n",
       "      <th>grade_feedback</th>\n",
       "      <th>guardian_signature</th>\n",
       "    </tr>\n",
       "    <tr>\n",
       "      <th>student_id</th>\n",
       "      <th></th>\n",
       "      <th></th>\n",
       "      <th></th>\n",
       "      <th></th>\n",
       "      <th></th>\n",
       "      <th></th>\n",
       "    </tr>\n",
       "  </thead>\n",
       "  <tbody>\n",
       "    <tr>\n",
       "      <th>s02514</th>\n",
       "      <td>math</td>\n",
       "      <td>bar work.</td>\n",
       "      <td>2025-03-03</td>\n",
       "      <td>✔</td>\n",
       "      <td>f</td>\n",
       "      <td></td>\n",
       "    </tr>\n",
       "    <tr>\n",
       "      <th>s06586</th>\n",
       "      <td>geography</td>\n",
       "      <td>professor reason color.</td>\n",
       "      <td>2024-12-11</td>\n",
       "      <td>pending</td>\n",
       "      <td>f</td>\n",
       "      <td>yes</td>\n",
       "    </tr>\n",
       "    <tr>\n",
       "      <th>s09813</th>\n",
       "      <td>arabic</td>\n",
       "      <td>almost quickly.</td>\n",
       "      <td>02/18/2025</td>\n",
       "      <td>✔</td>\n",
       "      <td>d</td>\n",
       "      <td>yes</td>\n",
       "    </tr>\n",
       "    <tr>\n",
       "      <th>s01863</th>\n",
       "      <td>history</td>\n",
       "      <td>expect decision join.</td>\n",
       "      <td>2025-01-03</td>\n",
       "      <td>pending</td>\n",
       "      <td>a</td>\n",
       "      <td></td>\n",
       "    </tr>\n",
       "    <tr>\n",
       "      <th>s08021</th>\n",
       "      <td>math</td>\n",
       "      <td>medical charge.</td>\n",
       "      <td>2024-12-09</td>\n",
       "      <td>done</td>\n",
       "      <td>d</td>\n",
       "      <td></td>\n",
       "    </tr>\n",
       "    <tr>\n",
       "      <th>s10717</th>\n",
       "      <td>geography</td>\n",
       "      <td>style.</td>\n",
       "      <td>10/12/2024</td>\n",
       "      <td>done</td>\n",
       "      <td>c</td>\n",
       "      <td>no</td>\n",
       "    </tr>\n",
       "    <tr>\n",
       "      <th>s06551</th>\n",
       "      <td>science</td>\n",
       "      <td>way international room.</td>\n",
       "      <td>2024-12-01</td>\n",
       "      <td>not done</td>\n",
       "      <td>f</td>\n",
       "      <td>yes</td>\n",
       "    </tr>\n",
       "    <tr>\n",
       "      <th>s09786</th>\n",
       "      <td>english</td>\n",
       "      <td>help window.</td>\n",
       "      <td>2024-11-13</td>\n",
       "      <td>not done</td>\n",
       "      <td>b</td>\n",
       "      <td></td>\n",
       "    </tr>\n",
       "    <tr>\n",
       "      <th>s11988</th>\n",
       "      <td>english</td>\n",
       "      <td>charge pay.</td>\n",
       "      <td>2024-11-22</td>\n",
       "      <td>✔</td>\n",
       "      <td>f</td>\n",
       "      <td></td>\n",
       "    </tr>\n",
       "    <tr>\n",
       "      <th>s05670</th>\n",
       "      <td>science</td>\n",
       "      <td>two individual particularly.</td>\n",
       "      <td>2025-03-03</td>\n",
       "      <td>✅</td>\n",
       "      <td>b</td>\n",
       "      <td>no</td>\n",
       "    </tr>\n",
       "  </tbody>\n",
       "</table>\n",
       "</div>"
      ],
      "text/plain": [
       "              subject               assignment_name    due_date    status  \\\n",
       "student_id                                                                  \n",
       "s02514           math                     bar work.  2025-03-03         ✔   \n",
       "s06586      geography       professor reason color.  2024-12-11   pending   \n",
       "s09813         arabic               almost quickly.  02/18/2025         ✔   \n",
       "s01863        history         expect decision join.  2025-01-03   pending   \n",
       "s08021           math               medical charge.  2024-12-09      done   \n",
       "s10717      geography                        style.  10/12/2024      done   \n",
       "s06551        science       way international room.  2024-12-01  not done   \n",
       "s09786        english                  help window.  2024-11-13  not done   \n",
       "s11988        english                   charge pay.  2024-11-22         ✔   \n",
       "s05670        science  two individual particularly.  2025-03-03         ✅   \n",
       "\n",
       "           grade_feedback guardian_signature  \n",
       "student_id                                    \n",
       "s02514                  f                     \n",
       "s06586                  f                yes  \n",
       "s09813                  d                yes  \n",
       "s01863                  a                     \n",
       "s08021                  d                     \n",
       "s10717                  c                 no  \n",
       "s06551                  f                yes  \n",
       "s09786                  b                     \n",
       "s11988                  f                     \n",
       "s05670                  b                 no  "
      ]
     },
     "execution_count": 174,
     "metadata": {},
     "output_type": "execute_result"
    }
   ],
   "source": [
    "#Pasar dataframe a minusculas\n",
    "df_homework = sp.valores_a_minus(df_homework)\n",
    "df_homework.sample(10)"
   ]
  },
  {
   "cell_type": "code",
   "execution_count": 175,
   "id": "7d7a36ff",
   "metadata": {},
   "outputs": [
    {
     "name": "stdout",
     "output_type": "stream",
     "text": [
      "<class 'pandas.core.frame.DataFrame'>\n",
      "Index: 60780 entries, s12002 to s08589\n",
      "Data columns (total 6 columns):\n",
      " #   Column              Non-Null Count  Dtype         \n",
      "---  ------              --------------  -----         \n",
      " 0   subject             60780 non-null  object        \n",
      " 1   assignment_name     60780 non-null  object        \n",
      " 2   due_date            48422 non-null  datetime64[ns]\n",
      " 3   status              60780 non-null  object        \n",
      " 4   grade_feedback      60780 non-null  object        \n",
      " 5   guardian_signature  60780 non-null  object        \n",
      "dtypes: datetime64[ns](1), object(5)\n",
      "memory usage: 3.2+ MB\n"
     ]
    }
   ],
   "source": [
    "#La columna 'due_date' tiene valores de fecha con diferentes formatos.\n",
    "# Hay que pasarlo a un formato y asignalo como de tipo datetime.\n",
    "\n",
    "df_homework['due_date'] = pd.to_datetime(df_homework['due_date'], errors='coerce')\n",
    "df_homework.info()\n"
   ]
  },
  {
   "cell_type": "code",
   "execution_count": 176,
   "id": "8d4b4731",
   "metadata": {},
   "outputs": [
    {
     "data": {
      "text/html": [
       "<div>\n",
       "<style scoped>\n",
       "    .dataframe tbody tr th:only-of-type {\n",
       "        vertical-align: middle;\n",
       "    }\n",
       "\n",
       "    .dataframe tbody tr th {\n",
       "        vertical-align: top;\n",
       "    }\n",
       "\n",
       "    .dataframe thead th {\n",
       "        text-align: right;\n",
       "    }\n",
       "</style>\n",
       "<table border=\"1\" class=\"dataframe\">\n",
       "  <thead>\n",
       "    <tr style=\"text-align: right;\">\n",
       "      <th></th>\n",
       "      <th>subject</th>\n",
       "      <th>assignment_name</th>\n",
       "      <th>due_date</th>\n",
       "      <th>status</th>\n",
       "      <th>grade_feedback</th>\n",
       "      <th>guardian_signature</th>\n",
       "    </tr>\n",
       "    <tr>\n",
       "      <th>student_id</th>\n",
       "      <th></th>\n",
       "      <th></th>\n",
       "      <th></th>\n",
       "      <th></th>\n",
       "      <th></th>\n",
       "      <th></th>\n",
       "    </tr>\n",
       "  </thead>\n",
       "  <tbody>\n",
       "    <tr>\n",
       "      <th>s02300</th>\n",
       "      <td>english</td>\n",
       "      <td>interest benefit.</td>\n",
       "      <td>NaT</td>\n",
       "      <td>pending</td>\n",
       "      <td>c</td>\n",
       "      <td>no</td>\n",
       "    </tr>\n",
       "    <tr>\n",
       "      <th>s04147</th>\n",
       "      <td>math</td>\n",
       "      <td>site consumer difficult.</td>\n",
       "      <td>2024-11-03</td>\n",
       "      <td>done</td>\n",
       "      <td>d</td>\n",
       "      <td>no</td>\n",
       "    </tr>\n",
       "    <tr>\n",
       "      <th>s09999</th>\n",
       "      <td>geography</td>\n",
       "      <td>certainly fund.</td>\n",
       "      <td>2024-11-12</td>\n",
       "      <td>❌</td>\n",
       "      <td>c-</td>\n",
       "      <td>no</td>\n",
       "    </tr>\n",
       "    <tr>\n",
       "      <th>s00675</th>\n",
       "      <td>geography</td>\n",
       "      <td>tonight leave.</td>\n",
       "      <td>2025-03-04</td>\n",
       "      <td>❌</td>\n",
       "      <td>d</td>\n",
       "      <td></td>\n",
       "    </tr>\n",
       "    <tr>\n",
       "      <th>s11667</th>\n",
       "      <td>math</td>\n",
       "      <td>over its.</td>\n",
       "      <td>NaT</td>\n",
       "      <td>not done</td>\n",
       "      <td>c</td>\n",
       "      <td></td>\n",
       "    </tr>\n",
       "    <tr>\n",
       "      <th>s06245</th>\n",
       "      <td>english</td>\n",
       "      <td>worker industry choice.</td>\n",
       "      <td>2024-10-14</td>\n",
       "      <td>not done</td>\n",
       "      <td>f</td>\n",
       "      <td>no</td>\n",
       "    </tr>\n",
       "    <tr>\n",
       "      <th>s07088</th>\n",
       "      <td>arabic</td>\n",
       "      <td>they.</td>\n",
       "      <td>NaT</td>\n",
       "      <td>pending</td>\n",
       "      <td>d</td>\n",
       "      <td>yes</td>\n",
       "    </tr>\n",
       "    <tr>\n",
       "      <th>s04200</th>\n",
       "      <td>math</td>\n",
       "      <td>begin thing.</td>\n",
       "      <td>NaT</td>\n",
       "      <td>not done</td>\n",
       "      <td>f</td>\n",
       "      <td></td>\n",
       "    </tr>\n",
       "    <tr>\n",
       "      <th>s04639</th>\n",
       "      <td>history</td>\n",
       "      <td>lay upon.</td>\n",
       "      <td>2024-10-28</td>\n",
       "      <td>pending</td>\n",
       "      <td>b</td>\n",
       "      <td>yes</td>\n",
       "    </tr>\n",
       "    <tr>\n",
       "      <th>s05608</th>\n",
       "      <td>english</td>\n",
       "      <td>car from.</td>\n",
       "      <td>NaT</td>\n",
       "      <td>✅</td>\n",
       "      <td>f</td>\n",
       "      <td>yes</td>\n",
       "    </tr>\n",
       "  </tbody>\n",
       "</table>\n",
       "</div>"
      ],
      "text/plain": [
       "              subject           assignment_name   due_date    status  \\\n",
       "student_id                                                             \n",
       "s02300        english         interest benefit.        NaT   pending   \n",
       "s04147           math  site consumer difficult. 2024-11-03      done   \n",
       "s09999      geography           certainly fund. 2024-11-12         ❌   \n",
       "s00675      geography            tonight leave. 2025-03-04         ❌   \n",
       "s11667           math                 over its.        NaT  not done   \n",
       "s06245        english   worker industry choice. 2024-10-14  not done   \n",
       "s07088         arabic                     they.        NaT   pending   \n",
       "s04200           math              begin thing.        NaT  not done   \n",
       "s04639        history                 lay upon. 2024-10-28   pending   \n",
       "s05608        english                 car from.        NaT         ✅   \n",
       "\n",
       "           grade_feedback guardian_signature  \n",
       "student_id                                    \n",
       "s02300                  c                 no  \n",
       "s04147                  d                 no  \n",
       "s09999                 c-                 no  \n",
       "s00675                  d                     \n",
       "s11667                  c                     \n",
       "s06245                  f                 no  \n",
       "s07088                  d                yes  \n",
       "s04200                  f                     \n",
       "s04639                  b                yes  \n",
       "s05608                  f                yes  "
      ]
     },
     "execution_count": 176,
     "metadata": {},
     "output_type": "execute_result"
    }
   ],
   "source": [
    "df_homework.sample(10)"
   ]
  },
  {
   "cell_type": "code",
   "execution_count": 177,
   "id": "9f81ecbc",
   "metadata": {},
   "outputs": [
    {
     "name": "stdout",
     "output_type": "stream",
     "text": [
      "(subject                   0\n",
      "assignment_name           0\n",
      "due_date              12358\n",
      "status                    0\n",
      "grade_feedback            0\n",
      "guardian_signature        0\n",
      "dtype: int64, subject                0.00\n",
      "assignment_name        0.00\n",
      "due_date              20.33\n",
      "status                 0.00\n",
      "grade_feedback         0.00\n",
      "guardian_signature     0.00\n",
      "dtype: float64)\n"
     ]
    }
   ],
   "source": [
    "#Sacar nulos de la columna 'due_date' mediante funcion de sp.limpieza.py\n",
    "nulos = sp.nulos_num_porcentaje(df_homework)\n",
    "print(nulos)"
   ]
  },
  {
   "cell_type": "code",
   "execution_count": 178,
   "id": "a4d404a8",
   "metadata": {},
   "outputs": [
    {
     "data": {
      "text/html": [
       "<div>\n",
       "<style scoped>\n",
       "    .dataframe tbody tr th:only-of-type {\n",
       "        vertical-align: middle;\n",
       "    }\n",
       "\n",
       "    .dataframe tbody tr th {\n",
       "        vertical-align: top;\n",
       "    }\n",
       "\n",
       "    .dataframe thead th {\n",
       "        text-align: right;\n",
       "    }\n",
       "</style>\n",
       "<table border=\"1\" class=\"dataframe\">\n",
       "  <thead>\n",
       "    <tr style=\"text-align: right;\">\n",
       "      <th></th>\n",
       "      <th>Column</th>\n",
       "      <th>Datatype</th>\n",
       "      <th>NullsCount</th>\n",
       "      <th>Nulls%</th>\n",
       "    </tr>\n",
       "  </thead>\n",
       "  <tbody>\n",
       "    <tr>\n",
       "      <th>0</th>\n",
       "      <td>due_date</td>\n",
       "      <td>datetime64[ns]</td>\n",
       "      <td>12358</td>\n",
       "      <td>20.332346</td>\n",
       "    </tr>\n",
       "  </tbody>\n",
       "</table>\n",
       "</div>"
      ],
      "text/plain": [
       "     Column        Datatype  NullsCount     Nulls%\n",
       "0  due_date  datetime64[ns]       12358  20.332346"
      ]
     },
     "metadata": {},
     "output_type": "display_data"
    },
    {
     "name": "stdout",
     "output_type": "stream",
     "text": [
      "['due_date']\n"
     ]
    }
   ],
   "source": [
    "#🔴🔴PUEDE QUE ESTA FUNCION NO SEA NECESARIA AQUI,PROBARLA EN OTRO DATAFRAME\n",
    "#Comprobamos mediante esta funcion tambien como la columna 'due_date' rebasa el umbral 10. \n",
    "\n",
    "high_nulls_colmn, low_nulls_colmn = sp.nulos_umbral(df_homework)\n",
    "print(high_nulls_colmn)"
   ]
  },
  {
   "cell_type": "code",
   "execution_count": 179,
   "id": "45c696d1",
   "metadata": {},
   "outputs": [
    {
     "data": {
      "image/png": "[encoded data removed]",
      "text/plain": [
       "<Figure size 1000x500 with 1 Axes>"
      ]
     },
     "metadata": {},
     "output_type": "display_data"
    }
   ],
   "source": [
    "#🔴🔴 VALORAR SI ESTO MERECE O ME QUEDO SOLO CON LA CELDA DE ABAJO, QUE PONE --> describe().\n",
    "# La columna 'due_date' tiene una cantidad elevada de nulos (20.33%) por lo que antes de imputarla comprobamos\n",
    "#como es la distribución de sus valores para poder así valorar si imputar los nulos, si por media, moda o mediana.\n",
    "\n",
    "df_homework['due_date'].hist(bins=50, figsize=(10,5))\n",
    "plt.title('Distribución de Due Date')\n",
    "plt.xlabel('Fecha')\n",
    "plt.ylabel('Cantidad')\n",
    "plt.xticks(rotation=45)\n",
    "plt.show()\n"
   ]
  },
  {
   "cell_type": "code",
   "execution_count": 180,
   "id": "b07c7577",
   "metadata": {},
   "outputs": [
    {
     "name": "stdout",
     "output_type": "stream",
     "text": [
      "count                            48422\n",
      "mean     2024-12-08 09:02:43.710710016\n",
      "min                2024-09-08 00:00:00\n",
      "25%                2024-10-24 00:00:00\n",
      "50%                2024-12-09 00:00:00\n",
      "75%                2025-01-23 00:00:00\n",
      "max                2025-03-09 00:00:00\n",
      "Name: due_date, dtype: object\n"
     ]
    }
   ],
   "source": [
    "print(df_homework['due_date'].describe())"
   ]
  },
  {
   "cell_type": "code",
   "execution_count": 181,
   "id": "33b13196",
   "metadata": {},
   "outputs": [
    {
     "name": "stderr",
     "output_type": "stream",
     "text": [
      "C:\\Users\\pooo_\\AppData\\Local\\Temp\\ipykernel_6196\\3655258861.py:6: FutureWarning: A value is trying to be set on a copy of a DataFrame or Series through chained assignment using an inplace method.\n",
      "The behavior will change in pandas 3.0. This inplace method will never work because the intermediate object on which we are setting values always behaves as a copy.\n",
      "\n",
      "For example, when doing 'df[col].method(value, inplace=True)', try using 'df.method({col: value}, inplace=True)' or df[col] = df[col].method(value) instead, to perform the operation inplace on the original object.\n",
      "\n",
      "\n",
      "  df_homework['due_date'].fillna(mediana_fecha, inplace= True)\n"
     ]
    }
   ],
   "source": [
    "#Dado que las fechas están bastante centradas en torno a finales de 2024, lo más razonable sería:\n",
    "# Imputar con la mediana (50%), que es 2024-12-09, ya que la mediana es robusta frente a outliers y nos va a evitar \n",
    "# en caso de haber un par de fechas raras que el resultado no se distorsione demasiado.\n",
    "\n",
    "mediana_fecha = df_homework['due_date'].median()\n",
    "df_homework['due_date'].fillna(mediana_fecha, inplace= True)\n"
   ]
  },
  {
   "cell_type": "code",
   "execution_count": 182,
   "id": "ef079ee6",
   "metadata": {},
   "outputs": [
    {
     "name": "stdout",
     "output_type": "stream",
     "text": [
      "(subject               0\n",
      "assignment_name       0\n",
      "due_date              0\n",
      "status                0\n",
      "grade_feedback        0\n",
      "guardian_signature    0\n",
      "dtype: int64, subject               0.0\n",
      "assignment_name       0.0\n",
      "due_date              0.0\n",
      "status                0.0\n",
      "grade_feedback        0.0\n",
      "guardian_signature    0.0\n",
      "dtype: float64)\n"
     ]
    }
   ],
   "source": [
    "#Comprobamos que los nulos han desaparecido\n",
    "nulos = sp.nulos_num_porcentaje(df_homework)\n",
    "print(nulos)"
   ]
  },
  {
   "cell_type": "code",
   "execution_count": 183,
   "id": "c6de6ebe",
   "metadata": {},
   "outputs": [
    {
     "data": {
      "text/plain": [
       "status\n",
       "done        10278\n",
       "not done    10234\n",
       "❌           10151\n",
       "✔           10090\n",
       "pending     10014\n",
       "✅           10013\n",
       "Name: count, dtype: int64"
      ]
     },
     "execution_count": 183,
     "metadata": {},
     "output_type": "execute_result"
    }
   ],
   "source": [
    "#Para coregir la columna 'status' vamos a comprobar primero el tipo de valores que tiene.\n",
    "\n",
    "status_valores = df_homework['status'].value_counts()\n",
    "status_valores"
   ]
  },
  {
   "cell_type": "code",
   "execution_count": 184,
   "id": "e7ea45cb",
   "metadata": {},
   "outputs": [
    {
     "data": {
      "text/plain": [
       "status\n",
       "done        30381\n",
       "not done    20385\n",
       "pending     10014\n",
       "Name: count, dtype: int64"
      ]
     },
     "execution_count": 184,
     "metadata": {},
     "output_type": "execute_result"
    }
   ],
   "source": [
    "#Vamos a homogeinizar esos valores. \n",
    "\n",
    "mapeo_status = {\n",
    "    '✅':'done',\n",
    "    '❌':'not done',\n",
    "    '✔':'done',\n",
    "    'pending':'pending',\n",
    "    'done':'done',\n",
    "    'not done':'not done',\n",
    "}\n",
    "\n",
    "df_homework['status'] = df_homework['status'].replace(mapeo_status)\n",
    "\n",
    "status_valores = df_homework['status'].value_counts()\n",
    "status_valores\n"
   ]
  },
  {
   "cell_type": "code",
   "execution_count": 185,
   "id": "ab4eb560",
   "metadata": {},
   "outputs": [
    {
     "name": "stdout",
     "output_type": "stream",
     "text": [
      "guardian_signature\n",
      "no     20372\n",
      "yes    20348\n",
      "       20060\n",
      "Name: count, dtype: int64\n"
     ]
    }
   ],
   "source": [
    "#Debemos comprobar la columna 'guardian_signatura' ya que tiene campos vacíos que pandas\n",
    "# lo detecta como cadena de texto vacía.\n",
    "valores = df_homework['guardian_signature'].value_counts()\n",
    "print(valores)"
   ]
  },
  {
   "cell_type": "code",
   "execution_count": 186,
   "id": "58fab490",
   "metadata": {},
   "outputs": [
    {
     "data": {
      "text/plain": [
       "(np.int64(20060), np.float64(33.0))"
      ]
     },
     "execution_count": 186,
     "metadata": {},
     "output_type": "execute_result"
    }
   ],
   "source": [
    "#Debemos de convertir la cadena vacia por nulos de numpy. Después vamos a comprobar cuantos nulos son.\n",
    "df_homework['guardian_signature'] = df_homework['guardian_signature'].replace('', np.nan)\n",
    "ver_nulos= sp.nulos_num_porcentaje(df_homework['guardian_signature'])\n",
    "ver_nulos"
   ]
  },
  {
   "cell_type": "code",
   "execution_count": 187,
   "id": "14601888",
   "metadata": {},
   "outputs": [
    {
     "name": "stdout",
     "output_type": "stream",
     "text": [
      "guardian_signature\n",
      "no     33.517604\n",
      "yes    33.478118\n",
      "NaN    33.004278\n",
      "Name: proportion, dtype: float64\n"
     ]
    }
   ],
   "source": [
    "#Comprobamos la distribución (en porcentaje) de los 3 valores de la columna.\n",
    "print(df_homework['guardian_signature'].value_counts(dropna=False, normalize=True)*100)"
   ]
  },
  {
   "cell_type": "code",
   "execution_count": 188,
   "id": "9bb979b7",
   "metadata": {},
   "outputs": [
    {
     "name": "stdout",
     "output_type": "stream",
     "text": [
      "count     40720\n",
      "unique        2\n",
      "top          no\n",
      "freq      20372\n",
      "Name: guardian_signature, dtype: object\n"
     ]
    }
   ],
   "source": [
    "#Hay un 33% de nulos de la columna 'guardian_signature' por tanto vamos a ver sus cuartiles, media etc.\n",
    "print(df_homework['guardian_signature'].describe())"
   ]
  },
  {
   "cell_type": "code",
   "execution_count": 189,
   "id": "bb0d827d",
   "metadata": {},
   "outputs": [
    {
     "name": "stdout",
     "output_type": "stream",
     "text": [
      "guardian_signature\n",
      "no         20372\n",
      "yes        20348\n",
      "unknown    20060\n",
      "Name: count, dtype: int64\n"
     ]
    },
    {
     "name": "stderr",
     "output_type": "stream",
     "text": [
      "C:\\Users\\pooo_\\AppData\\Local\\Temp\\ipykernel_6196\\2920811997.py:4: FutureWarning: A value is trying to be set on a copy of a DataFrame or Series through chained assignment using an inplace method.\n",
      "The behavior will change in pandas 3.0. This inplace method will never work because the intermediate object on which we are setting values always behaves as a copy.\n",
      "\n",
      "For example, when doing 'df[col].method(value, inplace=True)', try using 'df.method({col: value}, inplace=True)' or df[col] = df[col].method(value) instead, to perform the operation inplace on the original object.\n",
      "\n",
      "\n",
      "  df_homework['guardian_signature'].fillna('unknown', inplace = True)\n"
     ]
    }
   ],
   "source": [
    "#Vamos a imputar los nulos con 'unknown' ya que así no modificamos artificialmente la proporción original y\n",
    "# dejamos constancia de que falta esta información.\n",
    "\n",
    "df_homework['guardian_signature'].fillna('unknown', inplace = True)\n",
    "\n",
    "#Comprobamos la distribución (en porcentaje) de los 3 valores de la columna.\n",
    "print(df_homework['guardian_signature'].value_counts())"
   ]
  },
  {
   "cell_type": "code",
   "execution_count": 190,
   "id": "8660c990",
   "metadata": {},
   "outputs": [
    {
     "data": {
      "text/html": [
       "<div>\n",
       "<style scoped>\n",
       "    .dataframe tbody tr th:only-of-type {\n",
       "        vertical-align: middle;\n",
       "    }\n",
       "\n",
       "    .dataframe tbody tr th {\n",
       "        vertical-align: top;\n",
       "    }\n",
       "\n",
       "    .dataframe thead th {\n",
       "        text-align: right;\n",
       "    }\n",
       "</style>\n",
       "<table border=\"1\" class=\"dataframe\">\n",
       "  <thead>\n",
       "    <tr style=\"text-align: right;\">\n",
       "      <th></th>\n",
       "      <th>subject</th>\n",
       "      <th>assignment_name</th>\n",
       "      <th>due_date</th>\n",
       "      <th>status</th>\n",
       "      <th>grade_feedback</th>\n",
       "      <th>guardian_signature</th>\n",
       "    </tr>\n",
       "    <tr>\n",
       "      <th>student_id</th>\n",
       "      <th></th>\n",
       "      <th></th>\n",
       "      <th></th>\n",
       "      <th></th>\n",
       "      <th></th>\n",
       "      <th></th>\n",
       "    </tr>\n",
       "  </thead>\n",
       "  <tbody>\n",
       "    <tr>\n",
       "      <th>s05184</th>\n",
       "      <td>english</td>\n",
       "      <td>nearly provide fact represent.</td>\n",
       "      <td>2024-12-07</td>\n",
       "      <td>done</td>\n",
       "      <td>a</td>\n",
       "      <td>yes</td>\n",
       "    </tr>\n",
       "    <tr>\n",
       "      <th>s02617</th>\n",
       "      <td>history</td>\n",
       "      <td>environment idea personal.</td>\n",
       "      <td>2024-12-09</td>\n",
       "      <td>pending</td>\n",
       "      <td>d</td>\n",
       "      <td>unknown</td>\n",
       "    </tr>\n",
       "    <tr>\n",
       "      <th>s11234</th>\n",
       "      <td>geography</td>\n",
       "      <td>seek note a.</td>\n",
       "      <td>2024-12-09</td>\n",
       "      <td>not done</td>\n",
       "      <td>d</td>\n",
       "      <td>no</td>\n",
       "    </tr>\n",
       "    <tr>\n",
       "      <th>s05198</th>\n",
       "      <td>english</td>\n",
       "      <td>result republican our.</td>\n",
       "      <td>2025-02-16</td>\n",
       "      <td>done</td>\n",
       "      <td>a</td>\n",
       "      <td>unknown</td>\n",
       "    </tr>\n",
       "    <tr>\n",
       "      <th>s02762</th>\n",
       "      <td>history</td>\n",
       "      <td>include thus power.</td>\n",
       "      <td>2025-01-06</td>\n",
       "      <td>done</td>\n",
       "      <td>f</td>\n",
       "      <td>no</td>\n",
       "    </tr>\n",
       "    <tr>\n",
       "      <th>s09581</th>\n",
       "      <td>geography</td>\n",
       "      <td>film character.</td>\n",
       "      <td>2024-12-02</td>\n",
       "      <td>not done</td>\n",
       "      <td>d</td>\n",
       "      <td>yes</td>\n",
       "    </tr>\n",
       "    <tr>\n",
       "      <th>s02311</th>\n",
       "      <td>math</td>\n",
       "      <td>address begin often.</td>\n",
       "      <td>2024-11-22</td>\n",
       "      <td>not done</td>\n",
       "      <td>b-</td>\n",
       "      <td>unknown</td>\n",
       "    </tr>\n",
       "    <tr>\n",
       "      <th>s04508</th>\n",
       "      <td>geography</td>\n",
       "      <td>effort check four.</td>\n",
       "      <td>2024-09-14</td>\n",
       "      <td>done</td>\n",
       "      <td>d</td>\n",
       "      <td>unknown</td>\n",
       "    </tr>\n",
       "    <tr>\n",
       "      <th>s00695</th>\n",
       "      <td>math</td>\n",
       "      <td>everything human.</td>\n",
       "      <td>2024-12-09</td>\n",
       "      <td>pending</td>\n",
       "      <td>a+</td>\n",
       "      <td>unknown</td>\n",
       "    </tr>\n",
       "    <tr>\n",
       "      <th>s08134</th>\n",
       "      <td>math</td>\n",
       "      <td>respond dog.</td>\n",
       "      <td>2024-09-11</td>\n",
       "      <td>done</td>\n",
       "      <td>d</td>\n",
       "      <td>unknown</td>\n",
       "    </tr>\n",
       "  </tbody>\n",
       "</table>\n",
       "</div>"
      ],
      "text/plain": [
       "              subject                 assignment_name   due_date    status  \\\n",
       "student_id                                                                   \n",
       "s05184        english  nearly provide fact represent. 2024-12-07      done   \n",
       "s02617        history      environment idea personal. 2024-12-09   pending   \n",
       "s11234      geography                    seek note a. 2024-12-09  not done   \n",
       "s05198        english          result republican our. 2025-02-16      done   \n",
       "s02762        history             include thus power. 2025-01-06      done   \n",
       "s09581      geography                 film character. 2024-12-02  not done   \n",
       "s02311           math            address begin often. 2024-11-22  not done   \n",
       "s04508      geography              effort check four. 2024-09-14      done   \n",
       "s00695           math               everything human. 2024-12-09   pending   \n",
       "s08134           math                    respond dog. 2024-09-11      done   \n",
       "\n",
       "           grade_feedback guardian_signature  \n",
       "student_id                                    \n",
       "s05184                  a                yes  \n",
       "s02617                  d            unknown  \n",
       "s11234                  d                 no  \n",
       "s05198                  a            unknown  \n",
       "s02762                  f                 no  \n",
       "s09581                  d                yes  \n",
       "s02311                 b-            unknown  \n",
       "s04508                  d            unknown  \n",
       "s00695                 a+            unknown  \n",
       "s08134                  d            unknown  "
      ]
     },
     "execution_count": 190,
     "metadata": {},
     "output_type": "execute_result"
    }
   ],
   "source": [
    "df_homework.sample(10)"
   ]
  },
  {
   "cell_type": "code",
   "execution_count": 191,
   "id": "477a3925",
   "metadata": {},
   "outputs": [
    {
     "data": {
      "text/html": [
       "<div>\n",
       "<style scoped>\n",
       "    .dataframe tbody tr th:only-of-type {\n",
       "        vertical-align: middle;\n",
       "    }\n",
       "\n",
       "    .dataframe tbody tr th {\n",
       "        vertical-align: top;\n",
       "    }\n",
       "\n",
       "    .dataframe thead th {\n",
       "        text-align: right;\n",
       "    }\n",
       "</style>\n",
       "<table border=\"1\" class=\"dataframe\">\n",
       "  <thead>\n",
       "    <tr style=\"text-align: right;\">\n",
       "      <th></th>\n",
       "      <th>Date</th>\n",
       "      <th>Message_Type</th>\n",
       "      <th>Message_Content</th>\n",
       "    </tr>\n",
       "    <tr>\n",
       "      <th>Student_ID</th>\n",
       "      <th></th>\n",
       "      <th></th>\n",
       "      <th></th>\n",
       "    </tr>\n",
       "  </thead>\n",
       "  <tbody>\n",
       "    <tr>\n",
       "      <th>S11178</th>\n",
       "      <td>2024-09-18</td>\n",
       "      <td>Parent to Teacher</td>\n",
       "      <td>Culture serious report drive street meet song ...</td>\n",
       "    </tr>\n",
       "    <tr>\n",
       "      <th>S10536</th>\n",
       "      <td>2024-11-29</td>\n",
       "      <td>Parent to Teacher</td>\n",
       "      <td>Opportunity many up next join ok over call sto...</td>\n",
       "    </tr>\n",
       "    <tr>\n",
       "      <th>S05723</th>\n",
       "      <td>2025-01-06</td>\n",
       "      <td>Teacher to Parent</td>\n",
       "      <td>Various parent during its next center week exp...</td>\n",
       "    </tr>\n",
       "    <tr>\n",
       "      <th>S10866</th>\n",
       "      <td>2024-11-11</td>\n",
       "      <td>Teacher to Parent</td>\n",
       "      <td>Beyond history father change sound course hour...</td>\n",
       "    </tr>\n",
       "    <tr>\n",
       "      <th>S08052</th>\n",
       "      <td>2024-11-11</td>\n",
       "      <td>Automated Reminder</td>\n",
       "      <td>Claim discuss technology discover partner patt...</td>\n",
       "    </tr>\n",
       "  </tbody>\n",
       "</table>\n",
       "</div>"
      ],
      "text/plain": [
       "                  Date        Message_Type  \\\n",
       "Student_ID                                   \n",
       "S11178      2024-09-18   Parent to Teacher   \n",
       "S10536      2024-11-29   Parent to Teacher   \n",
       "S05723      2025-01-06   Teacher to Parent   \n",
       "S10866      2024-11-11   Teacher to Parent   \n",
       "S08052      2024-11-11  Automated Reminder   \n",
       "\n",
       "                                              Message_Content  \n",
       "Student_ID                                                     \n",
       "S11178      Culture serious report drive street meet song ...  \n",
       "S10536      Opportunity many up next join ok over call sto...  \n",
       "S05723      Various parent during its next center week exp...  \n",
       "S10866      Beyond history father change sound course hour...  \n",
       "S08052      Claim discuss technology discover partner patt...  "
      ]
     },
     "metadata": {},
     "output_type": "display_data"
    },
    {
     "name": "stdout",
     "output_type": "stream",
     "text": [
      "____________________________\n",
      "INFO\n",
      "<class 'pandas.core.frame.DataFrame'>\n",
      "Index: 24312 entries, S01133 to S03501\n",
      "Data columns (total 3 columns):\n",
      " #   Column           Non-Null Count  Dtype \n",
      "---  ------           --------------  ----- \n",
      " 0   Date             24312 non-null  object\n",
      " 1   Message_Type     24312 non-null  object\n",
      " 2   Message_Content  24312 non-null  object\n",
      "dtypes: object(3)\n",
      "memory usage: 759.8+ KB\n"
     ]
    },
    {
     "data": {
      "text/plain": [
       "None"
      ]
     },
     "metadata": {},
     "output_type": "display_data"
    },
    {
     "name": "stdout",
     "output_type": "stream",
     "text": [
      "____________________________\n",
      "NULOS\n"
     ]
    },
    {
     "data": {
      "text/plain": [
       "Date               0.0\n",
       "Message_Type       0.0\n",
       "Message_Content    0.0\n",
       "dtype: float64"
      ]
     },
     "metadata": {},
     "output_type": "display_data"
    },
    {
     "name": "stdout",
     "output_type": "stream",
     "text": [
      "____________________________\n",
      "DUPLICADOS\n"
     ]
    },
    {
     "data": {
      "text/plain": [
       "np.int64(737)"
      ]
     },
     "metadata": {},
     "output_type": "display_data"
    },
    {
     "name": "stdout",
     "output_type": "stream",
     "text": [
      "____________________________\n",
      "DESCRIBE\n"
     ]
    },
    {
     "data": {
      "text/html": [
       "<div>\n",
       "<style scoped>\n",
       "    .dataframe tbody tr th:only-of-type {\n",
       "        vertical-align: middle;\n",
       "    }\n",
       "\n",
       "    .dataframe tbody tr th {\n",
       "        vertical-align: top;\n",
       "    }\n",
       "\n",
       "    .dataframe thead th {\n",
       "        text-align: right;\n",
       "    }\n",
       "</style>\n",
       "<table border=\"1\" class=\"dataframe\">\n",
       "  <thead>\n",
       "    <tr style=\"text-align: right;\">\n",
       "      <th></th>\n",
       "      <th>count</th>\n",
       "      <th>unique</th>\n",
       "      <th>top</th>\n",
       "      <th>freq</th>\n",
       "    </tr>\n",
       "  </thead>\n",
       "  <tbody>\n",
       "    <tr>\n",
       "      <th>Date</th>\n",
       "      <td>24312</td>\n",
       "      <td>183</td>\n",
       "      <td>2025-02-18</td>\n",
       "      <td>164</td>\n",
       "    </tr>\n",
       "    <tr>\n",
       "      <th>Message_Type</th>\n",
       "      <td>24312</td>\n",
       "      <td>3</td>\n",
       "      <td>Teacher to Parent</td>\n",
       "      <td>8149</td>\n",
       "    </tr>\n",
       "    <tr>\n",
       "      <th>Message_Content</th>\n",
       "      <td>24312</td>\n",
       "      <td>23086</td>\n",
       "      <td></td>\n",
       "      <td>1227</td>\n",
       "    </tr>\n",
       "  </tbody>\n",
       "</table>\n",
       "</div>"
      ],
      "text/plain": [
       "                 count unique                top  freq\n",
       "Date             24312    183         2025-02-18   164\n",
       "Message_Type     24312      3  Teacher to Parent  8149\n",
       "Message_Content  24312  23086                     1227"
      ]
     },
     "metadata": {},
     "output_type": "display_data"
    },
    {
     "name": "stdout",
     "output_type": "stream",
     "text": [
      "____________________________\n",
      "DESCRIBE COLUMNAS OBJECT\n"
     ]
    },
    {
     "data": {
      "text/html": [
       "<div>\n",
       "<style scoped>\n",
       "    .dataframe tbody tr th:only-of-type {\n",
       "        vertical-align: middle;\n",
       "    }\n",
       "\n",
       "    .dataframe tbody tr th {\n",
       "        vertical-align: top;\n",
       "    }\n",
       "\n",
       "    .dataframe thead th {\n",
       "        text-align: right;\n",
       "    }\n",
       "</style>\n",
       "<table border=\"1\" class=\"dataframe\">\n",
       "  <thead>\n",
       "    <tr style=\"text-align: right;\">\n",
       "      <th></th>\n",
       "      <th>count</th>\n",
       "      <th>unique</th>\n",
       "      <th>top</th>\n",
       "      <th>freq</th>\n",
       "    </tr>\n",
       "  </thead>\n",
       "  <tbody>\n",
       "    <tr>\n",
       "      <th>Date</th>\n",
       "      <td>24312</td>\n",
       "      <td>183</td>\n",
       "      <td>2025-02-18</td>\n",
       "      <td>164</td>\n",
       "    </tr>\n",
       "    <tr>\n",
       "      <th>Message_Type</th>\n",
       "      <td>24312</td>\n",
       "      <td>3</td>\n",
       "      <td>Teacher to Parent</td>\n",
       "      <td>8149</td>\n",
       "    </tr>\n",
       "    <tr>\n",
       "      <th>Message_Content</th>\n",
       "      <td>24312</td>\n",
       "      <td>23086</td>\n",
       "      <td></td>\n",
       "      <td>1227</td>\n",
       "    </tr>\n",
       "  </tbody>\n",
       "</table>\n",
       "</div>"
      ],
      "text/plain": [
       "                 count unique                top  freq\n",
       "Date             24312    183         2025-02-18   164\n",
       "Message_Type     24312      3  Teacher to Parent  8149\n",
       "Message_Content  24312  23086                     1227"
      ]
     },
     "metadata": {},
     "output_type": "display_data"
    },
    {
     "name": "stdout",
     "output_type": "stream",
     "text": [
      "____________________________\n",
      "VALUE COUNTS\n",
      "Date\n",
      "2025-02-18    164\n",
      "2024-12-27    163\n",
      "2025-03-02    163\n",
      "2024-10-24    157\n",
      "2024-10-06    156\n",
      "             ... \n",
      "2024-09-20    110\n",
      "2024-12-03    108\n",
      "2024-10-10    108\n",
      "2025-02-22    107\n",
      "2024-11-21    103\n",
      "Name: count, Length: 183, dtype: int64\n",
      "Message_Type\n",
      "Teacher to Parent     8149\n",
      "Automated Reminder    8106\n",
      "Parent to Teacher     8057\n",
      "Name: count, dtype: int64\n",
      "Message_Content\n",
      "                                                                                                                                                            1227\n",
      "Than far indeed gun doctor concern hear whose policy people board traditional.                                                                                 1\n",
      "Than time unit nearly wrong man blue probably yes season civil car later both from those.                                                                      1\n",
      "Around positive side your city top common pretty again agent.                                                                                                  1\n",
      "Water provide four himself out during force they authority bring activity recently.                                                                            1\n",
      "                                                                                                                                                            ... \n",
      "Sort plant history about thank church still heart model off argue shake ahead audience nearly practice address pass know bag.                                  1\n",
      "Concern professor suffer thus take run think business receive concern according agree significant moment including technology Democrat this language he.       1\n",
      "Set lot control back computer expert raise south involve before enough either court time nearly travel turn.                                                   1\n",
      "Heavy down product cultural there staff move class tough white catch hit their yard sport exist.                                                               1\n",
      "Indicate best local but short environmental interesting address economy reduce indicate notice offer art despite responsibility art fall sell.                 1\n",
      "Name: count, Length: 23086, dtype: int64\n",
      "____________________________\n"
     ]
    }
   ],
   "source": [
    "#Ver dataframe 'df_communication'\n",
    "df_comm_preliminar =  sp.eda_preliminar(df_communication)\n",
    "df_comm_preliminar"
   ]
  },
  {
   "cell_type": "code",
   "execution_count": 192,
   "id": "1d1f258d",
   "metadata": {},
   "outputs": [
    {
     "data": {
      "text/html": [
       "<div>\n",
       "<style scoped>\n",
       "    .dataframe tbody tr th:only-of-type {\n",
       "        vertical-align: middle;\n",
       "    }\n",
       "\n",
       "    .dataframe tbody tr th {\n",
       "        vertical-align: top;\n",
       "    }\n",
       "\n",
       "    .dataframe thead th {\n",
       "        text-align: right;\n",
       "    }\n",
       "</style>\n",
       "<table border=\"1\" class=\"dataframe\">\n",
       "  <thead>\n",
       "    <tr style=\"text-align: right;\">\n",
       "      <th></th>\n",
       "      <th>date</th>\n",
       "      <th>message_type</th>\n",
       "      <th>message_content</th>\n",
       "    </tr>\n",
       "    <tr>\n",
       "      <th>student_id</th>\n",
       "      <th></th>\n",
       "      <th></th>\n",
       "      <th></th>\n",
       "    </tr>\n",
       "  </thead>\n",
       "  <tbody>\n",
       "    <tr>\n",
       "      <th>s09348</th>\n",
       "      <td>2025-02-03</td>\n",
       "      <td>parent to teacher</td>\n",
       "      <td>pick customer gun important clearly four envir...</td>\n",
       "    </tr>\n",
       "    <tr>\n",
       "      <th>s02891</th>\n",
       "      <td>2024-10-23</td>\n",
       "      <td>automated reminder</td>\n",
       "      <td>civil former finish particularly when authorit...</td>\n",
       "    </tr>\n",
       "    <tr>\n",
       "      <th>s11436</th>\n",
       "      <td>2025-01-28</td>\n",
       "      <td>teacher to parent</td>\n",
       "      <td>audience impact this chair coach expert heavy ...</td>\n",
       "    </tr>\n",
       "    <tr>\n",
       "      <th>s04896</th>\n",
       "      <td>2024-11-07</td>\n",
       "      <td>automated reminder</td>\n",
       "      <td>rule hair this bag produce draw seem fact form...</td>\n",
       "    </tr>\n",
       "    <tr>\n",
       "      <th>s05154</th>\n",
       "      <td>2024-10-01</td>\n",
       "      <td>parent to teacher</td>\n",
       "      <td>treatment road decision himself allow perhaps ...</td>\n",
       "    </tr>\n",
       "    <tr>\n",
       "      <th>s02049</th>\n",
       "      <td>2024-09-15</td>\n",
       "      <td>parent to teacher</td>\n",
       "      <td>fly head world so chair none yourself right de...</td>\n",
       "    </tr>\n",
       "    <tr>\n",
       "      <th>s07070</th>\n",
       "      <td>2024-12-15</td>\n",
       "      <td>teacher to parent</td>\n",
       "      <td>detail kind door whole simple determine produc...</td>\n",
       "    </tr>\n",
       "    <tr>\n",
       "      <th>s04503</th>\n",
       "      <td>2024-12-15</td>\n",
       "      <td>automated reminder</td>\n",
       "      <td>ever throw paper environmental interesting rem...</td>\n",
       "    </tr>\n",
       "    <tr>\n",
       "      <th>s08563</th>\n",
       "      <td>2025-02-09</td>\n",
       "      <td>automated reminder</td>\n",
       "      <td>method beautiful partner any draw suffer momen...</td>\n",
       "    </tr>\n",
       "    <tr>\n",
       "      <th>s11103</th>\n",
       "      <td>2024-10-20</td>\n",
       "      <td>teacher to parent</td>\n",
       "      <td>energy late race want network main head former...</td>\n",
       "    </tr>\n",
       "  </tbody>\n",
       "</table>\n",
       "</div>"
      ],
      "text/plain": [
       "                  date        message_type  \\\n",
       "student_id                                   \n",
       "s09348      2025-02-03   parent to teacher   \n",
       "s02891      2024-10-23  automated reminder   \n",
       "s11436      2025-01-28   teacher to parent   \n",
       "s04896      2024-11-07  automated reminder   \n",
       "s05154      2024-10-01   parent to teacher   \n",
       "s02049      2024-09-15   parent to teacher   \n",
       "s07070      2024-12-15   teacher to parent   \n",
       "s04503      2024-12-15  automated reminder   \n",
       "s08563      2025-02-09  automated reminder   \n",
       "s11103      2024-10-20   teacher to parent   \n",
       "\n",
       "                                              message_content  \n",
       "student_id                                                     \n",
       "s09348      pick customer gun important clearly four envir...  \n",
       "s02891      civil former finish particularly when authorit...  \n",
       "s11436      audience impact this chair coach expert heavy ...  \n",
       "s04896      rule hair this bag produce draw seem fact form...  \n",
       "s05154      treatment road decision himself allow perhaps ...  \n",
       "s02049      fly head world so chair none yourself right de...  \n",
       "s07070      detail kind door whole simple determine produc...  \n",
       "s04503      ever throw paper environmental interesting rem...  \n",
       "s08563      method beautiful partner any draw suffer momen...  \n",
       "s11103      energy late race want network main head former...  "
      ]
     },
     "execution_count": 192,
     "metadata": {},
     "output_type": "execute_result"
    }
   ],
   "source": [
    "df_communication = sp.valores_a_minus(df_communication)\n",
    "df_communication.sample(10)"
   ]
  },
  {
   "cell_type": "code",
   "execution_count": 193,
   "id": "d141cff2",
   "metadata": {},
   "outputs": [
    {
     "name": "stdout",
     "output_type": "stream",
     "text": [
      "datetime64[ns]\n"
     ]
    }
   ],
   "source": [
    "#Cambiar el nombre de date a uno mas descriptivo y convertirlo a tipo datetime\n",
    "df_communication.rename(columns={'date':'date_message'}, inplace=True)\n",
    "\n",
    "df_communication['date_message'] = pd.to_datetime(df_communication['date_message'], errors = 'coerce')\n",
    "print(df_communication['date_message'].dtype)"
   ]
  },
  {
   "cell_type": "code",
   "execution_count": 194,
   "id": "2a0d1a5a",
   "metadata": {},
   "outputs": [
    {
     "name": "stdout",
     "output_type": "stream",
     "text": [
      "message_type\n",
      "teacher to parent     8149\n",
      "automated reminder    8106\n",
      "parent to teacher     8057\n",
      "Name: count, dtype: int64\n"
     ]
    }
   ],
   "source": [
    "#Comprobar los valores que hay en la columna 'date_message'\n",
    "print(df_communication['message_type'].value_counts())"
   ]
  },
  {
   "cell_type": "code",
   "execution_count": 195,
   "id": "90cfa059",
   "metadata": {},
   "outputs": [
    {
     "data": {
      "text/plain": [
       "(np.int64(1227), np.float64(5.05))"
      ]
     },
     "execution_count": 195,
     "metadata": {},
     "output_type": "execute_result"
    }
   ],
   "source": [
    "#Viendo la columna 'message_content' a través de la funcion eda_preliminar parece que hay campos vacíos (cadenas de texto vacías)\n",
    "# que no figuran como nulos.\n",
    "\n",
    "df_communication['message_content'] = df_communication['message_content'].replace('', np.nan)\n",
    "ver_nulos= sp.nulos_num_porcentaje(df_communication['message_content'])\n",
    "ver_nulos\n",
    "#No son muchos los nulos de la columna, solo un 5.05. Se puede proceder a simplemente eliminar estas filas o no.\n",
    "#🔴 Dejar así en nan los valores, imputarlos a 'no_message' o eliminarlas?\n"
   ]
  },
  {
   "cell_type": "code",
   "execution_count": 196,
   "id": "906d066d",
   "metadata": {},
   "outputs": [
    {
     "data": {
      "text/html": [
       "<div>\n",
       "<style scoped>\n",
       "    .dataframe tbody tr th:only-of-type {\n",
       "        vertical-align: middle;\n",
       "    }\n",
       "\n",
       "    .dataframe tbody tr th {\n",
       "        vertical-align: top;\n",
       "    }\n",
       "\n",
       "    .dataframe thead th {\n",
       "        text-align: right;\n",
       "    }\n",
       "</style>\n",
       "<table border=\"1\" class=\"dataframe\">\n",
       "  <thead>\n",
       "    <tr style=\"text-align: right;\">\n",
       "      <th></th>\n",
       "      <th>Subject</th>\n",
       "      <th>Exam_Score</th>\n",
       "      <th>Homework_Completion_%</th>\n",
       "      <th>Teacher_Comments</th>\n",
       "    </tr>\n",
       "    <tr>\n",
       "      <th>Student_ID</th>\n",
       "      <th></th>\n",
       "      <th></th>\n",
       "      <th></th>\n",
       "      <th></th>\n",
       "    </tr>\n",
       "  </thead>\n",
       "  <tbody>\n",
       "    <tr>\n",
       "      <th>S02926</th>\n",
       "      <td>History</td>\n",
       "      <td>103</td>\n",
       "      <td>95</td>\n",
       "      <td>Wind growth scientist yard bit add.</td>\n",
       "    </tr>\n",
       "    <tr>\n",
       "      <th>S09143</th>\n",
       "      <td>Arabic</td>\n",
       "      <td>88</td>\n",
       "      <td>95</td>\n",
       "      <td></td>\n",
       "    </tr>\n",
       "    <tr>\n",
       "      <th>S10182</th>\n",
       "      <td>Arabic</td>\n",
       "      <td>65</td>\n",
       "      <td>95</td>\n",
       "      <td></td>\n",
       "    </tr>\n",
       "    <tr>\n",
       "      <th>S06691</th>\n",
       "      <td>Geography</td>\n",
       "      <td>84</td>\n",
       "      <td>-5</td>\n",
       "      <td>Top wear daughter detail media together exist ...</td>\n",
       "    </tr>\n",
       "    <tr>\n",
       "      <th>S00212</th>\n",
       "      <td>Science</td>\n",
       "      <td>42</td>\n",
       "      <td>-5</td>\n",
       "      <td></td>\n",
       "    </tr>\n",
       "  </tbody>\n",
       "</table>\n",
       "</div>"
      ],
      "text/plain": [
       "              Subject  Exam_Score Homework_Completion_%  \\\n",
       "Student_ID                                                \n",
       "S02926        History         103                    95   \n",
       "S09143         Arabic          88                    95   \n",
       "S10182         Arabic          65                    95   \n",
       "S06691      Geography          84                    -5   \n",
       "S00212        Science          42                    -5   \n",
       "\n",
       "                                             Teacher_Comments  \n",
       "Student_ID                                                     \n",
       "S02926                    Wind growth scientist yard bit add.  \n",
       "S09143                                                         \n",
       "S10182                                                         \n",
       "S06691      Top wear daughter detail media together exist ...  \n",
       "S00212                                                         "
      ]
     },
     "metadata": {},
     "output_type": "display_data"
    },
    {
     "name": "stdout",
     "output_type": "stream",
     "text": [
      "____________________________\n",
      "INFO\n",
      "<class 'pandas.core.frame.DataFrame'>\n",
      "Index: 36468 entries, S00396 to S09604\n",
      "Data columns (total 4 columns):\n",
      " #   Column                 Non-Null Count  Dtype \n",
      "---  ------                 --------------  ----- \n",
      " 0   Subject                36468 non-null  object\n",
      " 1   Exam_Score             36468 non-null  int64 \n",
      " 2   Homework_Completion_%  36468 non-null  object\n",
      " 3   Teacher_Comments       36468 non-null  object\n",
      "dtypes: int64(1), object(3)\n",
      "memory usage: 1.4+ MB\n"
     ]
    },
    {
     "data": {
      "text/plain": [
       "None"
      ]
     },
     "metadata": {},
     "output_type": "display_data"
    },
    {
     "name": "stdout",
     "output_type": "stream",
     "text": [
      "____________________________\n",
      "NULOS\n"
     ]
    },
    {
     "data": {
      "text/plain": [
       "Subject                  0.0\n",
       "Exam_Score               0.0\n",
       "Homework_Completion_%    0.0\n",
       "Teacher_Comments         0.0\n",
       "dtype: float64"
      ]
     },
     "metadata": {},
     "output_type": "display_data"
    },
    {
     "name": "stdout",
     "output_type": "stream",
     "text": [
      "____________________________\n",
      "DUPLICADOS\n"
     ]
    },
    {
     "data": {
      "text/plain": [
       "np.int64(1858)"
      ]
     },
     "metadata": {},
     "output_type": "display_data"
    },
    {
     "name": "stdout",
     "output_type": "stream",
     "text": [
      "____________________________\n",
      "DESCRIBE\n"
     ]
    },
    {
     "data": {
      "text/html": [
       "<div>\n",
       "<style scoped>\n",
       "    .dataframe tbody tr th:only-of-type {\n",
       "        vertical-align: middle;\n",
       "    }\n",
       "\n",
       "    .dataframe tbody tr th {\n",
       "        vertical-align: top;\n",
       "    }\n",
       "\n",
       "    .dataframe thead th {\n",
       "        text-align: right;\n",
       "    }\n",
       "</style>\n",
       "<table border=\"1\" class=\"dataframe\">\n",
       "  <thead>\n",
       "    <tr style=\"text-align: right;\">\n",
       "      <th></th>\n",
       "      <th>count</th>\n",
       "      <th>mean</th>\n",
       "      <th>std</th>\n",
       "      <th>min</th>\n",
       "      <th>25%</th>\n",
       "      <th>50%</th>\n",
       "      <th>75%</th>\n",
       "      <th>max</th>\n",
       "    </tr>\n",
       "  </thead>\n",
       "  <tbody>\n",
       "    <tr>\n",
       "      <th>Exam_Score</th>\n",
       "      <td>36468.0</td>\n",
       "      <td>74.964243</td>\n",
       "      <td>20.538704</td>\n",
       "      <td>40.0</td>\n",
       "      <td>57.0</td>\n",
       "      <td>75.0</td>\n",
       "      <td>93.0</td>\n",
       "      <td>110.0</td>\n",
       "    </tr>\n",
       "  </tbody>\n",
       "</table>\n",
       "</div>"
      ],
      "text/plain": [
       "              count       mean        std   min   25%   50%   75%    max\n",
       "Exam_Score  36468.0  74.964243  20.538704  40.0  57.0  75.0  93.0  110.0"
      ]
     },
     "metadata": {},
     "output_type": "display_data"
    },
    {
     "name": "stdout",
     "output_type": "stream",
     "text": [
      "____________________________\n",
      "DESCRIBE COLUMNAS OBJECT\n"
     ]
    },
    {
     "data": {
      "text/html": [
       "<div>\n",
       "<style scoped>\n",
       "    .dataframe tbody tr th:only-of-type {\n",
       "        vertical-align: middle;\n",
       "    }\n",
       "\n",
       "    .dataframe tbody tr th {\n",
       "        vertical-align: top;\n",
       "    }\n",
       "\n",
       "    .dataframe thead th {\n",
       "        text-align: right;\n",
       "    }\n",
       "</style>\n",
       "<table border=\"1\" class=\"dataframe\">\n",
       "  <thead>\n",
       "    <tr style=\"text-align: right;\">\n",
       "      <th></th>\n",
       "      <th>count</th>\n",
       "      <th>unique</th>\n",
       "      <th>top</th>\n",
       "      <th>freq</th>\n",
       "    </tr>\n",
       "  </thead>\n",
       "  <tbody>\n",
       "    <tr>\n",
       "      <th>Subject</th>\n",
       "      <td>36468</td>\n",
       "      <td>6</td>\n",
       "      <td>Arabic</td>\n",
       "      <td>6224</td>\n",
       "    </tr>\n",
       "    <tr>\n",
       "      <th>Homework_Completion_%</th>\n",
       "      <td>36468</td>\n",
       "      <td>5</td>\n",
       "      <td>95</td>\n",
       "      <td>7453</td>\n",
       "    </tr>\n",
       "    <tr>\n",
       "      <th>Teacher_Comments</th>\n",
       "      <td>36468</td>\n",
       "      <td>32918</td>\n",
       "      <td></td>\n",
       "      <td>3551</td>\n",
       "    </tr>\n",
       "  </tbody>\n",
       "</table>\n",
       "</div>"
      ],
      "text/plain": [
       "                       count unique     top  freq\n",
       "Subject                36468      6  Arabic  6224\n",
       "Homework_Completion_%  36468      5      95  7453\n",
       "Teacher_Comments       36468  32918          3551"
      ]
     },
     "metadata": {},
     "output_type": "display_data"
    },
    {
     "name": "stdout",
     "output_type": "stream",
     "text": [
      "____________________________\n",
      "VALUE COUNTS\n",
      "Subject\n",
      "Arabic       6224\n",
      "Science      6093\n",
      "Geography    6082\n",
      "English      6043\n",
      "Math         6035\n",
      "History      5991\n",
      "Name: count, dtype: int64\n",
      "Homework_Completion_%\n",
      "95      7453\n",
      "-5      7376\n",
      "100%    7296\n",
      "80%     7283\n",
      "90      7060\n",
      "Name: count, dtype: int64\n",
      "Teacher_Comments\n",
      "                                                                             3551\n",
      "Including describe event yet middle assume rest any pick whatever oil.          1\n",
      "Set factor safe fine fast population including.                                 1\n",
      "Between current hotel west recognize believe hand on poor ball wonder.          1\n",
      "Probably specific science memory her stand since main.                          1\n",
      "                                                                             ... \n",
      "Environmental newspaper close story space season detail.                        1\n",
      "Music tend or occur know development see.                                       1\n",
      "Car the choice college consumer before perform receive red.                     1\n",
      "Relate box peace during executive production inside job chance high than.       1\n",
      "Main magazine consumer country any investment.                                  1\n",
      "Name: count, Length: 32918, dtype: int64\n",
      "____________________________\n"
     ]
    }
   ],
   "source": [
    "df_prfm_preliminar = sp.eda_preliminar(df_performance)\n",
    "df_prfm_preliminar"
   ]
  },
  {
   "cell_type": "code",
   "execution_count": 197,
   "id": "578f5eb8",
   "metadata": {},
   "outputs": [
    {
     "data": {
      "text/html": [
       "<div>\n",
       "<style scoped>\n",
       "    .dataframe tbody tr th:only-of-type {\n",
       "        vertical-align: middle;\n",
       "    }\n",
       "\n",
       "    .dataframe tbody tr th {\n",
       "        vertical-align: top;\n",
       "    }\n",
       "\n",
       "    .dataframe thead th {\n",
       "        text-align: right;\n",
       "    }\n",
       "</style>\n",
       "<table border=\"1\" class=\"dataframe\">\n",
       "  <thead>\n",
       "    <tr style=\"text-align: right;\">\n",
       "      <th></th>\n",
       "      <th>subject</th>\n",
       "      <th>exam_score</th>\n",
       "      <th>homework_completion_%</th>\n",
       "      <th>teacher_comments</th>\n",
       "    </tr>\n",
       "    <tr>\n",
       "      <th>student_id</th>\n",
       "      <th></th>\n",
       "      <th></th>\n",
       "      <th></th>\n",
       "      <th></th>\n",
       "    </tr>\n",
       "  </thead>\n",
       "  <tbody>\n",
       "    <tr>\n",
       "      <th>s11438</th>\n",
       "      <td>science</td>\n",
       "      <td>99</td>\n",
       "      <td>90</td>\n",
       "      <td>today raise represent audience american sell e...</td>\n",
       "    </tr>\n",
       "    <tr>\n",
       "      <th>s01953</th>\n",
       "      <td>geography</td>\n",
       "      <td>58</td>\n",
       "      <td>80%</td>\n",
       "      <td>help your note fear stay house raise such brot...</td>\n",
       "    </tr>\n",
       "    <tr>\n",
       "      <th>s02018</th>\n",
       "      <td>science</td>\n",
       "      <td>87</td>\n",
       "      <td>100%</td>\n",
       "      <td>city beautiful president wind ball low sometim...</td>\n",
       "    </tr>\n",
       "    <tr>\n",
       "      <th>s06429</th>\n",
       "      <td>english</td>\n",
       "      <td>74</td>\n",
       "      <td>100%</td>\n",
       "      <td>because rich perhaps market grow time issue fr...</td>\n",
       "    </tr>\n",
       "    <tr>\n",
       "      <th>s08633</th>\n",
       "      <td>arabic</td>\n",
       "      <td>41</td>\n",
       "      <td>-5</td>\n",
       "      <td>goal everybody common body popular federal gro...</td>\n",
       "    </tr>\n",
       "    <tr>\n",
       "      <th>s11117</th>\n",
       "      <td>arabic</td>\n",
       "      <td>84</td>\n",
       "      <td>100%</td>\n",
       "      <td>trade animal only talk usually thing rather ag...</td>\n",
       "    </tr>\n",
       "    <tr>\n",
       "      <th>s02905</th>\n",
       "      <td>geography</td>\n",
       "      <td>42</td>\n",
       "      <td>80%</td>\n",
       "      <td>pass first well pm gun experience strong away.</td>\n",
       "    </tr>\n",
       "    <tr>\n",
       "      <th>s08997</th>\n",
       "      <td>math</td>\n",
       "      <td>64</td>\n",
       "      <td>-5</td>\n",
       "      <td>memory shoulder strong crime such son change m...</td>\n",
       "    </tr>\n",
       "    <tr>\n",
       "      <th>s08453</th>\n",
       "      <td>english</td>\n",
       "      <td>51</td>\n",
       "      <td>-5</td>\n",
       "      <td></td>\n",
       "    </tr>\n",
       "    <tr>\n",
       "      <th>s00526</th>\n",
       "      <td>english</td>\n",
       "      <td>47</td>\n",
       "      <td>-5</td>\n",
       "      <td>west field open drug he building.</td>\n",
       "    </tr>\n",
       "  </tbody>\n",
       "</table>\n",
       "</div>"
      ],
      "text/plain": [
       "              subject  exam_score homework_completion_%  \\\n",
       "student_id                                                \n",
       "s11438        science          99                    90   \n",
       "s01953      geography          58                   80%   \n",
       "s02018        science          87                  100%   \n",
       "s06429        english          74                  100%   \n",
       "s08633         arabic          41                    -5   \n",
       "s11117         arabic          84                  100%   \n",
       "s02905      geography          42                   80%   \n",
       "s08997           math          64                    -5   \n",
       "s08453        english          51                    -5   \n",
       "s00526        english          47                    -5   \n",
       "\n",
       "                                             teacher_comments  \n",
       "student_id                                                     \n",
       "s11438      today raise represent audience american sell e...  \n",
       "s01953      help your note fear stay house raise such brot...  \n",
       "s02018      city beautiful president wind ball low sometim...  \n",
       "s06429      because rich perhaps market grow time issue fr...  \n",
       "s08633      goal everybody common body popular federal gro...  \n",
       "s11117      trade animal only talk usually thing rather ag...  \n",
       "s02905         pass first well pm gun experience strong away.  \n",
       "s08997      memory shoulder strong crime such son change m...  \n",
       "s08453                                                         \n",
       "s00526                      west field open drug he building.  "
      ]
     },
     "execution_count": 197,
     "metadata": {},
     "output_type": "execute_result"
    }
   ],
   "source": [
    "df_performance = sp.valores_a_minus(df_performance)\n",
    "df_performance.sample(10)"
   ]
  },
  {
   "cell_type": "code",
   "execution_count": null,
   "id": "3324201b",
   "metadata": {},
   "outputs": [
    {
     "name": "stdout",
     "output_type": "stream",
     "text": [
      "Empty DataFrame\n",
      "Columns: [subject, exam_score, homework_completion_%, teacher_comments]\n",
      "Index: []\n",
      "Límites Inferior: 3.0, Límites Superior: 147.0\n"
     ]
    }
   ],
   "source": [
    "#🟡🟡VER COMO SACAR LOS OUTLIERS\n",
    "# Outliers en 'exam_score'. \n",
    "\n",
    "# Supongamos que df_performance es tu DataFrame y la columna 'Exam_Score' es la que te interesa.\n",
    "# Calcular cuartiles\n",
    "Q1 = df_performance['exam_score'].quantile(0.25)\n",
    "Q3 = df_performance['exam_score'].quantile(0.75)\n",
    "IQR = Q3 - Q1\n",
    "\n",
    "# Calcular los límites\n",
    "lower_limit = Q1 - 1.5 * IQR\n",
    "upper_limit = Q3 + 1.5 * IQR\n",
    "\n",
    "# Identificar outliers\n",
    "outliers = df_performance[(df_performance['exam_score'] < lower_limit) | (df_performance['exam_score'] > upper_limit)]\n",
    "\n",
    "# Mostrar los outliers\n",
    "print(outliers)\n",
    "\n",
    "# Para ver los valores fuera de los límites\n",
    "print(f\"Límites Inferior: {lower_limit}, Límites Superior: {upper_limit}\")\n"
   ]
  },
  {
   "cell_type": "code",
   "execution_count": null,
   "id": "e517e1e3",
   "metadata": {},
   "outputs": [
    {
     "name": "stdout",
     "output_type": "stream",
     "text": [
      "Porcentaje de outliers inferiores: 0.00%\n",
      "Porcentaje de outliers superiores: 0.00%\n"
     ]
    }
   ],
   "source": [
    "#🟡🟡VER COMO CALCULAR EL PROCENTAJE DE OUTLIERS PARA SABER QUE HACER\n",
    "# Calcular el porcentaje de outliers superiores e inferiores\n",
    "total = len(df_performance)\n",
    "outliers_inferiores = len(df_performance[df_performance['exam_score'] < lower_limit])\n",
    "outliers_superiores = len(df_performance[df_performance['exam_score'] > upper_limit])\n",
    "\n",
    "# Calcular los porcentajes\n",
    "porcentaje_outliers_inferiores = (outliers_inferiores / total) * 100\n",
    "porcentaje_outliers_superiores = (outliers_superiores / total) * 100\n",
    "\n",
    "print(f\"Porcentaje de outliers inferiores: {porcentaje_outliers_inferiores:.2f}%\")\n",
    "print(f\"Porcentaje de outliers superiores: {porcentaje_outliers_superiores:.2f}%\")\n"
   ]
  },
  {
   "cell_type": "code",
   "execution_count": null,
   "id": "4ccc3d95",
   "metadata": {},
   "outputs": [],
   "source": [
    "#🟡🟡Que los outliers no pasen de 100 ni sean inferiores a 0. "
   ]
  },
  {
   "cell_type": "code",
   "execution_count": 200,
   "id": "407c9b6d",
   "metadata": {},
   "outputs": [
    {
     "name": "stdout",
     "output_type": "stream",
     "text": [
      "Columna 'homework_completion_%' limpiada correctamente.\n"
     ]
    }
   ],
   "source": [
    "def limpiar_homework_completion(x):\n",
    "    \"\"\"\n",
    "    Limpia y convierte los valores de 'homework_completion_%' a números. Elimina el '%' de las cadenas y convierte a `float`. \n",
    "    Los valores negativos se convierten en 0 y los mayores a 100 se ajustan a 100.\n",
    "\n",
    "    Parámetros:\n",
    "    x (str, int, float): Valor a limpiar y convertir.\n",
    "\n",
    "    Devuelve:\n",
    "    float: Valor entre 0 y 100, o None si hay un error.\n",
    "    \"\"\"\n",
    "    try:\n",
    "        if isinstance(x, str) and '%' in x:\n",
    "            x = float(x.replace('%', '').strip())\n",
    "        elif isinstance(x, str):\n",
    "            x = float(x.strip())\n",
    "        elif isinstance(x, (int, float)):\n",
    "            x = float(x)\n",
    "        else:\n",
    "            return None\n",
    "        \n",
    "        if x < 0:\n",
    "            x = 0\n",
    "        elif x > 100:\n",
    "            x = 100\n",
    "        return x\n",
    "    except:\n",
    "        return None\n",
    "\n",
    "# Verificamos primero existencia de la columna antes de limpiar\n",
    "if 'homework_completion_%' in df_performance.columns:\n",
    "    # Limpiamos la columna 'homework_completion_%' directamente \n",
    "    df_performance['homework_completion_%'] = df_performance['homework_completion_%'].apply(limpiar_homework_completion)\n",
    "    # Convertimos los valores a formato porcentaje\n",
    "    df_performance['homework_completion_%'] = df_performance['homework_completion_%'].apply(lambda x: f\"{round(x)}%\" if x is not None else None)\n",
    "    print(\"Columna 'homework_completion_%' limpiada correctamente.\")\n",
    "else:\n",
    "    print(\"La columna 'homework_completion_%' no existe en df_performance.\")\n"
   ]
  },
  {
   "cell_type": "code",
   "execution_count": 202,
   "id": "5de52140",
   "metadata": {},
   "outputs": [
    {
     "data": {
      "text/html": [
       "<div>\n",
       "<style scoped>\n",
       "    .dataframe tbody tr th:only-of-type {\n",
       "        vertical-align: middle;\n",
       "    }\n",
       "\n",
       "    .dataframe tbody tr th {\n",
       "        vertical-align: top;\n",
       "    }\n",
       "\n",
       "    .dataframe thead th {\n",
       "        text-align: right;\n",
       "    }\n",
       "</style>\n",
       "<table border=\"1\" class=\"dataframe\">\n",
       "  <thead>\n",
       "    <tr style=\"text-align: right;\">\n",
       "      <th></th>\n",
       "      <th>subject</th>\n",
       "      <th>exam_score</th>\n",
       "      <th>homework_completion_%</th>\n",
       "      <th>teacher_comments</th>\n",
       "    </tr>\n",
       "    <tr>\n",
       "      <th>student_id</th>\n",
       "      <th></th>\n",
       "      <th></th>\n",
       "      <th></th>\n",
       "      <th></th>\n",
       "    </tr>\n",
       "  </thead>\n",
       "  <tbody>\n",
       "    <tr>\n",
       "      <th>s10489</th>\n",
       "      <td>english</td>\n",
       "      <td>85</td>\n",
       "      <td>80%</td>\n",
       "      <td>feeling affect television television would che...</td>\n",
       "    </tr>\n",
       "    <tr>\n",
       "      <th>s09936</th>\n",
       "      <td>arabic</td>\n",
       "      <td>41</td>\n",
       "      <td>0%</td>\n",
       "      <td>door young food him they vote fish away whole ...</td>\n",
       "    </tr>\n",
       "    <tr>\n",
       "      <th>s09744</th>\n",
       "      <td>english</td>\n",
       "      <td>56</td>\n",
       "      <td>100%</td>\n",
       "      <td>cost last environment like role administration...</td>\n",
       "    </tr>\n",
       "    <tr>\n",
       "      <th>s00992</th>\n",
       "      <td>english</td>\n",
       "      <td>78</td>\n",
       "      <td>0%</td>\n",
       "      <td>movie glass million process let tough opportun...</td>\n",
       "    </tr>\n",
       "    <tr>\n",
       "      <th>s10887</th>\n",
       "      <td>english</td>\n",
       "      <td>54</td>\n",
       "      <td>95%</td>\n",
       "      <td>audience process lose health attention sport a...</td>\n",
       "    </tr>\n",
       "    <tr>\n",
       "      <th>s07680</th>\n",
       "      <td>english</td>\n",
       "      <td>91</td>\n",
       "      <td>80%</td>\n",
       "      <td>somebody sense important goal part far.</td>\n",
       "    </tr>\n",
       "    <tr>\n",
       "      <th>s11013</th>\n",
       "      <td>geography</td>\n",
       "      <td>90</td>\n",
       "      <td>80%</td>\n",
       "      <td>since pattern sell sound work discuss fill tri...</td>\n",
       "    </tr>\n",
       "    <tr>\n",
       "      <th>s06807</th>\n",
       "      <td>history</td>\n",
       "      <td>107</td>\n",
       "      <td>80%</td>\n",
       "      <td>shoulder reach after serious fight majority tr...</td>\n",
       "    </tr>\n",
       "    <tr>\n",
       "      <th>s11672</th>\n",
       "      <td>arabic</td>\n",
       "      <td>60</td>\n",
       "      <td>0%</td>\n",
       "      <td></td>\n",
       "    </tr>\n",
       "    <tr>\n",
       "      <th>s01915</th>\n",
       "      <td>science</td>\n",
       "      <td>58</td>\n",
       "      <td>95%</td>\n",
       "      <td></td>\n",
       "    </tr>\n",
       "  </tbody>\n",
       "</table>\n",
       "</div>"
      ],
      "text/plain": [
       "              subject  exam_score homework_completion_%  \\\n",
       "student_id                                                \n",
       "s10489        english          85                   80%   \n",
       "s09936         arabic          41                    0%   \n",
       "s09744        english          56                  100%   \n",
       "s00992        english          78                    0%   \n",
       "s10887        english          54                   95%   \n",
       "s07680        english          91                   80%   \n",
       "s11013      geography          90                   80%   \n",
       "s06807        history         107                   80%   \n",
       "s11672         arabic          60                    0%   \n",
       "s01915        science          58                   95%   \n",
       "\n",
       "                                             teacher_comments  \n",
       "student_id                                                     \n",
       "s10489      feeling affect television television would che...  \n",
       "s09936      door young food him they vote fish away whole ...  \n",
       "s09744      cost last environment like role administration...  \n",
       "s00992      movie glass million process let tough opportun...  \n",
       "s10887      audience process lose health attention sport a...  \n",
       "s07680                somebody sense important goal part far.  \n",
       "s11013      since pattern sell sound work discuss fill tri...  \n",
       "s06807      shoulder reach after serious fight majority tr...  \n",
       "s11672                                                         \n",
       "s01915                                                         "
      ]
     },
     "execution_count": 202,
     "metadata": {},
     "output_type": "execute_result"
    }
   ],
   "source": [
    "#Comprobamos que los valores de la columna 'homework_completion_%' sean consistentes\n",
    "df_performance.sample(10)"
   ]
  },
  {
   "cell_type": "code",
   "execution_count": null,
   "id": "9bc4ee6c",
   "metadata": {},
   "outputs": [
    {
     "data": {
      "text/plain": [
       "(np.int64(3551), np.float64(9.74))"
      ]
     },
     "execution_count": 206,
     "metadata": {},
     "output_type": "execute_result"
    }
   ],
   "source": [
    "#Los campos vacíos de la columna 'teacher_comments' pasarlos a nulos para saber cuantos hay.np\n",
    "df_performance['teacher_comments'] = df_performance['teacher_comments'].replace('', np.nan)\n",
    "\n",
    "# Contar valores nulos en la columna 'teacher_comments'\n",
    "nulos = sp.nulos_num_porcentaje(df_performance['teacher_comments'])\n",
    "nulos\n"
   ]
  },
  {
   "cell_type": "code",
   "execution_count": 208,
   "id": "252ecee9",
   "metadata": {},
   "outputs": [
    {
     "data": {
      "text/html": [
       "<div>\n",
       "<style scoped>\n",
       "    .dataframe tbody tr th:only-of-type {\n",
       "        vertical-align: middle;\n",
       "    }\n",
       "\n",
       "    .dataframe tbody tr th {\n",
       "        vertical-align: top;\n",
       "    }\n",
       "\n",
       "    .dataframe thead th {\n",
       "        text-align: right;\n",
       "    }\n",
       "</style>\n",
       "<table border=\"1\" class=\"dataframe\">\n",
       "  <thead>\n",
       "    <tr style=\"text-align: right;\">\n",
       "      <th></th>\n",
       "      <th>subject</th>\n",
       "      <th>exam_score</th>\n",
       "      <th>homework_completion_%</th>\n",
       "      <th>teacher_comments</th>\n",
       "    </tr>\n",
       "    <tr>\n",
       "      <th>student_id</th>\n",
       "      <th></th>\n",
       "      <th></th>\n",
       "      <th></th>\n",
       "      <th></th>\n",
       "    </tr>\n",
       "  </thead>\n",
       "  <tbody>\n",
       "    <tr>\n",
       "      <th>s04555</th>\n",
       "      <td>science</td>\n",
       "      <td>52</td>\n",
       "      <td>0%</td>\n",
       "      <td>see what stay create able fact office.</td>\n",
       "    </tr>\n",
       "    <tr>\n",
       "      <th>s08571</th>\n",
       "      <td>geography</td>\n",
       "      <td>50</td>\n",
       "      <td>90%</td>\n",
       "      <td>oil allow democrat under be kitchen name she a...</td>\n",
       "    </tr>\n",
       "    <tr>\n",
       "      <th>s07702</th>\n",
       "      <td>math</td>\n",
       "      <td>81</td>\n",
       "      <td>95%</td>\n",
       "      <td>child although law foreign suddenly compare pr...</td>\n",
       "    </tr>\n",
       "    <tr>\n",
       "      <th>s02867</th>\n",
       "      <td>science</td>\n",
       "      <td>59</td>\n",
       "      <td>90%</td>\n",
       "      <td>No comment</td>\n",
       "    </tr>\n",
       "    <tr>\n",
       "      <th>s01790</th>\n",
       "      <td>history</td>\n",
       "      <td>74</td>\n",
       "      <td>0%</td>\n",
       "      <td>finally feeling behind well describe material ...</td>\n",
       "    </tr>\n",
       "    <tr>\n",
       "      <th>s04467</th>\n",
       "      <td>english</td>\n",
       "      <td>76</td>\n",
       "      <td>80%</td>\n",
       "      <td>college recognize citizen view personal cost y...</td>\n",
       "    </tr>\n",
       "    <tr>\n",
       "      <th>s01843</th>\n",
       "      <td>english</td>\n",
       "      <td>100</td>\n",
       "      <td>95%</td>\n",
       "      <td>course wall choose wind audience vote.</td>\n",
       "    </tr>\n",
       "    <tr>\n",
       "      <th>s07836</th>\n",
       "      <td>math</td>\n",
       "      <td>53</td>\n",
       "      <td>95%</td>\n",
       "      <td>perform represent conference professor leader ...</td>\n",
       "    </tr>\n",
       "    <tr>\n",
       "      <th>s01758</th>\n",
       "      <td>history</td>\n",
       "      <td>46</td>\n",
       "      <td>80%</td>\n",
       "      <td>oil tv able this book beautiful.</td>\n",
       "    </tr>\n",
       "    <tr>\n",
       "      <th>s06799</th>\n",
       "      <td>geography</td>\n",
       "      <td>87</td>\n",
       "      <td>80%</td>\n",
       "      <td>morning per throughout consumer use amount con...</td>\n",
       "    </tr>\n",
       "  </tbody>\n",
       "</table>\n",
       "</div>"
      ],
      "text/plain": [
       "              subject  exam_score homework_completion_%  \\\n",
       "student_id                                                \n",
       "s04555        science          52                    0%   \n",
       "s08571      geography          50                   90%   \n",
       "s07702           math          81                   95%   \n",
       "s02867        science          59                   90%   \n",
       "s01790        history          74                    0%   \n",
       "s04467        english          76                   80%   \n",
       "s01843        english         100                   95%   \n",
       "s07836           math          53                   95%   \n",
       "s01758        history          46                   80%   \n",
       "s06799      geography          87                   80%   \n",
       "\n",
       "                                             teacher_comments  \n",
       "student_id                                                     \n",
       "s04555                 see what stay create able fact office.  \n",
       "s08571      oil allow democrat under be kitchen name she a...  \n",
       "s07702      child although law foreign suddenly compare pr...  \n",
       "s02867                                             No comment  \n",
       "s01790      finally feeling behind well describe material ...  \n",
       "s04467      college recognize citizen view personal cost y...  \n",
       "s01843                 course wall choose wind audience vote.  \n",
       "s07836      perform represent conference professor leader ...  \n",
       "s01758                       oil tv able this book beautiful.  \n",
       "s06799      morning per throughout consumer use amount con...  "
      ]
     },
     "execution_count": 208,
     "metadata": {},
     "output_type": "execute_result"
    }
   ],
   "source": [
    "#Imputar las filas que tienen nulos (un 9.74%) ya que no queremos\n",
    "# perder el resto de información de esas filas.\n",
    "\n",
    "df_performance['teacher_comments'] = df_performance['teacher_comments'].fillna('No comment')\n",
    "\n",
    "df_performance.sample(10)"
   ]
  },
  {
   "cell_type": "code",
   "execution_count": 211,
   "id": "b8e61b5b",
   "metadata": {},
   "outputs": [
    {
     "data": {
      "text/html": [
       "<div>\n",
       "<style scoped>\n",
       "    .dataframe tbody tr th:only-of-type {\n",
       "        vertical-align: middle;\n",
       "    }\n",
       "\n",
       "    .dataframe tbody tr th {\n",
       "        vertical-align: top;\n",
       "    }\n",
       "\n",
       "    .dataframe thead th {\n",
       "        text-align: right;\n",
       "    }\n",
       "</style>\n",
       "<table border=\"1\" class=\"dataframe\">\n",
       "  <thead>\n",
       "    <tr style=\"text-align: right;\">\n",
       "      <th></th>\n",
       "      <th>Full_Name</th>\n",
       "      <th>Date_of_Birth</th>\n",
       "      <th>Grade_Level</th>\n",
       "      <th>Emergency_Contact</th>\n",
       "    </tr>\n",
       "    <tr>\n",
       "      <th>Student_ID</th>\n",
       "      <th></th>\n",
       "      <th></th>\n",
       "      <th></th>\n",
       "      <th></th>\n",
       "    </tr>\n",
       "  </thead>\n",
       "  <tbody>\n",
       "    <tr>\n",
       "      <th>S03268</th>\n",
       "      <td>Erica Zuniga</td>\n",
       "      <td>01-16-2015</td>\n",
       "      <td>Grade 4</td>\n",
       "      <td>(985)273-6680</td>\n",
       "    </tr>\n",
       "    <tr>\n",
       "      <th>S02322</th>\n",
       "      <td>Laurie Brown</td>\n",
       "      <td>2018-01-16</td>\n",
       "      <td>Grade 5</td>\n",
       "      <td>490-345-9220</td>\n",
       "    </tr>\n",
       "    <tr>\n",
       "      <th>S05242</th>\n",
       "      <td>Wendy Rodriguez</td>\n",
       "      <td>2013-12-28</td>\n",
       "      <td>Grade 1</td>\n",
       "      <td>(332)914-3120x52571</td>\n",
       "    </tr>\n",
       "    <tr>\n",
       "      <th>S11906</th>\n",
       "      <td>Wanda Griffith</td>\n",
       "      <td>2009-05-06</td>\n",
       "      <td>Grade 2</td>\n",
       "      <td>932.218.9180</td>\n",
       "    </tr>\n",
       "    <tr>\n",
       "      <th>S02248</th>\n",
       "      <td>Denise Warren</td>\n",
       "      <td>2014-09-16</td>\n",
       "      <td>Grade 4</td>\n",
       "      <td>+1-685-747-5485x0261</td>\n",
       "    </tr>\n",
       "  </tbody>\n",
       "</table>\n",
       "</div>"
      ],
      "text/plain": [
       "                  Full_Name Date_of_Birth Grade_Level     Emergency_Contact\n",
       "Student_ID                                                                 \n",
       "S03268         Erica Zuniga    01-16-2015     Grade 4         (985)273-6680\n",
       "S02322         Laurie Brown    2018-01-16     Grade 5          490-345-9220\n",
       "S05242      Wendy Rodriguez    2013-12-28     Grade 1   (332)914-3120x52571\n",
       "S11906       Wanda Griffith    2009-05-06     Grade 2          932.218.9180\n",
       "S02248        Denise Warren    2014-09-16     Grade 4  +1-685-747-5485x0261"
      ]
     },
     "metadata": {},
     "output_type": "display_data"
    },
    {
     "name": "stdout",
     "output_type": "stream",
     "text": [
      "____________________________\n",
      "INFO\n",
      "<class 'pandas.core.frame.DataFrame'>\n",
      "Index: 12156 entries, S00001 to S12156\n",
      "Data columns (total 4 columns):\n",
      " #   Column             Non-Null Count  Dtype \n",
      "---  ------             --------------  ----- \n",
      " 0   Full_Name          12156 non-null  object\n",
      " 1   Date_of_Birth      12156 non-null  object\n",
      " 2   Grade_Level        12156 non-null  object\n",
      " 3   Emergency_Contact  11538 non-null  object\n",
      "dtypes: object(4)\n",
      "memory usage: 474.8+ KB\n"
     ]
    },
    {
     "data": {
      "text/plain": [
       "None"
      ]
     },
     "metadata": {},
     "output_type": "display_data"
    },
    {
     "name": "stdout",
     "output_type": "stream",
     "text": [
      "____________________________\n",
      "NULOS\n"
     ]
    },
    {
     "data": {
      "text/plain": [
       "Full_Name            0.00\n",
       "Date_of_Birth        0.00\n",
       "Grade_Level          0.00\n",
       "Emergency_Contact    5.08\n",
       "dtype: float64"
      ]
     },
     "metadata": {},
     "output_type": "display_data"
    },
    {
     "name": "stdout",
     "output_type": "stream",
     "text": [
      "____________________________\n",
      "DUPLICADOS\n"
     ]
    },
    {
     "data": {
      "text/plain": [
       "np.int64(0)"
      ]
     },
     "metadata": {},
     "output_type": "display_data"
    },
    {
     "name": "stdout",
     "output_type": "stream",
     "text": [
      "____________________________\n",
      "DESCRIBE\n"
     ]
    },
    {
     "data": {
      "text/html": [
       "<div>\n",
       "<style scoped>\n",
       "    .dataframe tbody tr th:only-of-type {\n",
       "        vertical-align: middle;\n",
       "    }\n",
       "\n",
       "    .dataframe tbody tr th {\n",
       "        vertical-align: top;\n",
       "    }\n",
       "\n",
       "    .dataframe thead th {\n",
       "        text-align: right;\n",
       "    }\n",
       "</style>\n",
       "<table border=\"1\" class=\"dataframe\">\n",
       "  <thead>\n",
       "    <tr style=\"text-align: right;\">\n",
       "      <th></th>\n",
       "      <th>count</th>\n",
       "      <th>unique</th>\n",
       "      <th>top</th>\n",
       "      <th>freq</th>\n",
       "    </tr>\n",
       "  </thead>\n",
       "  <tbody>\n",
       "    <tr>\n",
       "      <th>Full_Name</th>\n",
       "      <td>12156</td>\n",
       "      <td>11442</td>\n",
       "      <td>Michael Smith</td>\n",
       "      <td>6</td>\n",
       "    </tr>\n",
       "    <tr>\n",
       "      <th>Date_of_Birth</th>\n",
       "      <td>12156</td>\n",
       "      <td>5350</td>\n",
       "      <td>2013-11-29</td>\n",
       "      <td>10</td>\n",
       "    </tr>\n",
       "    <tr>\n",
       "      <th>Grade_Level</th>\n",
       "      <td>12156</td>\n",
       "      <td>5</td>\n",
       "      <td>Grade 5</td>\n",
       "      <td>2472</td>\n",
       "    </tr>\n",
       "    <tr>\n",
       "      <th>Emergency_Contact</th>\n",
       "      <td>11538</td>\n",
       "      <td>11538</td>\n",
       "      <td>3793041001</td>\n",
       "      <td>1</td>\n",
       "    </tr>\n",
       "  </tbody>\n",
       "</table>\n",
       "</div>"
      ],
      "text/plain": [
       "                   count unique            top  freq\n",
       "Full_Name          12156  11442  Michael Smith     6\n",
       "Date_of_Birth      12156   5350     2013-11-29    10\n",
       "Grade_Level        12156      5        Grade 5  2472\n",
       "Emergency_Contact  11538  11538     3793041001     1"
      ]
     },
     "metadata": {},
     "output_type": "display_data"
    },
    {
     "name": "stdout",
     "output_type": "stream",
     "text": [
      "____________________________\n",
      "DESCRIBE COLUMNAS OBJECT\n"
     ]
    },
    {
     "data": {
      "text/html": [
       "<div>\n",
       "<style scoped>\n",
       "    .dataframe tbody tr th:only-of-type {\n",
       "        vertical-align: middle;\n",
       "    }\n",
       "\n",
       "    .dataframe tbody tr th {\n",
       "        vertical-align: top;\n",
       "    }\n",
       "\n",
       "    .dataframe thead th {\n",
       "        text-align: right;\n",
       "    }\n",
       "</style>\n",
       "<table border=\"1\" class=\"dataframe\">\n",
       "  <thead>\n",
       "    <tr style=\"text-align: right;\">\n",
       "      <th></th>\n",
       "      <th>count</th>\n",
       "      <th>unique</th>\n",
       "      <th>top</th>\n",
       "      <th>freq</th>\n",
       "    </tr>\n",
       "  </thead>\n",
       "  <tbody>\n",
       "    <tr>\n",
       "      <th>Full_Name</th>\n",
       "      <td>12156</td>\n",
       "      <td>11442</td>\n",
       "      <td>Michael Smith</td>\n",
       "      <td>6</td>\n",
       "    </tr>\n",
       "    <tr>\n",
       "      <th>Date_of_Birth</th>\n",
       "      <td>12156</td>\n",
       "      <td>5350</td>\n",
       "      <td>2013-11-29</td>\n",
       "      <td>10</td>\n",
       "    </tr>\n",
       "    <tr>\n",
       "      <th>Grade_Level</th>\n",
       "      <td>12156</td>\n",
       "      <td>5</td>\n",
       "      <td>Grade 5</td>\n",
       "      <td>2472</td>\n",
       "    </tr>\n",
       "    <tr>\n",
       "      <th>Emergency_Contact</th>\n",
       "      <td>11538</td>\n",
       "      <td>11538</td>\n",
       "      <td>3793041001</td>\n",
       "      <td>1</td>\n",
       "    </tr>\n",
       "  </tbody>\n",
       "</table>\n",
       "</div>"
      ],
      "text/plain": [
       "                   count unique            top  freq\n",
       "Full_Name          12156  11442  Michael Smith     6\n",
       "Date_of_Birth      12156   5350     2013-11-29    10\n",
       "Grade_Level        12156      5        Grade 5  2472\n",
       "Emergency_Contact  11538  11538     3793041001     1"
      ]
     },
     "metadata": {},
     "output_type": "display_data"
    },
    {
     "name": "stdout",
     "output_type": "stream",
     "text": [
      "____________________________\n",
      "VALUE COUNTS\n",
      "Full_Name\n",
      "Michael Smith     6\n",
      "Michael Lewis     5\n",
      "Michelle Smith    5\n",
      "Angela Harris     5\n",
      "James Smith       4\n",
      "                 ..\n",
      "Beth Stephens     1\n",
      "Ryan Robinson     1\n",
      "Juan Mccoy        1\n",
      "Denise Patton     1\n",
      "Keith Wood        1\n",
      "Name: count, Length: 11442, dtype: int64\n",
      "Date_of_Birth\n",
      "2013-11-29    10\n",
      "2011-06-10     9\n",
      "2017-04-17     9\n",
      "2011-06-04     9\n",
      "2006-03-11     8\n",
      "              ..\n",
      "2008-09-21     1\n",
      "2018-01-10     1\n",
      "2010-11-12     1\n",
      "2010-08-30     1\n",
      "2015-07-29     1\n",
      "Name: count, Length: 5350, dtype: int64\n",
      "Grade_Level\n",
      "Grade 5    2472\n",
      "Grade 4    2454\n",
      "Grade 3    2447\n",
      "Grade 2    2400\n",
      "Grade 1    2383\n",
      "Name: count, dtype: int64\n",
      "Emergency_Contact\n",
      "3793041001              1\n",
      "781-534-4258x9046       1\n",
      "(635)437-6131           1\n",
      "(270)269-1173x5503      1\n",
      "625.766.1101            1\n",
      "                       ..\n",
      "706.708.0421x412        1\n",
      "+1-933-864-5644x501     1\n",
      "+1-794-484-8495x7772    1\n",
      "306-771-1524x116        1\n",
      "308.517.3750            1\n",
      "Name: count, Length: 11538, dtype: int64\n",
      "____________________________\n"
     ]
    }
   ],
   "source": [
    "df_std_preliminar = sp.eda_preliminar(df_students)\n",
    "df_std_preliminar"
   ]
  },
  {
   "cell_type": "code",
   "execution_count": null,
   "id": "7788e84d",
   "metadata": {},
   "outputs": [
    {
     "data": {
      "text/html": [
       "<div>\n",
       "<style scoped>\n",
       "    .dataframe tbody tr th:only-of-type {\n",
       "        vertical-align: middle;\n",
       "    }\n",
       "\n",
       "    .dataframe tbody tr th {\n",
       "        vertical-align: top;\n",
       "    }\n",
       "\n",
       "    .dataframe thead th {\n",
       "        text-align: right;\n",
       "    }\n",
       "</style>\n",
       "<table border=\"1\" class=\"dataframe\">\n",
       "  <thead>\n",
       "    <tr style=\"text-align: right;\">\n",
       "      <th></th>\n",
       "      <th>full_name</th>\n",
       "      <th>date_of_birth</th>\n",
       "      <th>grade_level</th>\n",
       "      <th>emergency_contact</th>\n",
       "    </tr>\n",
       "    <tr>\n",
       "      <th>student_id</th>\n",
       "      <th></th>\n",
       "      <th></th>\n",
       "      <th></th>\n",
       "      <th></th>\n",
       "    </tr>\n",
       "  </thead>\n",
       "  <tbody>\n",
       "    <tr>\n",
       "      <th>s02117</th>\n",
       "      <td>bailey guzman</td>\n",
       "      <td>2016-01-09</td>\n",
       "      <td>grade 4</td>\n",
       "      <td>NaN</td>\n",
       "    </tr>\n",
       "    <tr>\n",
       "      <th>s03460</th>\n",
       "      <td>emily marsh</td>\n",
       "      <td>05-22-2018</td>\n",
       "      <td>grade 3</td>\n",
       "      <td>001-257-710-6434x54688</td>\n",
       "    </tr>\n",
       "    <tr>\n",
       "      <th>s06469</th>\n",
       "      <td>kristen avery</td>\n",
       "      <td>2008-04-10</td>\n",
       "      <td>grade 4</td>\n",
       "      <td>(314)494-6600x491</td>\n",
       "    </tr>\n",
       "    <tr>\n",
       "      <th>s05884</th>\n",
       "      <td>jamie martin</td>\n",
       "      <td>2017-08-04</td>\n",
       "      <td>grade 4</td>\n",
       "      <td>001-465-396-8759x89957</td>\n",
       "    </tr>\n",
       "    <tr>\n",
       "      <th>s05882</th>\n",
       "      <td>adam campbell</td>\n",
       "      <td>07-26-2011</td>\n",
       "      <td>grade 2</td>\n",
       "      <td>+1-465-801-6684x55973</td>\n",
       "    </tr>\n",
       "    <tr>\n",
       "      <th>s06050</th>\n",
       "      <td>amanda harris</td>\n",
       "      <td>2006-10-02</td>\n",
       "      <td>grade 2</td>\n",
       "      <td>262-500-3589</td>\n",
       "    </tr>\n",
       "    <tr>\n",
       "      <th>s05101</th>\n",
       "      <td>lori turner</td>\n",
       "      <td>2015-06-11</td>\n",
       "      <td>grade 1</td>\n",
       "      <td>626-843-9773</td>\n",
       "    </tr>\n",
       "    <tr>\n",
       "      <th>s05214</th>\n",
       "      <td>matthew perez</td>\n",
       "      <td>2014-09-03</td>\n",
       "      <td>grade 1</td>\n",
       "      <td>001-560-214-5359x2835</td>\n",
       "    </tr>\n",
       "    <tr>\n",
       "      <th>s06591</th>\n",
       "      <td>betty payne</td>\n",
       "      <td>2015-04-14</td>\n",
       "      <td>grade 4</td>\n",
       "      <td>2593137977</td>\n",
       "    </tr>\n",
       "    <tr>\n",
       "      <th>s04239</th>\n",
       "      <td>katherine adams</td>\n",
       "      <td>03-02-2009</td>\n",
       "      <td>grade 4</td>\n",
       "      <td>NaN</td>\n",
       "    </tr>\n",
       "  </tbody>\n",
       "</table>\n",
       "</div>"
      ],
      "text/plain": [
       "                  full_name date_of_birth grade_level       emergency_contact\n",
       "student_id                                                                   \n",
       "s02117        bailey guzman    2016-01-09     grade 4                     NaN\n",
       "s03460          emily marsh    05-22-2018     grade 3  001-257-710-6434x54688\n",
       "s06469        kristen avery    2008-04-10     grade 4       (314)494-6600x491\n",
       "s05884         jamie martin    2017-08-04     grade 4  001-465-396-8759x89957\n",
       "s05882        adam campbell    07-26-2011     grade 2   +1-465-801-6684x55973\n",
       "s06050        amanda harris    2006-10-02     grade 2            262-500-3589\n",
       "s05101          lori turner    2015-06-11     grade 1            626-843-9773\n",
       "s05214        matthew perez    2014-09-03     grade 1   001-560-214-5359x2835\n",
       "s06591          betty payne    2015-04-14     grade 4              2593137977\n",
       "s04239      katherine adams    03-02-2009     grade 4                     NaN"
      ]
     },
     "execution_count": 213,
     "metadata": {},
     "output_type": "execute_result"
    }
   ],
   "source": [
    "df_students = sp.valores_a_minus(df_students)\n",
    "df_students.sample(10)"
   ]
  },
  {
   "cell_type": "code",
   "execution_count": null,
   "id": "2c1c16e3",
   "metadata": {},
   "outputs": [],
   "source": [
    "#🟡🟡 pasar la columna date_of_birth al formato correcto, hacer una funcion GENERAL del DATE\n",
    "# para esta correccion y la anterior en el sp_limpieza.py"
   ]
  },
  {
   "cell_type": "code",
   "execution_count": null,
   "id": "cbbd7781",
   "metadata": {},
   "outputs": [],
   "source": [
    "#🟡🟡 contar los nulos de emergency_contact y valorr que hacer con ellos."
   ]
  },
  {
   "cell_type": "markdown",
   "id": "71b3f7b2",
   "metadata": {},
   "source": [
    "### 1.2. Eliminar columnas redundantes o irrelevantes"
   ]
  },
  {
   "cell_type": "markdown",
   "id": "e612d8f3",
   "metadata": {},
   "source": [
    "### 1.3. Homogeinizar los nombres de las columnas"
   ]
  },
  {
   "cell_type": "markdown",
   "id": "57d55d04",
   "metadata": {},
   "source": [
    "### 1.4. Homogeinizar datos categóricos"
   ]
  },
  {
   "cell_type": "markdown",
   "id": "9c90290b",
   "metadata": {},
   "source": [
    "### 1.5. Cambio tipo de datos y gestión de nulos"
   ]
  },
  {
   "cell_type": "markdown",
   "id": "5f8621fa",
   "metadata": {},
   "source": [
    "### 1.6. Combinar ambas tablas"
   ]
  },
  {
   "cell_type": "markdown",
   "id": "4c59e631",
   "metadata": {},
   "source": [
    "# 2. Análisis descriptivo de los datos"
   ]
  },
  {
   "cell_type": "markdown",
   "id": "dab9e80d",
   "metadata": {},
   "source": [
    "### 2.1. Resumen estadístico "
   ]
  },
  {
   "cell_type": "markdown",
   "id": "c59b72cb",
   "metadata": {},
   "source": [
    "# 3. Visualización de los datos."
   ]
  },
  {
   "cell_type": "markdown",
   "id": "663fddc4",
   "metadata": {},
   "source": [
    "### 3.1. Histogramas para la distribución de variables numéricas"
   ]
  },
  {
   "cell_type": "markdown",
   "id": "2e6c88d4",
   "metadata": {},
   "source": [
    "### 3.2. Boxplots para detectar outliers"
   ]
  },
  {
   "cell_type": "markdown",
   "id": "e9f9c089",
   "metadata": {},
   "source": [
    "### 3.3. Gráficos de barras para variables categóricas"
   ]
  },
  {
   "cell_type": "markdown",
   "id": "fa4823f7",
   "metadata": {},
   "source": [
    "### 3.4. Heatmap de correlaciones"
   ]
  },
  {
   "cell_type": "markdown",
   "id": "ed85cf4d",
   "metadata": {},
   "source": [
    "# 4. Guardar archivos limpios"
   ]
  }
 ],
 "metadata": {
  "kernelspec": {
   "display_name": "venv",
   "language": "python",
   "name": "python3"
  },
  "language_info": {
   "codemirror_mode": {
    "name": "ipython",
    "version": 3
   },
   "file_extension": ".py",
   "mimetype": "text/x-python",
   "name": "python",
   "nbconvert_exporter": "python",
   "pygments_lexer": "ipython3",
   "version": "3.13.1"
  }
 },
 "nbformat": 4,
 "nbformat_minor": 5
}
