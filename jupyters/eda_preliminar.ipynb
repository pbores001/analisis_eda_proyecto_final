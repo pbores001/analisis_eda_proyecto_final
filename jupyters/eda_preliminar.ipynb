{
 "cells": [
  {
   "cell_type": "markdown",
   "id": "46334f86",
   "metadata": {},
   "source": [
    "# Analisis preliminar del conjunto de datos"
   ]
  },
  {
   "cell_type": "code",
   "execution_count": 257,
   "id": "aed0dab2",
   "metadata": {},
   "outputs": [],
   "source": [
    "#Importaciones\n",
    "import pandas as pd\n",
    "import numpy as np\n",
    "\n",
    "#Para llamar a archivos de otras carpetas\n",
    "import sys\n",
    "sys.path.append('..')\n",
    "\n",
    "#Visualizar todas las columnas\n",
    "pd.set_option('display.max_columns', None)\n"
   ]
  },
  {
   "cell_type": "code",
   "execution_count": 258,
   "id": "203e8eaf",
   "metadata": {},
   "outputs": [
    {
     "data": {
      "text/plain": [
       "<module 'src.sp_limpieza' from 'c:\\\\Users\\\\pooo_\\\\Desktop\\\\Hackio\\\\proyecto_final_troncal\\\\analisis_eda_proyecto_final\\\\jupyters\\\\..\\\\src\\\\sp_limpieza.py'>"
      ]
     },
     "execution_count": 258,
     "metadata": {},
     "output_type": "execute_result"
    }
   ],
   "source": [
    "#Después importamos el archivo de funciones ('sp_limpieza.py') \n",
    "import src.sp_limpieza as sp\n",
    "#Importamos importlib para poder recargar el módulo y reflejar los cambios actualizados\n",
    "import importlib  \n",
    "importlib.reload(sp) "
   ]
  },
  {
   "cell_type": "code",
   "execution_count": 259,
   "id": "e7e56ebc",
   "metadata": {},
   "outputs": [
    {
     "name": "stdout",
     "output_type": "stream",
     "text": [
      "c:\\Users\\pooo_\\Desktop\\Hackio\\proyecto_final_troncal\\analisis_eda_proyecto_final\\jupyters\n"
     ]
    }
   ],
   "source": [
    "#Para interactuar con el sistema operativo\n",
    "import os\n",
    "#Devuelve la ruta del directorio actual\n",
    "print(os.getcwd())"
   ]
  },
  {
   "cell_type": "code",
   "execution_count": 260,
   "id": "432f58b4",
   "metadata": {},
   "outputs": [],
   "source": [
    "#Librerías visualización de gráficos\n",
    "import matplotlib.pyplot as plt\n",
    "import seaborn as sns"
   ]
  },
  {
   "cell_type": "markdown",
   "id": "7d10973e",
   "metadata": {},
   "source": [
    "# 1. Transformación y limpieza de datos"
   ]
  },
  {
   "cell_type": "markdown",
   "id": "5e80ba84",
   "metadata": {},
   "source": [
    "### 1.1. Importación y visión general de los datos"
   ]
  },
  {
   "cell_type": "code",
   "execution_count": 261,
   "id": "9860efbb",
   "metadata": {},
   "outputs": [],
   "source": [
    "#Leer los archivos\n",
    "df_attendance = pd.read_csv(\"../data/data_raw/attendance.csv\", index_col = 0)\n",
    "df_homework = pd.read_csv(\"../data/data_raw/homework.csv\", index_col = 0)\n",
    "df_performance = pd.read_csv(\"../data/data_raw/performance.csv\", index_col = 0)\n",
    "df_students = pd.read_csv(\"../data/data_raw/students.csv\", index_col = 0)\n",
    "df_communication = pd.read_csv(\"../data/data_raw/communication.csv\", index_col = 0)"
   ]
  },
  {
   "cell_type": "code",
   "execution_count": 262,
   "id": "60c0b871",
   "metadata": {},
   "outputs": [
    {
     "data": {
      "text/html": [
       "<div>\n",
       "<style scoped>\n",
       "    .dataframe tbody tr th:only-of-type {\n",
       "        vertical-align: middle;\n",
       "    }\n",
       "\n",
       "    .dataframe tbody tr th {\n",
       "        vertical-align: top;\n",
       "    }\n",
       "\n",
       "    .dataframe thead th {\n",
       "        text-align: right;\n",
       "    }\n",
       "</style>\n",
       "<table border=\"1\" class=\"dataframe\">\n",
       "  <thead>\n",
       "    <tr style=\"text-align: right;\">\n",
       "      <th></th>\n",
       "      <th>Date</th>\n",
       "      <th>Subject</th>\n",
       "      <th>Attendance_Status</th>\n",
       "    </tr>\n",
       "    <tr>\n",
       "      <th>Student_ID</th>\n",
       "      <th></th>\n",
       "      <th></th>\n",
       "      <th></th>\n",
       "    </tr>\n",
       "  </thead>\n",
       "  <tbody>\n",
       "    <tr>\n",
       "      <th>S04410</th>\n",
       "      <td>2024-08-06</td>\n",
       "      <td>History</td>\n",
       "      <td>Late</td>\n",
       "    </tr>\n",
       "    <tr>\n",
       "      <th>S03072</th>\n",
       "      <td>2024-09-13</td>\n",
       "      <td>Arabic</td>\n",
       "      <td>PRESENT</td>\n",
       "    </tr>\n",
       "    <tr>\n",
       "      <th>S02812</th>\n",
       "      <td>2025-01-05</td>\n",
       "      <td>English</td>\n",
       "      <td>Absent</td>\n",
       "    </tr>\n",
       "    <tr>\n",
       "      <th>S02492</th>\n",
       "      <td>2024-05-02</td>\n",
       "      <td>History</td>\n",
       "      <td>Late</td>\n",
       "    </tr>\n",
       "    <tr>\n",
       "      <th>S10431</th>\n",
       "      <td>2024-04-29</td>\n",
       "      <td>Arabic</td>\n",
       "      <td>Present</td>\n",
       "    </tr>\n",
       "  </tbody>\n",
       "</table>\n",
       "</div>"
      ],
      "text/plain": [
       "                  Date  Subject Attendance_Status\n",
       "Student_ID                                       \n",
       "S04410      2024-08-06  History              Late\n",
       "S03072      2024-09-13   Arabic          PRESENT \n",
       "S02812      2025-01-05  English            Absent\n",
       "S02492      2024-05-02  History              Late\n",
       "S10431      2024-04-29   Arabic           Present"
      ]
     },
     "metadata": {},
     "output_type": "display_data"
    },
    {
     "name": "stdout",
     "output_type": "stream",
     "text": [
      "____________________________\n",
      "INFO\n",
      "<class 'pandas.core.frame.DataFrame'>\n",
      "Index: 364680 entries, S06592 to S12134\n",
      "Data columns (total 3 columns):\n",
      " #   Column             Non-Null Count   Dtype \n",
      "---  ------             --------------   ----- \n",
      " 0   Date               364680 non-null  object\n",
      " 1   Subject            364680 non-null  object\n",
      " 2   Attendance_Status  364680 non-null  object\n",
      "dtypes: object(3)\n",
      "memory usage: 11.1+ MB\n"
     ]
    },
    {
     "data": {
      "text/plain": [
       "None"
      ]
     },
     "metadata": {},
     "output_type": "display_data"
    },
    {
     "name": "stdout",
     "output_type": "stream",
     "text": [
      "____________________________\n",
      "NULOS\n"
     ]
    },
    {
     "data": {
      "text/plain": [
       "Date                 0.0\n",
       "Subject              0.0\n",
       "Attendance_Status    0.0\n",
       "dtype: float64"
      ]
     },
     "metadata": {},
     "output_type": "display_data"
    },
    {
     "name": "stdout",
     "output_type": "stream",
     "text": [
      "____________________________\n",
      "DUPLICADOS\n"
     ]
    },
    {
     "data": {
      "text/plain": [
       "np.int64(347112)"
      ]
     },
     "metadata": {},
     "output_type": "display_data"
    },
    {
     "name": "stdout",
     "output_type": "stream",
     "text": [
      "____________________________\n",
      "DESCRIBE\n"
     ]
    },
    {
     "data": {
      "text/html": [
       "<div>\n",
       "<style scoped>\n",
       "    .dataframe tbody tr th:only-of-type {\n",
       "        vertical-align: middle;\n",
       "    }\n",
       "\n",
       "    .dataframe tbody tr th {\n",
       "        vertical-align: top;\n",
       "    }\n",
       "\n",
       "    .dataframe thead th {\n",
       "        text-align: right;\n",
       "    }\n",
       "</style>\n",
       "<table border=\"1\" class=\"dataframe\">\n",
       "  <thead>\n",
       "    <tr style=\"text-align: right;\">\n",
       "      <th></th>\n",
       "      <th>count</th>\n",
       "      <th>unique</th>\n",
       "      <th>top</th>\n",
       "      <th>freq</th>\n",
       "    </tr>\n",
       "  </thead>\n",
       "  <tbody>\n",
       "    <tr>\n",
       "      <th>Date</th>\n",
       "      <td>364680</td>\n",
       "      <td>366</td>\n",
       "      <td>2024-12-31</td>\n",
       "      <td>1075</td>\n",
       "    </tr>\n",
       "    <tr>\n",
       "      <th>Subject</th>\n",
       "      <td>364680</td>\n",
       "      <td>6</td>\n",
       "      <td>Math</td>\n",
       "      <td>61241</td>\n",
       "    </tr>\n",
       "    <tr>\n",
       "      <th>Attendance_Status</th>\n",
       "      <td>364680</td>\n",
       "      <td>8</td>\n",
       "      <td>PRESENT</td>\n",
       "      <td>45982</td>\n",
       "    </tr>\n",
       "  </tbody>\n",
       "</table>\n",
       "</div>"
      ],
      "text/plain": [
       "                    count unique         top   freq\n",
       "Date               364680    366  2024-12-31   1075\n",
       "Subject            364680      6        Math  61241\n",
       "Attendance_Status  364680      8    PRESENT   45982"
      ]
     },
     "metadata": {},
     "output_type": "display_data"
    },
    {
     "name": "stdout",
     "output_type": "stream",
     "text": [
      "____________________________\n",
      "DESCRIBE COLUMNAS OBJECT\n"
     ]
    },
    {
     "data": {
      "text/html": [
       "<div>\n",
       "<style scoped>\n",
       "    .dataframe tbody tr th:only-of-type {\n",
       "        vertical-align: middle;\n",
       "    }\n",
       "\n",
       "    .dataframe tbody tr th {\n",
       "        vertical-align: top;\n",
       "    }\n",
       "\n",
       "    .dataframe thead th {\n",
       "        text-align: right;\n",
       "    }\n",
       "</style>\n",
       "<table border=\"1\" class=\"dataframe\">\n",
       "  <thead>\n",
       "    <tr style=\"text-align: right;\">\n",
       "      <th></th>\n",
       "      <th>count</th>\n",
       "      <th>unique</th>\n",
       "      <th>top</th>\n",
       "      <th>freq</th>\n",
       "    </tr>\n",
       "  </thead>\n",
       "  <tbody>\n",
       "    <tr>\n",
       "      <th>Date</th>\n",
       "      <td>364680</td>\n",
       "      <td>366</td>\n",
       "      <td>2024-12-31</td>\n",
       "      <td>1075</td>\n",
       "    </tr>\n",
       "    <tr>\n",
       "      <th>Subject</th>\n",
       "      <td>364680</td>\n",
       "      <td>6</td>\n",
       "      <td>Math</td>\n",
       "      <td>61241</td>\n",
       "    </tr>\n",
       "    <tr>\n",
       "      <th>Attendance_Status</th>\n",
       "      <td>364680</td>\n",
       "      <td>8</td>\n",
       "      <td>PRESENT</td>\n",
       "      <td>45982</td>\n",
       "    </tr>\n",
       "  </tbody>\n",
       "</table>\n",
       "</div>"
      ],
      "text/plain": [
       "                    count unique         top   freq\n",
       "Date               364680    366  2024-12-31   1075\n",
       "Subject            364680      6        Math  61241\n",
       "Attendance_Status  364680      8    PRESENT   45982"
      ]
     },
     "metadata": {},
     "output_type": "display_data"
    },
    {
     "name": "stdout",
     "output_type": "stream",
     "text": [
      "____________________________\n",
      "VALUE COUNTS\n",
      "Date\n",
      "2024-12-31    1075\n",
      "2024-05-05    1073\n",
      "2024-09-06    1070\n",
      "2024-08-06    1068\n",
      "2024-09-22    1068\n",
      "              ... \n",
      "2024-12-25     922\n",
      "2024-05-09     921\n",
      "2024-03-31     919\n",
      "2024-12-07     917\n",
      "2024-04-21     905\n",
      "Name: count, Length: 366, dtype: int64\n",
      "Subject\n",
      "Math         61241\n",
      "Science      60881\n",
      "Arabic       60749\n",
      "English      60684\n",
      "Geography    60640\n",
      "History      60485\n",
      "Name: count, dtype: int64\n",
      "Attendance_Status\n",
      "PRESENT       45982\n",
      "Absent        45751\n",
      "Present       45632\n",
      "Late          45509\n",
      " late         45508\n",
      "absnt         45478\n",
      "left early    45435\n",
      "excused       45385\n",
      "Name: count, dtype: int64\n",
      "____________________________\n",
      "CAMPOS VACÍOS POR COLUMNAS\n",
      "Series([], dtype: int64)\n",
      "____________________________\n"
     ]
    }
   ],
   "source": [
    "#Ver dataframe 'df_attendace'\n",
    "df_att_preliminar =  sp.eda_preliminar(df_attendance)"
   ]
  },
  {
   "cell_type": "code",
   "execution_count": 263,
   "id": "616ca7b0",
   "metadata": {},
   "outputs": [
    {
     "data": {
      "text/html": [
       "<div>\n",
       "<style scoped>\n",
       "    .dataframe tbody tr th:only-of-type {\n",
       "        vertical-align: middle;\n",
       "    }\n",
       "\n",
       "    .dataframe tbody tr th {\n",
       "        vertical-align: top;\n",
       "    }\n",
       "\n",
       "    .dataframe thead th {\n",
       "        text-align: right;\n",
       "    }\n",
       "</style>\n",
       "<table border=\"1\" class=\"dataframe\">\n",
       "  <thead>\n",
       "    <tr style=\"text-align: right;\">\n",
       "      <th></th>\n",
       "      <th>date</th>\n",
       "      <th>subject</th>\n",
       "      <th>attendance_status</th>\n",
       "    </tr>\n",
       "    <tr>\n",
       "      <th>student_id</th>\n",
       "      <th></th>\n",
       "      <th></th>\n",
       "      <th></th>\n",
       "    </tr>\n",
       "  </thead>\n",
       "  <tbody>\n",
       "    <tr>\n",
       "      <th>s09015</th>\n",
       "      <td>2024-10-03</td>\n",
       "      <td>arabic</td>\n",
       "      <td>absent</td>\n",
       "    </tr>\n",
       "    <tr>\n",
       "      <th>s01590</th>\n",
       "      <td>2024-04-23</td>\n",
       "      <td>geography</td>\n",
       "      <td>excused</td>\n",
       "    </tr>\n",
       "    <tr>\n",
       "      <th>s10092</th>\n",
       "      <td>2024-09-11</td>\n",
       "      <td>history</td>\n",
       "      <td>left early</td>\n",
       "    </tr>\n",
       "    <tr>\n",
       "      <th>s09067</th>\n",
       "      <td>2024-11-26</td>\n",
       "      <td>arabic</td>\n",
       "      <td>late</td>\n",
       "    </tr>\n",
       "    <tr>\n",
       "      <th>s11121</th>\n",
       "      <td>2024-04-19</td>\n",
       "      <td>geography</td>\n",
       "      <td>absent</td>\n",
       "    </tr>\n",
       "    <tr>\n",
       "      <th>s09097</th>\n",
       "      <td>2024-04-02</td>\n",
       "      <td>geography</td>\n",
       "      <td>late</td>\n",
       "    </tr>\n",
       "    <tr>\n",
       "      <th>s00471</th>\n",
       "      <td>2025-02-19</td>\n",
       "      <td>science</td>\n",
       "      <td>present</td>\n",
       "    </tr>\n",
       "    <tr>\n",
       "      <th>s01564</th>\n",
       "      <td>2024-07-13</td>\n",
       "      <td>math</td>\n",
       "      <td>present</td>\n",
       "    </tr>\n",
       "    <tr>\n",
       "      <th>s00383</th>\n",
       "      <td>2024-05-10</td>\n",
       "      <td>math</td>\n",
       "      <td>absent</td>\n",
       "    </tr>\n",
       "    <tr>\n",
       "      <th>s03255</th>\n",
       "      <td>2025-02-12</td>\n",
       "      <td>history</td>\n",
       "      <td>late</td>\n",
       "    </tr>\n",
       "  </tbody>\n",
       "</table>\n",
       "</div>"
      ],
      "text/plain": [
       "                  date    subject attendance_status\n",
       "student_id                                         \n",
       "s09015      2024-10-03     arabic            absent\n",
       "s01590      2024-04-23  geography           excused\n",
       "s10092      2024-09-11    history        left early\n",
       "s09067      2024-11-26     arabic              late\n",
       "s11121      2024-04-19  geography            absent\n",
       "s09097      2024-04-02  geography              late\n",
       "s00471      2025-02-19    science           present\n",
       "s01564      2024-07-13       math           present\n",
       "s00383      2024-05-10       math            absent\n",
       "s03255      2025-02-12    history              late"
      ]
     },
     "execution_count": 263,
     "metadata": {},
     "output_type": "execute_result"
    }
   ],
   "source": [
    "#Quitar los espacios y pasar a misnuculas las tabla\n",
    "df_attendance = sp.valores_a_minus(df_attendance)\n",
    "df_attendance.sample(10)"
   ]
  },
  {
   "cell_type": "code",
   "execution_count": 264,
   "id": "85d81c78",
   "metadata": {},
   "outputs": [
    {
     "data": {
      "text/plain": [
       "attendance_status\n",
       "present       91614\n",
       "late          91017\n",
       "absent        45751\n",
       "absnt         45478\n",
       "left early    45435\n",
       "excused       45385\n",
       "Name: count, dtype: int64"
      ]
     },
     "execution_count": 264,
     "metadata": {},
     "output_type": "execute_result"
    }
   ],
   "source": [
    "#Ver en la columna attendance_status que valores tiene.\n",
    "conteo = df_attendance['attendance_status'].value_counts()\n",
    "conteo"
   ]
  },
  {
   "cell_type": "code",
   "execution_count": 265,
   "id": "271a7f8e",
   "metadata": {},
   "outputs": [
    {
     "data": {
      "text/plain": [
       "attendance_status\n",
       "present       91614\n",
       "absent        91229\n",
       "late          91017\n",
       "left early    45435\n",
       "excused       45385\n",
       "Name: count, dtype: int64"
      ]
     },
     "execution_count": 265,
     "metadata": {},
     "output_type": "execute_result"
    }
   ],
   "source": [
    "#Corregimos el valor 'absnt' por 'absent' y comprobamos los resultados de la columna\n",
    "df_attendance['attendance_status'] = df_attendance['attendance_status'].replace('absnt','absent')\n",
    "\n",
    "conteo = df_attendance['attendance_status'].value_counts()\n",
    "conteo\n",
    "#Ya tenemos los valores de esta columna corregidos."
   ]
  },
  {
   "cell_type": "code",
   "execution_count": 266,
   "id": "0d732a2f",
   "metadata": {},
   "outputs": [],
   "source": [
    "#Cambiar nombre de columna 'date' para hacerla mas descriptiva y 'attendace_status' para hacerla mas corta.\n",
    "df_attendance.rename(columns={'date':'att_date', 'attendance_status':'att_status'}, inplace= True)"
   ]
  },
  {
   "cell_type": "code",
   "execution_count": 267,
   "id": "a0b48bc2",
   "metadata": {},
   "outputs": [
    {
     "name": "stdout",
     "output_type": "stream",
     "text": [
      "datetime64[ns]\n"
     ]
    }
   ],
   "source": [
    "# Como la columna 'date' es de tipo 'Object' vamos a pasarla a tipo Datetime y comprobamos el tipo de dato que sea correcto\n",
    "df_attendance['att_date'] = pd.to_datetime(df_attendance['att_date'], errors = 'coerce')\n",
    "print(df_attendance['att_date'].dtype)"
   ]
  },
  {
   "cell_type": "code",
   "execution_count": 268,
   "id": "97ef9c30",
   "metadata": {},
   "outputs": [
    {
     "name": "stdout",
     "output_type": "stream",
     "text": [
      "att_date      datetime64[ns]\n",
      "subject               object\n",
      "att_status            object\n",
      "dtype: object\n"
     ]
    }
   ],
   "source": [
    "#Comprobamos el resto de columnas que sean de tipo correcto.\n",
    "print(df_attendance.dtypes)"
   ]
  },
  {
   "cell_type": "code",
   "execution_count": 269,
   "id": "2f6b28c3",
   "metadata": {},
   "outputs": [
    {
     "data": {
      "text/html": [
       "<div>\n",
       "<style scoped>\n",
       "    .dataframe tbody tr th:only-of-type {\n",
       "        vertical-align: middle;\n",
       "    }\n",
       "\n",
       "    .dataframe tbody tr th {\n",
       "        vertical-align: top;\n",
       "    }\n",
       "\n",
       "    .dataframe thead th {\n",
       "        text-align: right;\n",
       "    }\n",
       "</style>\n",
       "<table border=\"1\" class=\"dataframe\">\n",
       "  <thead>\n",
       "    <tr style=\"text-align: right;\">\n",
       "      <th></th>\n",
       "      <th>Subject</th>\n",
       "      <th>Assignment_Name</th>\n",
       "      <th>Due_Date</th>\n",
       "      <th>Status</th>\n",
       "      <th>Grade_Feedback</th>\n",
       "      <th>Guardian_Signature</th>\n",
       "    </tr>\n",
       "    <tr>\n",
       "      <th>Student_ID</th>\n",
       "      <th></th>\n",
       "      <th></th>\n",
       "      <th></th>\n",
       "      <th></th>\n",
       "      <th></th>\n",
       "      <th></th>\n",
       "    </tr>\n",
       "  </thead>\n",
       "  <tbody>\n",
       "    <tr>\n",
       "      <th>S00716</th>\n",
       "      <td>Geography</td>\n",
       "      <td>Table hit yard.</td>\n",
       "      <td>2024-11-24</td>\n",
       "      <td>❌</td>\n",
       "      <td>D</td>\n",
       "      <td>Yes</td>\n",
       "    </tr>\n",
       "    <tr>\n",
       "      <th>S02853</th>\n",
       "      <td>Arabic</td>\n",
       "      <td>Century stand ready.</td>\n",
       "      <td>2025-01-30</td>\n",
       "      <td>not done</td>\n",
       "      <td>D</td>\n",
       "      <td>Yes</td>\n",
       "    </tr>\n",
       "    <tr>\n",
       "      <th>S07727</th>\n",
       "      <td>Math</td>\n",
       "      <td>Alone edge.</td>\n",
       "      <td>2024-11-01</td>\n",
       "      <td>✅</td>\n",
       "      <td>A</td>\n",
       "      <td>Yes</td>\n",
       "    </tr>\n",
       "    <tr>\n",
       "      <th>S09827</th>\n",
       "      <td>Geography</td>\n",
       "      <td>Leader author.</td>\n",
       "      <td>09/13/2024</td>\n",
       "      <td>pending</td>\n",
       "      <td>A</td>\n",
       "      <td></td>\n",
       "    </tr>\n",
       "    <tr>\n",
       "      <th>S09831</th>\n",
       "      <td>Geography</td>\n",
       "      <td>Such develop so.</td>\n",
       "      <td>12/18/2024</td>\n",
       "      <td>not done</td>\n",
       "      <td>C</td>\n",
       "      <td>No</td>\n",
       "    </tr>\n",
       "  </tbody>\n",
       "</table>\n",
       "</div>"
      ],
      "text/plain": [
       "              Subject       Assignment_Name    Due_Date    Status  \\\n",
       "Student_ID                                                          \n",
       "S00716      Geography       Table hit yard.  2024-11-24         ❌   \n",
       "S02853         Arabic  Century stand ready.  2025-01-30  not done   \n",
       "S07727           Math           Alone edge.  2024-11-01         ✅   \n",
       "S09827      Geography        Leader author.  09/13/2024   pending   \n",
       "S09831      Geography      Such develop so.  12/18/2024  not done   \n",
       "\n",
       "           Grade_Feedback Guardian_Signature  \n",
       "Student_ID                                    \n",
       "S00716                  D                Yes  \n",
       "S02853                  D                Yes  \n",
       "S07727                  A                Yes  \n",
       "S09827                  A                     \n",
       "S09831                  C                 No  "
      ]
     },
     "metadata": {},
     "output_type": "display_data"
    },
    {
     "name": "stdout",
     "output_type": "stream",
     "text": [
      "____________________________\n",
      "INFO\n",
      "<class 'pandas.core.frame.DataFrame'>\n",
      "Index: 60780 entries, S12002 to S08589\n",
      "Data columns (total 6 columns):\n",
      " #   Column              Non-Null Count  Dtype \n",
      "---  ------              --------------  ----- \n",
      " 0   Subject             60780 non-null  object\n",
      " 1   Assignment_Name     60780 non-null  object\n",
      " 2   Due_Date            60780 non-null  object\n",
      " 3   Status              60780 non-null  object\n",
      " 4   Grade_Feedback      60780 non-null  object\n",
      " 5   Guardian_Signature  60780 non-null  object\n",
      "dtypes: object(6)\n",
      "memory usage: 3.2+ MB\n"
     ]
    },
    {
     "data": {
      "text/plain": [
       "None"
      ]
     },
     "metadata": {},
     "output_type": "display_data"
    },
    {
     "name": "stdout",
     "output_type": "stream",
     "text": [
      "____________________________\n",
      "NULOS\n"
     ]
    },
    {
     "data": {
      "text/plain": [
       "Subject               0.0\n",
       "Assignment_Name       0.0\n",
       "Due_Date              0.0\n",
       "Status                0.0\n",
       "Grade_Feedback        0.0\n",
       "Guardian_Signature    0.0\n",
       "dtype: float64"
      ]
     },
     "metadata": {},
     "output_type": "display_data"
    },
    {
     "name": "stdout",
     "output_type": "stream",
     "text": [
      "____________________________\n",
      "DUPLICADOS\n"
     ]
    },
    {
     "data": {
      "text/plain": [
       "np.int64(0)"
      ]
     },
     "metadata": {},
     "output_type": "display_data"
    },
    {
     "name": "stdout",
     "output_type": "stream",
     "text": [
      "____________________________\n",
      "DESCRIBE\n"
     ]
    },
    {
     "data": {
      "text/html": [
       "<div>\n",
       "<style scoped>\n",
       "    .dataframe tbody tr th:only-of-type {\n",
       "        vertical-align: middle;\n",
       "    }\n",
       "\n",
       "    .dataframe tbody tr th {\n",
       "        vertical-align: top;\n",
       "    }\n",
       "\n",
       "    .dataframe thead th {\n",
       "        text-align: right;\n",
       "    }\n",
       "</style>\n",
       "<table border=\"1\" class=\"dataframe\">\n",
       "  <thead>\n",
       "    <tr style=\"text-align: right;\">\n",
       "      <th></th>\n",
       "      <th>count</th>\n",
       "      <th>unique</th>\n",
       "      <th>top</th>\n",
       "      <th>freq</th>\n",
       "    </tr>\n",
       "  </thead>\n",
       "  <tbody>\n",
       "    <tr>\n",
       "      <th>Subject</th>\n",
       "      <td>60780</td>\n",
       "      <td>6</td>\n",
       "      <td>English</td>\n",
       "      <td>10209</td>\n",
       "    </tr>\n",
       "    <tr>\n",
       "      <th>Assignment_Name</th>\n",
       "      <td>60780</td>\n",
       "      <td>56065</td>\n",
       "      <td>Also.</td>\n",
       "      <td>15</td>\n",
       "    </tr>\n",
       "    <tr>\n",
       "      <th>Due_Date</th>\n",
       "      <td>60780</td>\n",
       "      <td>366</td>\n",
       "      <td>2025-01-23</td>\n",
       "      <td>315</td>\n",
       "    </tr>\n",
       "    <tr>\n",
       "      <th>Status</th>\n",
       "      <td>60780</td>\n",
       "      <td>6</td>\n",
       "      <td>Done</td>\n",
       "      <td>10278</td>\n",
       "    </tr>\n",
       "    <tr>\n",
       "      <th>Grade_Feedback</th>\n",
       "      <td>60780</td>\n",
       "      <td>8</td>\n",
       "      <td>A+</td>\n",
       "      <td>7709</td>\n",
       "    </tr>\n",
       "    <tr>\n",
       "      <th>Guardian_Signature</th>\n",
       "      <td>60780</td>\n",
       "      <td>3</td>\n",
       "      <td>No</td>\n",
       "      <td>20372</td>\n",
       "    </tr>\n",
       "  </tbody>\n",
       "</table>\n",
       "</div>"
      ],
      "text/plain": [
       "                    count unique         top   freq\n",
       "Subject             60780      6     English  10209\n",
       "Assignment_Name     60780  56065       Also.     15\n",
       "Due_Date            60780    366  2025-01-23    315\n",
       "Status              60780      6       Done   10278\n",
       "Grade_Feedback      60780      8          A+   7709\n",
       "Guardian_Signature  60780      3          No  20372"
      ]
     },
     "metadata": {},
     "output_type": "display_data"
    },
    {
     "name": "stdout",
     "output_type": "stream",
     "text": [
      "____________________________\n",
      "DESCRIBE COLUMNAS OBJECT\n"
     ]
    },
    {
     "data": {
      "text/html": [
       "<div>\n",
       "<style scoped>\n",
       "    .dataframe tbody tr th:only-of-type {\n",
       "        vertical-align: middle;\n",
       "    }\n",
       "\n",
       "    .dataframe tbody tr th {\n",
       "        vertical-align: top;\n",
       "    }\n",
       "\n",
       "    .dataframe thead th {\n",
       "        text-align: right;\n",
       "    }\n",
       "</style>\n",
       "<table border=\"1\" class=\"dataframe\">\n",
       "  <thead>\n",
       "    <tr style=\"text-align: right;\">\n",
       "      <th></th>\n",
       "      <th>count</th>\n",
       "      <th>unique</th>\n",
       "      <th>top</th>\n",
       "      <th>freq</th>\n",
       "    </tr>\n",
       "  </thead>\n",
       "  <tbody>\n",
       "    <tr>\n",
       "      <th>Subject</th>\n",
       "      <td>60780</td>\n",
       "      <td>6</td>\n",
       "      <td>English</td>\n",
       "      <td>10209</td>\n",
       "    </tr>\n",
       "    <tr>\n",
       "      <th>Assignment_Name</th>\n",
       "      <td>60780</td>\n",
       "      <td>56065</td>\n",
       "      <td>Also.</td>\n",
       "      <td>15</td>\n",
       "    </tr>\n",
       "    <tr>\n",
       "      <th>Due_Date</th>\n",
       "      <td>60780</td>\n",
       "      <td>366</td>\n",
       "      <td>2025-01-23</td>\n",
       "      <td>315</td>\n",
       "    </tr>\n",
       "    <tr>\n",
       "      <th>Status</th>\n",
       "      <td>60780</td>\n",
       "      <td>6</td>\n",
       "      <td>Done</td>\n",
       "      <td>10278</td>\n",
       "    </tr>\n",
       "    <tr>\n",
       "      <th>Grade_Feedback</th>\n",
       "      <td>60780</td>\n",
       "      <td>8</td>\n",
       "      <td>A+</td>\n",
       "      <td>7709</td>\n",
       "    </tr>\n",
       "    <tr>\n",
       "      <th>Guardian_Signature</th>\n",
       "      <td>60780</td>\n",
       "      <td>3</td>\n",
       "      <td>No</td>\n",
       "      <td>20372</td>\n",
       "    </tr>\n",
       "  </tbody>\n",
       "</table>\n",
       "</div>"
      ],
      "text/plain": [
       "                    count unique         top   freq\n",
       "Subject             60780      6     English  10209\n",
       "Assignment_Name     60780  56065       Also.     15\n",
       "Due_Date            60780    366  2025-01-23    315\n",
       "Status              60780      6       Done   10278\n",
       "Grade_Feedback      60780      8          A+   7709\n",
       "Guardian_Signature  60780      3          No  20372"
      ]
     },
     "metadata": {},
     "output_type": "display_data"
    },
    {
     "name": "stdout",
     "output_type": "stream",
     "text": [
      "____________________________\n",
      "VALUE COUNTS\n",
      "Subject\n",
      "English      10209\n",
      "Geography    10179\n",
      "Science      10112\n",
      "History      10110\n",
      "Arabic       10106\n",
      "Math         10064\n",
      "Name: count, dtype: int64\n",
      "Assignment_Name\n",
      "Also.                      15\n",
      "Term.                      15\n",
      "Understand.                13\n",
      "Not.                       13\n",
      "Eye.                       12\n",
      "                           ..\n",
      "Effect job amount.          1\n",
      "Study indicate fight.       1\n",
      "Reach whose investment.     1\n",
      "Suggest figure.             1\n",
      "Involve determine.          1\n",
      "Name: count, Length: 56065, dtype: int64\n",
      "Due_Date\n",
      "2025-01-23    315\n",
      "2025-03-02    302\n",
      "2024-11-06    301\n",
      "2024-11-08    300\n",
      "2024-12-25    299\n",
      "             ... \n",
      "11/04/2024     52\n",
      "10/13/2024     51\n",
      "12/21/2024     50\n",
      "11/22/2024     50\n",
      "03/01/2025     46\n",
      "Name: count, Length: 366, dtype: int64\n",
      "Status\n",
      " Done       10278\n",
      "not done    10234\n",
      "❌           10151\n",
      "✔           10090\n",
      "pending     10014\n",
      "✅           10013\n",
      "Name: count, dtype: int64\n",
      "Grade_Feedback\n",
      "A+    7709\n",
      "B-    7639\n",
      "D     7631\n",
      "B     7591\n",
      "F     7586\n",
      "C     7585\n",
      "A     7533\n",
      "C-    7506\n",
      "Name: count, dtype: int64\n",
      "Guardian_Signature\n",
      "No     20372\n",
      "Yes    20348\n",
      "       20060\n",
      "Name: count, dtype: int64\n",
      "____________________________\n",
      "CAMPOS VACÍOS POR COLUMNAS\n",
      "Series([], dtype: int64)\n",
      "____________________________\n"
     ]
    }
   ],
   "source": [
    "#Ver dataframe 'df_homework'\n",
    "df_hw_preliminar =  sp.eda_preliminar(df_homework)\n",
    "df_hw_preliminar"
   ]
  },
  {
   "cell_type": "code",
   "execution_count": 270,
   "id": "e31cb3d5",
   "metadata": {},
   "outputs": [
    {
     "data": {
      "text/html": [
       "<div>\n",
       "<style scoped>\n",
       "    .dataframe tbody tr th:only-of-type {\n",
       "        vertical-align: middle;\n",
       "    }\n",
       "\n",
       "    .dataframe tbody tr th {\n",
       "        vertical-align: top;\n",
       "    }\n",
       "\n",
       "    .dataframe thead th {\n",
       "        text-align: right;\n",
       "    }\n",
       "</style>\n",
       "<table border=\"1\" class=\"dataframe\">\n",
       "  <thead>\n",
       "    <tr style=\"text-align: right;\">\n",
       "      <th></th>\n",
       "      <th>subject</th>\n",
       "      <th>assignment_name</th>\n",
       "      <th>due_date</th>\n",
       "      <th>status</th>\n",
       "      <th>grade_feedback</th>\n",
       "      <th>guardian_signature</th>\n",
       "    </tr>\n",
       "    <tr>\n",
       "      <th>student_id</th>\n",
       "      <th></th>\n",
       "      <th></th>\n",
       "      <th></th>\n",
       "      <th></th>\n",
       "      <th></th>\n",
       "      <th></th>\n",
       "    </tr>\n",
       "  </thead>\n",
       "  <tbody>\n",
       "    <tr>\n",
       "      <th>s10872</th>\n",
       "      <td>english</td>\n",
       "      <td>majority involve yes.</td>\n",
       "      <td>2024-10-10</td>\n",
       "      <td>✔</td>\n",
       "      <td>b-</td>\n",
       "      <td>yes</td>\n",
       "    </tr>\n",
       "    <tr>\n",
       "      <th>s09657</th>\n",
       "      <td>math</td>\n",
       "      <td>end.</td>\n",
       "      <td>2024-09-21</td>\n",
       "      <td>✔</td>\n",
       "      <td>b-</td>\n",
       "      <td></td>\n",
       "    </tr>\n",
       "    <tr>\n",
       "      <th>s06163</th>\n",
       "      <td>history</td>\n",
       "      <td>huge discover.</td>\n",
       "      <td>2024-11-19</td>\n",
       "      <td>✔</td>\n",
       "      <td>c</td>\n",
       "      <td>yes</td>\n",
       "    </tr>\n",
       "    <tr>\n",
       "      <th>s01433</th>\n",
       "      <td>math</td>\n",
       "      <td>once measure growth.</td>\n",
       "      <td>2024-11-01</td>\n",
       "      <td>pending</td>\n",
       "      <td>c</td>\n",
       "      <td></td>\n",
       "    </tr>\n",
       "    <tr>\n",
       "      <th>s11064</th>\n",
       "      <td>history</td>\n",
       "      <td>family specific list.</td>\n",
       "      <td>2024-12-31</td>\n",
       "      <td>✔</td>\n",
       "      <td>c-</td>\n",
       "      <td>yes</td>\n",
       "    </tr>\n",
       "    <tr>\n",
       "      <th>s03290</th>\n",
       "      <td>arabic</td>\n",
       "      <td>word sometimes.</td>\n",
       "      <td>2025-02-11</td>\n",
       "      <td>✔</td>\n",
       "      <td>d</td>\n",
       "      <td>yes</td>\n",
       "    </tr>\n",
       "    <tr>\n",
       "      <th>s08614</th>\n",
       "      <td>geography</td>\n",
       "      <td>stage respond.</td>\n",
       "      <td>2024-12-14</td>\n",
       "      <td>❌</td>\n",
       "      <td>c</td>\n",
       "      <td>no</td>\n",
       "    </tr>\n",
       "    <tr>\n",
       "      <th>s05856</th>\n",
       "      <td>arabic</td>\n",
       "      <td>sometimes tend military.</td>\n",
       "      <td>2025-01-22</td>\n",
       "      <td>not done</td>\n",
       "      <td>d</td>\n",
       "      <td>no</td>\n",
       "    </tr>\n",
       "    <tr>\n",
       "      <th>s11150</th>\n",
       "      <td>science</td>\n",
       "      <td>start join.</td>\n",
       "      <td>02/24/2025</td>\n",
       "      <td>✔</td>\n",
       "      <td>c</td>\n",
       "      <td>no</td>\n",
       "    </tr>\n",
       "    <tr>\n",
       "      <th>s08959</th>\n",
       "      <td>english</td>\n",
       "      <td>structure test product.</td>\n",
       "      <td>2024-12-29</td>\n",
       "      <td>not done</td>\n",
       "      <td>c-</td>\n",
       "      <td>yes</td>\n",
       "    </tr>\n",
       "  </tbody>\n",
       "</table>\n",
       "</div>"
      ],
      "text/plain": [
       "              subject           assignment_name    due_date    status  \\\n",
       "student_id                                                              \n",
       "s10872        english     majority involve yes.  2024-10-10         ✔   \n",
       "s09657           math                      end.  2024-09-21         ✔   \n",
       "s06163        history            huge discover.  2024-11-19         ✔   \n",
       "s01433           math      once measure growth.  2024-11-01   pending   \n",
       "s11064        history     family specific list.  2024-12-31         ✔   \n",
       "s03290         arabic           word sometimes.  2025-02-11         ✔   \n",
       "s08614      geography            stage respond.  2024-12-14         ❌   \n",
       "s05856         arabic  sometimes tend military.  2025-01-22  not done   \n",
       "s11150        science               start join.  02/24/2025         ✔   \n",
       "s08959        english   structure test product.  2024-12-29  not done   \n",
       "\n",
       "           grade_feedback guardian_signature  \n",
       "student_id                                    \n",
       "s10872                 b-                yes  \n",
       "s09657                 b-                     \n",
       "s06163                  c                yes  \n",
       "s01433                  c                     \n",
       "s11064                 c-                yes  \n",
       "s03290                  d                yes  \n",
       "s08614                  c                 no  \n",
       "s05856                  d                 no  \n",
       "s11150                  c                 no  \n",
       "s08959                 c-                yes  "
      ]
     },
     "execution_count": 270,
     "metadata": {},
     "output_type": "execute_result"
    }
   ],
   "source": [
    "#Pasar dataframe a minusculas\n",
    "df_homework = sp.valores_a_minus(df_homework)\n",
    "df_homework.sample(10)"
   ]
  },
  {
   "cell_type": "code",
   "execution_count": 271,
   "id": "7d7a36ff",
   "metadata": {},
   "outputs": [
    {
     "name": "stdout",
     "output_type": "stream",
     "text": [
      "<class 'pandas.core.frame.DataFrame'>\n",
      "Index: 60780 entries, s12002 to s08589\n",
      "Data columns (total 6 columns):\n",
      " #   Column              Non-Null Count  Dtype         \n",
      "---  ------              --------------  -----         \n",
      " 0   subject             60780 non-null  object        \n",
      " 1   assignment_name     60780 non-null  object        \n",
      " 2   due_date            48422 non-null  datetime64[ns]\n",
      " 3   status              60780 non-null  object        \n",
      " 4   grade_feedback      60780 non-null  object        \n",
      " 5   guardian_signature  60780 non-null  object        \n",
      "dtypes: datetime64[ns](1), object(5)\n",
      "memory usage: 3.2+ MB\n"
     ]
    }
   ],
   "source": [
    "#La columna 'due_date' tiene valores de fecha con diferentes formatos.\n",
    "# Hay que pasarlo a un formato y asignalo como de tipo datetime.\n",
    "\n",
    "df_homework['due_date'] = pd.to_datetime(df_homework['due_date'], errors='coerce')\n",
    "df_homework.info()\n"
   ]
  },
  {
   "cell_type": "code",
   "execution_count": 272,
   "id": "8d4b4731",
   "metadata": {},
   "outputs": [
    {
     "data": {
      "text/html": [
       "<div>\n",
       "<style scoped>\n",
       "    .dataframe tbody tr th:only-of-type {\n",
       "        vertical-align: middle;\n",
       "    }\n",
       "\n",
       "    .dataframe tbody tr th {\n",
       "        vertical-align: top;\n",
       "    }\n",
       "\n",
       "    .dataframe thead th {\n",
       "        text-align: right;\n",
       "    }\n",
       "</style>\n",
       "<table border=\"1\" class=\"dataframe\">\n",
       "  <thead>\n",
       "    <tr style=\"text-align: right;\">\n",
       "      <th></th>\n",
       "      <th>subject</th>\n",
       "      <th>assignment_name</th>\n",
       "      <th>due_date</th>\n",
       "      <th>status</th>\n",
       "      <th>grade_feedback</th>\n",
       "      <th>guardian_signature</th>\n",
       "    </tr>\n",
       "    <tr>\n",
       "      <th>student_id</th>\n",
       "      <th></th>\n",
       "      <th></th>\n",
       "      <th></th>\n",
       "      <th></th>\n",
       "      <th></th>\n",
       "      <th></th>\n",
       "    </tr>\n",
       "  </thead>\n",
       "  <tbody>\n",
       "    <tr>\n",
       "      <th>s01326</th>\n",
       "      <td>science</td>\n",
       "      <td>in all group.</td>\n",
       "      <td>2025-01-14</td>\n",
       "      <td>done</td>\n",
       "      <td>b-</td>\n",
       "      <td>yes</td>\n",
       "    </tr>\n",
       "    <tr>\n",
       "      <th>s01044</th>\n",
       "      <td>english</td>\n",
       "      <td>little reflect civil against.</td>\n",
       "      <td>2025-01-14</td>\n",
       "      <td>done</td>\n",
       "      <td>d</td>\n",
       "      <td></td>\n",
       "    </tr>\n",
       "    <tr>\n",
       "      <th>s06500</th>\n",
       "      <td>english</td>\n",
       "      <td>method prevent conference.</td>\n",
       "      <td>2024-10-14</td>\n",
       "      <td>not done</td>\n",
       "      <td>a</td>\n",
       "      <td>no</td>\n",
       "    </tr>\n",
       "    <tr>\n",
       "      <th>s00586</th>\n",
       "      <td>math</td>\n",
       "      <td>form stop responsibility.</td>\n",
       "      <td>NaT</td>\n",
       "      <td>not done</td>\n",
       "      <td>c</td>\n",
       "      <td>no</td>\n",
       "    </tr>\n",
       "    <tr>\n",
       "      <th>s09748</th>\n",
       "      <td>history</td>\n",
       "      <td>find east.</td>\n",
       "      <td>2025-03-05</td>\n",
       "      <td>❌</td>\n",
       "      <td>c-</td>\n",
       "      <td>yes</td>\n",
       "    </tr>\n",
       "    <tr>\n",
       "      <th>s01893</th>\n",
       "      <td>arabic</td>\n",
       "      <td>democrat ability lead.</td>\n",
       "      <td>2025-01-16</td>\n",
       "      <td>✔</td>\n",
       "      <td>b</td>\n",
       "      <td></td>\n",
       "    </tr>\n",
       "    <tr>\n",
       "      <th>s00396</th>\n",
       "      <td>arabic</td>\n",
       "      <td>case story huge.</td>\n",
       "      <td>NaT</td>\n",
       "      <td>✔</td>\n",
       "      <td>b-</td>\n",
       "      <td>yes</td>\n",
       "    </tr>\n",
       "    <tr>\n",
       "      <th>s06029</th>\n",
       "      <td>arabic</td>\n",
       "      <td>bring white fall.</td>\n",
       "      <td>2024-10-27</td>\n",
       "      <td>✅</td>\n",
       "      <td>a+</td>\n",
       "      <td>no</td>\n",
       "    </tr>\n",
       "    <tr>\n",
       "      <th>s01612</th>\n",
       "      <td>geography</td>\n",
       "      <td>itself center.</td>\n",
       "      <td>2024-10-30</td>\n",
       "      <td>pending</td>\n",
       "      <td>b</td>\n",
       "      <td>yes</td>\n",
       "    </tr>\n",
       "    <tr>\n",
       "      <th>s11109</th>\n",
       "      <td>history</td>\n",
       "      <td>congress off rock.</td>\n",
       "      <td>NaT</td>\n",
       "      <td>not done</td>\n",
       "      <td>a+</td>\n",
       "      <td>yes</td>\n",
       "    </tr>\n",
       "  </tbody>\n",
       "</table>\n",
       "</div>"
      ],
      "text/plain": [
       "              subject                assignment_name   due_date    status  \\\n",
       "student_id                                                                  \n",
       "s01326        science                  in all group. 2025-01-14      done   \n",
       "s01044        english  little reflect civil against. 2025-01-14      done   \n",
       "s06500        english     method prevent conference. 2024-10-14  not done   \n",
       "s00586           math      form stop responsibility.        NaT  not done   \n",
       "s09748        history                     find east. 2025-03-05         ❌   \n",
       "s01893         arabic         democrat ability lead. 2025-01-16         ✔   \n",
       "s00396         arabic               case story huge.        NaT         ✔   \n",
       "s06029         arabic              bring white fall. 2024-10-27         ✅   \n",
       "s01612      geography                 itself center. 2024-10-30   pending   \n",
       "s11109        history             congress off rock.        NaT  not done   \n",
       "\n",
       "           grade_feedback guardian_signature  \n",
       "student_id                                    \n",
       "s01326                 b-                yes  \n",
       "s01044                  d                     \n",
       "s06500                  a                 no  \n",
       "s00586                  c                 no  \n",
       "s09748                 c-                yes  \n",
       "s01893                  b                     \n",
       "s00396                 b-                yes  \n",
       "s06029                 a+                 no  \n",
       "s01612                  b                yes  \n",
       "s11109                 a+                yes  "
      ]
     },
     "execution_count": 272,
     "metadata": {},
     "output_type": "execute_result"
    }
   ],
   "source": [
    "df_homework.sample(10)"
   ]
  },
  {
   "cell_type": "code",
   "execution_count": 273,
   "id": "9f81ecbc",
   "metadata": {},
   "outputs": [
    {
     "name": "stdout",
     "output_type": "stream",
     "text": [
      "(subject                   0\n",
      "assignment_name           0\n",
      "due_date              12358\n",
      "status                    0\n",
      "grade_feedback            0\n",
      "guardian_signature        0\n",
      "dtype: int64, subject                0.00\n",
      "assignment_name        0.00\n",
      "due_date              20.33\n",
      "status                 0.00\n",
      "grade_feedback         0.00\n",
      "guardian_signature     0.00\n",
      "dtype: float64)\n"
     ]
    }
   ],
   "source": [
    "#Sacar nulos de la columna 'due_date' mediante funcion de sp.limpieza.py\n",
    "nulos = sp.nulos_num_porcentaje(df_homework)\n",
    "print(nulos)"
   ]
  },
  {
   "cell_type": "code",
   "execution_count": 274,
   "id": "a4d404a8",
   "metadata": {},
   "outputs": [
    {
     "data": {
      "text/html": [
       "<div>\n",
       "<style scoped>\n",
       "    .dataframe tbody tr th:only-of-type {\n",
       "        vertical-align: middle;\n",
       "    }\n",
       "\n",
       "    .dataframe tbody tr th {\n",
       "        vertical-align: top;\n",
       "    }\n",
       "\n",
       "    .dataframe thead th {\n",
       "        text-align: right;\n",
       "    }\n",
       "</style>\n",
       "<table border=\"1\" class=\"dataframe\">\n",
       "  <thead>\n",
       "    <tr style=\"text-align: right;\">\n",
       "      <th></th>\n",
       "      <th>Column</th>\n",
       "      <th>Datatype</th>\n",
       "      <th>NullsCount</th>\n",
       "      <th>Nulls%</th>\n",
       "    </tr>\n",
       "  </thead>\n",
       "  <tbody>\n",
       "    <tr>\n",
       "      <th>0</th>\n",
       "      <td>due_date</td>\n",
       "      <td>datetime64[ns]</td>\n",
       "      <td>12358</td>\n",
       "      <td>20.332346</td>\n",
       "    </tr>\n",
       "  </tbody>\n",
       "</table>\n",
       "</div>"
      ],
      "text/plain": [
       "     Column        Datatype  NullsCount     Nulls%\n",
       "0  due_date  datetime64[ns]       12358  20.332346"
      ]
     },
     "metadata": {},
     "output_type": "display_data"
    },
    {
     "name": "stdout",
     "output_type": "stream",
     "text": [
      "['due_date']\n"
     ]
    }
   ],
   "source": [
    "#🔴🔴PUEDE QUE ESTA FUNCION NO SEA NECESARIA AQUI,PROBARLA EN OTRO DATAFRAME\n",
    "#Comprobamos mediante esta funcion tambien como la columna 'due_date' rebasa el umbral 10. \n",
    "\n",
    "high_nulls_colmn, low_nulls_colmn = sp.nulos_umbral(df_homework)\n",
    "print(high_nulls_colmn)"
   ]
  },
  {
   "cell_type": "code",
   "execution_count": 275,
   "id": "45c696d1",
   "metadata": {},
   "outputs": [
    {
     "data": {
      "image/png": "[encoded data removed]",
      "text/plain": [
       "<Figure size 1000x500 with 1 Axes>"
      ]
     },
     "metadata": {},
     "output_type": "display_data"
    }
   ],
   "source": [
    "#🔴🔴 VALORAR SI ESTO MERECE O ME QUEDO SOLO CON LA CELDA DE ABAJO, QUE PONE --> describe().\n",
    "# La columna 'due_date' tiene una cantidad elevada de nulos (20.33%) por lo que antes de imputarla comprobamos\n",
    "#como es la distribución de sus valores para poder así valorar si imputar los nulos, si por media, moda o mediana.\n",
    "\n",
    "df_homework['due_date'].hist(bins=50, figsize=(10,5))\n",
    "plt.title('Distribución de Due Date')\n",
    "plt.xlabel('Fecha')\n",
    "plt.ylabel('Cantidad')\n",
    "plt.xticks(rotation=45)\n",
    "plt.show()\n"
   ]
  },
  {
   "cell_type": "code",
   "execution_count": 276,
   "id": "b07c7577",
   "metadata": {},
   "outputs": [
    {
     "name": "stdout",
     "output_type": "stream",
     "text": [
      "count                            48422\n",
      "mean     2024-12-08 09:02:43.710710016\n",
      "min                2024-09-08 00:00:00\n",
      "25%                2024-10-24 00:00:00\n",
      "50%                2024-12-09 00:00:00\n",
      "75%                2025-01-23 00:00:00\n",
      "max                2025-03-09 00:00:00\n",
      "Name: due_date, dtype: object\n"
     ]
    }
   ],
   "source": [
    "print(df_homework['due_date'].describe())"
   ]
  },
  {
   "cell_type": "code",
   "execution_count": 277,
   "id": "33b13196",
   "metadata": {},
   "outputs": [
    {
     "name": "stderr",
     "output_type": "stream",
     "text": [
      "C:\\Users\\pooo_\\AppData\\Local\\Temp\\ipykernel_16020\\3655258861.py:6: FutureWarning: A value is trying to be set on a copy of a DataFrame or Series through chained assignment using an inplace method.\n",
      "The behavior will change in pandas 3.0. This inplace method will never work because the intermediate object on which we are setting values always behaves as a copy.\n",
      "\n",
      "For example, when doing 'df[col].method(value, inplace=True)', try using 'df.method({col: value}, inplace=True)' or df[col] = df[col].method(value) instead, to perform the operation inplace on the original object.\n",
      "\n",
      "\n",
      "  df_homework['due_date'].fillna(mediana_fecha, inplace= True)\n"
     ]
    }
   ],
   "source": [
    "#Dado que las fechas están bastante centradas en torno a finales de 2024, lo más razonable sería:\n",
    "# Imputar con la mediana (50%), que es 2024-12-09, ya que la mediana es robusta frente a outliers y nos va a evitar \n",
    "# en caso de haber un par de fechas raras que el resultado no se distorsione demasiado.\n",
    "\n",
    "mediana_fecha = df_homework['due_date'].median()\n",
    "df_homework['due_date'].fillna(mediana_fecha, inplace= True)\n"
   ]
  },
  {
   "cell_type": "code",
   "execution_count": 278,
   "id": "ef079ee6",
   "metadata": {},
   "outputs": [
    {
     "name": "stdout",
     "output_type": "stream",
     "text": [
      "(subject               0\n",
      "assignment_name       0\n",
      "due_date              0\n",
      "status                0\n",
      "grade_feedback        0\n",
      "guardian_signature    0\n",
      "dtype: int64, subject               0.0\n",
      "assignment_name       0.0\n",
      "due_date              0.0\n",
      "status                0.0\n",
      "grade_feedback        0.0\n",
      "guardian_signature    0.0\n",
      "dtype: float64)\n"
     ]
    }
   ],
   "source": [
    "#Comprobamos que los nulos han desaparecido\n",
    "nulos = sp.nulos_num_porcentaje(df_homework)\n",
    "print(nulos)"
   ]
  },
  {
   "cell_type": "code",
   "execution_count": 279,
   "id": "c6de6ebe",
   "metadata": {},
   "outputs": [
    {
     "data": {
      "text/plain": [
       "status\n",
       "done        10278\n",
       "not done    10234\n",
       "❌           10151\n",
       "✔           10090\n",
       "pending     10014\n",
       "✅           10013\n",
       "Name: count, dtype: int64"
      ]
     },
     "execution_count": 279,
     "metadata": {},
     "output_type": "execute_result"
    }
   ],
   "source": [
    "#Para coregir la columna 'status' vamos a comprobar primero el tipo de valores que tiene.\n",
    "\n",
    "status_valores = df_homework['status'].value_counts()\n",
    "status_valores"
   ]
  },
  {
   "cell_type": "code",
   "execution_count": 280,
   "id": "e7ea45cb",
   "metadata": {},
   "outputs": [
    {
     "data": {
      "text/plain": [
       "status\n",
       "done        30381\n",
       "not done    20385\n",
       "pending     10014\n",
       "Name: count, dtype: int64"
      ]
     },
     "execution_count": 280,
     "metadata": {},
     "output_type": "execute_result"
    }
   ],
   "source": [
    "#Vamos a homogeinizar esos valores. \n",
    "\n",
    "mapeo_status = {\n",
    "    '✅':'done',\n",
    "    '❌':'not done',\n",
    "    '✔':'done',\n",
    "    'pending':'pending',\n",
    "    'done':'done',\n",
    "    'not done':'not done',\n",
    "}\n",
    "\n",
    "df_homework['status'] = df_homework['status'].replace(mapeo_status)\n",
    "\n",
    "status_valores = df_homework['status'].value_counts()\n",
    "status_valores\n"
   ]
  },
  {
   "cell_type": "code",
   "execution_count": 281,
   "id": "ab4eb560",
   "metadata": {},
   "outputs": [
    {
     "name": "stdout",
     "output_type": "stream",
     "text": [
      "guardian_signature\n",
      "no     20372\n",
      "yes    20348\n",
      "       20060\n",
      "Name: count, dtype: int64\n"
     ]
    }
   ],
   "source": [
    "#Debemos comprobar la columna 'guardian_signatura' ya que tiene campos vacíos que pandas\n",
    "# lo detecta como cadena de texto vacía.\n",
    "valores = df_homework['guardian_signature'].value_counts()\n",
    "print(valores)"
   ]
  },
  {
   "cell_type": "code",
   "execution_count": 282,
   "id": "58fab490",
   "metadata": {},
   "outputs": [
    {
     "data": {
      "text/plain": [
       "(np.int64(20060), np.float64(33.0))"
      ]
     },
     "execution_count": 282,
     "metadata": {},
     "output_type": "execute_result"
    }
   ],
   "source": [
    "#Debemos de convertir la cadena vacia por nulos de numpy. Después vamos a comprobar cuantos nulos son.\n",
    "df_homework['guardian_signature'] = df_homework['guardian_signature'].replace('', np.nan)\n",
    "ver_nulos= sp.nulos_num_porcentaje(df_homework['guardian_signature'])\n",
    "ver_nulos"
   ]
  },
  {
   "cell_type": "code",
   "execution_count": 283,
   "id": "14601888",
   "metadata": {},
   "outputs": [
    {
     "name": "stdout",
     "output_type": "stream",
     "text": [
      "guardian_signature\n",
      "no     33.517604\n",
      "yes    33.478118\n",
      "NaN    33.004278\n",
      "Name: proportion, dtype: float64\n"
     ]
    }
   ],
   "source": [
    "#Comprobamos la distribución (en porcentaje) de los 3 valores de la columna.\n",
    "print(df_homework['guardian_signature'].value_counts(dropna=False, normalize=True)*100)"
   ]
  },
  {
   "cell_type": "code",
   "execution_count": 284,
   "id": "9bb979b7",
   "metadata": {},
   "outputs": [
    {
     "name": "stdout",
     "output_type": "stream",
     "text": [
      "count     40720\n",
      "unique        2\n",
      "top          no\n",
      "freq      20372\n",
      "Name: guardian_signature, dtype: object\n"
     ]
    }
   ],
   "source": [
    "#Hay un 33% de nulos de la columna 'guardian_signature' por tanto vamos a ver sus cuartiles, media etc.\n",
    "print(df_homework['guardian_signature'].describe())"
   ]
  },
  {
   "cell_type": "code",
   "execution_count": 285,
   "id": "bb0d827d",
   "metadata": {},
   "outputs": [
    {
     "name": "stdout",
     "output_type": "stream",
     "text": [
      "guardian_signature\n",
      "no         20372\n",
      "yes        20348\n",
      "unknown    20060\n",
      "Name: count, dtype: int64\n"
     ]
    },
    {
     "name": "stderr",
     "output_type": "stream",
     "text": [
      "C:\\Users\\pooo_\\AppData\\Local\\Temp\\ipykernel_16020\\2920811997.py:4: FutureWarning: A value is trying to be set on a copy of a DataFrame or Series through chained assignment using an inplace method.\n",
      "The behavior will change in pandas 3.0. This inplace method will never work because the intermediate object on which we are setting values always behaves as a copy.\n",
      "\n",
      "For example, when doing 'df[col].method(value, inplace=True)', try using 'df.method({col: value}, inplace=True)' or df[col] = df[col].method(value) instead, to perform the operation inplace on the original object.\n",
      "\n",
      "\n",
      "  df_homework['guardian_signature'].fillna('unknown', inplace = True)\n"
     ]
    }
   ],
   "source": [
    "#Vamos a imputar los nulos con 'unknown' ya que así no modificamos artificialmente la proporción original y\n",
    "# dejamos constancia de que falta esta información.\n",
    "\n",
    "df_homework['guardian_signature'].fillna('unknown', inplace = True)\n",
    "\n",
    "#Comprobamos la distribución (en porcentaje) de los 3 valores de la columna.\n",
    "print(df_homework['guardian_signature'].value_counts())"
   ]
  },
  {
   "cell_type": "code",
   "execution_count": 286,
   "id": "8660c990",
   "metadata": {},
   "outputs": [
    {
     "data": {
      "text/html": [
       "<div>\n",
       "<style scoped>\n",
       "    .dataframe tbody tr th:only-of-type {\n",
       "        vertical-align: middle;\n",
       "    }\n",
       "\n",
       "    .dataframe tbody tr th {\n",
       "        vertical-align: top;\n",
       "    }\n",
       "\n",
       "    .dataframe thead th {\n",
       "        text-align: right;\n",
       "    }\n",
       "</style>\n",
       "<table border=\"1\" class=\"dataframe\">\n",
       "  <thead>\n",
       "    <tr style=\"text-align: right;\">\n",
       "      <th></th>\n",
       "      <th>subject</th>\n",
       "      <th>assignment_name</th>\n",
       "      <th>due_date</th>\n",
       "      <th>status</th>\n",
       "      <th>grade_feedback</th>\n",
       "      <th>guardian_signature</th>\n",
       "    </tr>\n",
       "    <tr>\n",
       "      <th>student_id</th>\n",
       "      <th></th>\n",
       "      <th></th>\n",
       "      <th></th>\n",
       "      <th></th>\n",
       "      <th></th>\n",
       "      <th></th>\n",
       "    </tr>\n",
       "  </thead>\n",
       "  <tbody>\n",
       "    <tr>\n",
       "      <th>s09851</th>\n",
       "      <td>arabic</td>\n",
       "      <td>partner record program.</td>\n",
       "      <td>2024-12-13</td>\n",
       "      <td>pending</td>\n",
       "      <td>c</td>\n",
       "      <td>no</td>\n",
       "    </tr>\n",
       "    <tr>\n",
       "      <th>s05799</th>\n",
       "      <td>history</td>\n",
       "      <td>level story too add.</td>\n",
       "      <td>2024-12-21</td>\n",
       "      <td>done</td>\n",
       "      <td>d</td>\n",
       "      <td>yes</td>\n",
       "    </tr>\n",
       "    <tr>\n",
       "      <th>s05409</th>\n",
       "      <td>math</td>\n",
       "      <td>firm even.</td>\n",
       "      <td>2024-12-09</td>\n",
       "      <td>not done</td>\n",
       "      <td>a</td>\n",
       "      <td>yes</td>\n",
       "    </tr>\n",
       "    <tr>\n",
       "      <th>s10716</th>\n",
       "      <td>science</td>\n",
       "      <td>opportunity event sense.</td>\n",
       "      <td>2024-10-21</td>\n",
       "      <td>done</td>\n",
       "      <td>f</td>\n",
       "      <td>unknown</td>\n",
       "    </tr>\n",
       "    <tr>\n",
       "      <th>s06301</th>\n",
       "      <td>history</td>\n",
       "      <td>read scene itself.</td>\n",
       "      <td>2024-11-04</td>\n",
       "      <td>done</td>\n",
       "      <td>b</td>\n",
       "      <td>no</td>\n",
       "    </tr>\n",
       "    <tr>\n",
       "      <th>s03844</th>\n",
       "      <td>math</td>\n",
       "      <td>rule go state.</td>\n",
       "      <td>2024-11-22</td>\n",
       "      <td>done</td>\n",
       "      <td>b</td>\n",
       "      <td>unknown</td>\n",
       "    </tr>\n",
       "    <tr>\n",
       "      <th>s01328</th>\n",
       "      <td>geography</td>\n",
       "      <td>boy source.</td>\n",
       "      <td>2024-12-09</td>\n",
       "      <td>pending</td>\n",
       "      <td>c</td>\n",
       "      <td>no</td>\n",
       "    </tr>\n",
       "    <tr>\n",
       "      <th>s10787</th>\n",
       "      <td>science</td>\n",
       "      <td>attorney medical star.</td>\n",
       "      <td>2024-11-23</td>\n",
       "      <td>not done</td>\n",
       "      <td>a+</td>\n",
       "      <td>no</td>\n",
       "    </tr>\n",
       "    <tr>\n",
       "      <th>s03868</th>\n",
       "      <td>geography</td>\n",
       "      <td>listen well.</td>\n",
       "      <td>2024-12-09</td>\n",
       "      <td>pending</td>\n",
       "      <td>c</td>\n",
       "      <td>unknown</td>\n",
       "    </tr>\n",
       "    <tr>\n",
       "      <th>s10474</th>\n",
       "      <td>geography</td>\n",
       "      <td>attention live he.</td>\n",
       "      <td>2024-11-20</td>\n",
       "      <td>not done</td>\n",
       "      <td>c</td>\n",
       "      <td>no</td>\n",
       "    </tr>\n",
       "  </tbody>\n",
       "</table>\n",
       "</div>"
      ],
      "text/plain": [
       "              subject           assignment_name   due_date    status  \\\n",
       "student_id                                                             \n",
       "s09851         arabic   partner record program. 2024-12-13   pending   \n",
       "s05799        history      level story too add. 2024-12-21      done   \n",
       "s05409           math                firm even. 2024-12-09  not done   \n",
       "s10716        science  opportunity event sense. 2024-10-21      done   \n",
       "s06301        history        read scene itself. 2024-11-04      done   \n",
       "s03844           math            rule go state. 2024-11-22      done   \n",
       "s01328      geography               boy source. 2024-12-09   pending   \n",
       "s10787        science    attorney medical star. 2024-11-23  not done   \n",
       "s03868      geography              listen well. 2024-12-09   pending   \n",
       "s10474      geography        attention live he. 2024-11-20  not done   \n",
       "\n",
       "           grade_feedback guardian_signature  \n",
       "student_id                                    \n",
       "s09851                  c                 no  \n",
       "s05799                  d                yes  \n",
       "s05409                  a                yes  \n",
       "s10716                  f            unknown  \n",
       "s06301                  b                 no  \n",
       "s03844                  b            unknown  \n",
       "s01328                  c                 no  \n",
       "s10787                 a+                 no  \n",
       "s03868                  c            unknown  \n",
       "s10474                  c                 no  "
      ]
     },
     "execution_count": 286,
     "metadata": {},
     "output_type": "execute_result"
    }
   ],
   "source": [
    "df_homework.sample(10)"
   ]
  },
  {
   "cell_type": "code",
   "execution_count": 287,
   "id": "477a3925",
   "metadata": {},
   "outputs": [
    {
     "data": {
      "text/html": [
       "<div>\n",
       "<style scoped>\n",
       "    .dataframe tbody tr th:only-of-type {\n",
       "        vertical-align: middle;\n",
       "    }\n",
       "\n",
       "    .dataframe tbody tr th {\n",
       "        vertical-align: top;\n",
       "    }\n",
       "\n",
       "    .dataframe thead th {\n",
       "        text-align: right;\n",
       "    }\n",
       "</style>\n",
       "<table border=\"1\" class=\"dataframe\">\n",
       "  <thead>\n",
       "    <tr style=\"text-align: right;\">\n",
       "      <th></th>\n",
       "      <th>Date</th>\n",
       "      <th>Message_Type</th>\n",
       "      <th>Message_Content</th>\n",
       "    </tr>\n",
       "    <tr>\n",
       "      <th>Student_ID</th>\n",
       "      <th></th>\n",
       "      <th></th>\n",
       "      <th></th>\n",
       "    </tr>\n",
       "  </thead>\n",
       "  <tbody>\n",
       "    <tr>\n",
       "      <th>S08753</th>\n",
       "      <td>2024-10-12</td>\n",
       "      <td>Automated Reminder</td>\n",
       "      <td>Especially bad water benefit top consider old ...</td>\n",
       "    </tr>\n",
       "    <tr>\n",
       "      <th>S02137</th>\n",
       "      <td>2024-09-18</td>\n",
       "      <td>Automated Reminder</td>\n",
       "      <td>You ready discuss middle actually economic six...</td>\n",
       "    </tr>\n",
       "    <tr>\n",
       "      <th>S01463</th>\n",
       "      <td>2025-02-25</td>\n",
       "      <td>Automated Reminder</td>\n",
       "      <td>Produce right affect better help create eat es...</td>\n",
       "    </tr>\n",
       "    <tr>\n",
       "      <th>S02720</th>\n",
       "      <td>2024-09-14</td>\n",
       "      <td>Teacher to Parent</td>\n",
       "      <td>Image market write success its step organizati...</td>\n",
       "    </tr>\n",
       "    <tr>\n",
       "      <th>S11063</th>\n",
       "      <td>2025-02-07</td>\n",
       "      <td>Parent to Teacher</td>\n",
       "      <td>Common give wife official effect management re...</td>\n",
       "    </tr>\n",
       "  </tbody>\n",
       "</table>\n",
       "</div>"
      ],
      "text/plain": [
       "                  Date        Message_Type  \\\n",
       "Student_ID                                   \n",
       "S08753      2024-10-12  Automated Reminder   \n",
       "S02137      2024-09-18  Automated Reminder   \n",
       "S01463      2025-02-25  Automated Reminder   \n",
       "S02720      2024-09-14   Teacher to Parent   \n",
       "S11063      2025-02-07   Parent to Teacher   \n",
       "\n",
       "                                              Message_Content  \n",
       "Student_ID                                                     \n",
       "S08753      Especially bad water benefit top consider old ...  \n",
       "S02137      You ready discuss middle actually economic six...  \n",
       "S01463      Produce right affect better help create eat es...  \n",
       "S02720      Image market write success its step organizati...  \n",
       "S11063      Common give wife official effect management re...  "
      ]
     },
     "metadata": {},
     "output_type": "display_data"
    },
    {
     "name": "stdout",
     "output_type": "stream",
     "text": [
      "____________________________\n",
      "INFO\n",
      "<class 'pandas.core.frame.DataFrame'>\n",
      "Index: 24312 entries, S01133 to S03501\n",
      "Data columns (total 3 columns):\n",
      " #   Column           Non-Null Count  Dtype \n",
      "---  ------           --------------  ----- \n",
      " 0   Date             24312 non-null  object\n",
      " 1   Message_Type     24312 non-null  object\n",
      " 2   Message_Content  24312 non-null  object\n",
      "dtypes: object(3)\n",
      "memory usage: 759.8+ KB\n"
     ]
    },
    {
     "data": {
      "text/plain": [
       "None"
      ]
     },
     "metadata": {},
     "output_type": "display_data"
    },
    {
     "name": "stdout",
     "output_type": "stream",
     "text": [
      "____________________________\n",
      "NULOS\n"
     ]
    },
    {
     "data": {
      "text/plain": [
       "Date               0.0\n",
       "Message_Type       0.0\n",
       "Message_Content    0.0\n",
       "dtype: float64"
      ]
     },
     "metadata": {},
     "output_type": "display_data"
    },
    {
     "name": "stdout",
     "output_type": "stream",
     "text": [
      "____________________________\n",
      "DUPLICADOS\n"
     ]
    },
    {
     "data": {
      "text/plain": [
       "np.int64(737)"
      ]
     },
     "metadata": {},
     "output_type": "display_data"
    },
    {
     "name": "stdout",
     "output_type": "stream",
     "text": [
      "____________________________\n",
      "DESCRIBE\n"
     ]
    },
    {
     "data": {
      "text/html": [
       "<div>\n",
       "<style scoped>\n",
       "    .dataframe tbody tr th:only-of-type {\n",
       "        vertical-align: middle;\n",
       "    }\n",
       "\n",
       "    .dataframe tbody tr th {\n",
       "        vertical-align: top;\n",
       "    }\n",
       "\n",
       "    .dataframe thead th {\n",
       "        text-align: right;\n",
       "    }\n",
       "</style>\n",
       "<table border=\"1\" class=\"dataframe\">\n",
       "  <thead>\n",
       "    <tr style=\"text-align: right;\">\n",
       "      <th></th>\n",
       "      <th>count</th>\n",
       "      <th>unique</th>\n",
       "      <th>top</th>\n",
       "      <th>freq</th>\n",
       "    </tr>\n",
       "  </thead>\n",
       "  <tbody>\n",
       "    <tr>\n",
       "      <th>Date</th>\n",
       "      <td>24312</td>\n",
       "      <td>183</td>\n",
       "      <td>2025-02-18</td>\n",
       "      <td>164</td>\n",
       "    </tr>\n",
       "    <tr>\n",
       "      <th>Message_Type</th>\n",
       "      <td>24312</td>\n",
       "      <td>3</td>\n",
       "      <td>Teacher to Parent</td>\n",
       "      <td>8149</td>\n",
       "    </tr>\n",
       "    <tr>\n",
       "      <th>Message_Content</th>\n",
       "      <td>24312</td>\n",
       "      <td>23086</td>\n",
       "      <td></td>\n",
       "      <td>1227</td>\n",
       "    </tr>\n",
       "  </tbody>\n",
       "</table>\n",
       "</div>"
      ],
      "text/plain": [
       "                 count unique                top  freq\n",
       "Date             24312    183         2025-02-18   164\n",
       "Message_Type     24312      3  Teacher to Parent  8149\n",
       "Message_Content  24312  23086                     1227"
      ]
     },
     "metadata": {},
     "output_type": "display_data"
    },
    {
     "name": "stdout",
     "output_type": "stream",
     "text": [
      "____________________________\n",
      "DESCRIBE COLUMNAS OBJECT\n"
     ]
    },
    {
     "data": {
      "text/html": [
       "<div>\n",
       "<style scoped>\n",
       "    .dataframe tbody tr th:only-of-type {\n",
       "        vertical-align: middle;\n",
       "    }\n",
       "\n",
       "    .dataframe tbody tr th {\n",
       "        vertical-align: top;\n",
       "    }\n",
       "\n",
       "    .dataframe thead th {\n",
       "        text-align: right;\n",
       "    }\n",
       "</style>\n",
       "<table border=\"1\" class=\"dataframe\">\n",
       "  <thead>\n",
       "    <tr style=\"text-align: right;\">\n",
       "      <th></th>\n",
       "      <th>count</th>\n",
       "      <th>unique</th>\n",
       "      <th>top</th>\n",
       "      <th>freq</th>\n",
       "    </tr>\n",
       "  </thead>\n",
       "  <tbody>\n",
       "    <tr>\n",
       "      <th>Date</th>\n",
       "      <td>24312</td>\n",
       "      <td>183</td>\n",
       "      <td>2025-02-18</td>\n",
       "      <td>164</td>\n",
       "    </tr>\n",
       "    <tr>\n",
       "      <th>Message_Type</th>\n",
       "      <td>24312</td>\n",
       "      <td>3</td>\n",
       "      <td>Teacher to Parent</td>\n",
       "      <td>8149</td>\n",
       "    </tr>\n",
       "    <tr>\n",
       "      <th>Message_Content</th>\n",
       "      <td>24312</td>\n",
       "      <td>23086</td>\n",
       "      <td></td>\n",
       "      <td>1227</td>\n",
       "    </tr>\n",
       "  </tbody>\n",
       "</table>\n",
       "</div>"
      ],
      "text/plain": [
       "                 count unique                top  freq\n",
       "Date             24312    183         2025-02-18   164\n",
       "Message_Type     24312      3  Teacher to Parent  8149\n",
       "Message_Content  24312  23086                     1227"
      ]
     },
     "metadata": {},
     "output_type": "display_data"
    },
    {
     "name": "stdout",
     "output_type": "stream",
     "text": [
      "____________________________\n",
      "VALUE COUNTS\n",
      "Date\n",
      "2025-02-18    164\n",
      "2024-12-27    163\n",
      "2025-03-02    163\n",
      "2024-10-24    157\n",
      "2024-10-06    156\n",
      "             ... \n",
      "2024-09-20    110\n",
      "2024-12-03    108\n",
      "2024-10-10    108\n",
      "2025-02-22    107\n",
      "2024-11-21    103\n",
      "Name: count, Length: 183, dtype: int64\n",
      "Message_Type\n",
      "Teacher to Parent     8149\n",
      "Automated Reminder    8106\n",
      "Parent to Teacher     8057\n",
      "Name: count, dtype: int64\n",
      "Message_Content\n",
      "                                                                                                                                                            1227\n",
      "Than far indeed gun doctor concern hear whose policy people board traditional.                                                                                 1\n",
      "Than time unit nearly wrong man blue probably yes season civil car later both from those.                                                                      1\n",
      "Around positive side your city top common pretty again agent.                                                                                                  1\n",
      "Water provide four himself out during force they authority bring activity recently.                                                                            1\n",
      "                                                                                                                                                            ... \n",
      "Sort plant history about thank church still heart model off argue shake ahead audience nearly practice address pass know bag.                                  1\n",
      "Concern professor suffer thus take run think business receive concern according agree significant moment including technology Democrat this language he.       1\n",
      "Set lot control back computer expert raise south involve before enough either court time nearly travel turn.                                                   1\n",
      "Heavy down product cultural there staff move class tough white catch hit their yard sport exist.                                                               1\n",
      "Indicate best local but short environmental interesting address economy reduce indicate notice offer art despite responsibility art fall sell.                 1\n",
      "Name: count, Length: 23086, dtype: int64\n",
      "____________________________\n",
      "CAMPOS VACÍOS POR COLUMNAS\n",
      "Series([], dtype: int64)\n",
      "____________________________\n"
     ]
    }
   ],
   "source": [
    "#Ver dataframe 'df_communication'\n",
    "df_comm_preliminar =  sp.eda_preliminar(df_communication)\n",
    "df_comm_preliminar"
   ]
  },
  {
   "cell_type": "code",
   "execution_count": 288,
   "id": "1d1f258d",
   "metadata": {},
   "outputs": [
    {
     "data": {
      "text/html": [
       "<div>\n",
       "<style scoped>\n",
       "    .dataframe tbody tr th:only-of-type {\n",
       "        vertical-align: middle;\n",
       "    }\n",
       "\n",
       "    .dataframe tbody tr th {\n",
       "        vertical-align: top;\n",
       "    }\n",
       "\n",
       "    .dataframe thead th {\n",
       "        text-align: right;\n",
       "    }\n",
       "</style>\n",
       "<table border=\"1\" class=\"dataframe\">\n",
       "  <thead>\n",
       "    <tr style=\"text-align: right;\">\n",
       "      <th></th>\n",
       "      <th>date</th>\n",
       "      <th>message_type</th>\n",
       "      <th>message_content</th>\n",
       "    </tr>\n",
       "    <tr>\n",
       "      <th>student_id</th>\n",
       "      <th></th>\n",
       "      <th></th>\n",
       "      <th></th>\n",
       "    </tr>\n",
       "  </thead>\n",
       "  <tbody>\n",
       "    <tr>\n",
       "      <th>s09935</th>\n",
       "      <td>2024-11-16</td>\n",
       "      <td>automated reminder</td>\n",
       "      <td>forget trial another above everyone worry fire...</td>\n",
       "    </tr>\n",
       "    <tr>\n",
       "      <th>s04367</th>\n",
       "      <td>2025-01-30</td>\n",
       "      <td>teacher to parent</td>\n",
       "      <td>live similar cover case yard feel month sound ...</td>\n",
       "    </tr>\n",
       "    <tr>\n",
       "      <th>s08522</th>\n",
       "      <td>2025-02-21</td>\n",
       "      <td>teacher to parent</td>\n",
       "      <td>nice week attack reach write agent middle offi...</td>\n",
       "    </tr>\n",
       "    <tr>\n",
       "      <th>s01828</th>\n",
       "      <td>2025-03-02</td>\n",
       "      <td>teacher to parent</td>\n",
       "      <td>point public employee term ten occur song tota...</td>\n",
       "    </tr>\n",
       "    <tr>\n",
       "      <th>s03928</th>\n",
       "      <td>2025-01-30</td>\n",
       "      <td>teacher to parent</td>\n",
       "      <td>attack need born production catch same read se...</td>\n",
       "    </tr>\n",
       "    <tr>\n",
       "      <th>s05349</th>\n",
       "      <td>2024-12-21</td>\n",
       "      <td>teacher to parent</td>\n",
       "      <td>window white scientist move wonder radio close...</td>\n",
       "    </tr>\n",
       "    <tr>\n",
       "      <th>s00052</th>\n",
       "      <td>2025-01-17</td>\n",
       "      <td>automated reminder</td>\n",
       "      <td></td>\n",
       "    </tr>\n",
       "    <tr>\n",
       "      <th>s12133</th>\n",
       "      <td>2024-09-28</td>\n",
       "      <td>parent to teacher</td>\n",
       "      <td>put practice often write few such anyone box r...</td>\n",
       "    </tr>\n",
       "    <tr>\n",
       "      <th>s09521</th>\n",
       "      <td>2024-12-12</td>\n",
       "      <td>automated reminder</td>\n",
       "      <td>news main news effect life their mr expert wit...</td>\n",
       "    </tr>\n",
       "    <tr>\n",
       "      <th>s07435</th>\n",
       "      <td>2024-12-17</td>\n",
       "      <td>teacher to parent</td>\n",
       "      <td>these western modern great list personal be fe...</td>\n",
       "    </tr>\n",
       "  </tbody>\n",
       "</table>\n",
       "</div>"
      ],
      "text/plain": [
       "                  date        message_type  \\\n",
       "student_id                                   \n",
       "s09935      2024-11-16  automated reminder   \n",
       "s04367      2025-01-30   teacher to parent   \n",
       "s08522      2025-02-21   teacher to parent   \n",
       "s01828      2025-03-02   teacher to parent   \n",
       "s03928      2025-01-30   teacher to parent   \n",
       "s05349      2024-12-21   teacher to parent   \n",
       "s00052      2025-01-17  automated reminder   \n",
       "s12133      2024-09-28   parent to teacher   \n",
       "s09521      2024-12-12  automated reminder   \n",
       "s07435      2024-12-17   teacher to parent   \n",
       "\n",
       "                                              message_content  \n",
       "student_id                                                     \n",
       "s09935      forget trial another above everyone worry fire...  \n",
       "s04367      live similar cover case yard feel month sound ...  \n",
       "s08522      nice week attack reach write agent middle offi...  \n",
       "s01828      point public employee term ten occur song tota...  \n",
       "s03928      attack need born production catch same read se...  \n",
       "s05349      window white scientist move wonder radio close...  \n",
       "s00052                                                         \n",
       "s12133      put practice often write few such anyone box r...  \n",
       "s09521      news main news effect life their mr expert wit...  \n",
       "s07435      these western modern great list personal be fe...  "
      ]
     },
     "execution_count": 288,
     "metadata": {},
     "output_type": "execute_result"
    }
   ],
   "source": [
    "df_communication = sp.valores_a_minus(df_communication)\n",
    "df_communication.sample(10)"
   ]
  },
  {
   "cell_type": "code",
   "execution_count": 289,
   "id": "d141cff2",
   "metadata": {},
   "outputs": [
    {
     "name": "stdout",
     "output_type": "stream",
     "text": [
      "datetime64[ns]\n"
     ]
    }
   ],
   "source": [
    "#Cambiar el nombre de date a uno mas descriptivo y convertirlo a tipo datetime\n",
    "df_communication.rename(columns={'date':'date_message'}, inplace=True)\n",
    "\n",
    "df_communication['date_message'] = pd.to_datetime(df_communication['date_message'], errors = 'coerce')\n",
    "print(df_communication['date_message'].dtype)"
   ]
  },
  {
   "cell_type": "code",
   "execution_count": 290,
   "id": "2a0d1a5a",
   "metadata": {},
   "outputs": [
    {
     "name": "stdout",
     "output_type": "stream",
     "text": [
      "message_type\n",
      "teacher to parent     8149\n",
      "automated reminder    8106\n",
      "parent to teacher     8057\n",
      "Name: count, dtype: int64\n"
     ]
    }
   ],
   "source": [
    "#Comprobar los valores que hay en la columna 'date_message'\n",
    "print(df_communication['message_type'].value_counts())"
   ]
  },
  {
   "cell_type": "code",
   "execution_count": 291,
   "id": "90cfa059",
   "metadata": {},
   "outputs": [
    {
     "data": {
      "text/plain": [
       "(np.int64(1227), np.float64(5.05))"
      ]
     },
     "execution_count": 291,
     "metadata": {},
     "output_type": "execute_result"
    }
   ],
   "source": [
    "#Viendo la columna 'message_content' a través de la funcion eda_preliminar parece que hay campos vacíos (cadenas de texto vacías)\n",
    "# que no figuran como nulos.\n",
    "\n",
    "df_communication['message_content'] = df_communication['message_content'].replace('', np.nan)\n",
    "ver_nulos= sp.nulos_num_porcentaje(df_communication['message_content'])\n",
    "ver_nulos\n",
    "#No son muchos los nulos de la columna, solo un 5.05. Se puede proceder a simplemente eliminar estas filas o no.\n",
    "#🔴 Dejar así en nan los valores, imputarlos a 'no_message' o eliminarlas?\n"
   ]
  },
  {
   "cell_type": "code",
   "execution_count": 292,
   "id": "906d066d",
   "metadata": {},
   "outputs": [
    {
     "data": {
      "text/html": [
       "<div>\n",
       "<style scoped>\n",
       "    .dataframe tbody tr th:only-of-type {\n",
       "        vertical-align: middle;\n",
       "    }\n",
       "\n",
       "    .dataframe tbody tr th {\n",
       "        vertical-align: top;\n",
       "    }\n",
       "\n",
       "    .dataframe thead th {\n",
       "        text-align: right;\n",
       "    }\n",
       "</style>\n",
       "<table border=\"1\" class=\"dataframe\">\n",
       "  <thead>\n",
       "    <tr style=\"text-align: right;\">\n",
       "      <th></th>\n",
       "      <th>Subject</th>\n",
       "      <th>Exam_Score</th>\n",
       "      <th>Homework_Completion_%</th>\n",
       "      <th>Teacher_Comments</th>\n",
       "    </tr>\n",
       "    <tr>\n",
       "      <th>Student_ID</th>\n",
       "      <th></th>\n",
       "      <th></th>\n",
       "      <th></th>\n",
       "      <th></th>\n",
       "    </tr>\n",
       "  </thead>\n",
       "  <tbody>\n",
       "    <tr>\n",
       "      <th>S09729</th>\n",
       "      <td>Geography</td>\n",
       "      <td>64</td>\n",
       "      <td>100%</td>\n",
       "      <td>A media decade your stuff address although pro...</td>\n",
       "    </tr>\n",
       "    <tr>\n",
       "      <th>S09979</th>\n",
       "      <td>Geography</td>\n",
       "      <td>77</td>\n",
       "      <td>80%</td>\n",
       "      <td>Do back seat happen treatment college turn cen...</td>\n",
       "    </tr>\n",
       "    <tr>\n",
       "      <th>S10846</th>\n",
       "      <td>Science</td>\n",
       "      <td>79</td>\n",
       "      <td>80%</td>\n",
       "      <td>Well require onto heart American very me inves...</td>\n",
       "    </tr>\n",
       "    <tr>\n",
       "      <th>S00783</th>\n",
       "      <td>Science</td>\n",
       "      <td>48</td>\n",
       "      <td>95</td>\n",
       "      <td>Get particular time help however forget key fr...</td>\n",
       "    </tr>\n",
       "    <tr>\n",
       "      <th>S01274</th>\n",
       "      <td>Science</td>\n",
       "      <td>102</td>\n",
       "      <td>80%</td>\n",
       "      <td></td>\n",
       "    </tr>\n",
       "  </tbody>\n",
       "</table>\n",
       "</div>"
      ],
      "text/plain": [
       "              Subject  Exam_Score Homework_Completion_%  \\\n",
       "Student_ID                                                \n",
       "S09729      Geography          64                  100%   \n",
       "S09979      Geography          77                   80%   \n",
       "S10846        Science          79                   80%   \n",
       "S00783        Science          48                    95   \n",
       "S01274        Science         102                   80%   \n",
       "\n",
       "                                             Teacher_Comments  \n",
       "Student_ID                                                     \n",
       "S09729      A media decade your stuff address although pro...  \n",
       "S09979      Do back seat happen treatment college turn cen...  \n",
       "S10846      Well require onto heart American very me inves...  \n",
       "S00783      Get particular time help however forget key fr...  \n",
       "S01274                                                         "
      ]
     },
     "metadata": {},
     "output_type": "display_data"
    },
    {
     "name": "stdout",
     "output_type": "stream",
     "text": [
      "____________________________\n",
      "INFO\n",
      "<class 'pandas.core.frame.DataFrame'>\n",
      "Index: 36468 entries, S00396 to S09604\n",
      "Data columns (total 4 columns):\n",
      " #   Column                 Non-Null Count  Dtype \n",
      "---  ------                 --------------  ----- \n",
      " 0   Subject                36468 non-null  object\n",
      " 1   Exam_Score             36468 non-null  int64 \n",
      " 2   Homework_Completion_%  36468 non-null  object\n",
      " 3   Teacher_Comments       36468 non-null  object\n",
      "dtypes: int64(1), object(3)\n",
      "memory usage: 1.4+ MB\n"
     ]
    },
    {
     "data": {
      "text/plain": [
       "None"
      ]
     },
     "metadata": {},
     "output_type": "display_data"
    },
    {
     "name": "stdout",
     "output_type": "stream",
     "text": [
      "____________________________\n",
      "NULOS\n"
     ]
    },
    {
     "data": {
      "text/plain": [
       "Subject                  0.0\n",
       "Exam_Score               0.0\n",
       "Homework_Completion_%    0.0\n",
       "Teacher_Comments         0.0\n",
       "dtype: float64"
      ]
     },
     "metadata": {},
     "output_type": "display_data"
    },
    {
     "name": "stdout",
     "output_type": "stream",
     "text": [
      "____________________________\n",
      "DUPLICADOS\n"
     ]
    },
    {
     "data": {
      "text/plain": [
       "np.int64(1858)"
      ]
     },
     "metadata": {},
     "output_type": "display_data"
    },
    {
     "name": "stdout",
     "output_type": "stream",
     "text": [
      "____________________________\n",
      "DESCRIBE\n"
     ]
    },
    {
     "data": {
      "text/html": [
       "<div>\n",
       "<style scoped>\n",
       "    .dataframe tbody tr th:only-of-type {\n",
       "        vertical-align: middle;\n",
       "    }\n",
       "\n",
       "    .dataframe tbody tr th {\n",
       "        vertical-align: top;\n",
       "    }\n",
       "\n",
       "    .dataframe thead th {\n",
       "        text-align: right;\n",
       "    }\n",
       "</style>\n",
       "<table border=\"1\" class=\"dataframe\">\n",
       "  <thead>\n",
       "    <tr style=\"text-align: right;\">\n",
       "      <th></th>\n",
       "      <th>count</th>\n",
       "      <th>mean</th>\n",
       "      <th>std</th>\n",
       "      <th>min</th>\n",
       "      <th>25%</th>\n",
       "      <th>50%</th>\n",
       "      <th>75%</th>\n",
       "      <th>max</th>\n",
       "    </tr>\n",
       "  </thead>\n",
       "  <tbody>\n",
       "    <tr>\n",
       "      <th>Exam_Score</th>\n",
       "      <td>36468.0</td>\n",
       "      <td>74.964243</td>\n",
       "      <td>20.538704</td>\n",
       "      <td>40.0</td>\n",
       "      <td>57.0</td>\n",
       "      <td>75.0</td>\n",
       "      <td>93.0</td>\n",
       "      <td>110.0</td>\n",
       "    </tr>\n",
       "  </tbody>\n",
       "</table>\n",
       "</div>"
      ],
      "text/plain": [
       "              count       mean        std   min   25%   50%   75%    max\n",
       "Exam_Score  36468.0  74.964243  20.538704  40.0  57.0  75.0  93.0  110.0"
      ]
     },
     "metadata": {},
     "output_type": "display_data"
    },
    {
     "name": "stdout",
     "output_type": "stream",
     "text": [
      "____________________________\n",
      "DESCRIBE COLUMNAS OBJECT\n"
     ]
    },
    {
     "data": {
      "text/html": [
       "<div>\n",
       "<style scoped>\n",
       "    .dataframe tbody tr th:only-of-type {\n",
       "        vertical-align: middle;\n",
       "    }\n",
       "\n",
       "    .dataframe tbody tr th {\n",
       "        vertical-align: top;\n",
       "    }\n",
       "\n",
       "    .dataframe thead th {\n",
       "        text-align: right;\n",
       "    }\n",
       "</style>\n",
       "<table border=\"1\" class=\"dataframe\">\n",
       "  <thead>\n",
       "    <tr style=\"text-align: right;\">\n",
       "      <th></th>\n",
       "      <th>count</th>\n",
       "      <th>unique</th>\n",
       "      <th>top</th>\n",
       "      <th>freq</th>\n",
       "    </tr>\n",
       "  </thead>\n",
       "  <tbody>\n",
       "    <tr>\n",
       "      <th>Subject</th>\n",
       "      <td>36468</td>\n",
       "      <td>6</td>\n",
       "      <td>Arabic</td>\n",
       "      <td>6224</td>\n",
       "    </tr>\n",
       "    <tr>\n",
       "      <th>Homework_Completion_%</th>\n",
       "      <td>36468</td>\n",
       "      <td>5</td>\n",
       "      <td>95</td>\n",
       "      <td>7453</td>\n",
       "    </tr>\n",
       "    <tr>\n",
       "      <th>Teacher_Comments</th>\n",
       "      <td>36468</td>\n",
       "      <td>32918</td>\n",
       "      <td></td>\n",
       "      <td>3551</td>\n",
       "    </tr>\n",
       "  </tbody>\n",
       "</table>\n",
       "</div>"
      ],
      "text/plain": [
       "                       count unique     top  freq\n",
       "Subject                36468      6  Arabic  6224\n",
       "Homework_Completion_%  36468      5      95  7453\n",
       "Teacher_Comments       36468  32918          3551"
      ]
     },
     "metadata": {},
     "output_type": "display_data"
    },
    {
     "name": "stdout",
     "output_type": "stream",
     "text": [
      "____________________________\n",
      "VALUE COUNTS\n",
      "Subject\n",
      "Arabic       6224\n",
      "Science      6093\n",
      "Geography    6082\n",
      "English      6043\n",
      "Math         6035\n",
      "History      5991\n",
      "Name: count, dtype: int64\n",
      "Homework_Completion_%\n",
      "95      7453\n",
      "-5      7376\n",
      "100%    7296\n",
      "80%     7283\n",
      "90      7060\n",
      "Name: count, dtype: int64\n",
      "Teacher_Comments\n",
      "                                                                             3551\n",
      "Including describe event yet middle assume rest any pick whatever oil.          1\n",
      "Set factor safe fine fast population including.                                 1\n",
      "Between current hotel west recognize believe hand on poor ball wonder.          1\n",
      "Probably specific science memory her stand since main.                          1\n",
      "                                                                             ... \n",
      "Environmental newspaper close story space season detail.                        1\n",
      "Music tend or occur know development see.                                       1\n",
      "Car the choice college consumer before perform receive red.                     1\n",
      "Relate box peace during executive production inside job chance high than.       1\n",
      "Main magazine consumer country any investment.                                  1\n",
      "Name: count, Length: 32918, dtype: int64\n",
      "____________________________\n",
      "CAMPOS VACÍOS POR COLUMNAS\n",
      "Series([], dtype: int64)\n",
      "____________________________\n"
     ]
    }
   ],
   "source": [
    "df_prfm_preliminar = sp.eda_preliminar(df_performance)\n",
    "df_prfm_preliminar"
   ]
  },
  {
   "cell_type": "code",
   "execution_count": 293,
   "id": "578f5eb8",
   "metadata": {},
   "outputs": [
    {
     "data": {
      "text/html": [
       "<div>\n",
       "<style scoped>\n",
       "    .dataframe tbody tr th:only-of-type {\n",
       "        vertical-align: middle;\n",
       "    }\n",
       "\n",
       "    .dataframe tbody tr th {\n",
       "        vertical-align: top;\n",
       "    }\n",
       "\n",
       "    .dataframe thead th {\n",
       "        text-align: right;\n",
       "    }\n",
       "</style>\n",
       "<table border=\"1\" class=\"dataframe\">\n",
       "  <thead>\n",
       "    <tr style=\"text-align: right;\">\n",
       "      <th></th>\n",
       "      <th>subject</th>\n",
       "      <th>exam_score</th>\n",
       "      <th>homework_completion_%</th>\n",
       "      <th>teacher_comments</th>\n",
       "    </tr>\n",
       "    <tr>\n",
       "      <th>student_id</th>\n",
       "      <th></th>\n",
       "      <th></th>\n",
       "      <th></th>\n",
       "      <th></th>\n",
       "    </tr>\n",
       "  </thead>\n",
       "  <tbody>\n",
       "    <tr>\n",
       "      <th>s11113</th>\n",
       "      <td>geography</td>\n",
       "      <td>78</td>\n",
       "      <td>80%</td>\n",
       "      <td>market color his later less benefit seven dark.</td>\n",
       "    </tr>\n",
       "    <tr>\n",
       "      <th>s05396</th>\n",
       "      <td>math</td>\n",
       "      <td>69</td>\n",
       "      <td>95</td>\n",
       "      <td>blood material million hand right deal.</td>\n",
       "    </tr>\n",
       "    <tr>\n",
       "      <th>s06475</th>\n",
       "      <td>history</td>\n",
       "      <td>56</td>\n",
       "      <td>-5</td>\n",
       "      <td>nature step still work get war.</td>\n",
       "    </tr>\n",
       "    <tr>\n",
       "      <th>s01992</th>\n",
       "      <td>science</td>\n",
       "      <td>56</td>\n",
       "      <td>95</td>\n",
       "      <td>former here table news himself response win mo...</td>\n",
       "    </tr>\n",
       "    <tr>\n",
       "      <th>s09163</th>\n",
       "      <td>arabic</td>\n",
       "      <td>61</td>\n",
       "      <td>100%</td>\n",
       "      <td>teacher majority successful thing light high c...</td>\n",
       "    </tr>\n",
       "    <tr>\n",
       "      <th>s06407</th>\n",
       "      <td>history</td>\n",
       "      <td>75</td>\n",
       "      <td>90</td>\n",
       "      <td>art mind deal find identify by heart here watc...</td>\n",
       "    </tr>\n",
       "    <tr>\n",
       "      <th>s01883</th>\n",
       "      <td>english</td>\n",
       "      <td>98</td>\n",
       "      <td>80%</td>\n",
       "      <td>much agent food popular until address choose a...</td>\n",
       "    </tr>\n",
       "    <tr>\n",
       "      <th>s02245</th>\n",
       "      <td>arabic</td>\n",
       "      <td>94</td>\n",
       "      <td>-5</td>\n",
       "      <td>others environmental address in deep character...</td>\n",
       "    </tr>\n",
       "    <tr>\n",
       "      <th>s03526</th>\n",
       "      <td>math</td>\n",
       "      <td>95</td>\n",
       "      <td>90</td>\n",
       "      <td>him nation each expect media surface daughter.</td>\n",
       "    </tr>\n",
       "    <tr>\n",
       "      <th>s09814</th>\n",
       "      <td>arabic</td>\n",
       "      <td>48</td>\n",
       "      <td>90</td>\n",
       "      <td>task red hold drive card that generation race ...</td>\n",
       "    </tr>\n",
       "  </tbody>\n",
       "</table>\n",
       "</div>"
      ],
      "text/plain": [
       "              subject  exam_score homework_completion_%  \\\n",
       "student_id                                                \n",
       "s11113      geography          78                   80%   \n",
       "s05396           math          69                    95   \n",
       "s06475        history          56                    -5   \n",
       "s01992        science          56                    95   \n",
       "s09163         arabic          61                  100%   \n",
       "s06407        history          75                    90   \n",
       "s01883        english          98                   80%   \n",
       "s02245         arabic          94                    -5   \n",
       "s03526           math          95                    90   \n",
       "s09814         arabic          48                    90   \n",
       "\n",
       "                                             teacher_comments  \n",
       "student_id                                                     \n",
       "s11113        market color his later less benefit seven dark.  \n",
       "s05396                blood material million hand right deal.  \n",
       "s06475                        nature step still work get war.  \n",
       "s01992      former here table news himself response win mo...  \n",
       "s09163      teacher majority successful thing light high c...  \n",
       "s06407      art mind deal find identify by heart here watc...  \n",
       "s01883      much agent food popular until address choose a...  \n",
       "s02245      others environmental address in deep character...  \n",
       "s03526         him nation each expect media surface daughter.  \n",
       "s09814      task red hold drive card that generation race ...  "
      ]
     },
     "execution_count": 293,
     "metadata": {},
     "output_type": "execute_result"
    }
   ],
   "source": [
    "df_performance = sp.valores_a_minus(df_performance)\n",
    "df_performance.sample(10)"
   ]
  },
  {
   "cell_type": "markdown",
   "id": "71b3f7b2",
   "metadata": {},
   "source": [
    "### 1.2. Eliminar columnas redundantes o irrelevantes"
   ]
  },
  {
   "cell_type": "markdown",
   "id": "e612d8f3",
   "metadata": {},
   "source": [
    "### 1.3. Homogeinizar los nombres de las columnas"
   ]
  },
  {
   "cell_type": "markdown",
   "id": "57d55d04",
   "metadata": {},
   "source": [
    "### 1.4. Homogeinizar datos categóricos"
   ]
  },
  {
   "cell_type": "markdown",
   "id": "9c90290b",
   "metadata": {},
   "source": [
    "### 1.5. Cambio tipo de datos y gestión de nulos"
   ]
  },
  {
   "cell_type": "markdown",
   "id": "5f8621fa",
   "metadata": {},
   "source": [
    "### 1.6. Combinar ambas tablas"
   ]
  },
  {
   "cell_type": "markdown",
   "id": "4c59e631",
   "metadata": {},
   "source": [
    "# 2. Análisis descriptivo de los datos"
   ]
  },
  {
   "cell_type": "markdown",
   "id": "dab9e80d",
   "metadata": {},
   "source": [
    "### 2.1. Resumen estadístico "
   ]
  },
  {
   "cell_type": "markdown",
   "id": "c59b72cb",
   "metadata": {},
   "source": [
    "# 3. Visualización de los datos."
   ]
  },
  {
   "cell_type": "markdown",
   "id": "663fddc4",
   "metadata": {},
   "source": [
    "### 3.1. Histogramas para la distribución de variables numéricas"
   ]
  },
  {
   "cell_type": "markdown",
   "id": "2e6c88d4",
   "metadata": {},
   "source": [
    "### 3.2. Boxplots para detectar outliers"
   ]
  },
  {
   "cell_type": "markdown",
   "id": "e9f9c089",
   "metadata": {},
   "source": [
    "### 3.3. Gráficos de barras para variables categóricas"
   ]
  },
  {
   "cell_type": "markdown",
   "id": "fa4823f7",
   "metadata": {},
   "source": [
    "### 3.4. Heatmap de correlaciones"
   ]
  },
  {
   "cell_type": "markdown",
   "id": "ed85cf4d",
   "metadata": {},
   "source": [
    "# 4. Guardar archivos limpios"
   ]
  }
 ],
 "metadata": {
  "kernelspec": {
   "display_name": "venv",
   "language": "python",
   "name": "python3"
  },
  "language_info": {
   "codemirror_mode": {
    "name": "ipython",
    "version": 3
   },
   "file_extension": ".py",
   "mimetype": "text/x-python",
   "name": "python",
   "nbconvert_exporter": "python",
   "pygments_lexer": "ipython3",
   "version": "3.13.1"
  }
 },
 "nbformat": 4,
 "nbformat_minor": 5
}
